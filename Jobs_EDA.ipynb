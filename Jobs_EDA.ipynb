{
 "cells": [
  {
   "cell_type": "markdown",
   "id": "87cad3b8",
   "metadata": {},
   "source": [
    "# <b><span style=\"color:#14c8b3\"><center> Jobs EDA Steps  </span></b> </center>\n",
    "\n",
    "\n",
    "   \n",
    "<span> <center><img src=\"https://www.springboard.com/blog/wp-content/uploads/2020/10/dataset-analysis.png\" width=\"700\" /></span>"
   ]
  },
  {
   "cell_type": "code",
   "execution_count": 41,
   "id": "7ded1ece",
   "metadata": {},
   "outputs": [],
   "source": [
    "# import packages\n",
    "import numpy as np\n",
    "import pandas as pd\n",
    "import seaborn as sns\n",
    "import matplotlib.pyplot as plt\n",
    "import plotly.express as px\n",
    "from nltk.corpus import stopwords as STOPWORDS\n",
    "import nltk\n",
    "from PIL import Image\n",
    "from wordcloud import WordCloud \n",
    "from IPython.core.pylabtools import figsize\n",
    "\n",
    "# figure size in inches\n",
    "from matplotlib import rcParams\n",
    "\n",
    "\n",
    "import warnings\n",
    "warnings.filterwarnings('ignore')"
   ]
  },
  {
   "cell_type": "markdown",
   "id": "06dec87e",
   "metadata": {},
   "source": [
    "\n",
    "***\n",
    "\n",
    "## Loading Dataset\n",
    "\n",
    "\n",
    "***"
   ]
  },
  {
   "cell_type": "code",
   "execution_count": 2,
   "id": "8aeddf74",
   "metadata": {},
   "outputs": [
    {
     "data": {
      "text/html": [
       "<div>\n",
       "<style scoped>\n",
       "    .dataframe tbody tr th:only-of-type {\n",
       "        vertical-align: middle;\n",
       "    }\n",
       "\n",
       "    .dataframe tbody tr th {\n",
       "        vertical-align: top;\n",
       "    }\n",
       "\n",
       "    .dataframe thead th {\n",
       "        text-align: right;\n",
       "    }\n",
       "</style>\n",
       "<table border=\"1\" class=\"dataframe\">\n",
       "  <thead>\n",
       "    <tr style=\"text-align: right;\">\n",
       "      <th></th>\n",
       "      <th>Unnamed: 0</th>\n",
       "      <th>position</th>\n",
       "      <th>company</th>\n",
       "      <th>level</th>\n",
       "      <th>job_functions</th>\n",
       "      <th>industries</th>\n",
       "      <th>description</th>\n",
       "      <th>day</th>\n",
       "      <th>month</th>\n",
       "      <th>quarter</th>\n",
       "      <th>city</th>\n",
       "      <th>Regions</th>\n",
       "      <th>industry_cat</th>\n",
       "      <th>TotalPositions</th>\n",
       "      <th>PositionsByMonth</th>\n",
       "      <th>year_of_ex</th>\n",
       "      <th>degrees</th>\n",
       "    </tr>\n",
       "  </thead>\n",
       "  <tbody>\n",
       "    <tr>\n",
       "      <th>0</th>\n",
       "      <td>0</td>\n",
       "      <td>Employee Engagement Specialist</td>\n",
       "      <td>PepsiCo</td>\n",
       "      <td>MidSenior level</td>\n",
       "      <td>Human Resources</td>\n",
       "      <td>Consumer Goods Food  Beverages</td>\n",
       "      <td>uto req id  199735brjob descriptionpepsico sud...</td>\n",
       "      <td>6</td>\n",
       "      <td>1</td>\n",
       "      <td>1</td>\n",
       "      <td>Riyadh</td>\n",
       "      <td>Riyadh</td>\n",
       "      <td>Consumer Goods</td>\n",
       "      <td>219</td>\n",
       "      <td>2339</td>\n",
       "      <td>3</td>\n",
       "      <td>bachelor</td>\n",
       "    </tr>\n",
       "    <tr>\n",
       "      <th>1</th>\n",
       "      <td>1</td>\n",
       "      <td>Account Manager GPS  Riyadh</td>\n",
       "      <td>EY</td>\n",
       "      <td>Not Applicable</td>\n",
       "      <td>Sales Business Development</td>\n",
       "      <td>Accounting Financial Services</td>\n",
       "      <td>busess where re our people re our products  ...</td>\n",
       "      <td>6</td>\n",
       "      <td>1</td>\n",
       "      <td>1</td>\n",
       "      <td>Riyadh</td>\n",
       "      <td>Riyadh</td>\n",
       "      <td>Accounting</td>\n",
       "      <td>101</td>\n",
       "      <td>2339</td>\n",
       "      <td>7</td>\n",
       "      <td>Higher Vocational Education</td>\n",
       "    </tr>\n",
       "    <tr>\n",
       "      <th>2</th>\n",
       "      <td>2</td>\n",
       "      <td>Business Analyst</td>\n",
       "      <td>تطوير تقنيات التعليم  Tatweer Educational Tech...</td>\n",
       "      <td>MidSenior level</td>\n",
       "      <td>Business Development Sales</td>\n",
       "      <td>Information Technology and Services</td>\n",
       "      <td>the idel cidte will design  gnize   modify the...</td>\n",
       "      <td>6</td>\n",
       "      <td>1</td>\n",
       "      <td>1</td>\n",
       "      <td>Riyadh</td>\n",
       "      <td>Riyadh</td>\n",
       "      <td>Information Technology and Services</td>\n",
       "      <td>16</td>\n",
       "      <td>2339</td>\n",
       "      <td>5</td>\n",
       "      <td>bachelor</td>\n",
       "    </tr>\n",
       "    <tr>\n",
       "      <th>3</th>\n",
       "      <td>3</td>\n",
       "      <td>Talent Acquisition Advisor</td>\n",
       "      <td>WSP in the Middle East</td>\n",
       "      <td>Associate</td>\n",
       "      <td>Finance</td>\n",
       "      <td>Construction</td>\n",
       "      <td>thk bigger scle  thk higher prile  thk ground ...</td>\n",
       "      <td>6</td>\n",
       "      <td>1</td>\n",
       "      <td>1</td>\n",
       "      <td>Riyadh</td>\n",
       "      <td>Riyadh</td>\n",
       "      <td>Construction</td>\n",
       "      <td>43</td>\n",
       "      <td>2339</td>\n",
       "      <td>5</td>\n",
       "      <td>Higher Vocational Education</td>\n",
       "    </tr>\n",
       "    <tr>\n",
       "      <th>4</th>\n",
       "      <td>4</td>\n",
       "      <td>Organisational Design Specialist</td>\n",
       "      <td>Aventus Global Talent</td>\n",
       "      <td>MidSenior level</td>\n",
       "      <td>Human Resources Design</td>\n",
       "      <td>Financial Services Banking</td>\n",
       "      <td>gntionl design specilt  estern region  sudi rb...</td>\n",
       "      <td>6</td>\n",
       "      <td>1</td>\n",
       "      <td>1</td>\n",
       "      <td>Remote</td>\n",
       "      <td>Remote</td>\n",
       "      <td>Financial Services</td>\n",
       "      <td>28</td>\n",
       "      <td>2339</td>\n",
       "      <td>5</td>\n",
       "      <td>bachelor</td>\n",
       "    </tr>\n",
       "  </tbody>\n",
       "</table>\n",
       "</div>"
      ],
      "text/plain": [
       "   Unnamed: 0                          position  \\\n",
       "0           0    Employee Engagement Specialist   \n",
       "1           1       Account Manager GPS  Riyadh   \n",
       "2           2                  Business Analyst   \n",
       "3           3        Talent Acquisition Advisor   \n",
       "4           4  Organisational Design Specialist   \n",
       "\n",
       "                                             company            level  \\\n",
       "0                                            PepsiCo  MidSenior level   \n",
       "1                                                 EY   Not Applicable   \n",
       "2  تطوير تقنيات التعليم  Tatweer Educational Tech...  MidSenior level   \n",
       "3                             WSP in the Middle East        Associate   \n",
       "4                              Aventus Global Talent  MidSenior level   \n",
       "\n",
       "                job_functions                           industries  \\\n",
       "0             Human Resources       Consumer Goods Food  Beverages   \n",
       "1  Sales Business Development        Accounting Financial Services   \n",
       "2  Business Development Sales  Information Technology and Services   \n",
       "3                     Finance                         Construction   \n",
       "4      Human Resources Design           Financial Services Banking   \n",
       "\n",
       "                                         description  day  month  quarter  \\\n",
       "0  uto req id  199735brjob descriptionpepsico sud...    6      1        1   \n",
       "1    busess where re our people re our products  ...    6      1        1   \n",
       "2  the idel cidte will design  gnize   modify the...    6      1        1   \n",
       "3  thk bigger scle  thk higher prile  thk ground ...    6      1        1   \n",
       "4  gntionl design specilt  estern region  sudi rb...    6      1        1   \n",
       "\n",
       "     city Regions                         industry_cat  TotalPositions  \\\n",
       "0  Riyadh  Riyadh                       Consumer Goods             219   \n",
       "1  Riyadh  Riyadh                           Accounting             101   \n",
       "2  Riyadh  Riyadh  Information Technology and Services              16   \n",
       "3  Riyadh  Riyadh                         Construction              43   \n",
       "4  Remote  Remote                   Financial Services              28   \n",
       "\n",
       "   PositionsByMonth  year_of_ex                      degrees  \n",
       "0              2339           3                     bachelor  \n",
       "1              2339           7  Higher Vocational Education  \n",
       "2              2339           5                     bachelor  \n",
       "3              2339           5  Higher Vocational Education  \n",
       "4              2339           5                     bachelor  "
      ]
     },
     "execution_count": 2,
     "metadata": {},
     "output_type": "execute_result"
    }
   ],
   "source": [
    "# Load the dataset\n",
    "df = pd.read_csv('data_jobs.csv')\n",
    "df.head()"
   ]
  },
  {
   "cell_type": "code",
   "execution_count": 3,
   "id": "a86fc091",
   "metadata": {},
   "outputs": [
    {
     "data": {
      "text/plain": [
       "Index(['Unnamed: 0', 'position', 'company', 'level', 'job_functions',\n",
       "       'industries', 'description', 'day', 'month', 'quarter', 'city',\n",
       "       'Regions', 'industry_cat', 'TotalPositions', 'PositionsByMonth',\n",
       "       'year_of_ex', 'degrees'],\n",
       "      dtype='object')"
      ]
     },
     "execution_count": 3,
     "metadata": {},
     "output_type": "execute_result"
    }
   ],
   "source": [
    "#data.column method returns an array of columns list. \n",
    "df.columns"
   ]
  },
  {
   "cell_type": "code",
   "execution_count": 4,
   "id": "1aa1d3b2",
   "metadata": {},
   "outputs": [
    {
     "data": {
      "text/plain": [
       "(40500, 17)"
      ]
     },
     "execution_count": 4,
     "metadata": {},
     "output_type": "execute_result"
    }
   ],
   "source": [
    "#dimensions of a given DataFrame.\n",
    "df.shape"
   ]
  },
  {
   "cell_type": "code",
   "execution_count": 5,
   "id": "cfa8598f",
   "metadata": {},
   "outputs": [
    {
     "name": "stdout",
     "output_type": "stream",
     "text": [
      "<class 'pandas.core.frame.DataFrame'>\n",
      "RangeIndex: 40500 entries, 0 to 40499\n",
      "Data columns (total 17 columns):\n",
      " #   Column            Non-Null Count  Dtype \n",
      "---  ------            --------------  ----- \n",
      " 0   Unnamed: 0        40500 non-null  int64 \n",
      " 1   position          40500 non-null  object\n",
      " 2   company           40498 non-null  object\n",
      " 3   level             40500 non-null  object\n",
      " 4   job_functions     40500 non-null  object\n",
      " 5   industries        40500 non-null  object\n",
      " 6   description       40500 non-null  object\n",
      " 7   day               40500 non-null  int64 \n",
      " 8   month             40500 non-null  int64 \n",
      " 9   quarter           40500 non-null  int64 \n",
      " 10  city              40500 non-null  object\n",
      " 11  Regions           40500 non-null  object\n",
      " 12  industry_cat      40500 non-null  object\n",
      " 13  TotalPositions    40500 non-null  int64 \n",
      " 14  PositionsByMonth  40500 non-null  int64 \n",
      " 15  year_of_ex        40500 non-null  int64 \n",
      " 16  degrees           40500 non-null  object\n",
      "dtypes: int64(7), object(10)\n",
      "memory usage: 5.3+ MB\n"
     ]
    }
   ],
   "source": [
    "df.info()"
   ]
  },
  {
   "cell_type": "code",
   "execution_count": 6,
   "id": "154b7950",
   "metadata": {},
   "outputs": [],
   "source": [
    "#Drop Unnamed: 0 column\n",
    "df= df.drop(['Unnamed: 0'], axis=1)"
   ]
  },
  {
   "cell_type": "code",
   "execution_count": 7,
   "id": "79139349",
   "metadata": {},
   "outputs": [
    {
     "data": {
      "text/plain": [
       "position            0\n",
       "company             2\n",
       "level               0\n",
       "job_functions       0\n",
       "industries          0\n",
       "description         0\n",
       "day                 0\n",
       "month               0\n",
       "quarter             0\n",
       "city                0\n",
       "Regions             0\n",
       "industry_cat        0\n",
       "TotalPositions      0\n",
       "PositionsByMonth    0\n",
       "year_of_ex          0\n",
       "degrees             0\n",
       "dtype: int64"
      ]
     },
     "execution_count": 7,
     "metadata": {},
     "output_type": "execute_result"
    }
   ],
   "source": [
    "# handle Null values\n",
    "df.isnull().sum()"
   ]
  },
  {
   "cell_type": "code",
   "execution_count": 8,
   "id": "150bc711",
   "metadata": {},
   "outputs": [],
   "source": [
    "# delete null values --> delete two rows  \n",
    "df = df.dropna(axis=0, subset=['company'])"
   ]
  },
  {
   "cell_type": "markdown",
   "id": "b5763360",
   "metadata": {},
   "source": [
    "***\n",
    "# Create Logo For The Project\n",
    "\n",
    "\n",
    "***"
   ]
  },
  {
   "cell_type": "code",
   "execution_count": 9,
   "id": "04db7bec",
   "metadata": {},
   "outputs": [
    {
     "data": {
      "image/png": "[encoded data removed]",
      "text/plain": [
       "<Figure size 720x720 with 1 Axes>"
      ]
     },
     "metadata": {
      "needs_background": "light"
     },
     "output_type": "display_data"
    }
   ],
   "source": [
    "# Generate a word cloud of industry_cat in image\n",
    "stopwords = nltk.corpus.stopwords.words('english')\n",
    "mask = np.array(Image.open(\"l3.png\"))\n",
    "wordcloud = WordCloud(stopwords=stopwords,max_font_size=500,background_color='white', max_words=700, mask=mask,contour_color='black',contour_width=2,colormap='winter').generate(' '.join(df['industry_cat']))\n",
    "\n",
    "# create image as cloud\n",
    "plt.figure(figsize =(10,10))\n",
    "plt.imshow(wordcloud, interpolation=\"bilinear\")\n",
    "plt.axis(\"off\")\n",
    "\n",
    "# store to file\n",
    "#plt.savefig(\"LinkedIn.png\", format=\"png\")\n",
    "\n",
    "\n",
    "plt.show()"
   ]
  },
  {
   "cell_type": "markdown",
   "id": "c876534b",
   "metadata": {},
   "source": [
    "***\n",
    "# Exploratory Data  Analysis \n",
    "\n",
    "\n",
    "***"
   ]
  },
  {
   "cell_type": "markdown",
   "id": "696ae41b",
   "metadata": {},
   "source": [
    "### 1st plot || The Distribution of Job Positions in the Saudi Arabia Regions\n",
    "#### This plot gives insight into the distribution of job positions in the Saudi Arabia regions. As shown below Riyadh is the first word we read, then the Remote job which is indicative that most jobs transformed to work remotely in 2020 because of Covid-19."
   ]
  },
  {
   "cell_type": "code",
   "execution_count": 10,
   "id": "517d7e6c",
   "metadata": {},
   "outputs": [
    {
     "data": {
      "image/png": "[encoded data removed]",
      "text/plain": [
       "<Figure size 720x720 with 1 Axes>"
      ]
     },
     "metadata": {
      "needs_background": "light"
     },
     "output_type": "display_data"
    }
   ],
   "source": [
    "# Generate a word cloud of industry_cat in image\n",
    "stopwords = nltk.corpus.stopwords.words('english')\n",
    "mask = np.array(Image.open(\"ksa2.png\"))\n",
    "wordcloud = WordCloud(stopwords=stopwords,background_color='white',max_font_size=200, mask=mask,contour_color='gray',contour_width=1,colormap='viridis').generate(' '.join(df['Regions']))\n",
    "\n",
    "# create image as cloud\n",
    "plt.figure(figsize =(10,10))\n",
    "plt.imshow(wordcloud, interpolation=\"bilinear\")\n",
    "plt.axis(\"off\")\n",
    "\n",
    "# store to file\n",
    "#plt.savefig(\"ksa0.png\", format=\"png\")\n",
    "\n",
    "# Add title\n",
    "plt.title(\"The Regions Which Advertised The Positions via Linkedin In 2020\",fontsize=15)\n",
    "\n",
    "plt.show()"
   ]
  },
  {
   "cell_type": "markdown",
   "id": "2ebf2d70",
   "metadata": {},
   "source": [
    "### 2nd plot || Distribution of the Total Job Vacancies Announced in Each Month for the Top Five Regions with Vacancies Job.\n",
    "#### This plot gives insight into the distribution of the total job vacancies announced in each month of 2020 for the top five regions that have vacancies job. Regions show a noticeable decrease since the second month in almost all regions for a period of 6 months, then they rise again quickly, in contrast to remote jobs, and this tells us the change in job status during the quarantine period in the Corona pandemic."
   ]
  },
  {
   "cell_type": "code",
   "execution_count": 11,
   "id": "33702764",
   "metadata": {},
   "outputs": [
    {
     "data": {
      "image/png": "[encoded data removed]",
      "text/plain": [
       "<Figure size 1152x576 with 1 Axes>"
      ]
     },
     "metadata": {
      "needs_background": "light"
     },
     "output_type": "display_data"
    }
   ],
   "source": [
    "#Count of the most common jobs posting by city, splitting them based on the quarter\n",
    "plt.figure(figsize=(16,8))\n",
    "sns.countplot(x='Regions',hue='month',data=df,palette='viridis',order=df['Regions'].value_counts().nlargest(5).index)\n",
    "plt.title(\"Distribution of the Total Job Vacancies Announced in Each Month for the Top Five Regions with Vacancies Job\",fontsize=18)\n",
    "\n",
    "\n",
    "plt.show()"
   ]
  },
  {
   "cell_type": "markdown",
   "id": "670aabbd",
   "metadata": {},
   "source": [
    "### 3rd plot || Total Positions Based On Each Quarter In 2020 \n",
    "#### This plot gives insight into how companies announced more jobs in the first quarter of 2020 than in the rest of the year, in order to compensate for the damage caused by the Covid-19 pandemic."
   ]
  },
  {
   "cell_type": "code",
   "execution_count": 12,
   "id": "69a6549f",
   "metadata": {},
   "outputs": [
    {
     "data": {
      "image/png": "[encoded data removed]",
      "text/plain": [
       "<Figure size 576x576 with 1 Axes>"
      ]
     },
     "metadata": {},
     "output_type": "display_data"
    }
   ],
   "source": [
    "# define color\n",
    "c= ['#14c8b3','#2b364a','#916fdd','#f5c614']\n",
    "\n",
    "#Set fig size\n",
    "fig = plt.figure(figsize =(8, 8))\n",
    "\n",
    "# set the labels of figure \n",
    "lable=[\"Quarter One\",\"Quarter Two\",\"Quarter Three\",\"Quarter Four\"]\n",
    "\n",
    "#plotting pie-plot\n",
    "plt.pie(df.quarter.value_counts(['1','2','3','4']), labels=lable, colors=c, autopct = '%1.1f%%',textprops={'fontsize': 20,'color':'white', 'fontweight':'bold'}, wedgeprops={'linewidth': 3.0, 'edgecolor': 'white'})\n",
    "plt.legend()\n",
    "\n",
    "# Add title\n",
    "plt.title(\"Total Positions Based On Each Quarter In 2020\",fontsize=20)\n",
    "\n",
    "# show plot\n",
    "plt.show()"
   ]
  },
  {
   "cell_type": "markdown",
   "id": "b0e9c87d",
   "metadata": {},
   "source": [
    "### 4th plot || The Most 20 Industries Request from Companies in 2020 \n",
    "#### This plot gives insight into the  20 most wanted industries in the labor market during 2020. It is not surprising that we see that the field of information technology and services takes the first place, as Saudi Arabia has taken an interest in technological progress, and we have all noticed that this industry has flourished more since the emergence of the Covid-19 pandemic. Then next is the Construction, which reflects the cultural renaissance and urban development that the Kingdom aspires to achieve in achieving Vision 2030."
   ]
  },
  {
   "cell_type": "code",
   "execution_count": 39,
   "id": "8d5c7a6e",
   "metadata": {
    "scrolled": false
   },
   "outputs": [
    {
     "data": {
      "application/vnd.plotly.v1+json": {
       "config": {
        "plotlyServerURL": "https://plot.ly"
       },
       "data": [
        {
         "alignmentgroup": "True",
         "hovertemplate": "industry name=%{x}<br>number of position in industry=%{y}<br>count=%{text}<extra></extra>",
         "legendgroup": "Information Technology and Services",
         "marker": {
          "color": "rgb(76,114,176)",
          "pattern": {
           "shape": ""
          }
         },
         "name": "Information Technology and Services",
         "offsetgroup": "Information Technology and Services",
         "orientation": "v",
         "showlegend": true,
         "text": [
          6203
         ],
         "textposition": "auto",
         "type": "bar",
         "x": [
          "Information Technology and Services"
         ],
         "xaxis": "x",
         "y": [
          6203
         ],
         "yaxis": "y"
        },
        {
         "alignmentgroup": "True",
         "hovertemplate": "industry name=%{x}<br>number of position in industry=%{y}<br>count=%{text}<extra></extra>",
         "legendgroup": "Construction",
         "marker": {
          "color": "rgb(221,132,82)",
          "pattern": {
           "shape": ""
          }
         },
         "name": "Construction",
         "offsetgroup": "Construction",
         "orientation": "v",
         "showlegend": true,
         "text": [
          3658
         ],
         "textposition": "auto",
         "type": "bar",
         "x": [
          "Construction"
         ],
         "xaxis": "x",
         "y": [
          3658
         ],
         "yaxis": "y"
        },
        {
         "alignmentgroup": "True",
         "hovertemplate": "industry name=%{x}<br>number of position in industry=%{y}<br>count=%{text}<extra></extra>",
         "legendgroup": "Marketing and Advertising",
         "marker": {
          "color": "rgb(85,168,104)",
          "pattern": {
           "shape": ""
          }
         },
         "name": "Marketing and Advertising",
         "offsetgroup": "Marketing and Advertising",
         "orientation": "v",
         "showlegend": true,
         "text": [
          1894
         ],
         "textposition": "auto",
         "type": "bar",
         "x": [
          "Marketing and Advertising"
         ],
         "xaxis": "x",
         "y": [
          1894
         ],
         "yaxis": "y"
        },
        {
         "alignmentgroup": "True",
         "hovertemplate": "industry name=%{x}<br>number of position in industry=%{y}<br>count=%{text}<extra></extra>",
         "legendgroup": "Consumer Goods",
         "marker": {
          "color": "rgb(196,78,82)",
          "pattern": {
           "shape": ""
          }
         },
         "name": "Consumer Goods",
         "offsetgroup": "Consumer Goods",
         "orientation": "v",
         "showlegend": true,
         "text": [
          1584
         ],
         "textposition": "auto",
         "type": "bar",
         "x": [
          "Consumer Goods"
         ],
         "xaxis": "x",
         "y": [
          1584
         ],
         "yaxis": "y"
        },
        {
         "alignmentgroup": "True",
         "hovertemplate": "industry name=%{x}<br>number of position in industry=%{y}<br>count=%{text}<extra></extra>",
         "legendgroup": "Computer Software",
         "marker": {
          "color": "rgb(129,114,179)",
          "pattern": {
           "shape": ""
          }
         },
         "name": "Computer Software",
         "offsetgroup": "Computer Software",
         "orientation": "v",
         "showlegend": true,
         "text": [
          1481
         ],
         "textposition": "auto",
         "type": "bar",
         "x": [
          "Computer Software"
         ],
         "xaxis": "x",
         "y": [
          1481
         ],
         "yaxis": "y"
        },
        {
         "alignmentgroup": "True",
         "hovertemplate": "industry name=%{x}<br>number of position in industry=%{y}<br>count=%{text}<extra></extra>",
         "legendgroup": "ElectricalElectronic",
         "marker": {
          "color": "rgb(147,120,96)",
          "pattern": {
           "shape": ""
          }
         },
         "name": "ElectricalElectronic",
         "offsetgroup": "ElectricalElectronic",
         "orientation": "v",
         "showlegend": true,
         "text": [
          1421
         ],
         "textposition": "auto",
         "type": "bar",
         "x": [
          "ElectricalElectronic"
         ],
         "xaxis": "x",
         "y": [
          1421
         ],
         "yaxis": "y"
        },
        {
         "alignmentgroup": "True",
         "hovertemplate": "industry name=%{x}<br>number of position in industry=%{y}<br>count=%{text}<extra></extra>",
         "legendgroup": "Food  Beverages",
         "marker": {
          "color": "rgb(218,139,195)",
          "pattern": {
           "shape": ""
          }
         },
         "name": "Food  Beverages",
         "offsetgroup": "Food  Beverages",
         "orientation": "v",
         "showlegend": true,
         "text": [
          1304
         ],
         "textposition": "auto",
         "type": "bar",
         "x": [
          "Food  Beverages"
         ],
         "xaxis": "x",
         "y": [
          1304
         ],
         "yaxis": "y"
        },
        {
         "alignmentgroup": "True",
         "hovertemplate": "industry name=%{x}<br>number of position in industry=%{y}<br>count=%{text}<extra></extra>",
         "legendgroup": "Hospital  Health Care",
         "marker": {
          "color": "rgb(140,140,140)",
          "pattern": {
           "shape": ""
          }
         },
         "name": "Hospital  Health Care",
         "offsetgroup": "Hospital  Health Care",
         "orientation": "v",
         "showlegend": true,
         "text": [
          1244
         ],
         "textposition": "auto",
         "type": "bar",
         "x": [
          "Hospital  Health Care"
         ],
         "xaxis": "x",
         "y": [
          1244
         ],
         "yaxis": "y"
        },
        {
         "alignmentgroup": "True",
         "hovertemplate": "industry name=%{x}<br>number of position in industry=%{y}<br>count=%{text}<extra></extra>",
         "legendgroup": "Staffing and Recruiting",
         "marker": {
          "color": "rgb(204,185,116)",
          "pattern": {
           "shape": ""
          }
         },
         "name": "Staffing and Recruiting",
         "offsetgroup": "Staffing and Recruiting",
         "orientation": "v",
         "showlegend": true,
         "text": [
          1146
         ],
         "textposition": "auto",
         "type": "bar",
         "x": [
          "Staffing and Recruiting"
         ],
         "xaxis": "x",
         "y": [
          1146
         ],
         "yaxis": "y"
        },
        {
         "alignmentgroup": "True",
         "hovertemplate": "industry name=%{x}<br>number of position in industry=%{y}<br>count=%{text}<extra></extra>",
         "legendgroup": "Retail",
         "marker": {
          "color": "rgb(100,181,205)",
          "pattern": {
           "shape": ""
          }
         },
         "name": "Retail",
         "offsetgroup": "Retail",
         "orientation": "v",
         "showlegend": true,
         "text": [
          1104
         ],
         "textposition": "auto",
         "type": "bar",
         "x": [
          "Retail"
         ],
         "xaxis": "x",
         "y": [
          1104
         ],
         "yaxis": "y"
        },
        {
         "alignmentgroup": "True",
         "hovertemplate": "industry name=%{x}<br>number of position in industry=%{y}<br>count=%{text}<extra></extra>",
         "legendgroup": "Hospitality",
         "marker": {
          "color": "rgb(76,114,176)",
          "pattern": {
           "shape": ""
          }
         },
         "name": "Hospitality",
         "offsetgroup": "Hospitality",
         "orientation": "v",
         "showlegend": true,
         "text": [
          980
         ],
         "textposition": "auto",
         "type": "bar",
         "x": [
          "Hospitality"
         ],
         "xaxis": "x",
         "y": [
          980
         ],
         "yaxis": "y"
        },
        {
         "alignmentgroup": "True",
         "hovertemplate": "industry name=%{x}<br>number of position in industry=%{y}<br>count=%{text}<extra></extra>",
         "legendgroup": "Oil  Energy",
         "marker": {
          "color": "rgb(221,132,82)",
          "pattern": {
           "shape": ""
          }
         },
         "name": "Oil  Energy",
         "offsetgroup": "Oil  Energy",
         "orientation": "v",
         "showlegend": true,
         "text": [
          960
         ],
         "textposition": "auto",
         "type": "bar",
         "x": [
          "Oil  Energy"
         ],
         "xaxis": "x",
         "y": [
          960
         ],
         "yaxis": "y"
        },
        {
         "alignmentgroup": "True",
         "hovertemplate": "industry name=%{x}<br>number of position in industry=%{y}<br>count=%{text}<extra></extra>",
         "legendgroup": "Civil Engineering",
         "marker": {
          "color": "rgb(85,168,104)",
          "pattern": {
           "shape": ""
          }
         },
         "name": "Civil Engineering",
         "offsetgroup": "Civil Engineering",
         "orientation": "v",
         "showlegend": true,
         "text": [
          830
         ],
         "textposition": "auto",
         "type": "bar",
         "x": [
          "Civil Engineering"
         ],
         "xaxis": "x",
         "y": [
          830
         ],
         "yaxis": "y"
        },
        {
         "alignmentgroup": "True",
         "hovertemplate": "industry name=%{x}<br>number of position in industry=%{y}<br>count=%{text}<extra></extra>",
         "legendgroup": "Consumer Services",
         "marker": {
          "color": "rgb(196,78,82)",
          "pattern": {
           "shape": ""
          }
         },
         "name": "Consumer Services",
         "offsetgroup": "Consumer Services",
         "orientation": "v",
         "showlegend": true,
         "text": [
          816
         ],
         "textposition": "auto",
         "type": "bar",
         "x": [
          "Consumer Services"
         ],
         "xaxis": "x",
         "y": [
          816
         ],
         "yaxis": "y"
        },
        {
         "alignmentgroup": "True",
         "hovertemplate": "industry name=%{x}<br>number of position in industry=%{y}<br>count=%{text}<extra></extra>",
         "legendgroup": "Management Consulting",
         "marker": {
          "color": "rgb(129,114,179)",
          "pattern": {
           "shape": ""
          }
         },
         "name": "Management Consulting",
         "offsetgroup": "Management Consulting",
         "orientation": "v",
         "showlegend": true,
         "text": [
          814
         ],
         "textposition": "auto",
         "type": "bar",
         "x": [
          "Management Consulting"
         ],
         "xaxis": "x",
         "y": [
          814
         ],
         "yaxis": "y"
        },
        {
         "alignmentgroup": "True",
         "hovertemplate": "industry name=%{x}<br>number of position in industry=%{y}<br>count=%{text}<extra></extra>",
         "legendgroup": "Mechanical",
         "marker": {
          "color": "rgb(147,120,96)",
          "pattern": {
           "shape": ""
          }
         },
         "name": "Mechanical",
         "offsetgroup": "Mechanical",
         "orientation": "v",
         "showlegend": true,
         "text": [
          791
         ],
         "textposition": "auto",
         "type": "bar",
         "x": [
          "Mechanical"
         ],
         "xaxis": "x",
         "y": [
          791
         ],
         "yaxis": "y"
        },
        {
         "alignmentgroup": "True",
         "hovertemplate": "industry name=%{x}<br>number of position in industry=%{y}<br>count=%{text}<extra></extra>",
         "legendgroup": "Internet",
         "marker": {
          "color": "rgb(218,139,195)",
          "pattern": {
           "shape": ""
          }
         },
         "name": "Internet",
         "offsetgroup": "Internet",
         "orientation": "v",
         "showlegend": true,
         "text": [
          771
         ],
         "textposition": "auto",
         "type": "bar",
         "x": [
          "Internet"
         ],
         "xaxis": "x",
         "y": [
          771
         ],
         "yaxis": "y"
        },
        {
         "alignmentgroup": "True",
         "hovertemplate": "industry name=%{x}<br>number of position in industry=%{y}<br>count=%{text}<extra></extra>",
         "legendgroup": "Information Services",
         "marker": {
          "color": "rgb(140,140,140)",
          "pattern": {
           "shape": ""
          }
         },
         "name": "Information Services",
         "offsetgroup": "Information Services",
         "orientation": "v",
         "showlegend": true,
         "text": [
          576
         ],
         "textposition": "auto",
         "type": "bar",
         "x": [
          "Information Services"
         ],
         "xaxis": "x",
         "y": [
          576
         ],
         "yaxis": "y"
        },
        {
         "alignmentgroup": "True",
         "hovertemplate": "industry name=%{x}<br>number of position in industry=%{y}<br>count=%{text}<extra></extra>",
         "legendgroup": "Chemicals",
         "marker": {
          "color": "rgb(204,185,116)",
          "pattern": {
           "shape": ""
          }
         },
         "name": "Chemicals",
         "offsetgroup": "Chemicals",
         "orientation": "v",
         "showlegend": true,
         "text": [
          575
         ],
         "textposition": "auto",
         "type": "bar",
         "x": [
          "Chemicals"
         ],
         "xaxis": "x",
         "y": [
          575
         ],
         "yaxis": "y"
        },
        {
         "alignmentgroup": "True",
         "hovertemplate": "industry name=%{x}<br>number of position in industry=%{y}<br>count=%{text}<extra></extra>",
         "legendgroup": "Leisure Travel  Tourism",
         "marker": {
          "color": "rgb(100,181,205)",
          "pattern": {
           "shape": ""
          }
         },
         "name": "Leisure Travel  Tourism",
         "offsetgroup": "Leisure Travel  Tourism",
         "orientation": "v",
         "showlegend": true,
         "text": [
          571
         ],
         "textposition": "auto",
         "type": "bar",
         "x": [
          "Leisure Travel  Tourism"
         ],
         "xaxis": "x",
         "y": [
          571
         ],
         "yaxis": "y"
        }
       ],
       "layout": {
        "barmode": "relative",
        "legend": {
         "title": {
          "text": "industry name"
         },
         "tracegroupgap": 0
        },
        "template": {
         "data": {
          "bar": [
           {
            "error_x": {
             "color": "rgb(36,36,36)"
            },
            "error_y": {
             "color": "rgb(36,36,36)"
            },
            "marker": {
             "line": {
              "color": "rgb(234,234,242)",
              "width": 0.5
             },
             "pattern": {
              "fillmode": "overlay",
              "size": 10,
              "solidity": 0.2
             }
            },
            "type": "bar"
           }
          ],
          "barpolar": [
           {
            "marker": {
             "line": {
              "color": "rgb(234,234,242)",
              "width": 0.5
             },
             "pattern": {
              "fillmode": "overlay",
              "size": 10,
              "solidity": 0.2
             }
            },
            "type": "barpolar"
           }
          ],
          "carpet": [
           {
            "aaxis": {
             "endlinecolor": "rgb(36,36,36)",
             "gridcolor": "white",
             "linecolor": "white",
             "minorgridcolor": "white",
             "startlinecolor": "rgb(36,36,36)"
            },
            "baxis": {
             "endlinecolor": "rgb(36,36,36)",
             "gridcolor": "white",
             "linecolor": "white",
             "minorgridcolor": "white",
             "startlinecolor": "rgb(36,36,36)"
            },
            "type": "carpet"
           }
          ],
          "choropleth": [
           {
            "colorbar": {
             "outlinewidth": 0,
             "tickcolor": "rgb(36,36,36)",
             "ticklen": 8,
             "ticks": "outside",
             "tickwidth": 2
            },
            "type": "choropleth"
           }
          ],
          "contour": [
           {
            "colorbar": {
             "outlinewidth": 0,
             "tickcolor": "rgb(36,36,36)",
             "ticklen": 8,
             "ticks": "outside",
             "tickwidth": 2
            },
            "colorscale": [
             [
              0,
              "rgb(2,4,25)"
             ],
             [
              0.06274509803921569,
              "rgb(24,15,41)"
             ],
             [
              0.12549019607843137,
              "rgb(47,23,57)"
             ],
             [
              0.18823529411764706,
              "rgb(71,28,72)"
             ],
             [
              0.25098039215686274,
              "rgb(97,30,82)"
             ],
             [
              0.3137254901960784,
              "rgb(123,30,89)"
             ],
             [
              0.3764705882352941,
              "rgb(150,27,91)"
             ],
             [
              0.4392156862745098,
              "rgb(177,22,88)"
             ],
             [
              0.5019607843137255,
              "rgb(203,26,79)"
             ],
             [
              0.5647058823529412,
              "rgb(223,47,67)"
             ],
             [
              0.6274509803921569,
              "rgb(236,76,61)"
             ],
             [
              0.6901960784313725,
              "rgb(242,107,73)"
             ],
             [
              0.7529411764705882,
              "rgb(244,135,95)"
             ],
             [
              0.8156862745098039,
              "rgb(245,162,122)"
             ],
             [
              0.8784313725490196,
              "rgb(246,188,153)"
             ],
             [
              0.9411764705882353,
              "rgb(247,212,187)"
             ],
             [
              1,
              "rgb(250,234,220)"
             ]
            ],
            "type": "contour"
           }
          ],
          "contourcarpet": [
           {
            "colorbar": {
             "outlinewidth": 0,
             "tickcolor": "rgb(36,36,36)",
             "ticklen": 8,
             "ticks": "outside",
             "tickwidth": 2
            },
            "type": "contourcarpet"
           }
          ],
          "heatmap": [
           {
            "colorbar": {
             "outlinewidth": 0,
             "tickcolor": "rgb(36,36,36)",
             "ticklen": 8,
             "ticks": "outside",
             "tickwidth": 2
            },
            "colorscale": [
             [
              0,
              "rgb(2,4,25)"
             ],
             [
              0.06274509803921569,
              "rgb(24,15,41)"
             ],
             [
              0.12549019607843137,
              "rgb(47,23,57)"
             ],
             [
              0.18823529411764706,
              "rgb(71,28,72)"
             ],
             [
              0.25098039215686274,
              "rgb(97,30,82)"
             ],
             [
              0.3137254901960784,
              "rgb(123,30,89)"
             ],
             [
              0.3764705882352941,
              "rgb(150,27,91)"
             ],
             [
              0.4392156862745098,
              "rgb(177,22,88)"
             ],
             [
              0.5019607843137255,
              "rgb(203,26,79)"
             ],
             [
              0.5647058823529412,
              "rgb(223,47,67)"
             ],
             [
              0.6274509803921569,
              "rgb(236,76,61)"
             ],
             [
              0.6901960784313725,
              "rgb(242,107,73)"
             ],
             [
              0.7529411764705882,
              "rgb(244,135,95)"
             ],
             [
              0.8156862745098039,
              "rgb(245,162,122)"
             ],
             [
              0.8784313725490196,
              "rgb(246,188,153)"
             ],
             [
              0.9411764705882353,
              "rgb(247,212,187)"
             ],
             [
              1,
              "rgb(250,234,220)"
             ]
            ],
            "type": "heatmap"
           }
          ],
          "heatmapgl": [
           {
            "colorbar": {
             "outlinewidth": 0,
             "tickcolor": "rgb(36,36,36)",
             "ticklen": 8,
             "ticks": "outside",
             "tickwidth": 2
            },
            "colorscale": [
             [
              0,
              "rgb(2,4,25)"
             ],
             [
              0.06274509803921569,
              "rgb(24,15,41)"
             ],
             [
              0.12549019607843137,
              "rgb(47,23,57)"
             ],
             [
              0.18823529411764706,
              "rgb(71,28,72)"
             ],
             [
              0.25098039215686274,
              "rgb(97,30,82)"
             ],
             [
              0.3137254901960784,
              "rgb(123,30,89)"
             ],
             [
              0.3764705882352941,
              "rgb(150,27,91)"
             ],
             [
              0.4392156862745098,
              "rgb(177,22,88)"
             ],
             [
              0.5019607843137255,
              "rgb(203,26,79)"
             ],
             [
              0.5647058823529412,
              "rgb(223,47,67)"
             ],
             [
              0.6274509803921569,
              "rgb(236,76,61)"
             ],
             [
              0.6901960784313725,
              "rgb(242,107,73)"
             ],
             [
              0.7529411764705882,
              "rgb(244,135,95)"
             ],
             [
              0.8156862745098039,
              "rgb(245,162,122)"
             ],
             [
              0.8784313725490196,
              "rgb(246,188,153)"
             ],
             [
              0.9411764705882353,
              "rgb(247,212,187)"
             ],
             [
              1,
              "rgb(250,234,220)"
             ]
            ],
            "type": "heatmapgl"
           }
          ],
          "histogram": [
           {
            "marker": {
             "pattern": {
              "fillmode": "overlay",
              "size": 10,
              "solidity": 0.2
             }
            },
            "type": "histogram"
           }
          ],
          "histogram2d": [
           {
            "colorbar": {
             "outlinewidth": 0,
             "tickcolor": "rgb(36,36,36)",
             "ticklen": 8,
             "ticks": "outside",
             "tickwidth": 2
            },
            "colorscale": [
             [
              0,
              "rgb(2,4,25)"
             ],
             [
              0.06274509803921569,
              "rgb(24,15,41)"
             ],
             [
              0.12549019607843137,
              "rgb(47,23,57)"
             ],
             [
              0.18823529411764706,
              "rgb(71,28,72)"
             ],
             [
              0.25098039215686274,
              "rgb(97,30,82)"
             ],
             [
              0.3137254901960784,
              "rgb(123,30,89)"
             ],
             [
              0.3764705882352941,
              "rgb(150,27,91)"
             ],
             [
              0.4392156862745098,
              "rgb(177,22,88)"
             ],
             [
              0.5019607843137255,
              "rgb(203,26,79)"
             ],
             [
              0.5647058823529412,
              "rgb(223,47,67)"
             ],
             [
              0.6274509803921569,
              "rgb(236,76,61)"
             ],
             [
              0.6901960784313725,
              "rgb(242,107,73)"
             ],
             [
              0.7529411764705882,
              "rgb(244,135,95)"
             ],
             [
              0.8156862745098039,
              "rgb(245,162,122)"
             ],
             [
              0.8784313725490196,
              "rgb(246,188,153)"
             ],
             [
              0.9411764705882353,
              "rgb(247,212,187)"
             ],
             [
              1,
              "rgb(250,234,220)"
             ]
            ],
            "type": "histogram2d"
           }
          ],
          "histogram2dcontour": [
           {
            "colorbar": {
             "outlinewidth": 0,
             "tickcolor": "rgb(36,36,36)",
             "ticklen": 8,
             "ticks": "outside",
             "tickwidth": 2
            },
            "colorscale": [
             [
              0,
              "rgb(2,4,25)"
             ],
             [
              0.06274509803921569,
              "rgb(24,15,41)"
             ],
             [
              0.12549019607843137,
              "rgb(47,23,57)"
             ],
             [
              0.18823529411764706,
              "rgb(71,28,72)"
             ],
             [
              0.25098039215686274,
              "rgb(97,30,82)"
             ],
             [
              0.3137254901960784,
              "rgb(123,30,89)"
             ],
             [
              0.3764705882352941,
              "rgb(150,27,91)"
             ],
             [
              0.4392156862745098,
              "rgb(177,22,88)"
             ],
             [
              0.5019607843137255,
              "rgb(203,26,79)"
             ],
             [
              0.5647058823529412,
              "rgb(223,47,67)"
             ],
             [
              0.6274509803921569,
              "rgb(236,76,61)"
             ],
             [
              0.6901960784313725,
              "rgb(242,107,73)"
             ],
             [
              0.7529411764705882,
              "rgb(244,135,95)"
             ],
             [
              0.8156862745098039,
              "rgb(245,162,122)"
             ],
             [
              0.8784313725490196,
              "rgb(246,188,153)"
             ],
             [
              0.9411764705882353,
              "rgb(247,212,187)"
             ],
             [
              1,
              "rgb(250,234,220)"
             ]
            ],
            "type": "histogram2dcontour"
           }
          ],
          "mesh3d": [
           {
            "colorbar": {
             "outlinewidth": 0,
             "tickcolor": "rgb(36,36,36)",
             "ticklen": 8,
             "ticks": "outside",
             "tickwidth": 2
            },
            "type": "mesh3d"
           }
          ],
          "parcoords": [
           {
            "line": {
             "colorbar": {
              "outlinewidth": 0,
              "tickcolor": "rgb(36,36,36)",
              "ticklen": 8,
              "ticks": "outside",
              "tickwidth": 2
             }
            },
            "type": "parcoords"
           }
          ],
          "pie": [
           {
            "automargin": true,
            "type": "pie"
           }
          ],
          "scatter": [
           {
            "marker": {
             "colorbar": {
              "outlinewidth": 0,
              "tickcolor": "rgb(36,36,36)",
              "ticklen": 8,
              "ticks": "outside",
              "tickwidth": 2
             }
            },
            "type": "scatter"
           }
          ],
          "scatter3d": [
           {
            "line": {
             "colorbar": {
              "outlinewidth": 0,
              "tickcolor": "rgb(36,36,36)",
              "ticklen": 8,
              "ticks": "outside",
              "tickwidth": 2
             }
            },
            "marker": {
             "colorbar": {
              "outlinewidth": 0,
              "tickcolor": "rgb(36,36,36)",
              "ticklen": 8,
              "ticks": "outside",
              "tickwidth": 2
             }
            },
            "type": "scatter3d"
           }
          ],
          "scattercarpet": [
           {
            "marker": {
             "colorbar": {
              "outlinewidth": 0,
              "tickcolor": "rgb(36,36,36)",
              "ticklen": 8,
              "ticks": "outside",
              "tickwidth": 2
             }
            },
            "type": "scattercarpet"
           }
          ],
          "scattergeo": [
           {
            "marker": {
             "colorbar": {
              "outlinewidth": 0,
              "tickcolor": "rgb(36,36,36)",
              "ticklen": 8,
              "ticks": "outside",
              "tickwidth": 2
             }
            },
            "type": "scattergeo"
           }
          ],
          "scattergl": [
           {
            "marker": {
             "colorbar": {
              "outlinewidth": 0,
              "tickcolor": "rgb(36,36,36)",
              "ticklen": 8,
              "ticks": "outside",
              "tickwidth": 2
             }
            },
            "type": "scattergl"
           }
          ],
          "scattermapbox": [
           {
            "marker": {
             "colorbar": {
              "outlinewidth": 0,
              "tickcolor": "rgb(36,36,36)",
              "ticklen": 8,
              "ticks": "outside",
              "tickwidth": 2
             }
            },
            "type": "scattermapbox"
           }
          ],
          "scatterpolar": [
           {
            "marker": {
             "colorbar": {
              "outlinewidth": 0,
              "tickcolor": "rgb(36,36,36)",
              "ticklen": 8,
              "ticks": "outside",
              "tickwidth": 2
             }
            },
            "type": "scatterpolar"
           }
          ],
          "scatterpolargl": [
           {
            "marker": {
             "colorbar": {
              "outlinewidth": 0,
              "tickcolor": "rgb(36,36,36)",
              "ticklen": 8,
              "ticks": "outside",
              "tickwidth": 2
             }
            },
            "type": "scatterpolargl"
           }
          ],
          "scatterternary": [
           {
            "marker": {
             "colorbar": {
              "outlinewidth": 0,
              "tickcolor": "rgb(36,36,36)",
              "ticklen": 8,
              "ticks": "outside",
              "tickwidth": 2
             }
            },
            "type": "scatterternary"
           }
          ],
          "surface": [
           {
            "colorbar": {
             "outlinewidth": 0,
             "tickcolor": "rgb(36,36,36)",
             "ticklen": 8,
             "ticks": "outside",
             "tickwidth": 2
            },
            "colorscale": [
             [
              0,
              "rgb(2,4,25)"
             ],
             [
              0.06274509803921569,
              "rgb(24,15,41)"
             ],
             [
              0.12549019607843137,
              "rgb(47,23,57)"
             ],
             [
              0.18823529411764706,
              "rgb(71,28,72)"
             ],
             [
              0.25098039215686274,
              "rgb(97,30,82)"
             ],
             [
              0.3137254901960784,
              "rgb(123,30,89)"
             ],
             [
              0.3764705882352941,
              "rgb(150,27,91)"
             ],
             [
              0.4392156862745098,
              "rgb(177,22,88)"
             ],
             [
              0.5019607843137255,
              "rgb(203,26,79)"
             ],
             [
              0.5647058823529412,
              "rgb(223,47,67)"
             ],
             [
              0.6274509803921569,
              "rgb(236,76,61)"
             ],
             [
              0.6901960784313725,
              "rgb(242,107,73)"
             ],
             [
              0.7529411764705882,
              "rgb(244,135,95)"
             ],
             [
              0.8156862745098039,
              "rgb(245,162,122)"
             ],
             [
              0.8784313725490196,
              "rgb(246,188,153)"
             ],
             [
              0.9411764705882353,
              "rgb(247,212,187)"
             ],
             [
              1,
              "rgb(250,234,220)"
             ]
            ],
            "type": "surface"
           }
          ],
          "table": [
           {
            "cells": {
             "fill": {
              "color": "rgb(231,231,240)"
             },
             "line": {
              "color": "white"
             }
            },
            "header": {
             "fill": {
              "color": "rgb(183,183,191)"
             },
             "line": {
              "color": "white"
             }
            },
            "type": "table"
           }
          ]
         },
         "layout": {
          "annotationdefaults": {
           "arrowcolor": "rgb(67,103,167)"
          },
          "autotypenumbers": "strict",
          "coloraxis": {
           "colorbar": {
            "outlinewidth": 0,
            "tickcolor": "rgb(36,36,36)",
            "ticklen": 8,
            "ticks": "outside",
            "tickwidth": 2
           }
          },
          "colorscale": {
           "sequential": [
            [
             0,
             "rgb(2,4,25)"
            ],
            [
             0.06274509803921569,
             "rgb(24,15,41)"
            ],
            [
             0.12549019607843137,
             "rgb(47,23,57)"
            ],
            [
             0.18823529411764706,
             "rgb(71,28,72)"
            ],
            [
             0.25098039215686274,
             "rgb(97,30,82)"
            ],
            [
             0.3137254901960784,
             "rgb(123,30,89)"
            ],
            [
             0.3764705882352941,
             "rgb(150,27,91)"
            ],
            [
             0.4392156862745098,
             "rgb(177,22,88)"
            ],
            [
             0.5019607843137255,
             "rgb(203,26,79)"
            ],
            [
             0.5647058823529412,
             "rgb(223,47,67)"
            ],
            [
             0.6274509803921569,
             "rgb(236,76,61)"
            ],
            [
             0.6901960784313725,
             "rgb(242,107,73)"
            ],
            [
             0.7529411764705882,
             "rgb(244,135,95)"
            ],
            [
             0.8156862745098039,
             "rgb(245,162,122)"
            ],
            [
             0.8784313725490196,
             "rgb(246,188,153)"
            ],
            [
             0.9411764705882353,
             "rgb(247,212,187)"
            ],
            [
             1,
             "rgb(250,234,220)"
            ]
           ],
           "sequentialminus": [
            [
             0,
             "rgb(2,4,25)"
            ],
            [
             0.06274509803921569,
             "rgb(24,15,41)"
            ],
            [
             0.12549019607843137,
             "rgb(47,23,57)"
            ],
            [
             0.18823529411764706,
             "rgb(71,28,72)"
            ],
            [
             0.25098039215686274,
             "rgb(97,30,82)"
            ],
            [
             0.3137254901960784,
             "rgb(123,30,89)"
            ],
            [
             0.3764705882352941,
             "rgb(150,27,91)"
            ],
            [
             0.4392156862745098,
             "rgb(177,22,88)"
            ],
            [
             0.5019607843137255,
             "rgb(203,26,79)"
            ],
            [
             0.5647058823529412,
             "rgb(223,47,67)"
            ],
            [
             0.6274509803921569,
             "rgb(236,76,61)"
            ],
            [
             0.6901960784313725,
             "rgb(242,107,73)"
            ],
            [
             0.7529411764705882,
             "rgb(244,135,95)"
            ],
            [
             0.8156862745098039,
             "rgb(245,162,122)"
            ],
            [
             0.8784313725490196,
             "rgb(246,188,153)"
            ],
            [
             0.9411764705882353,
             "rgb(247,212,187)"
            ],
            [
             1,
             "rgb(250,234,220)"
            ]
           ]
          },
          "colorway": [
           "rgb(76,114,176)",
           "rgb(221,132,82)",
           "rgb(85,168,104)",
           "rgb(196,78,82)",
           "rgb(129,114,179)",
           "rgb(147,120,96)",
           "rgb(218,139,195)",
           "rgb(140,140,140)",
           "rgb(204,185,116)",
           "rgb(100,181,205)"
          ],
          "font": {
           "color": "rgb(36,36,36)"
          },
          "geo": {
           "bgcolor": "white",
           "lakecolor": "white",
           "landcolor": "rgb(234,234,242)",
           "showlakes": true,
           "showland": true,
           "subunitcolor": "white"
          },
          "hoverlabel": {
           "align": "left"
          },
          "hovermode": "closest",
          "paper_bgcolor": "white",
          "plot_bgcolor": "rgb(234,234,242)",
          "polar": {
           "angularaxis": {
            "gridcolor": "white",
            "linecolor": "white",
            "showgrid": true,
            "ticks": ""
           },
           "bgcolor": "rgb(234,234,242)",
           "radialaxis": {
            "gridcolor": "white",
            "linecolor": "white",
            "showgrid": true,
            "ticks": ""
           }
          },
          "scene": {
           "xaxis": {
            "backgroundcolor": "rgb(234,234,242)",
            "gridcolor": "white",
            "gridwidth": 2,
            "linecolor": "white",
            "showbackground": true,
            "showgrid": true,
            "ticks": "",
            "zerolinecolor": "white"
           },
           "yaxis": {
            "backgroundcolor": "rgb(234,234,242)",
            "gridcolor": "white",
            "gridwidth": 2,
            "linecolor": "white",
            "showbackground": true,
            "showgrid": true,
            "ticks": "",
            "zerolinecolor": "white"
           },
           "zaxis": {
            "backgroundcolor": "rgb(234,234,242)",
            "gridcolor": "white",
            "gridwidth": 2,
            "linecolor": "white",
            "showbackground": true,
            "showgrid": true,
            "ticks": "",
            "zerolinecolor": "white"
           }
          },
          "shapedefaults": {
           "fillcolor": "rgb(67,103,167)",
           "line": {
            "width": 0
           },
           "opacity": 0.5
          },
          "ternary": {
           "aaxis": {
            "gridcolor": "white",
            "linecolor": "white",
            "showgrid": true,
            "ticks": ""
           },
           "baxis": {
            "gridcolor": "white",
            "linecolor": "white",
            "showgrid": true,
            "ticks": ""
           },
           "bgcolor": "rgb(234,234,242)",
           "caxis": {
            "gridcolor": "white",
            "linecolor": "white",
            "showgrid": true,
            "ticks": ""
           }
          },
          "xaxis": {
           "automargin": true,
           "gridcolor": "white",
           "linecolor": "white",
           "showgrid": true,
           "ticks": "",
           "title": {
            "standoff": 15
           },
           "zerolinecolor": "white"
          },
          "yaxis": {
           "automargin": true,
           "gridcolor": "white",
           "linecolor": "white",
           "showgrid": true,
           "ticks": "",
           "title": {
            "standoff": 15
           },
           "zerolinecolor": "white"
          }
         }
        },
        "title": {
         "text": "<b> The Most 20 Industries Request from Companies in 2020"
        },
        "xaxis": {
         "anchor": "y",
         "categoryarray": [
          "Information Technology and Services",
          "Construction",
          "Marketing and Advertising",
          "Consumer Goods",
          "Computer Software",
          "ElectricalElectronic",
          "Food  Beverages",
          "Hospital  Health Care",
          "Staffing and Recruiting",
          "Retail",
          "Hospitality",
          "Oil  Energy",
          "Civil Engineering",
          "Consumer Services",
          "Management Consulting",
          "Mechanical",
          "Internet",
          "Information Services",
          "Chemicals",
          "Leisure Travel  Tourism"
         ],
         "categoryorder": "array",
         "domain": [
          0,
          1
         ],
         "title": {
          "text": "industry name"
         }
        },
        "yaxis": {
         "anchor": "x",
         "domain": [
          0,
          1
         ],
         "title": {
          "text": "number of position in industry"
         }
        }
       }
      },
      "text/html": [
       "<div>                            <div id=\"a5d5334d-b4fb-4b3b-bf55-eb55c2d0803c\" class=\"plotly-graph-div\" style=\"height:525px; width:100%;\"></div>            <script type=\"text/javascript\">                require([\"plotly\"], function(Plotly) {                    window.PLOTLYENV=window.PLOTLYENV || {};                                    if (document.getElementById(\"a5d5334d-b4fb-4b3b-bf55-eb55c2d0803c\")) {                    Plotly.newPlot(                        \"a5d5334d-b4fb-4b3b-bf55-eb55c2d0803c\",                        [{\"alignmentgroup\":\"True\",\"hovertemplate\":\"industry name=%{x}<br>number of position in industry=%{y}<br>count=%{text}<extra></extra>\",\"legendgroup\":\"Information Technology and Services\",\"marker\":{\"color\":\"rgb(76,114,176)\",\"pattern\":{\"shape\":\"\"}},\"name\":\"Information Technology and Services\",\"offsetgroup\":\"Information Technology and Services\",\"orientation\":\"v\",\"showlegend\":true,\"text\":[6203.0],\"textposition\":\"auto\",\"x\":[\"Information Technology and Services\"],\"xaxis\":\"x\",\"y\":[6203],\"yaxis\":\"y\",\"type\":\"bar\"},{\"alignmentgroup\":\"True\",\"hovertemplate\":\"industry name=%{x}<br>number of position in industry=%{y}<br>count=%{text}<extra></extra>\",\"legendgroup\":\"Construction\",\"marker\":{\"color\":\"rgb(221,132,82)\",\"pattern\":{\"shape\":\"\"}},\"name\":\"Construction\",\"offsetgroup\":\"Construction\",\"orientation\":\"v\",\"showlegend\":true,\"text\":[3658.0],\"textposition\":\"auto\",\"x\":[\"Construction\"],\"xaxis\":\"x\",\"y\":[3658],\"yaxis\":\"y\",\"type\":\"bar\"},{\"alignmentgroup\":\"True\",\"hovertemplate\":\"industry name=%{x}<br>number of position in industry=%{y}<br>count=%{text}<extra></extra>\",\"legendgroup\":\"Marketing and Advertising\",\"marker\":{\"color\":\"rgb(85,168,104)\",\"pattern\":{\"shape\":\"\"}},\"name\":\"Marketing and Advertising\",\"offsetgroup\":\"Marketing and Advertising\",\"orientation\":\"v\",\"showlegend\":true,\"text\":[1894.0],\"textposition\":\"auto\",\"x\":[\"Marketing and Advertising\"],\"xaxis\":\"x\",\"y\":[1894],\"yaxis\":\"y\",\"type\":\"bar\"},{\"alignmentgroup\":\"True\",\"hovertemplate\":\"industry name=%{x}<br>number of position in industry=%{y}<br>count=%{text}<extra></extra>\",\"legendgroup\":\"Consumer Goods\",\"marker\":{\"color\":\"rgb(196,78,82)\",\"pattern\":{\"shape\":\"\"}},\"name\":\"Consumer Goods\",\"offsetgroup\":\"Consumer Goods\",\"orientation\":\"v\",\"showlegend\":true,\"text\":[1584.0],\"textposition\":\"auto\",\"x\":[\"Consumer Goods\"],\"xaxis\":\"x\",\"y\":[1584],\"yaxis\":\"y\",\"type\":\"bar\"},{\"alignmentgroup\":\"True\",\"hovertemplate\":\"industry name=%{x}<br>number of position in industry=%{y}<br>count=%{text}<extra></extra>\",\"legendgroup\":\"Computer Software\",\"marker\":{\"color\":\"rgb(129,114,179)\",\"pattern\":{\"shape\":\"\"}},\"name\":\"Computer Software\",\"offsetgroup\":\"Computer Software\",\"orientation\":\"v\",\"showlegend\":true,\"text\":[1481.0],\"textposition\":\"auto\",\"x\":[\"Computer Software\"],\"xaxis\":\"x\",\"y\":[1481],\"yaxis\":\"y\",\"type\":\"bar\"},{\"alignmentgroup\":\"True\",\"hovertemplate\":\"industry name=%{x}<br>number of position in industry=%{y}<br>count=%{text}<extra></extra>\",\"legendgroup\":\"ElectricalElectronic\",\"marker\":{\"color\":\"rgb(147,120,96)\",\"pattern\":{\"shape\":\"\"}},\"name\":\"ElectricalElectronic\",\"offsetgroup\":\"ElectricalElectronic\",\"orientation\":\"v\",\"showlegend\":true,\"text\":[1421.0],\"textposition\":\"auto\",\"x\":[\"ElectricalElectronic\"],\"xaxis\":\"x\",\"y\":[1421],\"yaxis\":\"y\",\"type\":\"bar\"},{\"alignmentgroup\":\"True\",\"hovertemplate\":\"industry name=%{x}<br>number of position in industry=%{y}<br>count=%{text}<extra></extra>\",\"legendgroup\":\"Food  Beverages\",\"marker\":{\"color\":\"rgb(218,139,195)\",\"pattern\":{\"shape\":\"\"}},\"name\":\"Food  Beverages\",\"offsetgroup\":\"Food  Beverages\",\"orientation\":\"v\",\"showlegend\":true,\"text\":[1304.0],\"textposition\":\"auto\",\"x\":[\"Food  Beverages\"],\"xaxis\":\"x\",\"y\":[1304],\"yaxis\":\"y\",\"type\":\"bar\"},{\"alignmentgroup\":\"True\",\"hovertemplate\":\"industry name=%{x}<br>number of position in industry=%{y}<br>count=%{text}<extra></extra>\",\"legendgroup\":\"Hospital  Health Care\",\"marker\":{\"color\":\"rgb(140,140,140)\",\"pattern\":{\"shape\":\"\"}},\"name\":\"Hospital  Health Care\",\"offsetgroup\":\"Hospital  Health Care\",\"orientation\":\"v\",\"showlegend\":true,\"text\":[1244.0],\"textposition\":\"auto\",\"x\":[\"Hospital  Health Care\"],\"xaxis\":\"x\",\"y\":[1244],\"yaxis\":\"y\",\"type\":\"bar\"},{\"alignmentgroup\":\"True\",\"hovertemplate\":\"industry name=%{x}<br>number of position in industry=%{y}<br>count=%{text}<extra></extra>\",\"legendgroup\":\"Staffing and Recruiting\",\"marker\":{\"color\":\"rgb(204,185,116)\",\"pattern\":{\"shape\":\"\"}},\"name\":\"Staffing and Recruiting\",\"offsetgroup\":\"Staffing and Recruiting\",\"orientation\":\"v\",\"showlegend\":true,\"text\":[1146.0],\"textposition\":\"auto\",\"x\":[\"Staffing and Recruiting\"],\"xaxis\":\"x\",\"y\":[1146],\"yaxis\":\"y\",\"type\":\"bar\"},{\"alignmentgroup\":\"True\",\"hovertemplate\":\"industry name=%{x}<br>number of position in industry=%{y}<br>count=%{text}<extra></extra>\",\"legendgroup\":\"Retail\",\"marker\":{\"color\":\"rgb(100,181,205)\",\"pattern\":{\"shape\":\"\"}},\"name\":\"Retail\",\"offsetgroup\":\"Retail\",\"orientation\":\"v\",\"showlegend\":true,\"text\":[1104.0],\"textposition\":\"auto\",\"x\":[\"Retail\"],\"xaxis\":\"x\",\"y\":[1104],\"yaxis\":\"y\",\"type\":\"bar\"},{\"alignmentgroup\":\"True\",\"hovertemplate\":\"industry name=%{x}<br>number of position in industry=%{y}<br>count=%{text}<extra></extra>\",\"legendgroup\":\"Hospitality\",\"marker\":{\"color\":\"rgb(76,114,176)\",\"pattern\":{\"shape\":\"\"}},\"name\":\"Hospitality\",\"offsetgroup\":\"Hospitality\",\"orientation\":\"v\",\"showlegend\":true,\"text\":[980.0],\"textposition\":\"auto\",\"x\":[\"Hospitality\"],\"xaxis\":\"x\",\"y\":[980],\"yaxis\":\"y\",\"type\":\"bar\"},{\"alignmentgroup\":\"True\",\"hovertemplate\":\"industry name=%{x}<br>number of position in industry=%{y}<br>count=%{text}<extra></extra>\",\"legendgroup\":\"Oil  Energy\",\"marker\":{\"color\":\"rgb(221,132,82)\",\"pattern\":{\"shape\":\"\"}},\"name\":\"Oil  Energy\",\"offsetgroup\":\"Oil  Energy\",\"orientation\":\"v\",\"showlegend\":true,\"text\":[960.0],\"textposition\":\"auto\",\"x\":[\"Oil  Energy\"],\"xaxis\":\"x\",\"y\":[960],\"yaxis\":\"y\",\"type\":\"bar\"},{\"alignmentgroup\":\"True\",\"hovertemplate\":\"industry name=%{x}<br>number of position in industry=%{y}<br>count=%{text}<extra></extra>\",\"legendgroup\":\"Civil Engineering\",\"marker\":{\"color\":\"rgb(85,168,104)\",\"pattern\":{\"shape\":\"\"}},\"name\":\"Civil Engineering\",\"offsetgroup\":\"Civil Engineering\",\"orientation\":\"v\",\"showlegend\":true,\"text\":[830.0],\"textposition\":\"auto\",\"x\":[\"Civil Engineering\"],\"xaxis\":\"x\",\"y\":[830],\"yaxis\":\"y\",\"type\":\"bar\"},{\"alignmentgroup\":\"True\",\"hovertemplate\":\"industry name=%{x}<br>number of position in industry=%{y}<br>count=%{text}<extra></extra>\",\"legendgroup\":\"Consumer Services\",\"marker\":{\"color\":\"rgb(196,78,82)\",\"pattern\":{\"shape\":\"\"}},\"name\":\"Consumer Services\",\"offsetgroup\":\"Consumer Services\",\"orientation\":\"v\",\"showlegend\":true,\"text\":[816.0],\"textposition\":\"auto\",\"x\":[\"Consumer Services\"],\"xaxis\":\"x\",\"y\":[816],\"yaxis\":\"y\",\"type\":\"bar\"},{\"alignmentgroup\":\"True\",\"hovertemplate\":\"industry name=%{x}<br>number of position in industry=%{y}<br>count=%{text}<extra></extra>\",\"legendgroup\":\"Management Consulting\",\"marker\":{\"color\":\"rgb(129,114,179)\",\"pattern\":{\"shape\":\"\"}},\"name\":\"Management Consulting\",\"offsetgroup\":\"Management Consulting\",\"orientation\":\"v\",\"showlegend\":true,\"text\":[814.0],\"textposition\":\"auto\",\"x\":[\"Management Consulting\"],\"xaxis\":\"x\",\"y\":[814],\"yaxis\":\"y\",\"type\":\"bar\"},{\"alignmentgroup\":\"True\",\"hovertemplate\":\"industry name=%{x}<br>number of position in industry=%{y}<br>count=%{text}<extra></extra>\",\"legendgroup\":\"Mechanical\",\"marker\":{\"color\":\"rgb(147,120,96)\",\"pattern\":{\"shape\":\"\"}},\"name\":\"Mechanical\",\"offsetgroup\":\"Mechanical\",\"orientation\":\"v\",\"showlegend\":true,\"text\":[791.0],\"textposition\":\"auto\",\"x\":[\"Mechanical\"],\"xaxis\":\"x\",\"y\":[791],\"yaxis\":\"y\",\"type\":\"bar\"},{\"alignmentgroup\":\"True\",\"hovertemplate\":\"industry name=%{x}<br>number of position in industry=%{y}<br>count=%{text}<extra></extra>\",\"legendgroup\":\"Internet\",\"marker\":{\"color\":\"rgb(218,139,195)\",\"pattern\":{\"shape\":\"\"}},\"name\":\"Internet\",\"offsetgroup\":\"Internet\",\"orientation\":\"v\",\"showlegend\":true,\"text\":[771.0],\"textposition\":\"auto\",\"x\":[\"Internet\"],\"xaxis\":\"x\",\"y\":[771],\"yaxis\":\"y\",\"type\":\"bar\"},{\"alignmentgroup\":\"True\",\"hovertemplate\":\"industry name=%{x}<br>number of position in industry=%{y}<br>count=%{text}<extra></extra>\",\"legendgroup\":\"Information Services\",\"marker\":{\"color\":\"rgb(140,140,140)\",\"pattern\":{\"shape\":\"\"}},\"name\":\"Information Services\",\"offsetgroup\":\"Information Services\",\"orientation\":\"v\",\"showlegend\":true,\"text\":[576.0],\"textposition\":\"auto\",\"x\":[\"Information Services\"],\"xaxis\":\"x\",\"y\":[576],\"yaxis\":\"y\",\"type\":\"bar\"},{\"alignmentgroup\":\"True\",\"hovertemplate\":\"industry name=%{x}<br>number of position in industry=%{y}<br>count=%{text}<extra></extra>\",\"legendgroup\":\"Chemicals\",\"marker\":{\"color\":\"rgb(204,185,116)\",\"pattern\":{\"shape\":\"\"}},\"name\":\"Chemicals\",\"offsetgroup\":\"Chemicals\",\"orientation\":\"v\",\"showlegend\":true,\"text\":[575.0],\"textposition\":\"auto\",\"x\":[\"Chemicals\"],\"xaxis\":\"x\",\"y\":[575],\"yaxis\":\"y\",\"type\":\"bar\"},{\"alignmentgroup\":\"True\",\"hovertemplate\":\"industry name=%{x}<br>number of position in industry=%{y}<br>count=%{text}<extra></extra>\",\"legendgroup\":\"Leisure Travel  Tourism\",\"marker\":{\"color\":\"rgb(100,181,205)\",\"pattern\":{\"shape\":\"\"}},\"name\":\"Leisure Travel  Tourism\",\"offsetgroup\":\"Leisure Travel  Tourism\",\"orientation\":\"v\",\"showlegend\":true,\"text\":[571.0],\"textposition\":\"auto\",\"x\":[\"Leisure Travel  Tourism\"],\"xaxis\":\"x\",\"y\":[571],\"yaxis\":\"y\",\"type\":\"bar\"}],                        {\"template\":{\"data\":{\"barpolar\":[{\"marker\":{\"line\":{\"color\":\"rgb(234,234,242)\",\"width\":0.5},\"pattern\":{\"fillmode\":\"overlay\",\"size\":10,\"solidity\":0.2}},\"type\":\"barpolar\"}],\"bar\":[{\"error_x\":{\"color\":\"rgb(36,36,36)\"},\"error_y\":{\"color\":\"rgb(36,36,36)\"},\"marker\":{\"line\":{\"color\":\"rgb(234,234,242)\",\"width\":0.5},\"pattern\":{\"fillmode\":\"overlay\",\"size\":10,\"solidity\":0.2}},\"type\":\"bar\"}],\"carpet\":[{\"aaxis\":{\"endlinecolor\":\"rgb(36,36,36)\",\"gridcolor\":\"white\",\"linecolor\":\"white\",\"minorgridcolor\":\"white\",\"startlinecolor\":\"rgb(36,36,36)\"},\"baxis\":{\"endlinecolor\":\"rgb(36,36,36)\",\"gridcolor\":\"white\",\"linecolor\":\"white\",\"minorgridcolor\":\"white\",\"startlinecolor\":\"rgb(36,36,36)\"},\"type\":\"carpet\"}],\"choropleth\":[{\"colorbar\":{\"outlinewidth\":0,\"tickcolor\":\"rgb(36,36,36)\",\"ticklen\":8,\"ticks\":\"outside\",\"tickwidth\":2},\"type\":\"choropleth\"}],\"contourcarpet\":[{\"colorbar\":{\"outlinewidth\":0,\"tickcolor\":\"rgb(36,36,36)\",\"ticklen\":8,\"ticks\":\"outside\",\"tickwidth\":2},\"type\":\"contourcarpet\"}],\"contour\":[{\"colorbar\":{\"outlinewidth\":0,\"tickcolor\":\"rgb(36,36,36)\",\"ticklen\":8,\"ticks\":\"outside\",\"tickwidth\":2},\"colorscale\":[[0.0,\"rgb(2,4,25)\"],[0.06274509803921569,\"rgb(24,15,41)\"],[0.12549019607843137,\"rgb(47,23,57)\"],[0.18823529411764706,\"rgb(71,28,72)\"],[0.25098039215686274,\"rgb(97,30,82)\"],[0.3137254901960784,\"rgb(123,30,89)\"],[0.3764705882352941,\"rgb(150,27,91)\"],[0.4392156862745098,\"rgb(177,22,88)\"],[0.5019607843137255,\"rgb(203,26,79)\"],[0.5647058823529412,\"rgb(223,47,67)\"],[0.6274509803921569,\"rgb(236,76,61)\"],[0.6901960784313725,\"rgb(242,107,73)\"],[0.7529411764705882,\"rgb(244,135,95)\"],[0.8156862745098039,\"rgb(245,162,122)\"],[0.8784313725490196,\"rgb(246,188,153)\"],[0.9411764705882353,\"rgb(247,212,187)\"],[1.0,\"rgb(250,234,220)\"]],\"type\":\"contour\"}],\"heatmapgl\":[{\"colorbar\":{\"outlinewidth\":0,\"tickcolor\":\"rgb(36,36,36)\",\"ticklen\":8,\"ticks\":\"outside\",\"tickwidth\":2},\"colorscale\":[[0.0,\"rgb(2,4,25)\"],[0.06274509803921569,\"rgb(24,15,41)\"],[0.12549019607843137,\"rgb(47,23,57)\"],[0.18823529411764706,\"rgb(71,28,72)\"],[0.25098039215686274,\"rgb(97,30,82)\"],[0.3137254901960784,\"rgb(123,30,89)\"],[0.3764705882352941,\"rgb(150,27,91)\"],[0.4392156862745098,\"rgb(177,22,88)\"],[0.5019607843137255,\"rgb(203,26,79)\"],[0.5647058823529412,\"rgb(223,47,67)\"],[0.6274509803921569,\"rgb(236,76,61)\"],[0.6901960784313725,\"rgb(242,107,73)\"],[0.7529411764705882,\"rgb(244,135,95)\"],[0.8156862745098039,\"rgb(245,162,122)\"],[0.8784313725490196,\"rgb(246,188,153)\"],[0.9411764705882353,\"rgb(247,212,187)\"],[1.0,\"rgb(250,234,220)\"]],\"type\":\"heatmapgl\"}],\"heatmap\":[{\"colorbar\":{\"outlinewidth\":0,\"tickcolor\":\"rgb(36,36,36)\",\"ticklen\":8,\"ticks\":\"outside\",\"tickwidth\":2},\"colorscale\":[[0.0,\"rgb(2,4,25)\"],[0.06274509803921569,\"rgb(24,15,41)\"],[0.12549019607843137,\"rgb(47,23,57)\"],[0.18823529411764706,\"rgb(71,28,72)\"],[0.25098039215686274,\"rgb(97,30,82)\"],[0.3137254901960784,\"rgb(123,30,89)\"],[0.3764705882352941,\"rgb(150,27,91)\"],[0.4392156862745098,\"rgb(177,22,88)\"],[0.5019607843137255,\"rgb(203,26,79)\"],[0.5647058823529412,\"rgb(223,47,67)\"],[0.6274509803921569,\"rgb(236,76,61)\"],[0.6901960784313725,\"rgb(242,107,73)\"],[0.7529411764705882,\"rgb(244,135,95)\"],[0.8156862745098039,\"rgb(245,162,122)\"],[0.8784313725490196,\"rgb(246,188,153)\"],[0.9411764705882353,\"rgb(247,212,187)\"],[1.0,\"rgb(250,234,220)\"]],\"type\":\"heatmap\"}],\"histogram2dcontour\":[{\"colorbar\":{\"outlinewidth\":0,\"tickcolor\":\"rgb(36,36,36)\",\"ticklen\":8,\"ticks\":\"outside\",\"tickwidth\":2},\"colorscale\":[[0.0,\"rgb(2,4,25)\"],[0.06274509803921569,\"rgb(24,15,41)\"],[0.12549019607843137,\"rgb(47,23,57)\"],[0.18823529411764706,\"rgb(71,28,72)\"],[0.25098039215686274,\"rgb(97,30,82)\"],[0.3137254901960784,\"rgb(123,30,89)\"],[0.3764705882352941,\"rgb(150,27,91)\"],[0.4392156862745098,\"rgb(177,22,88)\"],[0.5019607843137255,\"rgb(203,26,79)\"],[0.5647058823529412,\"rgb(223,47,67)\"],[0.6274509803921569,\"rgb(236,76,61)\"],[0.6901960784313725,\"rgb(242,107,73)\"],[0.7529411764705882,\"rgb(244,135,95)\"],[0.8156862745098039,\"rgb(245,162,122)\"],[0.8784313725490196,\"rgb(246,188,153)\"],[0.9411764705882353,\"rgb(247,212,187)\"],[1.0,\"rgb(250,234,220)\"]],\"type\":\"histogram2dcontour\"}],\"histogram2d\":[{\"colorbar\":{\"outlinewidth\":0,\"tickcolor\":\"rgb(36,36,36)\",\"ticklen\":8,\"ticks\":\"outside\",\"tickwidth\":2},\"colorscale\":[[0.0,\"rgb(2,4,25)\"],[0.06274509803921569,\"rgb(24,15,41)\"],[0.12549019607843137,\"rgb(47,23,57)\"],[0.18823529411764706,\"rgb(71,28,72)\"],[0.25098039215686274,\"rgb(97,30,82)\"],[0.3137254901960784,\"rgb(123,30,89)\"],[0.3764705882352941,\"rgb(150,27,91)\"],[0.4392156862745098,\"rgb(177,22,88)\"],[0.5019607843137255,\"rgb(203,26,79)\"],[0.5647058823529412,\"rgb(223,47,67)\"],[0.6274509803921569,\"rgb(236,76,61)\"],[0.6901960784313725,\"rgb(242,107,73)\"],[0.7529411764705882,\"rgb(244,135,95)\"],[0.8156862745098039,\"rgb(245,162,122)\"],[0.8784313725490196,\"rgb(246,188,153)\"],[0.9411764705882353,\"rgb(247,212,187)\"],[1.0,\"rgb(250,234,220)\"]],\"type\":\"histogram2d\"}],\"histogram\":[{\"marker\":{\"pattern\":{\"fillmode\":\"overlay\",\"size\":10,\"solidity\":0.2}},\"type\":\"histogram\"}],\"mesh3d\":[{\"colorbar\":{\"outlinewidth\":0,\"tickcolor\":\"rgb(36,36,36)\",\"ticklen\":8,\"ticks\":\"outside\",\"tickwidth\":2},\"type\":\"mesh3d\"}],\"parcoords\":[{\"line\":{\"colorbar\":{\"outlinewidth\":0,\"tickcolor\":\"rgb(36,36,36)\",\"ticklen\":8,\"ticks\":\"outside\",\"tickwidth\":2}},\"type\":\"parcoords\"}],\"pie\":[{\"automargin\":true,\"type\":\"pie\"}],\"scatter3d\":[{\"line\":{\"colorbar\":{\"outlinewidth\":0,\"tickcolor\":\"rgb(36,36,36)\",\"ticklen\":8,\"ticks\":\"outside\",\"tickwidth\":2}},\"marker\":{\"colorbar\":{\"outlinewidth\":0,\"tickcolor\":\"rgb(36,36,36)\",\"ticklen\":8,\"ticks\":\"outside\",\"tickwidth\":2}},\"type\":\"scatter3d\"}],\"scattercarpet\":[{\"marker\":{\"colorbar\":{\"outlinewidth\":0,\"tickcolor\":\"rgb(36,36,36)\",\"ticklen\":8,\"ticks\":\"outside\",\"tickwidth\":2}},\"type\":\"scattercarpet\"}],\"scattergeo\":[{\"marker\":{\"colorbar\":{\"outlinewidth\":0,\"tickcolor\":\"rgb(36,36,36)\",\"ticklen\":8,\"ticks\":\"outside\",\"tickwidth\":2}},\"type\":\"scattergeo\"}],\"scattergl\":[{\"marker\":{\"colorbar\":{\"outlinewidth\":0,\"tickcolor\":\"rgb(36,36,36)\",\"ticklen\":8,\"ticks\":\"outside\",\"tickwidth\":2}},\"type\":\"scattergl\"}],\"scattermapbox\":[{\"marker\":{\"colorbar\":{\"outlinewidth\":0,\"tickcolor\":\"rgb(36,36,36)\",\"ticklen\":8,\"ticks\":\"outside\",\"tickwidth\":2}},\"type\":\"scattermapbox\"}],\"scatterpolargl\":[{\"marker\":{\"colorbar\":{\"outlinewidth\":0,\"tickcolor\":\"rgb(36,36,36)\",\"ticklen\":8,\"ticks\":\"outside\",\"tickwidth\":2}},\"type\":\"scatterpolargl\"}],\"scatterpolar\":[{\"marker\":{\"colorbar\":{\"outlinewidth\":0,\"tickcolor\":\"rgb(36,36,36)\",\"ticklen\":8,\"ticks\":\"outside\",\"tickwidth\":2}},\"type\":\"scatterpolar\"}],\"scatter\":[{\"marker\":{\"colorbar\":{\"outlinewidth\":0,\"tickcolor\":\"rgb(36,36,36)\",\"ticklen\":8,\"ticks\":\"outside\",\"tickwidth\":2}},\"type\":\"scatter\"}],\"scatterternary\":[{\"marker\":{\"colorbar\":{\"outlinewidth\":0,\"tickcolor\":\"rgb(36,36,36)\",\"ticklen\":8,\"ticks\":\"outside\",\"tickwidth\":2}},\"type\":\"scatterternary\"}],\"surface\":[{\"colorbar\":{\"outlinewidth\":0,\"tickcolor\":\"rgb(36,36,36)\",\"ticklen\":8,\"ticks\":\"outside\",\"tickwidth\":2},\"colorscale\":[[0.0,\"rgb(2,4,25)\"],[0.06274509803921569,\"rgb(24,15,41)\"],[0.12549019607843137,\"rgb(47,23,57)\"],[0.18823529411764706,\"rgb(71,28,72)\"],[0.25098039215686274,\"rgb(97,30,82)\"],[0.3137254901960784,\"rgb(123,30,89)\"],[0.3764705882352941,\"rgb(150,27,91)\"],[0.4392156862745098,\"rgb(177,22,88)\"],[0.5019607843137255,\"rgb(203,26,79)\"],[0.5647058823529412,\"rgb(223,47,67)\"],[0.6274509803921569,\"rgb(236,76,61)\"],[0.6901960784313725,\"rgb(242,107,73)\"],[0.7529411764705882,\"rgb(244,135,95)\"],[0.8156862745098039,\"rgb(245,162,122)\"],[0.8784313725490196,\"rgb(246,188,153)\"],[0.9411764705882353,\"rgb(247,212,187)\"],[1.0,\"rgb(250,234,220)\"]],\"type\":\"surface\"}],\"table\":[{\"cells\":{\"fill\":{\"color\":\"rgb(231,231,240)\"},\"line\":{\"color\":\"white\"}},\"header\":{\"fill\":{\"color\":\"rgb(183,183,191)\"},\"line\":{\"color\":\"white\"}},\"type\":\"table\"}]},\"layout\":{\"annotationdefaults\":{\"arrowcolor\":\"rgb(67,103,167)\"},\"autotypenumbers\":\"strict\",\"coloraxis\":{\"colorbar\":{\"outlinewidth\":0,\"tickcolor\":\"rgb(36,36,36)\",\"ticklen\":8,\"ticks\":\"outside\",\"tickwidth\":2}},\"colorscale\":{\"sequential\":[[0.0,\"rgb(2,4,25)\"],[0.06274509803921569,\"rgb(24,15,41)\"],[0.12549019607843137,\"rgb(47,23,57)\"],[0.18823529411764706,\"rgb(71,28,72)\"],[0.25098039215686274,\"rgb(97,30,82)\"],[0.3137254901960784,\"rgb(123,30,89)\"],[0.3764705882352941,\"rgb(150,27,91)\"],[0.4392156862745098,\"rgb(177,22,88)\"],[0.5019607843137255,\"rgb(203,26,79)\"],[0.5647058823529412,\"rgb(223,47,67)\"],[0.6274509803921569,\"rgb(236,76,61)\"],[0.6901960784313725,\"rgb(242,107,73)\"],[0.7529411764705882,\"rgb(244,135,95)\"],[0.8156862745098039,\"rgb(245,162,122)\"],[0.8784313725490196,\"rgb(246,188,153)\"],[0.9411764705882353,\"rgb(247,212,187)\"],[1.0,\"rgb(250,234,220)\"]],\"sequentialminus\":[[0.0,\"rgb(2,4,25)\"],[0.06274509803921569,\"rgb(24,15,41)\"],[0.12549019607843137,\"rgb(47,23,57)\"],[0.18823529411764706,\"rgb(71,28,72)\"],[0.25098039215686274,\"rgb(97,30,82)\"],[0.3137254901960784,\"rgb(123,30,89)\"],[0.3764705882352941,\"rgb(150,27,91)\"],[0.4392156862745098,\"rgb(177,22,88)\"],[0.5019607843137255,\"rgb(203,26,79)\"],[0.5647058823529412,\"rgb(223,47,67)\"],[0.6274509803921569,\"rgb(236,76,61)\"],[0.6901960784313725,\"rgb(242,107,73)\"],[0.7529411764705882,\"rgb(244,135,95)\"],[0.8156862745098039,\"rgb(245,162,122)\"],[0.8784313725490196,\"rgb(246,188,153)\"],[0.9411764705882353,\"rgb(247,212,187)\"],[1.0,\"rgb(250,234,220)\"]]},\"colorway\":[\"rgb(76,114,176)\",\"rgb(221,132,82)\",\"rgb(85,168,104)\",\"rgb(196,78,82)\",\"rgb(129,114,179)\",\"rgb(147,120,96)\",\"rgb(218,139,195)\",\"rgb(140,140,140)\",\"rgb(204,185,116)\",\"rgb(100,181,205)\"],\"font\":{\"color\":\"rgb(36,36,36)\"},\"geo\":{\"bgcolor\":\"white\",\"lakecolor\":\"white\",\"landcolor\":\"rgb(234,234,242)\",\"showlakes\":true,\"showland\":true,\"subunitcolor\":\"white\"},\"hoverlabel\":{\"align\":\"left\"},\"hovermode\":\"closest\",\"paper_bgcolor\":\"white\",\"plot_bgcolor\":\"rgb(234,234,242)\",\"polar\":{\"angularaxis\":{\"gridcolor\":\"white\",\"linecolor\":\"white\",\"showgrid\":true,\"ticks\":\"\"},\"bgcolor\":\"rgb(234,234,242)\",\"radialaxis\":{\"gridcolor\":\"white\",\"linecolor\":\"white\",\"showgrid\":true,\"ticks\":\"\"}},\"scene\":{\"xaxis\":{\"backgroundcolor\":\"rgb(234,234,242)\",\"gridcolor\":\"white\",\"gridwidth\":2,\"linecolor\":\"white\",\"showbackground\":true,\"showgrid\":true,\"ticks\":\"\",\"zerolinecolor\":\"white\"},\"yaxis\":{\"backgroundcolor\":\"rgb(234,234,242)\",\"gridcolor\":\"white\",\"gridwidth\":2,\"linecolor\":\"white\",\"showbackground\":true,\"showgrid\":true,\"ticks\":\"\",\"zerolinecolor\":\"white\"},\"zaxis\":{\"backgroundcolor\":\"rgb(234,234,242)\",\"gridcolor\":\"white\",\"gridwidth\":2,\"linecolor\":\"white\",\"showbackground\":true,\"showgrid\":true,\"ticks\":\"\",\"zerolinecolor\":\"white\"}},\"shapedefaults\":{\"fillcolor\":\"rgb(67,103,167)\",\"line\":{\"width\":0},\"opacity\":0.5},\"ternary\":{\"aaxis\":{\"gridcolor\":\"white\",\"linecolor\":\"white\",\"showgrid\":true,\"ticks\":\"\"},\"baxis\":{\"gridcolor\":\"white\",\"linecolor\":\"white\",\"showgrid\":true,\"ticks\":\"\"},\"bgcolor\":\"rgb(234,234,242)\",\"caxis\":{\"gridcolor\":\"white\",\"linecolor\":\"white\",\"showgrid\":true,\"ticks\":\"\"}},\"xaxis\":{\"automargin\":true,\"gridcolor\":\"white\",\"linecolor\":\"white\",\"showgrid\":true,\"ticks\":\"\",\"title\":{\"standoff\":15},\"zerolinecolor\":\"white\"},\"yaxis\":{\"automargin\":true,\"gridcolor\":\"white\",\"linecolor\":\"white\",\"showgrid\":true,\"ticks\":\"\",\"title\":{\"standoff\":15},\"zerolinecolor\":\"white\"}}},\"xaxis\":{\"anchor\":\"y\",\"domain\":[0.0,1.0],\"title\":{\"text\":\"industry name\"},\"categoryorder\":\"array\",\"categoryarray\":[\"Information Technology and Services\",\"Construction\",\"Marketing and Advertising\",\"Consumer Goods\",\"Computer Software\",\"ElectricalElectronic\",\"Food  Beverages\",\"Hospital  Health Care\",\"Staffing and Recruiting\",\"Retail\",\"Hospitality\",\"Oil  Energy\",\"Civil Engineering\",\"Consumer Services\",\"Management Consulting\",\"Mechanical\",\"Internet\",\"Information Services\",\"Chemicals\",\"Leisure Travel  Tourism\"]},\"yaxis\":{\"anchor\":\"x\",\"domain\":[0.0,1.0],\"title\":{\"text\":\"number of position in industry\"}},\"legend\":{\"title\":{\"text\":\"industry name\"},\"tracegroupgap\":0},\"title\":{\"text\":\"<b> The Most 20 Industries Request from Companies in 2020\"},\"barmode\":\"relative\"},                        {\"responsive\": true}                    ).then(function(){\n",
       "                            \n",
       "var gd = document.getElementById('a5d5334d-b4fb-4b3b-bf55-eb55c2d0803c');\n",
       "var x = new MutationObserver(function (mutations, observer) {{\n",
       "        var display = window.getComputedStyle(gd).display;\n",
       "        if (!display || display === 'none') {{\n",
       "            console.log([gd, 'removed!']);\n",
       "            Plotly.purge(gd);\n",
       "            observer.disconnect();\n",
       "        }}\n",
       "}});\n",
       "\n",
       "// Listen for the removal of the full notebook cells\n",
       "var notebookContainer = gd.closest('#notebook-container');\n",
       "if (notebookContainer) {{\n",
       "    x.observe(notebookContainer, {childList: true});\n",
       "}}\n",
       "\n",
       "// Listen for the clearing of the current output cell\n",
       "var outputEl = gd.closest('.output');\n",
       "if (outputEl) {{\n",
       "    x.observe(outputEl, {childList: true});\n",
       "}}\n",
       "\n",
       "                        })                };                });            </script>        </div>"
      ]
     },
     "metadata": {},
     "output_type": "display_data"
    }
   ],
   "source": [
    "industry=df['industry_cat'].value_counts().head(20)\n",
    "\n",
    "fig=px.bar(industry,x=industry.index,\n",
    "           y=industry.values,\n",
    "           color=industry.index,\n",
    "           text=industry.values,\n",
    "           labels={'index':'industry name','y':'number of position in industry','text':'count'},\n",
    "           template='seaborn',\n",
    "           title='<b> The Most 20 Industries Request from Companies in 2020')\n",
    "\n",
    "fig.show()"
   ]
  },
  {
   "cell_type": "markdown",
   "id": "8a645c28",
   "metadata": {},
   "source": [
    "### 5th plot || The Most 20 job functions Request from Companies in 2020\n",
    "#### This plot gives insight into the 20 most wanted job functions in the labor market during 2020. we see that management manufacturing is the first request in the job positions. followed by sales business development and then information technology. This statistic may help the student to choose the specialization that serves the functions required in the labor market "
   ]
  },
  {
   "cell_type": "code",
   "execution_count": 34,
   "id": "e500e418",
   "metadata": {},
   "outputs": [
    {
     "data": {
      "application/vnd.plotly.v1+json": {
       "config": {
        "plotlyServerURL": "https://plot.ly"
       },
       "data": [
        {
         "alignmentgroup": "True",
         "hovertemplate": "job functions=%{y}<br>number of position in job functions=%{x}<br>count=%{text}<extra></extra>",
         "legendgroup": "Management Manufacturing",
         "marker": {
          "color": "rgb(76,114,176)",
          "pattern": {
           "shape": ""
          }
         },
         "name": "Management Manufacturing",
         "offsetgroup": "Management Manufacturing",
         "orientation": "h",
         "showlegend": true,
         "text": [
          5103
         ],
         "textposition": "auto",
         "type": "bar",
         "x": [
          5103
         ],
         "xaxis": "x",
         "y": [
          "Management Manufacturing"
         ],
         "yaxis": "y"
        },
        {
         "alignmentgroup": "True",
         "hovertemplate": "job functions=%{y}<br>number of position in job functions=%{x}<br>count=%{text}<extra></extra>",
         "legendgroup": "Sales Business Development",
         "marker": {
          "color": "rgb(221,132,82)",
          "pattern": {
           "shape": ""
          }
         },
         "name": "Sales Business Development",
         "offsetgroup": "Sales Business Development",
         "orientation": "h",
         "showlegend": true,
         "text": [
          3416
         ],
         "textposition": "auto",
         "type": "bar",
         "x": [
          3416
         ],
         "xaxis": "x",
         "y": [
          "Sales Business Development"
         ],
         "yaxis": "y"
        },
        {
         "alignmentgroup": "True",
         "hovertemplate": "job functions=%{y}<br>number of position in job functions=%{x}<br>count=%{text}<extra></extra>",
         "legendgroup": "Engineering Information Technology",
         "marker": {
          "color": "rgb(85,168,104)",
          "pattern": {
           "shape": ""
          }
         },
         "name": "Engineering Information Technology",
         "offsetgroup": "Engineering Information Technology",
         "orientation": "h",
         "showlegend": true,
         "text": [
          3123
         ],
         "textposition": "auto",
         "type": "bar",
         "x": [
          3123
         ],
         "xaxis": "x",
         "y": [
          "Engineering Information Technology"
         ],
         "yaxis": "y"
        },
        {
         "alignmentgroup": "True",
         "hovertemplate": "job functions=%{y}<br>number of position in job functions=%{x}<br>count=%{text}<extra></extra>",
         "legendgroup": "Information Technology",
         "marker": {
          "color": "rgb(196,78,82)",
          "pattern": {
           "shape": ""
          }
         },
         "name": "Information Technology",
         "offsetgroup": "Information Technology",
         "orientation": "h",
         "showlegend": true,
         "text": [
          2704
         ],
         "textposition": "auto",
         "type": "bar",
         "x": [
          2704
         ],
         "xaxis": "x",
         "y": [
          "Information Technology"
         ],
         "yaxis": "y"
        },
        {
         "alignmentgroup": "True",
         "hovertemplate": "job functions=%{y}<br>number of position in job functions=%{x}<br>count=%{text}<extra></extra>",
         "legendgroup": "Other",
         "marker": {
          "color": "rgb(129,114,179)",
          "pattern": {
           "shape": ""
          }
         },
         "name": "Other",
         "offsetgroup": "Other",
         "orientation": "h",
         "showlegend": true,
         "text": [
          2573
         ],
         "textposition": "auto",
         "type": "bar",
         "x": [
          2573
         ],
         "xaxis": "x",
         "y": [
          "Other"
         ],
         "yaxis": "y"
        },
        {
         "alignmentgroup": "True",
         "hovertemplate": "job functions=%{y}<br>number of position in job functions=%{x}<br>count=%{text}<extra></extra>",
         "legendgroup": "Health Care Provider",
         "marker": {
          "color": "rgb(147,120,96)",
          "pattern": {
           "shape": ""
          }
         },
         "name": "Health Care Provider",
         "offsetgroup": "Health Care Provider",
         "orientation": "h",
         "showlegend": true,
         "text": [
          1270
         ],
         "textposition": "auto",
         "type": "bar",
         "x": [
          1270
         ],
         "xaxis": "x",
         "y": [
          "Health Care Provider"
         ],
         "yaxis": "y"
        },
        {
         "alignmentgroup": "True",
         "hovertemplate": "job functions=%{y}<br>number of position in job functions=%{x}<br>count=%{text}<extra></extra>",
         "legendgroup": "Business Development Sales",
         "marker": {
          "color": "rgb(218,139,195)",
          "pattern": {
           "shape": ""
          }
         },
         "name": "Business Development Sales",
         "offsetgroup": "Business Development Sales",
         "orientation": "h",
         "showlegend": true,
         "text": [
          935
         ],
         "textposition": "auto",
         "type": "bar",
         "x": [
          935
         ],
         "xaxis": "x",
         "y": [
          "Business Development Sales"
         ],
         "yaxis": "y"
        },
        {
         "alignmentgroup": "True",
         "hovertemplate": "job functions=%{y}<br>number of position in job functions=%{x}<br>count=%{text}<extra></extra>",
         "legendgroup": "AccountingAuditing Finance",
         "marker": {
          "color": "rgb(140,140,140)",
          "pattern": {
           "shape": ""
          }
         },
         "name": "AccountingAuditing Finance",
         "offsetgroup": "AccountingAuditing Finance",
         "orientation": "h",
         "showlegend": true,
         "text": [
          889
         ],
         "textposition": "auto",
         "type": "bar",
         "x": [
          889
         ],
         "xaxis": "x",
         "y": [
          "AccountingAuditing Finance"
         ],
         "yaxis": "y"
        },
        {
         "alignmentgroup": "True",
         "hovertemplate": "job functions=%{y}<br>number of position in job functions=%{x}<br>count=%{text}<extra></extra>",
         "legendgroup": "Human Resources",
         "marker": {
          "color": "rgb(204,185,116)",
          "pattern": {
           "shape": ""
          }
         },
         "name": "Human Resources",
         "offsetgroup": "Human Resources",
         "orientation": "h",
         "showlegend": true,
         "text": [
          877
         ],
         "textposition": "auto",
         "type": "bar",
         "x": [
          877
         ],
         "xaxis": "x",
         "y": [
          "Human Resources"
         ],
         "yaxis": "y"
        },
        {
         "alignmentgroup": "True",
         "hovertemplate": "job functions=%{y}<br>number of position in job functions=%{x}<br>count=%{text}<extra></extra>",
         "legendgroup": "Finance Sales",
         "marker": {
          "color": "rgb(100,181,205)",
          "pattern": {
           "shape": ""
          }
         },
         "name": "Finance Sales",
         "offsetgroup": "Finance Sales",
         "orientation": "h",
         "showlegend": true,
         "text": [
          851
         ],
         "textposition": "auto",
         "type": "bar",
         "x": [
          851
         ],
         "xaxis": "x",
         "y": [
          "Finance Sales"
         ],
         "yaxis": "y"
        },
        {
         "alignmentgroup": "True",
         "hovertemplate": "job functions=%{y}<br>number of position in job functions=%{x}<br>count=%{text}<extra></extra>",
         "legendgroup": "Marketing Sales",
         "marker": {
          "color": "rgb(76,114,176)",
          "pattern": {
           "shape": ""
          }
         },
         "name": "Marketing Sales",
         "offsetgroup": "Marketing Sales",
         "orientation": "h",
         "showlegend": true,
         "text": [
          846
         ],
         "textposition": "auto",
         "type": "bar",
         "x": [
          846
         ],
         "xaxis": "x",
         "y": [
          "Marketing Sales"
         ],
         "yaxis": "y"
        },
        {
         "alignmentgroup": "True",
         "hovertemplate": "job functions=%{y}<br>number of position in job functions=%{x}<br>count=%{text}<extra></extra>",
         "legendgroup": "Project Management Information Technology",
         "marker": {
          "color": "rgb(221,132,82)",
          "pattern": {
           "shape": ""
          }
         },
         "name": "Project Management Information Technology",
         "offsetgroup": "Project Management Information Technology",
         "orientation": "h",
         "showlegend": true,
         "text": [
          822
         ],
         "textposition": "auto",
         "type": "bar",
         "x": [
          822
         ],
         "xaxis": "x",
         "y": [
          "Project Management Information Technology"
         ],
         "yaxis": "y"
        },
        {
         "alignmentgroup": "True",
         "hovertemplate": "job functions=%{y}<br>number of position in job functions=%{x}<br>count=%{text}<extra></extra>",
         "legendgroup": "Design ArtCreative Information Technology",
         "marker": {
          "color": "rgb(85,168,104)",
          "pattern": {
           "shape": ""
          }
         },
         "name": "Design ArtCreative Information Technology",
         "offsetgroup": "Design ArtCreative Information Technology",
         "orientation": "h",
         "showlegend": true,
         "text": [
          726
         ],
         "textposition": "auto",
         "type": "bar",
         "x": [
          726
         ],
         "xaxis": "x",
         "y": [
          "Design ArtCreative Information Technology"
         ],
         "yaxis": "y"
        },
        {
         "alignmentgroup": "True",
         "hovertemplate": "job functions=%{y}<br>number of position in job functions=%{x}<br>count=%{text}<extra></extra>",
         "legendgroup": "Administrative",
         "marker": {
          "color": "rgb(196,78,82)",
          "pattern": {
           "shape": ""
          }
         },
         "name": "Administrative",
         "offsetgroup": "Administrative",
         "orientation": "h",
         "showlegend": true,
         "text": [
          699
         ],
         "textposition": "auto",
         "type": "bar",
         "x": [
          699
         ],
         "xaxis": "x",
         "y": [
          "Administrative"
         ],
         "yaxis": "y"
        },
        {
         "alignmentgroup": "True",
         "hovertemplate": "job functions=%{y}<br>number of position in job functions=%{x}<br>count=%{text}<extra></extra>",
         "legendgroup": "Engineering",
         "marker": {
          "color": "rgb(129,114,179)",
          "pattern": {
           "shape": ""
          }
         },
         "name": "Engineering",
         "offsetgroup": "Engineering",
         "orientation": "h",
         "showlegend": true,
         "text": [
          654
         ],
         "textposition": "auto",
         "type": "bar",
         "x": [
          654
         ],
         "xaxis": "x",
         "y": [
          "Engineering"
         ],
         "yaxis": "y"
        },
        {
         "alignmentgroup": "True",
         "hovertemplate": "job functions=%{y}<br>number of position in job functions=%{x}<br>count=%{text}<extra></extra>",
         "legendgroup": "Sales",
         "marker": {
          "color": "rgb(147,120,96)",
          "pattern": {
           "shape": ""
          }
         },
         "name": "Sales",
         "offsetgroup": "Sales",
         "orientation": "h",
         "showlegend": true,
         "text": [
          573
         ],
         "textposition": "auto",
         "type": "bar",
         "x": [
          573
         ],
         "xaxis": "x",
         "y": [
          "Sales"
         ],
         "yaxis": "y"
        },
        {
         "alignmentgroup": "True",
         "hovertemplate": "job functions=%{y}<br>number of position in job functions=%{x}<br>count=%{text}<extra></extra>",
         "legendgroup": "Education Training",
         "marker": {
          "color": "rgb(218,139,195)",
          "pattern": {
           "shape": ""
          }
         },
         "name": "Education Training",
         "offsetgroup": "Education Training",
         "orientation": "h",
         "showlegend": true,
         "text": [
          558
         ],
         "textposition": "auto",
         "type": "bar",
         "x": [
          558
         ],
         "xaxis": "x",
         "y": [
          "Education Training"
         ],
         "yaxis": "y"
        },
        {
         "alignmentgroup": "True",
         "hovertemplate": "job functions=%{y}<br>number of position in job functions=%{x}<br>count=%{text}<extra></extra>",
         "legendgroup": "Quality Assurance",
         "marker": {
          "color": "rgb(140,140,140)",
          "pattern": {
           "shape": ""
          }
         },
         "name": "Quality Assurance",
         "offsetgroup": "Quality Assurance",
         "orientation": "h",
         "showlegend": true,
         "text": [
          534
         ],
         "textposition": "auto",
         "type": "bar",
         "x": [
          534
         ],
         "xaxis": "x",
         "y": [
          "Quality Assurance"
         ],
         "yaxis": "y"
        },
        {
         "alignmentgroup": "True",
         "hovertemplate": "job functions=%{y}<br>number of position in job functions=%{x}<br>count=%{text}<extra></extra>",
         "legendgroup": "Consulting Information Technology Sales",
         "marker": {
          "color": "rgb(204,185,116)",
          "pattern": {
           "shape": ""
          }
         },
         "name": "Consulting Information Technology Sales",
         "offsetgroup": "Consulting Information Technology Sales",
         "orientation": "h",
         "showlegend": true,
         "text": [
          482
         ],
         "textposition": "auto",
         "type": "bar",
         "x": [
          482
         ],
         "xaxis": "x",
         "y": [
          "Consulting Information Technology Sales"
         ],
         "yaxis": "y"
        },
        {
         "alignmentgroup": "True",
         "hovertemplate": "job functions=%{y}<br>number of position in job functions=%{x}<br>count=%{text}<extra></extra>",
         "legendgroup": "Legal",
         "marker": {
          "color": "rgb(100,181,205)",
          "pattern": {
           "shape": ""
          }
         },
         "name": "Legal",
         "offsetgroup": "Legal",
         "orientation": "h",
         "showlegend": true,
         "text": [
          465
         ],
         "textposition": "auto",
         "type": "bar",
         "x": [
          465
         ],
         "xaxis": "x",
         "y": [
          "Legal"
         ],
         "yaxis": "y"
        }
       ],
       "layout": {
        "barmode": "relative",
        "legend": {
         "title": {
          "text": "job functions"
         },
         "tracegroupgap": 0
        },
        "template": {
         "data": {
          "bar": [
           {
            "error_x": {
             "color": "rgb(36,36,36)"
            },
            "error_y": {
             "color": "rgb(36,36,36)"
            },
            "marker": {
             "line": {
              "color": "rgb(234,234,242)",
              "width": 0.5
             },
             "pattern": {
              "fillmode": "overlay",
              "size": 10,
              "solidity": 0.2
             }
            },
            "type": "bar"
           }
          ],
          "barpolar": [
           {
            "marker": {
             "line": {
              "color": "rgb(234,234,242)",
              "width": 0.5
             },
             "pattern": {
              "fillmode": "overlay",
              "size": 10,
              "solidity": 0.2
             }
            },
            "type": "barpolar"
           }
          ],
          "carpet": [
           {
            "aaxis": {
             "endlinecolor": "rgb(36,36,36)",
             "gridcolor": "white",
             "linecolor": "white",
             "minorgridcolor": "white",
             "startlinecolor": "rgb(36,36,36)"
            },
            "baxis": {
             "endlinecolor": "rgb(36,36,36)",
             "gridcolor": "white",
             "linecolor": "white",
             "minorgridcolor": "white",
             "startlinecolor": "rgb(36,36,36)"
            },
            "type": "carpet"
           }
          ],
          "choropleth": [
           {
            "colorbar": {
             "outlinewidth": 0,
             "tickcolor": "rgb(36,36,36)",
             "ticklen": 8,
             "ticks": "outside",
             "tickwidth": 2
            },
            "type": "choropleth"
           }
          ],
          "contour": [
           {
            "colorbar": {
             "outlinewidth": 0,
             "tickcolor": "rgb(36,36,36)",
             "ticklen": 8,
             "ticks": "outside",
             "tickwidth": 2
            },
            "colorscale": [
             [
              0,
              "rgb(2,4,25)"
             ],
             [
              0.06274509803921569,
              "rgb(24,15,41)"
             ],
             [
              0.12549019607843137,
              "rgb(47,23,57)"
             ],
             [
              0.18823529411764706,
              "rgb(71,28,72)"
             ],
             [
              0.25098039215686274,
              "rgb(97,30,82)"
             ],
             [
              0.3137254901960784,
              "rgb(123,30,89)"
             ],
             [
              0.3764705882352941,
              "rgb(150,27,91)"
             ],
             [
              0.4392156862745098,
              "rgb(177,22,88)"
             ],
             [
              0.5019607843137255,
              "rgb(203,26,79)"
             ],
             [
              0.5647058823529412,
              "rgb(223,47,67)"
             ],
             [
              0.6274509803921569,
              "rgb(236,76,61)"
             ],
             [
              0.6901960784313725,
              "rgb(242,107,73)"
             ],
             [
              0.7529411764705882,
              "rgb(244,135,95)"
             ],
             [
              0.8156862745098039,
              "rgb(245,162,122)"
             ],
             [
              0.8784313725490196,
              "rgb(246,188,153)"
             ],
             [
              0.9411764705882353,
              "rgb(247,212,187)"
             ],
             [
              1,
              "rgb(250,234,220)"
             ]
            ],
            "type": "contour"
           }
          ],
          "contourcarpet": [
           {
            "colorbar": {
             "outlinewidth": 0,
             "tickcolor": "rgb(36,36,36)",
             "ticklen": 8,
             "ticks": "outside",
             "tickwidth": 2
            },
            "type": "contourcarpet"
           }
          ],
          "heatmap": [
           {
            "colorbar": {
             "outlinewidth": 0,
             "tickcolor": "rgb(36,36,36)",
             "ticklen": 8,
             "ticks": "outside",
             "tickwidth": 2
            },
            "colorscale": [
             [
              0,
              "rgb(2,4,25)"
             ],
             [
              0.06274509803921569,
              "rgb(24,15,41)"
             ],
             [
              0.12549019607843137,
              "rgb(47,23,57)"
             ],
             [
              0.18823529411764706,
              "rgb(71,28,72)"
             ],
             [
              0.25098039215686274,
              "rgb(97,30,82)"
             ],
             [
              0.3137254901960784,
              "rgb(123,30,89)"
             ],
             [
              0.3764705882352941,
              "rgb(150,27,91)"
             ],
             [
              0.4392156862745098,
              "rgb(177,22,88)"
             ],
             [
              0.5019607843137255,
              "rgb(203,26,79)"
             ],
             [
              0.5647058823529412,
              "rgb(223,47,67)"
             ],
             [
              0.6274509803921569,
              "rgb(236,76,61)"
             ],
             [
              0.6901960784313725,
              "rgb(242,107,73)"
             ],
             [
              0.7529411764705882,
              "rgb(244,135,95)"
             ],
             [
              0.8156862745098039,
              "rgb(245,162,122)"
             ],
             [
              0.8784313725490196,
              "rgb(246,188,153)"
             ],
             [
              0.9411764705882353,
              "rgb(247,212,187)"
             ],
             [
              1,
              "rgb(250,234,220)"
             ]
            ],
            "type": "heatmap"
           }
          ],
          "heatmapgl": [
           {
            "colorbar": {
             "outlinewidth": 0,
             "tickcolor": "rgb(36,36,36)",
             "ticklen": 8,
             "ticks": "outside",
             "tickwidth": 2
            },
            "colorscale": [
             [
              0,
              "rgb(2,4,25)"
             ],
             [
              0.06274509803921569,
              "rgb(24,15,41)"
             ],
             [
              0.12549019607843137,
              "rgb(47,23,57)"
             ],
             [
              0.18823529411764706,
              "rgb(71,28,72)"
             ],
             [
              0.25098039215686274,
              "rgb(97,30,82)"
             ],
             [
              0.3137254901960784,
              "rgb(123,30,89)"
             ],
             [
              0.3764705882352941,
              "rgb(150,27,91)"
             ],
             [
              0.4392156862745098,
              "rgb(177,22,88)"
             ],
             [
              0.5019607843137255,
              "rgb(203,26,79)"
             ],
             [
              0.5647058823529412,
              "rgb(223,47,67)"
             ],
             [
              0.6274509803921569,
              "rgb(236,76,61)"
             ],
             [
              0.6901960784313725,
              "rgb(242,107,73)"
             ],
             [
              0.7529411764705882,
              "rgb(244,135,95)"
             ],
             [
              0.8156862745098039,
              "rgb(245,162,122)"
             ],
             [
              0.8784313725490196,
              "rgb(246,188,153)"
             ],
             [
              0.9411764705882353,
              "rgb(247,212,187)"
             ],
             [
              1,
              "rgb(250,234,220)"
             ]
            ],
            "type": "heatmapgl"
           }
          ],
          "histogram": [
           {
            "marker": {
             "pattern": {
              "fillmode": "overlay",
              "size": 10,
              "solidity": 0.2
             }
            },
            "type": "histogram"
           }
          ],
          "histogram2d": [
           {
            "colorbar": {
             "outlinewidth": 0,
             "tickcolor": "rgb(36,36,36)",
             "ticklen": 8,
             "ticks": "outside",
             "tickwidth": 2
            },
            "colorscale": [
             [
              0,
              "rgb(2,4,25)"
             ],
             [
              0.06274509803921569,
              "rgb(24,15,41)"
             ],
             [
              0.12549019607843137,
              "rgb(47,23,57)"
             ],
             [
              0.18823529411764706,
              "rgb(71,28,72)"
             ],
             [
              0.25098039215686274,
              "rgb(97,30,82)"
             ],
             [
              0.3137254901960784,
              "rgb(123,30,89)"
             ],
             [
              0.3764705882352941,
              "rgb(150,27,91)"
             ],
             [
              0.4392156862745098,
              "rgb(177,22,88)"
             ],
             [
              0.5019607843137255,
              "rgb(203,26,79)"
             ],
             [
              0.5647058823529412,
              "rgb(223,47,67)"
             ],
             [
              0.6274509803921569,
              "rgb(236,76,61)"
             ],
             [
              0.6901960784313725,
              "rgb(242,107,73)"
             ],
             [
              0.7529411764705882,
              "rgb(244,135,95)"
             ],
             [
              0.8156862745098039,
              "rgb(245,162,122)"
             ],
             [
              0.8784313725490196,
              "rgb(246,188,153)"
             ],
             [
              0.9411764705882353,
              "rgb(247,212,187)"
             ],
             [
              1,
              "rgb(250,234,220)"
             ]
            ],
            "type": "histogram2d"
           }
          ],
          "histogram2dcontour": [
           {
            "colorbar": {
             "outlinewidth": 0,
             "tickcolor": "rgb(36,36,36)",
             "ticklen": 8,
             "ticks": "outside",
             "tickwidth": 2
            },
            "colorscale": [
             [
              0,
              "rgb(2,4,25)"
             ],
             [
              0.06274509803921569,
              "rgb(24,15,41)"
             ],
             [
              0.12549019607843137,
              "rgb(47,23,57)"
             ],
             [
              0.18823529411764706,
              "rgb(71,28,72)"
             ],
             [
              0.25098039215686274,
              "rgb(97,30,82)"
             ],
             [
              0.3137254901960784,
              "rgb(123,30,89)"
             ],
             [
              0.3764705882352941,
              "rgb(150,27,91)"
             ],
             [
              0.4392156862745098,
              "rgb(177,22,88)"
             ],
             [
              0.5019607843137255,
              "rgb(203,26,79)"
             ],
             [
              0.5647058823529412,
              "rgb(223,47,67)"
             ],
             [
              0.6274509803921569,
              "rgb(236,76,61)"
             ],
             [
              0.6901960784313725,
              "rgb(242,107,73)"
             ],
             [
              0.7529411764705882,
              "rgb(244,135,95)"
             ],
             [
              0.8156862745098039,
              "rgb(245,162,122)"
             ],
             [
              0.8784313725490196,
              "rgb(246,188,153)"
             ],
             [
              0.9411764705882353,
              "rgb(247,212,187)"
             ],
             [
              1,
              "rgb(250,234,220)"
             ]
            ],
            "type": "histogram2dcontour"
           }
          ],
          "mesh3d": [
           {
            "colorbar": {
             "outlinewidth": 0,
             "tickcolor": "rgb(36,36,36)",
             "ticklen": 8,
             "ticks": "outside",
             "tickwidth": 2
            },
            "type": "mesh3d"
           }
          ],
          "parcoords": [
           {
            "line": {
             "colorbar": {
              "outlinewidth": 0,
              "tickcolor": "rgb(36,36,36)",
              "ticklen": 8,
              "ticks": "outside",
              "tickwidth": 2
             }
            },
            "type": "parcoords"
           }
          ],
          "pie": [
           {
            "automargin": true,
            "type": "pie"
           }
          ],
          "scatter": [
           {
            "marker": {
             "colorbar": {
              "outlinewidth": 0,
              "tickcolor": "rgb(36,36,36)",
              "ticklen": 8,
              "ticks": "outside",
              "tickwidth": 2
             }
            },
            "type": "scatter"
           }
          ],
          "scatter3d": [
           {
            "line": {
             "colorbar": {
              "outlinewidth": 0,
              "tickcolor": "rgb(36,36,36)",
              "ticklen": 8,
              "ticks": "outside",
              "tickwidth": 2
             }
            },
            "marker": {
             "colorbar": {
              "outlinewidth": 0,
              "tickcolor": "rgb(36,36,36)",
              "ticklen": 8,
              "ticks": "outside",
              "tickwidth": 2
             }
            },
            "type": "scatter3d"
           }
          ],
          "scattercarpet": [
           {
            "marker": {
             "colorbar": {
              "outlinewidth": 0,
              "tickcolor": "rgb(36,36,36)",
              "ticklen": 8,
              "ticks": "outside",
              "tickwidth": 2
             }
            },
            "type": "scattercarpet"
           }
          ],
          "scattergeo": [
           {
            "marker": {
             "colorbar": {
              "outlinewidth": 0,
              "tickcolor": "rgb(36,36,36)",
              "ticklen": 8,
              "ticks": "outside",
              "tickwidth": 2
             }
            },
            "type": "scattergeo"
           }
          ],
          "scattergl": [
           {
            "marker": {
             "colorbar": {
              "outlinewidth": 0,
              "tickcolor": "rgb(36,36,36)",
              "ticklen": 8,
              "ticks": "outside",
              "tickwidth": 2
             }
            },
            "type": "scattergl"
           }
          ],
          "scattermapbox": [
           {
            "marker": {
             "colorbar": {
              "outlinewidth": 0,
              "tickcolor": "rgb(36,36,36)",
              "ticklen": 8,
              "ticks": "outside",
              "tickwidth": 2
             }
            },
            "type": "scattermapbox"
           }
          ],
          "scatterpolar": [
           {
            "marker": {
             "colorbar": {
              "outlinewidth": 0,
              "tickcolor": "rgb(36,36,36)",
              "ticklen": 8,
              "ticks": "outside",
              "tickwidth": 2
             }
            },
            "type": "scatterpolar"
           }
          ],
          "scatterpolargl": [
           {
            "marker": {
             "colorbar": {
              "outlinewidth": 0,
              "tickcolor": "rgb(36,36,36)",
              "ticklen": 8,
              "ticks": "outside",
              "tickwidth": 2
             }
            },
            "type": "scatterpolargl"
           }
          ],
          "scatterternary": [
           {
            "marker": {
             "colorbar": {
              "outlinewidth": 0,
              "tickcolor": "rgb(36,36,36)",
              "ticklen": 8,
              "ticks": "outside",
              "tickwidth": 2
             }
            },
            "type": "scatterternary"
           }
          ],
          "surface": [
           {
            "colorbar": {
             "outlinewidth": 0,
             "tickcolor": "rgb(36,36,36)",
             "ticklen": 8,
             "ticks": "outside",
             "tickwidth": 2
            },
            "colorscale": [
             [
              0,
              "rgb(2,4,25)"
             ],
             [
              0.06274509803921569,
              "rgb(24,15,41)"
             ],
             [
              0.12549019607843137,
              "rgb(47,23,57)"
             ],
             [
              0.18823529411764706,
              "rgb(71,28,72)"
             ],
             [
              0.25098039215686274,
              "rgb(97,30,82)"
             ],
             [
              0.3137254901960784,
              "rgb(123,30,89)"
             ],
             [
              0.3764705882352941,
              "rgb(150,27,91)"
             ],
             [
              0.4392156862745098,
              "rgb(177,22,88)"
             ],
             [
              0.5019607843137255,
              "rgb(203,26,79)"
             ],
             [
              0.5647058823529412,
              "rgb(223,47,67)"
             ],
             [
              0.6274509803921569,
              "rgb(236,76,61)"
             ],
             [
              0.6901960784313725,
              "rgb(242,107,73)"
             ],
             [
              0.7529411764705882,
              "rgb(244,135,95)"
             ],
             [
              0.8156862745098039,
              "rgb(245,162,122)"
             ],
             [
              0.8784313725490196,
              "rgb(246,188,153)"
             ],
             [
              0.9411764705882353,
              "rgb(247,212,187)"
             ],
             [
              1,
              "rgb(250,234,220)"
             ]
            ],
            "type": "surface"
           }
          ],
          "table": [
           {
            "cells": {
             "fill": {
              "color": "rgb(231,231,240)"
             },
             "line": {
              "color": "white"
             }
            },
            "header": {
             "fill": {
              "color": "rgb(183,183,191)"
             },
             "line": {
              "color": "white"
             }
            },
            "type": "table"
           }
          ]
         },
         "layout": {
          "annotationdefaults": {
           "arrowcolor": "rgb(67,103,167)"
          },
          "autotypenumbers": "strict",
          "coloraxis": {
           "colorbar": {
            "outlinewidth": 0,
            "tickcolor": "rgb(36,36,36)",
            "ticklen": 8,
            "ticks": "outside",
            "tickwidth": 2
           }
          },
          "colorscale": {
           "sequential": [
            [
             0,
             "rgb(2,4,25)"
            ],
            [
             0.06274509803921569,
             "rgb(24,15,41)"
            ],
            [
             0.12549019607843137,
             "rgb(47,23,57)"
            ],
            [
             0.18823529411764706,
             "rgb(71,28,72)"
            ],
            [
             0.25098039215686274,
             "rgb(97,30,82)"
            ],
            [
             0.3137254901960784,
             "rgb(123,30,89)"
            ],
            [
             0.3764705882352941,
             "rgb(150,27,91)"
            ],
            [
             0.4392156862745098,
             "rgb(177,22,88)"
            ],
            [
             0.5019607843137255,
             "rgb(203,26,79)"
            ],
            [
             0.5647058823529412,
             "rgb(223,47,67)"
            ],
            [
             0.6274509803921569,
             "rgb(236,76,61)"
            ],
            [
             0.6901960784313725,
             "rgb(242,107,73)"
            ],
            [
             0.7529411764705882,
             "rgb(244,135,95)"
            ],
            [
             0.8156862745098039,
             "rgb(245,162,122)"
            ],
            [
             0.8784313725490196,
             "rgb(246,188,153)"
            ],
            [
             0.9411764705882353,
             "rgb(247,212,187)"
            ],
            [
             1,
             "rgb(250,234,220)"
            ]
           ],
           "sequentialminus": [
            [
             0,
             "rgb(2,4,25)"
            ],
            [
             0.06274509803921569,
             "rgb(24,15,41)"
            ],
            [
             0.12549019607843137,
             "rgb(47,23,57)"
            ],
            [
             0.18823529411764706,
             "rgb(71,28,72)"
            ],
            [
             0.25098039215686274,
             "rgb(97,30,82)"
            ],
            [
             0.3137254901960784,
             "rgb(123,30,89)"
            ],
            [
             0.3764705882352941,
             "rgb(150,27,91)"
            ],
            [
             0.4392156862745098,
             "rgb(177,22,88)"
            ],
            [
             0.5019607843137255,
             "rgb(203,26,79)"
            ],
            [
             0.5647058823529412,
             "rgb(223,47,67)"
            ],
            [
             0.6274509803921569,
             "rgb(236,76,61)"
            ],
            [
             0.6901960784313725,
             "rgb(242,107,73)"
            ],
            [
             0.7529411764705882,
             "rgb(244,135,95)"
            ],
            [
             0.8156862745098039,
             "rgb(245,162,122)"
            ],
            [
             0.8784313725490196,
             "rgb(246,188,153)"
            ],
            [
             0.9411764705882353,
             "rgb(247,212,187)"
            ],
            [
             1,
             "rgb(250,234,220)"
            ]
           ]
          },
          "colorway": [
           "rgb(76,114,176)",
           "rgb(221,132,82)",
           "rgb(85,168,104)",
           "rgb(196,78,82)",
           "rgb(129,114,179)",
           "rgb(147,120,96)",
           "rgb(218,139,195)",
           "rgb(140,140,140)",
           "rgb(204,185,116)",
           "rgb(100,181,205)"
          ],
          "font": {
           "color": "rgb(36,36,36)"
          },
          "geo": {
           "bgcolor": "white",
           "lakecolor": "white",
           "landcolor": "rgb(234,234,242)",
           "showlakes": true,
           "showland": true,
           "subunitcolor": "white"
          },
          "hoverlabel": {
           "align": "left"
          },
          "hovermode": "closest",
          "paper_bgcolor": "white",
          "plot_bgcolor": "rgb(234,234,242)",
          "polar": {
           "angularaxis": {
            "gridcolor": "white",
            "linecolor": "white",
            "showgrid": true,
            "ticks": ""
           },
           "bgcolor": "rgb(234,234,242)",
           "radialaxis": {
            "gridcolor": "white",
            "linecolor": "white",
            "showgrid": true,
            "ticks": ""
           }
          },
          "scene": {
           "xaxis": {
            "backgroundcolor": "rgb(234,234,242)",
            "gridcolor": "white",
            "gridwidth": 2,
            "linecolor": "white",
            "showbackground": true,
            "showgrid": true,
            "ticks": "",
            "zerolinecolor": "white"
           },
           "yaxis": {
            "backgroundcolor": "rgb(234,234,242)",
            "gridcolor": "white",
            "gridwidth": 2,
            "linecolor": "white",
            "showbackground": true,
            "showgrid": true,
            "ticks": "",
            "zerolinecolor": "white"
           },
           "zaxis": {
            "backgroundcolor": "rgb(234,234,242)",
            "gridcolor": "white",
            "gridwidth": 2,
            "linecolor": "white",
            "showbackground": true,
            "showgrid": true,
            "ticks": "",
            "zerolinecolor": "white"
           }
          },
          "shapedefaults": {
           "fillcolor": "rgb(67,103,167)",
           "line": {
            "width": 0
           },
           "opacity": 0.5
          },
          "ternary": {
           "aaxis": {
            "gridcolor": "white",
            "linecolor": "white",
            "showgrid": true,
            "ticks": ""
           },
           "baxis": {
            "gridcolor": "white",
            "linecolor": "white",
            "showgrid": true,
            "ticks": ""
           },
           "bgcolor": "rgb(234,234,242)",
           "caxis": {
            "gridcolor": "white",
            "linecolor": "white",
            "showgrid": true,
            "ticks": ""
           }
          },
          "xaxis": {
           "automargin": true,
           "gridcolor": "white",
           "linecolor": "white",
           "showgrid": true,
           "ticks": "",
           "title": {
            "standoff": 15
           },
           "zerolinecolor": "white"
          },
          "yaxis": {
           "automargin": true,
           "gridcolor": "white",
           "linecolor": "white",
           "showgrid": true,
           "ticks": "",
           "title": {
            "standoff": 15
           },
           "zerolinecolor": "white"
          }
         }
        },
        "title": {
         "text": "<b> The Most 20 job functions Request from Companies in 2020",
         "x": 0.2
        },
        "xaxis": {
         "anchor": "y",
         "domain": [
          0,
          1
         ],
         "title": {
          "text": "number of position in job functions"
         }
        },
        "yaxis": {
         "anchor": "x",
         "categoryarray": [
          "Legal",
          "Consulting Information Technology Sales",
          "Quality Assurance",
          "Education Training",
          "Sales",
          "Engineering",
          "Administrative",
          "Design ArtCreative Information Technology",
          "Project Management Information Technology",
          "Marketing Sales",
          "Finance Sales",
          "Human Resources",
          "AccountingAuditing Finance",
          "Business Development Sales",
          "Health Care Provider",
          "Other",
          "Information Technology",
          "Engineering Information Technology",
          "Sales Business Development",
          "Management Manufacturing"
         ],
         "categoryorder": "array",
         "domain": [
          0,
          1
         ],
         "title": {
          "text": "job functions"
         }
        }
       }
      },
      "text/html": [
       "<div>                            <div id=\"e6ea498e-368b-4dd5-a073-1ae54b93d73c\" class=\"plotly-graph-div\" style=\"height:525px; width:100%;\"></div>            <script type=\"text/javascript\">                require([\"plotly\"], function(Plotly) {                    window.PLOTLYENV=window.PLOTLYENV || {};                                    if (document.getElementById(\"e6ea498e-368b-4dd5-a073-1ae54b93d73c\")) {                    Plotly.newPlot(                        \"e6ea498e-368b-4dd5-a073-1ae54b93d73c\",                        [{\"alignmentgroup\":\"True\",\"hovertemplate\":\"job functions=%{y}<br>number of position in job functions=%{x}<br>count=%{text}<extra></extra>\",\"legendgroup\":\"Management Manufacturing\",\"marker\":{\"color\":\"rgb(76,114,176)\",\"pattern\":{\"shape\":\"\"}},\"name\":\"Management Manufacturing\",\"offsetgroup\":\"Management Manufacturing\",\"orientation\":\"h\",\"showlegend\":true,\"text\":[5103.0],\"textposition\":\"auto\",\"x\":[5103],\"xaxis\":\"x\",\"y\":[\"Management Manufacturing\"],\"yaxis\":\"y\",\"type\":\"bar\"},{\"alignmentgroup\":\"True\",\"hovertemplate\":\"job functions=%{y}<br>number of position in job functions=%{x}<br>count=%{text}<extra></extra>\",\"legendgroup\":\"Sales Business Development\",\"marker\":{\"color\":\"rgb(221,132,82)\",\"pattern\":{\"shape\":\"\"}},\"name\":\"Sales Business Development\",\"offsetgroup\":\"Sales Business Development\",\"orientation\":\"h\",\"showlegend\":true,\"text\":[3416.0],\"textposition\":\"auto\",\"x\":[3416],\"xaxis\":\"x\",\"y\":[\"Sales Business Development\"],\"yaxis\":\"y\",\"type\":\"bar\"},{\"alignmentgroup\":\"True\",\"hovertemplate\":\"job functions=%{y}<br>number of position in job functions=%{x}<br>count=%{text}<extra></extra>\",\"legendgroup\":\"Engineering Information Technology\",\"marker\":{\"color\":\"rgb(85,168,104)\",\"pattern\":{\"shape\":\"\"}},\"name\":\"Engineering Information Technology\",\"offsetgroup\":\"Engineering Information Technology\",\"orientation\":\"h\",\"showlegend\":true,\"text\":[3123.0],\"textposition\":\"auto\",\"x\":[3123],\"xaxis\":\"x\",\"y\":[\"Engineering Information Technology\"],\"yaxis\":\"y\",\"type\":\"bar\"},{\"alignmentgroup\":\"True\",\"hovertemplate\":\"job functions=%{y}<br>number of position in job functions=%{x}<br>count=%{text}<extra></extra>\",\"legendgroup\":\"Information Technology\",\"marker\":{\"color\":\"rgb(196,78,82)\",\"pattern\":{\"shape\":\"\"}},\"name\":\"Information Technology\",\"offsetgroup\":\"Information Technology\",\"orientation\":\"h\",\"showlegend\":true,\"text\":[2704.0],\"textposition\":\"auto\",\"x\":[2704],\"xaxis\":\"x\",\"y\":[\"Information Technology\"],\"yaxis\":\"y\",\"type\":\"bar\"},{\"alignmentgroup\":\"True\",\"hovertemplate\":\"job functions=%{y}<br>number of position in job functions=%{x}<br>count=%{text}<extra></extra>\",\"legendgroup\":\"Other\",\"marker\":{\"color\":\"rgb(129,114,179)\",\"pattern\":{\"shape\":\"\"}},\"name\":\"Other\",\"offsetgroup\":\"Other\",\"orientation\":\"h\",\"showlegend\":true,\"text\":[2573.0],\"textposition\":\"auto\",\"x\":[2573],\"xaxis\":\"x\",\"y\":[\"Other\"],\"yaxis\":\"y\",\"type\":\"bar\"},{\"alignmentgroup\":\"True\",\"hovertemplate\":\"job functions=%{y}<br>number of position in job functions=%{x}<br>count=%{text}<extra></extra>\",\"legendgroup\":\"Health Care Provider\",\"marker\":{\"color\":\"rgb(147,120,96)\",\"pattern\":{\"shape\":\"\"}},\"name\":\"Health Care Provider\",\"offsetgroup\":\"Health Care Provider\",\"orientation\":\"h\",\"showlegend\":true,\"text\":[1270.0],\"textposition\":\"auto\",\"x\":[1270],\"xaxis\":\"x\",\"y\":[\"Health Care Provider\"],\"yaxis\":\"y\",\"type\":\"bar\"},{\"alignmentgroup\":\"True\",\"hovertemplate\":\"job functions=%{y}<br>number of position in job functions=%{x}<br>count=%{text}<extra></extra>\",\"legendgroup\":\"Business Development Sales\",\"marker\":{\"color\":\"rgb(218,139,195)\",\"pattern\":{\"shape\":\"\"}},\"name\":\"Business Development Sales\",\"offsetgroup\":\"Business Development Sales\",\"orientation\":\"h\",\"showlegend\":true,\"text\":[935.0],\"textposition\":\"auto\",\"x\":[935],\"xaxis\":\"x\",\"y\":[\"Business Development Sales\"],\"yaxis\":\"y\",\"type\":\"bar\"},{\"alignmentgroup\":\"True\",\"hovertemplate\":\"job functions=%{y}<br>number of position in job functions=%{x}<br>count=%{text}<extra></extra>\",\"legendgroup\":\"AccountingAuditing Finance\",\"marker\":{\"color\":\"rgb(140,140,140)\",\"pattern\":{\"shape\":\"\"}},\"name\":\"AccountingAuditing Finance\",\"offsetgroup\":\"AccountingAuditing Finance\",\"orientation\":\"h\",\"showlegend\":true,\"text\":[889.0],\"textposition\":\"auto\",\"x\":[889],\"xaxis\":\"x\",\"y\":[\"AccountingAuditing Finance\"],\"yaxis\":\"y\",\"type\":\"bar\"},{\"alignmentgroup\":\"True\",\"hovertemplate\":\"job functions=%{y}<br>number of position in job functions=%{x}<br>count=%{text}<extra></extra>\",\"legendgroup\":\"Human Resources\",\"marker\":{\"color\":\"rgb(204,185,116)\",\"pattern\":{\"shape\":\"\"}},\"name\":\"Human Resources\",\"offsetgroup\":\"Human Resources\",\"orientation\":\"h\",\"showlegend\":true,\"text\":[877.0],\"textposition\":\"auto\",\"x\":[877],\"xaxis\":\"x\",\"y\":[\"Human Resources\"],\"yaxis\":\"y\",\"type\":\"bar\"},{\"alignmentgroup\":\"True\",\"hovertemplate\":\"job functions=%{y}<br>number of position in job functions=%{x}<br>count=%{text}<extra></extra>\",\"legendgroup\":\"Finance Sales\",\"marker\":{\"color\":\"rgb(100,181,205)\",\"pattern\":{\"shape\":\"\"}},\"name\":\"Finance Sales\",\"offsetgroup\":\"Finance Sales\",\"orientation\":\"h\",\"showlegend\":true,\"text\":[851.0],\"textposition\":\"auto\",\"x\":[851],\"xaxis\":\"x\",\"y\":[\"Finance Sales\"],\"yaxis\":\"y\",\"type\":\"bar\"},{\"alignmentgroup\":\"True\",\"hovertemplate\":\"job functions=%{y}<br>number of position in job functions=%{x}<br>count=%{text}<extra></extra>\",\"legendgroup\":\"Marketing Sales\",\"marker\":{\"color\":\"rgb(76,114,176)\",\"pattern\":{\"shape\":\"\"}},\"name\":\"Marketing Sales\",\"offsetgroup\":\"Marketing Sales\",\"orientation\":\"h\",\"showlegend\":true,\"text\":[846.0],\"textposition\":\"auto\",\"x\":[846],\"xaxis\":\"x\",\"y\":[\"Marketing Sales\"],\"yaxis\":\"y\",\"type\":\"bar\"},{\"alignmentgroup\":\"True\",\"hovertemplate\":\"job functions=%{y}<br>number of position in job functions=%{x}<br>count=%{text}<extra></extra>\",\"legendgroup\":\"Project Management Information Technology\",\"marker\":{\"color\":\"rgb(221,132,82)\",\"pattern\":{\"shape\":\"\"}},\"name\":\"Project Management Information Technology\",\"offsetgroup\":\"Project Management Information Technology\",\"orientation\":\"h\",\"showlegend\":true,\"text\":[822.0],\"textposition\":\"auto\",\"x\":[822],\"xaxis\":\"x\",\"y\":[\"Project Management Information Technology\"],\"yaxis\":\"y\",\"type\":\"bar\"},{\"alignmentgroup\":\"True\",\"hovertemplate\":\"job functions=%{y}<br>number of position in job functions=%{x}<br>count=%{text}<extra></extra>\",\"legendgroup\":\"Design ArtCreative Information Technology\",\"marker\":{\"color\":\"rgb(85,168,104)\",\"pattern\":{\"shape\":\"\"}},\"name\":\"Design ArtCreative Information Technology\",\"offsetgroup\":\"Design ArtCreative Information Technology\",\"orientation\":\"h\",\"showlegend\":true,\"text\":[726.0],\"textposition\":\"auto\",\"x\":[726],\"xaxis\":\"x\",\"y\":[\"Design ArtCreative Information Technology\"],\"yaxis\":\"y\",\"type\":\"bar\"},{\"alignmentgroup\":\"True\",\"hovertemplate\":\"job functions=%{y}<br>number of position in job functions=%{x}<br>count=%{text}<extra></extra>\",\"legendgroup\":\"Administrative\",\"marker\":{\"color\":\"rgb(196,78,82)\",\"pattern\":{\"shape\":\"\"}},\"name\":\"Administrative\",\"offsetgroup\":\"Administrative\",\"orientation\":\"h\",\"showlegend\":true,\"text\":[699.0],\"textposition\":\"auto\",\"x\":[699],\"xaxis\":\"x\",\"y\":[\"Administrative\"],\"yaxis\":\"y\",\"type\":\"bar\"},{\"alignmentgroup\":\"True\",\"hovertemplate\":\"job functions=%{y}<br>number of position in job functions=%{x}<br>count=%{text}<extra></extra>\",\"legendgroup\":\"Engineering\",\"marker\":{\"color\":\"rgb(129,114,179)\",\"pattern\":{\"shape\":\"\"}},\"name\":\"Engineering\",\"offsetgroup\":\"Engineering\",\"orientation\":\"h\",\"showlegend\":true,\"text\":[654.0],\"textposition\":\"auto\",\"x\":[654],\"xaxis\":\"x\",\"y\":[\"Engineering\"],\"yaxis\":\"y\",\"type\":\"bar\"},{\"alignmentgroup\":\"True\",\"hovertemplate\":\"job functions=%{y}<br>number of position in job functions=%{x}<br>count=%{text}<extra></extra>\",\"legendgroup\":\"Sales\",\"marker\":{\"color\":\"rgb(147,120,96)\",\"pattern\":{\"shape\":\"\"}},\"name\":\"Sales\",\"offsetgroup\":\"Sales\",\"orientation\":\"h\",\"showlegend\":true,\"text\":[573.0],\"textposition\":\"auto\",\"x\":[573],\"xaxis\":\"x\",\"y\":[\"Sales\"],\"yaxis\":\"y\",\"type\":\"bar\"},{\"alignmentgroup\":\"True\",\"hovertemplate\":\"job functions=%{y}<br>number of position in job functions=%{x}<br>count=%{text}<extra></extra>\",\"legendgroup\":\"Education Training\",\"marker\":{\"color\":\"rgb(218,139,195)\",\"pattern\":{\"shape\":\"\"}},\"name\":\"Education Training\",\"offsetgroup\":\"Education Training\",\"orientation\":\"h\",\"showlegend\":true,\"text\":[558.0],\"textposition\":\"auto\",\"x\":[558],\"xaxis\":\"x\",\"y\":[\"Education Training\"],\"yaxis\":\"y\",\"type\":\"bar\"},{\"alignmentgroup\":\"True\",\"hovertemplate\":\"job functions=%{y}<br>number of position in job functions=%{x}<br>count=%{text}<extra></extra>\",\"legendgroup\":\"Quality Assurance\",\"marker\":{\"color\":\"rgb(140,140,140)\",\"pattern\":{\"shape\":\"\"}},\"name\":\"Quality Assurance\",\"offsetgroup\":\"Quality Assurance\",\"orientation\":\"h\",\"showlegend\":true,\"text\":[534.0],\"textposition\":\"auto\",\"x\":[534],\"xaxis\":\"x\",\"y\":[\"Quality Assurance\"],\"yaxis\":\"y\",\"type\":\"bar\"},{\"alignmentgroup\":\"True\",\"hovertemplate\":\"job functions=%{y}<br>number of position in job functions=%{x}<br>count=%{text}<extra></extra>\",\"legendgroup\":\"Consulting Information Technology Sales\",\"marker\":{\"color\":\"rgb(204,185,116)\",\"pattern\":{\"shape\":\"\"}},\"name\":\"Consulting Information Technology Sales\",\"offsetgroup\":\"Consulting Information Technology Sales\",\"orientation\":\"h\",\"showlegend\":true,\"text\":[482.0],\"textposition\":\"auto\",\"x\":[482],\"xaxis\":\"x\",\"y\":[\"Consulting Information Technology Sales\"],\"yaxis\":\"y\",\"type\":\"bar\"},{\"alignmentgroup\":\"True\",\"hovertemplate\":\"job functions=%{y}<br>number of position in job functions=%{x}<br>count=%{text}<extra></extra>\",\"legendgroup\":\"Legal\",\"marker\":{\"color\":\"rgb(100,181,205)\",\"pattern\":{\"shape\":\"\"}},\"name\":\"Legal\",\"offsetgroup\":\"Legal\",\"orientation\":\"h\",\"showlegend\":true,\"text\":[465.0],\"textposition\":\"auto\",\"x\":[465],\"xaxis\":\"x\",\"y\":[\"Legal\"],\"yaxis\":\"y\",\"type\":\"bar\"}],                        {\"template\":{\"data\":{\"barpolar\":[{\"marker\":{\"line\":{\"color\":\"rgb(234,234,242)\",\"width\":0.5},\"pattern\":{\"fillmode\":\"overlay\",\"size\":10,\"solidity\":0.2}},\"type\":\"barpolar\"}],\"bar\":[{\"error_x\":{\"color\":\"rgb(36,36,36)\"},\"error_y\":{\"color\":\"rgb(36,36,36)\"},\"marker\":{\"line\":{\"color\":\"rgb(234,234,242)\",\"width\":0.5},\"pattern\":{\"fillmode\":\"overlay\",\"size\":10,\"solidity\":0.2}},\"type\":\"bar\"}],\"carpet\":[{\"aaxis\":{\"endlinecolor\":\"rgb(36,36,36)\",\"gridcolor\":\"white\",\"linecolor\":\"white\",\"minorgridcolor\":\"white\",\"startlinecolor\":\"rgb(36,36,36)\"},\"baxis\":{\"endlinecolor\":\"rgb(36,36,36)\",\"gridcolor\":\"white\",\"linecolor\":\"white\",\"minorgridcolor\":\"white\",\"startlinecolor\":\"rgb(36,36,36)\"},\"type\":\"carpet\"}],\"choropleth\":[{\"colorbar\":{\"outlinewidth\":0,\"tickcolor\":\"rgb(36,36,36)\",\"ticklen\":8,\"ticks\":\"outside\",\"tickwidth\":2},\"type\":\"choropleth\"}],\"contourcarpet\":[{\"colorbar\":{\"outlinewidth\":0,\"tickcolor\":\"rgb(36,36,36)\",\"ticklen\":8,\"ticks\":\"outside\",\"tickwidth\":2},\"type\":\"contourcarpet\"}],\"contour\":[{\"colorbar\":{\"outlinewidth\":0,\"tickcolor\":\"rgb(36,36,36)\",\"ticklen\":8,\"ticks\":\"outside\",\"tickwidth\":2},\"colorscale\":[[0.0,\"rgb(2,4,25)\"],[0.06274509803921569,\"rgb(24,15,41)\"],[0.12549019607843137,\"rgb(47,23,57)\"],[0.18823529411764706,\"rgb(71,28,72)\"],[0.25098039215686274,\"rgb(97,30,82)\"],[0.3137254901960784,\"rgb(123,30,89)\"],[0.3764705882352941,\"rgb(150,27,91)\"],[0.4392156862745098,\"rgb(177,22,88)\"],[0.5019607843137255,\"rgb(203,26,79)\"],[0.5647058823529412,\"rgb(223,47,67)\"],[0.6274509803921569,\"rgb(236,76,61)\"],[0.6901960784313725,\"rgb(242,107,73)\"],[0.7529411764705882,\"rgb(244,135,95)\"],[0.8156862745098039,\"rgb(245,162,122)\"],[0.8784313725490196,\"rgb(246,188,153)\"],[0.9411764705882353,\"rgb(247,212,187)\"],[1.0,\"rgb(250,234,220)\"]],\"type\":\"contour\"}],\"heatmapgl\":[{\"colorbar\":{\"outlinewidth\":0,\"tickcolor\":\"rgb(36,36,36)\",\"ticklen\":8,\"ticks\":\"outside\",\"tickwidth\":2},\"colorscale\":[[0.0,\"rgb(2,4,25)\"],[0.06274509803921569,\"rgb(24,15,41)\"],[0.12549019607843137,\"rgb(47,23,57)\"],[0.18823529411764706,\"rgb(71,28,72)\"],[0.25098039215686274,\"rgb(97,30,82)\"],[0.3137254901960784,\"rgb(123,30,89)\"],[0.3764705882352941,\"rgb(150,27,91)\"],[0.4392156862745098,\"rgb(177,22,88)\"],[0.5019607843137255,\"rgb(203,26,79)\"],[0.5647058823529412,\"rgb(223,47,67)\"],[0.6274509803921569,\"rgb(236,76,61)\"],[0.6901960784313725,\"rgb(242,107,73)\"],[0.7529411764705882,\"rgb(244,135,95)\"],[0.8156862745098039,\"rgb(245,162,122)\"],[0.8784313725490196,\"rgb(246,188,153)\"],[0.9411764705882353,\"rgb(247,212,187)\"],[1.0,\"rgb(250,234,220)\"]],\"type\":\"heatmapgl\"}],\"heatmap\":[{\"colorbar\":{\"outlinewidth\":0,\"tickcolor\":\"rgb(36,36,36)\",\"ticklen\":8,\"ticks\":\"outside\",\"tickwidth\":2},\"colorscale\":[[0.0,\"rgb(2,4,25)\"],[0.06274509803921569,\"rgb(24,15,41)\"],[0.12549019607843137,\"rgb(47,23,57)\"],[0.18823529411764706,\"rgb(71,28,72)\"],[0.25098039215686274,\"rgb(97,30,82)\"],[0.3137254901960784,\"rgb(123,30,89)\"],[0.3764705882352941,\"rgb(150,27,91)\"],[0.4392156862745098,\"rgb(177,22,88)\"],[0.5019607843137255,\"rgb(203,26,79)\"],[0.5647058823529412,\"rgb(223,47,67)\"],[0.6274509803921569,\"rgb(236,76,61)\"],[0.6901960784313725,\"rgb(242,107,73)\"],[0.7529411764705882,\"rgb(244,135,95)\"],[0.8156862745098039,\"rgb(245,162,122)\"],[0.8784313725490196,\"rgb(246,188,153)\"],[0.9411764705882353,\"rgb(247,212,187)\"],[1.0,\"rgb(250,234,220)\"]],\"type\":\"heatmap\"}],\"histogram2dcontour\":[{\"colorbar\":{\"outlinewidth\":0,\"tickcolor\":\"rgb(36,36,36)\",\"ticklen\":8,\"ticks\":\"outside\",\"tickwidth\":2},\"colorscale\":[[0.0,\"rgb(2,4,25)\"],[0.06274509803921569,\"rgb(24,15,41)\"],[0.12549019607843137,\"rgb(47,23,57)\"],[0.18823529411764706,\"rgb(71,28,72)\"],[0.25098039215686274,\"rgb(97,30,82)\"],[0.3137254901960784,\"rgb(123,30,89)\"],[0.3764705882352941,\"rgb(150,27,91)\"],[0.4392156862745098,\"rgb(177,22,88)\"],[0.5019607843137255,\"rgb(203,26,79)\"],[0.5647058823529412,\"rgb(223,47,67)\"],[0.6274509803921569,\"rgb(236,76,61)\"],[0.6901960784313725,\"rgb(242,107,73)\"],[0.7529411764705882,\"rgb(244,135,95)\"],[0.8156862745098039,\"rgb(245,162,122)\"],[0.8784313725490196,\"rgb(246,188,153)\"],[0.9411764705882353,\"rgb(247,212,187)\"],[1.0,\"rgb(250,234,220)\"]],\"type\":\"histogram2dcontour\"}],\"histogram2d\":[{\"colorbar\":{\"outlinewidth\":0,\"tickcolor\":\"rgb(36,36,36)\",\"ticklen\":8,\"ticks\":\"outside\",\"tickwidth\":2},\"colorscale\":[[0.0,\"rgb(2,4,25)\"],[0.06274509803921569,\"rgb(24,15,41)\"],[0.12549019607843137,\"rgb(47,23,57)\"],[0.18823529411764706,\"rgb(71,28,72)\"],[0.25098039215686274,\"rgb(97,30,82)\"],[0.3137254901960784,\"rgb(123,30,89)\"],[0.3764705882352941,\"rgb(150,27,91)\"],[0.4392156862745098,\"rgb(177,22,88)\"],[0.5019607843137255,\"rgb(203,26,79)\"],[0.5647058823529412,\"rgb(223,47,67)\"],[0.6274509803921569,\"rgb(236,76,61)\"],[0.6901960784313725,\"rgb(242,107,73)\"],[0.7529411764705882,\"rgb(244,135,95)\"],[0.8156862745098039,\"rgb(245,162,122)\"],[0.8784313725490196,\"rgb(246,188,153)\"],[0.9411764705882353,\"rgb(247,212,187)\"],[1.0,\"rgb(250,234,220)\"]],\"type\":\"histogram2d\"}],\"histogram\":[{\"marker\":{\"pattern\":{\"fillmode\":\"overlay\",\"size\":10,\"solidity\":0.2}},\"type\":\"histogram\"}],\"mesh3d\":[{\"colorbar\":{\"outlinewidth\":0,\"tickcolor\":\"rgb(36,36,36)\",\"ticklen\":8,\"ticks\":\"outside\",\"tickwidth\":2},\"type\":\"mesh3d\"}],\"parcoords\":[{\"line\":{\"colorbar\":{\"outlinewidth\":0,\"tickcolor\":\"rgb(36,36,36)\",\"ticklen\":8,\"ticks\":\"outside\",\"tickwidth\":2}},\"type\":\"parcoords\"}],\"pie\":[{\"automargin\":true,\"type\":\"pie\"}],\"scatter3d\":[{\"line\":{\"colorbar\":{\"outlinewidth\":0,\"tickcolor\":\"rgb(36,36,36)\",\"ticklen\":8,\"ticks\":\"outside\",\"tickwidth\":2}},\"marker\":{\"colorbar\":{\"outlinewidth\":0,\"tickcolor\":\"rgb(36,36,36)\",\"ticklen\":8,\"ticks\":\"outside\",\"tickwidth\":2}},\"type\":\"scatter3d\"}],\"scattercarpet\":[{\"marker\":{\"colorbar\":{\"outlinewidth\":0,\"tickcolor\":\"rgb(36,36,36)\",\"ticklen\":8,\"ticks\":\"outside\",\"tickwidth\":2}},\"type\":\"scattercarpet\"}],\"scattergeo\":[{\"marker\":{\"colorbar\":{\"outlinewidth\":0,\"tickcolor\":\"rgb(36,36,36)\",\"ticklen\":8,\"ticks\":\"outside\",\"tickwidth\":2}},\"type\":\"scattergeo\"}],\"scattergl\":[{\"marker\":{\"colorbar\":{\"outlinewidth\":0,\"tickcolor\":\"rgb(36,36,36)\",\"ticklen\":8,\"ticks\":\"outside\",\"tickwidth\":2}},\"type\":\"scattergl\"}],\"scattermapbox\":[{\"marker\":{\"colorbar\":{\"outlinewidth\":0,\"tickcolor\":\"rgb(36,36,36)\",\"ticklen\":8,\"ticks\":\"outside\",\"tickwidth\":2}},\"type\":\"scattermapbox\"}],\"scatterpolargl\":[{\"marker\":{\"colorbar\":{\"outlinewidth\":0,\"tickcolor\":\"rgb(36,36,36)\",\"ticklen\":8,\"ticks\":\"outside\",\"tickwidth\":2}},\"type\":\"scatterpolargl\"}],\"scatterpolar\":[{\"marker\":{\"colorbar\":{\"outlinewidth\":0,\"tickcolor\":\"rgb(36,36,36)\",\"ticklen\":8,\"ticks\":\"outside\",\"tickwidth\":2}},\"type\":\"scatterpolar\"}],\"scatter\":[{\"marker\":{\"colorbar\":{\"outlinewidth\":0,\"tickcolor\":\"rgb(36,36,36)\",\"ticklen\":8,\"ticks\":\"outside\",\"tickwidth\":2}},\"type\":\"scatter\"}],\"scatterternary\":[{\"marker\":{\"colorbar\":{\"outlinewidth\":0,\"tickcolor\":\"rgb(36,36,36)\",\"ticklen\":8,\"ticks\":\"outside\",\"tickwidth\":2}},\"type\":\"scatterternary\"}],\"surface\":[{\"colorbar\":{\"outlinewidth\":0,\"tickcolor\":\"rgb(36,36,36)\",\"ticklen\":8,\"ticks\":\"outside\",\"tickwidth\":2},\"colorscale\":[[0.0,\"rgb(2,4,25)\"],[0.06274509803921569,\"rgb(24,15,41)\"],[0.12549019607843137,\"rgb(47,23,57)\"],[0.18823529411764706,\"rgb(71,28,72)\"],[0.25098039215686274,\"rgb(97,30,82)\"],[0.3137254901960784,\"rgb(123,30,89)\"],[0.3764705882352941,\"rgb(150,27,91)\"],[0.4392156862745098,\"rgb(177,22,88)\"],[0.5019607843137255,\"rgb(203,26,79)\"],[0.5647058823529412,\"rgb(223,47,67)\"],[0.6274509803921569,\"rgb(236,76,61)\"],[0.6901960784313725,\"rgb(242,107,73)\"],[0.7529411764705882,\"rgb(244,135,95)\"],[0.8156862745098039,\"rgb(245,162,122)\"],[0.8784313725490196,\"rgb(246,188,153)\"],[0.9411764705882353,\"rgb(247,212,187)\"],[1.0,\"rgb(250,234,220)\"]],\"type\":\"surface\"}],\"table\":[{\"cells\":{\"fill\":{\"color\":\"rgb(231,231,240)\"},\"line\":{\"color\":\"white\"}},\"header\":{\"fill\":{\"color\":\"rgb(183,183,191)\"},\"line\":{\"color\":\"white\"}},\"type\":\"table\"}]},\"layout\":{\"annotationdefaults\":{\"arrowcolor\":\"rgb(67,103,167)\"},\"autotypenumbers\":\"strict\",\"coloraxis\":{\"colorbar\":{\"outlinewidth\":0,\"tickcolor\":\"rgb(36,36,36)\",\"ticklen\":8,\"ticks\":\"outside\",\"tickwidth\":2}},\"colorscale\":{\"sequential\":[[0.0,\"rgb(2,4,25)\"],[0.06274509803921569,\"rgb(24,15,41)\"],[0.12549019607843137,\"rgb(47,23,57)\"],[0.18823529411764706,\"rgb(71,28,72)\"],[0.25098039215686274,\"rgb(97,30,82)\"],[0.3137254901960784,\"rgb(123,30,89)\"],[0.3764705882352941,\"rgb(150,27,91)\"],[0.4392156862745098,\"rgb(177,22,88)\"],[0.5019607843137255,\"rgb(203,26,79)\"],[0.5647058823529412,\"rgb(223,47,67)\"],[0.6274509803921569,\"rgb(236,76,61)\"],[0.6901960784313725,\"rgb(242,107,73)\"],[0.7529411764705882,\"rgb(244,135,95)\"],[0.8156862745098039,\"rgb(245,162,122)\"],[0.8784313725490196,\"rgb(246,188,153)\"],[0.9411764705882353,\"rgb(247,212,187)\"],[1.0,\"rgb(250,234,220)\"]],\"sequentialminus\":[[0.0,\"rgb(2,4,25)\"],[0.06274509803921569,\"rgb(24,15,41)\"],[0.12549019607843137,\"rgb(47,23,57)\"],[0.18823529411764706,\"rgb(71,28,72)\"],[0.25098039215686274,\"rgb(97,30,82)\"],[0.3137254901960784,\"rgb(123,30,89)\"],[0.3764705882352941,\"rgb(150,27,91)\"],[0.4392156862745098,\"rgb(177,22,88)\"],[0.5019607843137255,\"rgb(203,26,79)\"],[0.5647058823529412,\"rgb(223,47,67)\"],[0.6274509803921569,\"rgb(236,76,61)\"],[0.6901960784313725,\"rgb(242,107,73)\"],[0.7529411764705882,\"rgb(244,135,95)\"],[0.8156862745098039,\"rgb(245,162,122)\"],[0.8784313725490196,\"rgb(246,188,153)\"],[0.9411764705882353,\"rgb(247,212,187)\"],[1.0,\"rgb(250,234,220)\"]]},\"colorway\":[\"rgb(76,114,176)\",\"rgb(221,132,82)\",\"rgb(85,168,104)\",\"rgb(196,78,82)\",\"rgb(129,114,179)\",\"rgb(147,120,96)\",\"rgb(218,139,195)\",\"rgb(140,140,140)\",\"rgb(204,185,116)\",\"rgb(100,181,205)\"],\"font\":{\"color\":\"rgb(36,36,36)\"},\"geo\":{\"bgcolor\":\"white\",\"lakecolor\":\"white\",\"landcolor\":\"rgb(234,234,242)\",\"showlakes\":true,\"showland\":true,\"subunitcolor\":\"white\"},\"hoverlabel\":{\"align\":\"left\"},\"hovermode\":\"closest\",\"paper_bgcolor\":\"white\",\"plot_bgcolor\":\"rgb(234,234,242)\",\"polar\":{\"angularaxis\":{\"gridcolor\":\"white\",\"linecolor\":\"white\",\"showgrid\":true,\"ticks\":\"\"},\"bgcolor\":\"rgb(234,234,242)\",\"radialaxis\":{\"gridcolor\":\"white\",\"linecolor\":\"white\",\"showgrid\":true,\"ticks\":\"\"}},\"scene\":{\"xaxis\":{\"backgroundcolor\":\"rgb(234,234,242)\",\"gridcolor\":\"white\",\"gridwidth\":2,\"linecolor\":\"white\",\"showbackground\":true,\"showgrid\":true,\"ticks\":\"\",\"zerolinecolor\":\"white\"},\"yaxis\":{\"backgroundcolor\":\"rgb(234,234,242)\",\"gridcolor\":\"white\",\"gridwidth\":2,\"linecolor\":\"white\",\"showbackground\":true,\"showgrid\":true,\"ticks\":\"\",\"zerolinecolor\":\"white\"},\"zaxis\":{\"backgroundcolor\":\"rgb(234,234,242)\",\"gridcolor\":\"white\",\"gridwidth\":2,\"linecolor\":\"white\",\"showbackground\":true,\"showgrid\":true,\"ticks\":\"\",\"zerolinecolor\":\"white\"}},\"shapedefaults\":{\"fillcolor\":\"rgb(67,103,167)\",\"line\":{\"width\":0},\"opacity\":0.5},\"ternary\":{\"aaxis\":{\"gridcolor\":\"white\",\"linecolor\":\"white\",\"showgrid\":true,\"ticks\":\"\"},\"baxis\":{\"gridcolor\":\"white\",\"linecolor\":\"white\",\"showgrid\":true,\"ticks\":\"\"},\"bgcolor\":\"rgb(234,234,242)\",\"caxis\":{\"gridcolor\":\"white\",\"linecolor\":\"white\",\"showgrid\":true,\"ticks\":\"\"}},\"xaxis\":{\"automargin\":true,\"gridcolor\":\"white\",\"linecolor\":\"white\",\"showgrid\":true,\"ticks\":\"\",\"title\":{\"standoff\":15},\"zerolinecolor\":\"white\"},\"yaxis\":{\"automargin\":true,\"gridcolor\":\"white\",\"linecolor\":\"white\",\"showgrid\":true,\"ticks\":\"\",\"title\":{\"standoff\":15},\"zerolinecolor\":\"white\"}}},\"xaxis\":{\"anchor\":\"y\",\"domain\":[0.0,1.0],\"title\":{\"text\":\"number of position in job functions\"}},\"yaxis\":{\"anchor\":\"x\",\"domain\":[0.0,1.0],\"title\":{\"text\":\"job functions\"},\"categoryorder\":\"array\",\"categoryarray\":[\"Legal\",\"Consulting Information Technology Sales\",\"Quality Assurance\",\"Education Training\",\"Sales\",\"Engineering\",\"Administrative\",\"Design ArtCreative Information Technology\",\"Project Management Information Technology\",\"Marketing Sales\",\"Finance Sales\",\"Human Resources\",\"AccountingAuditing Finance\",\"Business Development Sales\",\"Health Care Provider\",\"Other\",\"Information Technology\",\"Engineering Information Technology\",\"Sales Business Development\",\"Management Manufacturing\"]},\"legend\":{\"title\":{\"text\":\"job functions\"},\"tracegroupgap\":0},\"title\":{\"text\":\"<b> The Most 20 job functions Request from Companies in 2020\",\"x\":0.2},\"barmode\":\"relative\"},                        {\"responsive\": true}                    ).then(function(){\n",
       "                            \n",
       "var gd = document.getElementById('e6ea498e-368b-4dd5-a073-1ae54b93d73c');\n",
       "var x = new MutationObserver(function (mutations, observer) {{\n",
       "        var display = window.getComputedStyle(gd).display;\n",
       "        if (!display || display === 'none') {{\n",
       "            console.log([gd, 'removed!']);\n",
       "            Plotly.purge(gd);\n",
       "            observer.disconnect();\n",
       "        }}\n",
       "}});\n",
       "\n",
       "// Listen for the removal of the full notebook cells\n",
       "var notebookContainer = gd.closest('#notebook-container');\n",
       "if (notebookContainer) {{\n",
       "    x.observe(notebookContainer, {childList: true});\n",
       "}}\n",
       "\n",
       "// Listen for the clearing of the current output cell\n",
       "var outputEl = gd.closest('.output');\n",
       "if (outputEl) {{\n",
       "    x.observe(outputEl, {childList: true});\n",
       "}}\n",
       "\n",
       "                        })                };                });            </script>        </div>"
      ]
     },
     "metadata": {},
     "output_type": "display_data"
    }
   ],
   "source": [
    "functions=df['job_functions'].value_counts().head(20)\n",
    "\n",
    "fig=px.bar(functions,y=functions.index,\n",
    "           x=functions.values,\n",
    "           color=functions.index,\n",
    "           text=functions.values,\n",
    "           labels={'index':'job functions','x':'number of position in job functions','text':'count'},\n",
    "           template='seaborn',\n",
    "           title='<b> The Most 20 job functions Request from Companies in 2020')\n",
    "fig.show()"
   ]
  },
  {
   "cell_type": "markdown",
   "id": "c36bda62",
   "metadata": {},
   "source": [
    "### 6th plot || The Distribution of Demands Job Based on Academic Degrees \n",
    "#### This plot gives insight into the academic degree rate required for job positions. We see that Higher Vocational Education, which means preparing students to work in a specific profession or craft, attracts employers to contract with them more than others, then followed by bachelor’s students, and we see that students have job opportunities, they may work as practical training to achieve an academic degree or additional income during the period of study, while there is very little demand for a doctorate degree."
   ]
  },
  {
   "cell_type": "code",
   "execution_count": 38,
   "id": "4909fc0f",
   "metadata": {},
   "outputs": [
    {
     "data": {
      "application/vnd.plotly.v1+json": {
       "config": {
        "plotlyServerURL": "https://plot.ly"
       },
       "data": [
        {
         "customdata": [
          [
           22144
          ],
          [
           12674
          ],
          [
           3024
          ],
          [
           2490
          ],
          [
           121
          ],
          [
           45
          ]
         ],
         "domain": {
          "x": [
           0,
           1
          ],
          "y": [
           0,
           1
          ]
         },
         "hole": 0.8,
         "hovertemplate": "label=%{label}<br>degrees=%{customdata[0]}<extra></extra>",
         "labels": [
          "Higher Vocational Education",
          "bachelor",
          "diploma",
          "master",
          "student",
          "Doctorate"
         ],
         "legendgroup": "",
         "marker": {
          "colors": [
           "rgb(76,114,176)",
           "rgb(221,132,82)",
           "rgb(85,168,104)",
           "rgb(196,78,82)",
           "rgb(129,114,179)",
           "rgb(147,120,96)"
          ]
         },
         "name": "",
         "showlegend": true,
         "type": "pie",
         "values": [
          22144,
          12674,
          3024,
          2490,
          121,
          45
         ]
        }
       ],
       "layout": {
        "legend": {
         "orientation": "h",
         "tracegroupgap": 0,
         "x": 1,
         "xanchor": "right",
         "y": 1,
         "yanchor": "bottom"
        },
        "template": {
         "data": {
          "bar": [
           {
            "error_x": {
             "color": "rgb(36,36,36)"
            },
            "error_y": {
             "color": "rgb(36,36,36)"
            },
            "marker": {
             "line": {
              "color": "rgb(234,234,242)",
              "width": 0.5
             },
             "pattern": {
              "fillmode": "overlay",
              "size": 10,
              "solidity": 0.2
             }
            },
            "type": "bar"
           }
          ],
          "barpolar": [
           {
            "marker": {
             "line": {
              "color": "rgb(234,234,242)",
              "width": 0.5
             },
             "pattern": {
              "fillmode": "overlay",
              "size": 10,
              "solidity": 0.2
             }
            },
            "type": "barpolar"
           }
          ],
          "carpet": [
           {
            "aaxis": {
             "endlinecolor": "rgb(36,36,36)",
             "gridcolor": "white",
             "linecolor": "white",
             "minorgridcolor": "white",
             "startlinecolor": "rgb(36,36,36)"
            },
            "baxis": {
             "endlinecolor": "rgb(36,36,36)",
             "gridcolor": "white",
             "linecolor": "white",
             "minorgridcolor": "white",
             "startlinecolor": "rgb(36,36,36)"
            },
            "type": "carpet"
           }
          ],
          "choropleth": [
           {
            "colorbar": {
             "outlinewidth": 0,
             "tickcolor": "rgb(36,36,36)",
             "ticklen": 8,
             "ticks": "outside",
             "tickwidth": 2
            },
            "type": "choropleth"
           }
          ],
          "contour": [
           {
            "colorbar": {
             "outlinewidth": 0,
             "tickcolor": "rgb(36,36,36)",
             "ticklen": 8,
             "ticks": "outside",
             "tickwidth": 2
            },
            "colorscale": [
             [
              0,
              "rgb(2,4,25)"
             ],
             [
              0.06274509803921569,
              "rgb(24,15,41)"
             ],
             [
              0.12549019607843137,
              "rgb(47,23,57)"
             ],
             [
              0.18823529411764706,
              "rgb(71,28,72)"
             ],
             [
              0.25098039215686274,
              "rgb(97,30,82)"
             ],
             [
              0.3137254901960784,
              "rgb(123,30,89)"
             ],
             [
              0.3764705882352941,
              "rgb(150,27,91)"
             ],
             [
              0.4392156862745098,
              "rgb(177,22,88)"
             ],
             [
              0.5019607843137255,
              "rgb(203,26,79)"
             ],
             [
              0.5647058823529412,
              "rgb(223,47,67)"
             ],
             [
              0.6274509803921569,
              "rgb(236,76,61)"
             ],
             [
              0.6901960784313725,
              "rgb(242,107,73)"
             ],
             [
              0.7529411764705882,
              "rgb(244,135,95)"
             ],
             [
              0.8156862745098039,
              "rgb(245,162,122)"
             ],
             [
              0.8784313725490196,
              "rgb(246,188,153)"
             ],
             [
              0.9411764705882353,
              "rgb(247,212,187)"
             ],
             [
              1,
              "rgb(250,234,220)"
             ]
            ],
            "type": "contour"
           }
          ],
          "contourcarpet": [
           {
            "colorbar": {
             "outlinewidth": 0,
             "tickcolor": "rgb(36,36,36)",
             "ticklen": 8,
             "ticks": "outside",
             "tickwidth": 2
            },
            "type": "contourcarpet"
           }
          ],
          "heatmap": [
           {
            "colorbar": {
             "outlinewidth": 0,
             "tickcolor": "rgb(36,36,36)",
             "ticklen": 8,
             "ticks": "outside",
             "tickwidth": 2
            },
            "colorscale": [
             [
              0,
              "rgb(2,4,25)"
             ],
             [
              0.06274509803921569,
              "rgb(24,15,41)"
             ],
             [
              0.12549019607843137,
              "rgb(47,23,57)"
             ],
             [
              0.18823529411764706,
              "rgb(71,28,72)"
             ],
             [
              0.25098039215686274,
              "rgb(97,30,82)"
             ],
             [
              0.3137254901960784,
              "rgb(123,30,89)"
             ],
             [
              0.3764705882352941,
              "rgb(150,27,91)"
             ],
             [
              0.4392156862745098,
              "rgb(177,22,88)"
             ],
             [
              0.5019607843137255,
              "rgb(203,26,79)"
             ],
             [
              0.5647058823529412,
              "rgb(223,47,67)"
             ],
             [
              0.6274509803921569,
              "rgb(236,76,61)"
             ],
             [
              0.6901960784313725,
              "rgb(242,107,73)"
             ],
             [
              0.7529411764705882,
              "rgb(244,135,95)"
             ],
             [
              0.8156862745098039,
              "rgb(245,162,122)"
             ],
             [
              0.8784313725490196,
              "rgb(246,188,153)"
             ],
             [
              0.9411764705882353,
              "rgb(247,212,187)"
             ],
             [
              1,
              "rgb(250,234,220)"
             ]
            ],
            "type": "heatmap"
           }
          ],
          "heatmapgl": [
           {
            "colorbar": {
             "outlinewidth": 0,
             "tickcolor": "rgb(36,36,36)",
             "ticklen": 8,
             "ticks": "outside",
             "tickwidth": 2
            },
            "colorscale": [
             [
              0,
              "rgb(2,4,25)"
             ],
             [
              0.06274509803921569,
              "rgb(24,15,41)"
             ],
             [
              0.12549019607843137,
              "rgb(47,23,57)"
             ],
             [
              0.18823529411764706,
              "rgb(71,28,72)"
             ],
             [
              0.25098039215686274,
              "rgb(97,30,82)"
             ],
             [
              0.3137254901960784,
              "rgb(123,30,89)"
             ],
             [
              0.3764705882352941,
              "rgb(150,27,91)"
             ],
             [
              0.4392156862745098,
              "rgb(177,22,88)"
             ],
             [
              0.5019607843137255,
              "rgb(203,26,79)"
             ],
             [
              0.5647058823529412,
              "rgb(223,47,67)"
             ],
             [
              0.6274509803921569,
              "rgb(236,76,61)"
             ],
             [
              0.6901960784313725,
              "rgb(242,107,73)"
             ],
             [
              0.7529411764705882,
              "rgb(244,135,95)"
             ],
             [
              0.8156862745098039,
              "rgb(245,162,122)"
             ],
             [
              0.8784313725490196,
              "rgb(246,188,153)"
             ],
             [
              0.9411764705882353,
              "rgb(247,212,187)"
             ],
             [
              1,
              "rgb(250,234,220)"
             ]
            ],
            "type": "heatmapgl"
           }
          ],
          "histogram": [
           {
            "marker": {
             "pattern": {
              "fillmode": "overlay",
              "size": 10,
              "solidity": 0.2
             }
            },
            "type": "histogram"
           }
          ],
          "histogram2d": [
           {
            "colorbar": {
             "outlinewidth": 0,
             "tickcolor": "rgb(36,36,36)",
             "ticklen": 8,
             "ticks": "outside",
             "tickwidth": 2
            },
            "colorscale": [
             [
              0,
              "rgb(2,4,25)"
             ],
             [
              0.06274509803921569,
              "rgb(24,15,41)"
             ],
             [
              0.12549019607843137,
              "rgb(47,23,57)"
             ],
             [
              0.18823529411764706,
              "rgb(71,28,72)"
             ],
             [
              0.25098039215686274,
              "rgb(97,30,82)"
             ],
             [
              0.3137254901960784,
              "rgb(123,30,89)"
             ],
             [
              0.3764705882352941,
              "rgb(150,27,91)"
             ],
             [
              0.4392156862745098,
              "rgb(177,22,88)"
             ],
             [
              0.5019607843137255,
              "rgb(203,26,79)"
             ],
             [
              0.5647058823529412,
              "rgb(223,47,67)"
             ],
             [
              0.6274509803921569,
              "rgb(236,76,61)"
             ],
             [
              0.6901960784313725,
              "rgb(242,107,73)"
             ],
             [
              0.7529411764705882,
              "rgb(244,135,95)"
             ],
             [
              0.8156862745098039,
              "rgb(245,162,122)"
             ],
             [
              0.8784313725490196,
              "rgb(246,188,153)"
             ],
             [
              0.9411764705882353,
              "rgb(247,212,187)"
             ],
             [
              1,
              "rgb(250,234,220)"
             ]
            ],
            "type": "histogram2d"
           }
          ],
          "histogram2dcontour": [
           {
            "colorbar": {
             "outlinewidth": 0,
             "tickcolor": "rgb(36,36,36)",
             "ticklen": 8,
             "ticks": "outside",
             "tickwidth": 2
            },
            "colorscale": [
             [
              0,
              "rgb(2,4,25)"
             ],
             [
              0.06274509803921569,
              "rgb(24,15,41)"
             ],
             [
              0.12549019607843137,
              "rgb(47,23,57)"
             ],
             [
              0.18823529411764706,
              "rgb(71,28,72)"
             ],
             [
              0.25098039215686274,
              "rgb(97,30,82)"
             ],
             [
              0.3137254901960784,
              "rgb(123,30,89)"
             ],
             [
              0.3764705882352941,
              "rgb(150,27,91)"
             ],
             [
              0.4392156862745098,
              "rgb(177,22,88)"
             ],
             [
              0.5019607843137255,
              "rgb(203,26,79)"
             ],
             [
              0.5647058823529412,
              "rgb(223,47,67)"
             ],
             [
              0.6274509803921569,
              "rgb(236,76,61)"
             ],
             [
              0.6901960784313725,
              "rgb(242,107,73)"
             ],
             [
              0.7529411764705882,
              "rgb(244,135,95)"
             ],
             [
              0.8156862745098039,
              "rgb(245,162,122)"
             ],
             [
              0.8784313725490196,
              "rgb(246,188,153)"
             ],
             [
              0.9411764705882353,
              "rgb(247,212,187)"
             ],
             [
              1,
              "rgb(250,234,220)"
             ]
            ],
            "type": "histogram2dcontour"
           }
          ],
          "mesh3d": [
           {
            "colorbar": {
             "outlinewidth": 0,
             "tickcolor": "rgb(36,36,36)",
             "ticklen": 8,
             "ticks": "outside",
             "tickwidth": 2
            },
            "type": "mesh3d"
           }
          ],
          "parcoords": [
           {
            "line": {
             "colorbar": {
              "outlinewidth": 0,
              "tickcolor": "rgb(36,36,36)",
              "ticklen": 8,
              "ticks": "outside",
              "tickwidth": 2
             }
            },
            "type": "parcoords"
           }
          ],
          "pie": [
           {
            "automargin": true,
            "type": "pie"
           }
          ],
          "scatter": [
           {
            "marker": {
             "colorbar": {
              "outlinewidth": 0,
              "tickcolor": "rgb(36,36,36)",
              "ticklen": 8,
              "ticks": "outside",
              "tickwidth": 2
             }
            },
            "type": "scatter"
           }
          ],
          "scatter3d": [
           {
            "line": {
             "colorbar": {
              "outlinewidth": 0,
              "tickcolor": "rgb(36,36,36)",
              "ticklen": 8,
              "ticks": "outside",
              "tickwidth": 2
             }
            },
            "marker": {
             "colorbar": {
              "outlinewidth": 0,
              "tickcolor": "rgb(36,36,36)",
              "ticklen": 8,
              "ticks": "outside",
              "tickwidth": 2
             }
            },
            "type": "scatter3d"
           }
          ],
          "scattercarpet": [
           {
            "marker": {
             "colorbar": {
              "outlinewidth": 0,
              "tickcolor": "rgb(36,36,36)",
              "ticklen": 8,
              "ticks": "outside",
              "tickwidth": 2
             }
            },
            "type": "scattercarpet"
           }
          ],
          "scattergeo": [
           {
            "marker": {
             "colorbar": {
              "outlinewidth": 0,
              "tickcolor": "rgb(36,36,36)",
              "ticklen": 8,
              "ticks": "outside",
              "tickwidth": 2
             }
            },
            "type": "scattergeo"
           }
          ],
          "scattergl": [
           {
            "marker": {
             "colorbar": {
              "outlinewidth": 0,
              "tickcolor": "rgb(36,36,36)",
              "ticklen": 8,
              "ticks": "outside",
              "tickwidth": 2
             }
            },
            "type": "scattergl"
           }
          ],
          "scattermapbox": [
           {
            "marker": {
             "colorbar": {
              "outlinewidth": 0,
              "tickcolor": "rgb(36,36,36)",
              "ticklen": 8,
              "ticks": "outside",
              "tickwidth": 2
             }
            },
            "type": "scattermapbox"
           }
          ],
          "scatterpolar": [
           {
            "marker": {
             "colorbar": {
              "outlinewidth": 0,
              "tickcolor": "rgb(36,36,36)",
              "ticklen": 8,
              "ticks": "outside",
              "tickwidth": 2
             }
            },
            "type": "scatterpolar"
           }
          ],
          "scatterpolargl": [
           {
            "marker": {
             "colorbar": {
              "outlinewidth": 0,
              "tickcolor": "rgb(36,36,36)",
              "ticklen": 8,
              "ticks": "outside",
              "tickwidth": 2
             }
            },
            "type": "scatterpolargl"
           }
          ],
          "scatterternary": [
           {
            "marker": {
             "colorbar": {
              "outlinewidth": 0,
              "tickcolor": "rgb(36,36,36)",
              "ticklen": 8,
              "ticks": "outside",
              "tickwidth": 2
             }
            },
            "type": "scatterternary"
           }
          ],
          "surface": [
           {
            "colorbar": {
             "outlinewidth": 0,
             "tickcolor": "rgb(36,36,36)",
             "ticklen": 8,
             "ticks": "outside",
             "tickwidth": 2
            },
            "colorscale": [
             [
              0,
              "rgb(2,4,25)"
             ],
             [
              0.06274509803921569,
              "rgb(24,15,41)"
             ],
             [
              0.12549019607843137,
              "rgb(47,23,57)"
             ],
             [
              0.18823529411764706,
              "rgb(71,28,72)"
             ],
             [
              0.25098039215686274,
              "rgb(97,30,82)"
             ],
             [
              0.3137254901960784,
              "rgb(123,30,89)"
             ],
             [
              0.3764705882352941,
              "rgb(150,27,91)"
             ],
             [
              0.4392156862745098,
              "rgb(177,22,88)"
             ],
             [
              0.5019607843137255,
              "rgb(203,26,79)"
             ],
             [
              0.5647058823529412,
              "rgb(223,47,67)"
             ],
             [
              0.6274509803921569,
              "rgb(236,76,61)"
             ],
             [
              0.6901960784313725,
              "rgb(242,107,73)"
             ],
             [
              0.7529411764705882,
              "rgb(244,135,95)"
             ],
             [
              0.8156862745098039,
              "rgb(245,162,122)"
             ],
             [
              0.8784313725490196,
              "rgb(246,188,153)"
             ],
             [
              0.9411764705882353,
              "rgb(247,212,187)"
             ],
             [
              1,
              "rgb(250,234,220)"
             ]
            ],
            "type": "surface"
           }
          ],
          "table": [
           {
            "cells": {
             "fill": {
              "color": "rgb(231,231,240)"
             },
             "line": {
              "color": "white"
             }
            },
            "header": {
             "fill": {
              "color": "rgb(183,183,191)"
             },
             "line": {
              "color": "white"
             }
            },
            "type": "table"
           }
          ]
         },
         "layout": {
          "annotationdefaults": {
           "arrowcolor": "rgb(67,103,167)"
          },
          "autotypenumbers": "strict",
          "coloraxis": {
           "colorbar": {
            "outlinewidth": 0,
            "tickcolor": "rgb(36,36,36)",
            "ticklen": 8,
            "ticks": "outside",
            "tickwidth": 2
           }
          },
          "colorscale": {
           "sequential": [
            [
             0,
             "rgb(2,4,25)"
            ],
            [
             0.06274509803921569,
             "rgb(24,15,41)"
            ],
            [
             0.12549019607843137,
             "rgb(47,23,57)"
            ],
            [
             0.18823529411764706,
             "rgb(71,28,72)"
            ],
            [
             0.25098039215686274,
             "rgb(97,30,82)"
            ],
            [
             0.3137254901960784,
             "rgb(123,30,89)"
            ],
            [
             0.3764705882352941,
             "rgb(150,27,91)"
            ],
            [
             0.4392156862745098,
             "rgb(177,22,88)"
            ],
            [
             0.5019607843137255,
             "rgb(203,26,79)"
            ],
            [
             0.5647058823529412,
             "rgb(223,47,67)"
            ],
            [
             0.6274509803921569,
             "rgb(236,76,61)"
            ],
            [
             0.6901960784313725,
             "rgb(242,107,73)"
            ],
            [
             0.7529411764705882,
             "rgb(244,135,95)"
            ],
            [
             0.8156862745098039,
             "rgb(245,162,122)"
            ],
            [
             0.8784313725490196,
             "rgb(246,188,153)"
            ],
            [
             0.9411764705882353,
             "rgb(247,212,187)"
            ],
            [
             1,
             "rgb(250,234,220)"
            ]
           ],
           "sequentialminus": [
            [
             0,
             "rgb(2,4,25)"
            ],
            [
             0.06274509803921569,
             "rgb(24,15,41)"
            ],
            [
             0.12549019607843137,
             "rgb(47,23,57)"
            ],
            [
             0.18823529411764706,
             "rgb(71,28,72)"
            ],
            [
             0.25098039215686274,
             "rgb(97,30,82)"
            ],
            [
             0.3137254901960784,
             "rgb(123,30,89)"
            ],
            [
             0.3764705882352941,
             "rgb(150,27,91)"
            ],
            [
             0.4392156862745098,
             "rgb(177,22,88)"
            ],
            [
             0.5019607843137255,
             "rgb(203,26,79)"
            ],
            [
             0.5647058823529412,
             "rgb(223,47,67)"
            ],
            [
             0.6274509803921569,
             "rgb(236,76,61)"
            ],
            [
             0.6901960784313725,
             "rgb(242,107,73)"
            ],
            [
             0.7529411764705882,
             "rgb(244,135,95)"
            ],
            [
             0.8156862745098039,
             "rgb(245,162,122)"
            ],
            [
             0.8784313725490196,
             "rgb(246,188,153)"
            ],
            [
             0.9411764705882353,
             "rgb(247,212,187)"
            ],
            [
             1,
             "rgb(250,234,220)"
            ]
           ]
          },
          "colorway": [
           "rgb(76,114,176)",
           "rgb(221,132,82)",
           "rgb(85,168,104)",
           "rgb(196,78,82)",
           "rgb(129,114,179)",
           "rgb(147,120,96)",
           "rgb(218,139,195)",
           "rgb(140,140,140)",
           "rgb(204,185,116)",
           "rgb(100,181,205)"
          ],
          "font": {
           "color": "rgb(36,36,36)"
          },
          "geo": {
           "bgcolor": "white",
           "lakecolor": "white",
           "landcolor": "rgb(234,234,242)",
           "showlakes": true,
           "showland": true,
           "subunitcolor": "white"
          },
          "hoverlabel": {
           "align": "left"
          },
          "hovermode": "closest",
          "paper_bgcolor": "white",
          "plot_bgcolor": "rgb(234,234,242)",
          "polar": {
           "angularaxis": {
            "gridcolor": "white",
            "linecolor": "white",
            "showgrid": true,
            "ticks": ""
           },
           "bgcolor": "rgb(234,234,242)",
           "radialaxis": {
            "gridcolor": "white",
            "linecolor": "white",
            "showgrid": true,
            "ticks": ""
           }
          },
          "scene": {
           "xaxis": {
            "backgroundcolor": "rgb(234,234,242)",
            "gridcolor": "white",
            "gridwidth": 2,
            "linecolor": "white",
            "showbackground": true,
            "showgrid": true,
            "ticks": "",
            "zerolinecolor": "white"
           },
           "yaxis": {
            "backgroundcolor": "rgb(234,234,242)",
            "gridcolor": "white",
            "gridwidth": 2,
            "linecolor": "white",
            "showbackground": true,
            "showgrid": true,
            "ticks": "",
            "zerolinecolor": "white"
           },
           "zaxis": {
            "backgroundcolor": "rgb(234,234,242)",
            "gridcolor": "white",
            "gridwidth": 2,
            "linecolor": "white",
            "showbackground": true,
            "showgrid": true,
            "ticks": "",
            "zerolinecolor": "white"
           }
          },
          "shapedefaults": {
           "fillcolor": "rgb(67,103,167)",
           "line": {
            "width": 0
           },
           "opacity": 0.5
          },
          "ternary": {
           "aaxis": {
            "gridcolor": "white",
            "linecolor": "white",
            "showgrid": true,
            "ticks": ""
           },
           "baxis": {
            "gridcolor": "white",
            "linecolor": "white",
            "showgrid": true,
            "ticks": ""
           },
           "bgcolor": "rgb(234,234,242)",
           "caxis": {
            "gridcolor": "white",
            "linecolor": "white",
            "showgrid": true,
            "ticks": ""
           }
          },
          "xaxis": {
           "automargin": true,
           "gridcolor": "white",
           "linecolor": "white",
           "showgrid": true,
           "ticks": "",
           "title": {
            "standoff": 15
           },
           "zerolinecolor": "white"
          },
          "yaxis": {
           "automargin": true,
           "gridcolor": "white",
           "linecolor": "white",
           "showgrid": true,
           "ticks": "",
           "title": {
            "standoff": 15
           },
           "zerolinecolor": "white"
          }
         }
        },
        "title": {
         "text": "<b> The Distribution of Demands Job Based on Academic Degrees in 2020",
         "x": 0.2
        }
       }
      },
      "text/html": [
       "<div>                            <div id=\"0ff99237-d8f3-4fb8-83b0-03158e9b79a6\" class=\"plotly-graph-div\" style=\"height:525px; width:100%;\"></div>            <script type=\"text/javascript\">                require([\"plotly\"], function(Plotly) {                    window.PLOTLYENV=window.PLOTLYENV || {};                                    if (document.getElementById(\"0ff99237-d8f3-4fb8-83b0-03158e9b79a6\")) {                    Plotly.newPlot(                        \"0ff99237-d8f3-4fb8-83b0-03158e9b79a6\",                        [{\"customdata\":[[22144],[12674],[3024],[2490],[121],[45]],\"domain\":{\"x\":[0.0,1.0],\"y\":[0.0,1.0]},\"hole\":0.8,\"hovertemplate\":\"label=%{label}<br>degrees=%{customdata[0]}<extra></extra>\",\"labels\":[\"Higher Vocational Education\",\"bachelor\",\"diploma\",\"master\",\"student\",\"Doctorate\"],\"legendgroup\":\"\",\"marker\":{\"colors\":[\"rgb(76,114,176)\",\"rgb(221,132,82)\",\"rgb(85,168,104)\",\"rgb(196,78,82)\",\"rgb(129,114,179)\",\"rgb(147,120,96)\"]},\"name\":\"\",\"showlegend\":true,\"values\":[22144,12674,3024,2490,121,45],\"type\":\"pie\"}],                        {\"template\":{\"data\":{\"barpolar\":[{\"marker\":{\"line\":{\"color\":\"rgb(234,234,242)\",\"width\":0.5},\"pattern\":{\"fillmode\":\"overlay\",\"size\":10,\"solidity\":0.2}},\"type\":\"barpolar\"}],\"bar\":[{\"error_x\":{\"color\":\"rgb(36,36,36)\"},\"error_y\":{\"color\":\"rgb(36,36,36)\"},\"marker\":{\"line\":{\"color\":\"rgb(234,234,242)\",\"width\":0.5},\"pattern\":{\"fillmode\":\"overlay\",\"size\":10,\"solidity\":0.2}},\"type\":\"bar\"}],\"carpet\":[{\"aaxis\":{\"endlinecolor\":\"rgb(36,36,36)\",\"gridcolor\":\"white\",\"linecolor\":\"white\",\"minorgridcolor\":\"white\",\"startlinecolor\":\"rgb(36,36,36)\"},\"baxis\":{\"endlinecolor\":\"rgb(36,36,36)\",\"gridcolor\":\"white\",\"linecolor\":\"white\",\"minorgridcolor\":\"white\",\"startlinecolor\":\"rgb(36,36,36)\"},\"type\":\"carpet\"}],\"choropleth\":[{\"colorbar\":{\"outlinewidth\":0,\"tickcolor\":\"rgb(36,36,36)\",\"ticklen\":8,\"ticks\":\"outside\",\"tickwidth\":2},\"type\":\"choropleth\"}],\"contourcarpet\":[{\"colorbar\":{\"outlinewidth\":0,\"tickcolor\":\"rgb(36,36,36)\",\"ticklen\":8,\"ticks\":\"outside\",\"tickwidth\":2},\"type\":\"contourcarpet\"}],\"contour\":[{\"colorbar\":{\"outlinewidth\":0,\"tickcolor\":\"rgb(36,36,36)\",\"ticklen\":8,\"ticks\":\"outside\",\"tickwidth\":2},\"colorscale\":[[0.0,\"rgb(2,4,25)\"],[0.06274509803921569,\"rgb(24,15,41)\"],[0.12549019607843137,\"rgb(47,23,57)\"],[0.18823529411764706,\"rgb(71,28,72)\"],[0.25098039215686274,\"rgb(97,30,82)\"],[0.3137254901960784,\"rgb(123,30,89)\"],[0.3764705882352941,\"rgb(150,27,91)\"],[0.4392156862745098,\"rgb(177,22,88)\"],[0.5019607843137255,\"rgb(203,26,79)\"],[0.5647058823529412,\"rgb(223,47,67)\"],[0.6274509803921569,\"rgb(236,76,61)\"],[0.6901960784313725,\"rgb(242,107,73)\"],[0.7529411764705882,\"rgb(244,135,95)\"],[0.8156862745098039,\"rgb(245,162,122)\"],[0.8784313725490196,\"rgb(246,188,153)\"],[0.9411764705882353,\"rgb(247,212,187)\"],[1.0,\"rgb(250,234,220)\"]],\"type\":\"contour\"}],\"heatmapgl\":[{\"colorbar\":{\"outlinewidth\":0,\"tickcolor\":\"rgb(36,36,36)\",\"ticklen\":8,\"ticks\":\"outside\",\"tickwidth\":2},\"colorscale\":[[0.0,\"rgb(2,4,25)\"],[0.06274509803921569,\"rgb(24,15,41)\"],[0.12549019607843137,\"rgb(47,23,57)\"],[0.18823529411764706,\"rgb(71,28,72)\"],[0.25098039215686274,\"rgb(97,30,82)\"],[0.3137254901960784,\"rgb(123,30,89)\"],[0.3764705882352941,\"rgb(150,27,91)\"],[0.4392156862745098,\"rgb(177,22,88)\"],[0.5019607843137255,\"rgb(203,26,79)\"],[0.5647058823529412,\"rgb(223,47,67)\"],[0.6274509803921569,\"rgb(236,76,61)\"],[0.6901960784313725,\"rgb(242,107,73)\"],[0.7529411764705882,\"rgb(244,135,95)\"],[0.8156862745098039,\"rgb(245,162,122)\"],[0.8784313725490196,\"rgb(246,188,153)\"],[0.9411764705882353,\"rgb(247,212,187)\"],[1.0,\"rgb(250,234,220)\"]],\"type\":\"heatmapgl\"}],\"heatmap\":[{\"colorbar\":{\"outlinewidth\":0,\"tickcolor\":\"rgb(36,36,36)\",\"ticklen\":8,\"ticks\":\"outside\",\"tickwidth\":2},\"colorscale\":[[0.0,\"rgb(2,4,25)\"],[0.06274509803921569,\"rgb(24,15,41)\"],[0.12549019607843137,\"rgb(47,23,57)\"],[0.18823529411764706,\"rgb(71,28,72)\"],[0.25098039215686274,\"rgb(97,30,82)\"],[0.3137254901960784,\"rgb(123,30,89)\"],[0.3764705882352941,\"rgb(150,27,91)\"],[0.4392156862745098,\"rgb(177,22,88)\"],[0.5019607843137255,\"rgb(203,26,79)\"],[0.5647058823529412,\"rgb(223,47,67)\"],[0.6274509803921569,\"rgb(236,76,61)\"],[0.6901960784313725,\"rgb(242,107,73)\"],[0.7529411764705882,\"rgb(244,135,95)\"],[0.8156862745098039,\"rgb(245,162,122)\"],[0.8784313725490196,\"rgb(246,188,153)\"],[0.9411764705882353,\"rgb(247,212,187)\"],[1.0,\"rgb(250,234,220)\"]],\"type\":\"heatmap\"}],\"histogram2dcontour\":[{\"colorbar\":{\"outlinewidth\":0,\"tickcolor\":\"rgb(36,36,36)\",\"ticklen\":8,\"ticks\":\"outside\",\"tickwidth\":2},\"colorscale\":[[0.0,\"rgb(2,4,25)\"],[0.06274509803921569,\"rgb(24,15,41)\"],[0.12549019607843137,\"rgb(47,23,57)\"],[0.18823529411764706,\"rgb(71,28,72)\"],[0.25098039215686274,\"rgb(97,30,82)\"],[0.3137254901960784,\"rgb(123,30,89)\"],[0.3764705882352941,\"rgb(150,27,91)\"],[0.4392156862745098,\"rgb(177,22,88)\"],[0.5019607843137255,\"rgb(203,26,79)\"],[0.5647058823529412,\"rgb(223,47,67)\"],[0.6274509803921569,\"rgb(236,76,61)\"],[0.6901960784313725,\"rgb(242,107,73)\"],[0.7529411764705882,\"rgb(244,135,95)\"],[0.8156862745098039,\"rgb(245,162,122)\"],[0.8784313725490196,\"rgb(246,188,153)\"],[0.9411764705882353,\"rgb(247,212,187)\"],[1.0,\"rgb(250,234,220)\"]],\"type\":\"histogram2dcontour\"}],\"histogram2d\":[{\"colorbar\":{\"outlinewidth\":0,\"tickcolor\":\"rgb(36,36,36)\",\"ticklen\":8,\"ticks\":\"outside\",\"tickwidth\":2},\"colorscale\":[[0.0,\"rgb(2,4,25)\"],[0.06274509803921569,\"rgb(24,15,41)\"],[0.12549019607843137,\"rgb(47,23,57)\"],[0.18823529411764706,\"rgb(71,28,72)\"],[0.25098039215686274,\"rgb(97,30,82)\"],[0.3137254901960784,\"rgb(123,30,89)\"],[0.3764705882352941,\"rgb(150,27,91)\"],[0.4392156862745098,\"rgb(177,22,88)\"],[0.5019607843137255,\"rgb(203,26,79)\"],[0.5647058823529412,\"rgb(223,47,67)\"],[0.6274509803921569,\"rgb(236,76,61)\"],[0.6901960784313725,\"rgb(242,107,73)\"],[0.7529411764705882,\"rgb(244,135,95)\"],[0.8156862745098039,\"rgb(245,162,122)\"],[0.8784313725490196,\"rgb(246,188,153)\"],[0.9411764705882353,\"rgb(247,212,187)\"],[1.0,\"rgb(250,234,220)\"]],\"type\":\"histogram2d\"}],\"histogram\":[{\"marker\":{\"pattern\":{\"fillmode\":\"overlay\",\"size\":10,\"solidity\":0.2}},\"type\":\"histogram\"}],\"mesh3d\":[{\"colorbar\":{\"outlinewidth\":0,\"tickcolor\":\"rgb(36,36,36)\",\"ticklen\":8,\"ticks\":\"outside\",\"tickwidth\":2},\"type\":\"mesh3d\"}],\"parcoords\":[{\"line\":{\"colorbar\":{\"outlinewidth\":0,\"tickcolor\":\"rgb(36,36,36)\",\"ticklen\":8,\"ticks\":\"outside\",\"tickwidth\":2}},\"type\":\"parcoords\"}],\"pie\":[{\"automargin\":true,\"type\":\"pie\"}],\"scatter3d\":[{\"line\":{\"colorbar\":{\"outlinewidth\":0,\"tickcolor\":\"rgb(36,36,36)\",\"ticklen\":8,\"ticks\":\"outside\",\"tickwidth\":2}},\"marker\":{\"colorbar\":{\"outlinewidth\":0,\"tickcolor\":\"rgb(36,36,36)\",\"ticklen\":8,\"ticks\":\"outside\",\"tickwidth\":2}},\"type\":\"scatter3d\"}],\"scattercarpet\":[{\"marker\":{\"colorbar\":{\"outlinewidth\":0,\"tickcolor\":\"rgb(36,36,36)\",\"ticklen\":8,\"ticks\":\"outside\",\"tickwidth\":2}},\"type\":\"scattercarpet\"}],\"scattergeo\":[{\"marker\":{\"colorbar\":{\"outlinewidth\":0,\"tickcolor\":\"rgb(36,36,36)\",\"ticklen\":8,\"ticks\":\"outside\",\"tickwidth\":2}},\"type\":\"scattergeo\"}],\"scattergl\":[{\"marker\":{\"colorbar\":{\"outlinewidth\":0,\"tickcolor\":\"rgb(36,36,36)\",\"ticklen\":8,\"ticks\":\"outside\",\"tickwidth\":2}},\"type\":\"scattergl\"}],\"scattermapbox\":[{\"marker\":{\"colorbar\":{\"outlinewidth\":0,\"tickcolor\":\"rgb(36,36,36)\",\"ticklen\":8,\"ticks\":\"outside\",\"tickwidth\":2}},\"type\":\"scattermapbox\"}],\"scatterpolargl\":[{\"marker\":{\"colorbar\":{\"outlinewidth\":0,\"tickcolor\":\"rgb(36,36,36)\",\"ticklen\":8,\"ticks\":\"outside\",\"tickwidth\":2}},\"type\":\"scatterpolargl\"}],\"scatterpolar\":[{\"marker\":{\"colorbar\":{\"outlinewidth\":0,\"tickcolor\":\"rgb(36,36,36)\",\"ticklen\":8,\"ticks\":\"outside\",\"tickwidth\":2}},\"type\":\"scatterpolar\"}],\"scatter\":[{\"marker\":{\"colorbar\":{\"outlinewidth\":0,\"tickcolor\":\"rgb(36,36,36)\",\"ticklen\":8,\"ticks\":\"outside\",\"tickwidth\":2}},\"type\":\"scatter\"}],\"scatterternary\":[{\"marker\":{\"colorbar\":{\"outlinewidth\":0,\"tickcolor\":\"rgb(36,36,36)\",\"ticklen\":8,\"ticks\":\"outside\",\"tickwidth\":2}},\"type\":\"scatterternary\"}],\"surface\":[{\"colorbar\":{\"outlinewidth\":0,\"tickcolor\":\"rgb(36,36,36)\",\"ticklen\":8,\"ticks\":\"outside\",\"tickwidth\":2},\"colorscale\":[[0.0,\"rgb(2,4,25)\"],[0.06274509803921569,\"rgb(24,15,41)\"],[0.12549019607843137,\"rgb(47,23,57)\"],[0.18823529411764706,\"rgb(71,28,72)\"],[0.25098039215686274,\"rgb(97,30,82)\"],[0.3137254901960784,\"rgb(123,30,89)\"],[0.3764705882352941,\"rgb(150,27,91)\"],[0.4392156862745098,\"rgb(177,22,88)\"],[0.5019607843137255,\"rgb(203,26,79)\"],[0.5647058823529412,\"rgb(223,47,67)\"],[0.6274509803921569,\"rgb(236,76,61)\"],[0.6901960784313725,\"rgb(242,107,73)\"],[0.7529411764705882,\"rgb(244,135,95)\"],[0.8156862745098039,\"rgb(245,162,122)\"],[0.8784313725490196,\"rgb(246,188,153)\"],[0.9411764705882353,\"rgb(247,212,187)\"],[1.0,\"rgb(250,234,220)\"]],\"type\":\"surface\"}],\"table\":[{\"cells\":{\"fill\":{\"color\":\"rgb(231,231,240)\"},\"line\":{\"color\":\"white\"}},\"header\":{\"fill\":{\"color\":\"rgb(183,183,191)\"},\"line\":{\"color\":\"white\"}},\"type\":\"table\"}]},\"layout\":{\"annotationdefaults\":{\"arrowcolor\":\"rgb(67,103,167)\"},\"autotypenumbers\":\"strict\",\"coloraxis\":{\"colorbar\":{\"outlinewidth\":0,\"tickcolor\":\"rgb(36,36,36)\",\"ticklen\":8,\"ticks\":\"outside\",\"tickwidth\":2}},\"colorscale\":{\"sequential\":[[0.0,\"rgb(2,4,25)\"],[0.06274509803921569,\"rgb(24,15,41)\"],[0.12549019607843137,\"rgb(47,23,57)\"],[0.18823529411764706,\"rgb(71,28,72)\"],[0.25098039215686274,\"rgb(97,30,82)\"],[0.3137254901960784,\"rgb(123,30,89)\"],[0.3764705882352941,\"rgb(150,27,91)\"],[0.4392156862745098,\"rgb(177,22,88)\"],[0.5019607843137255,\"rgb(203,26,79)\"],[0.5647058823529412,\"rgb(223,47,67)\"],[0.6274509803921569,\"rgb(236,76,61)\"],[0.6901960784313725,\"rgb(242,107,73)\"],[0.7529411764705882,\"rgb(244,135,95)\"],[0.8156862745098039,\"rgb(245,162,122)\"],[0.8784313725490196,\"rgb(246,188,153)\"],[0.9411764705882353,\"rgb(247,212,187)\"],[1.0,\"rgb(250,234,220)\"]],\"sequentialminus\":[[0.0,\"rgb(2,4,25)\"],[0.06274509803921569,\"rgb(24,15,41)\"],[0.12549019607843137,\"rgb(47,23,57)\"],[0.18823529411764706,\"rgb(71,28,72)\"],[0.25098039215686274,\"rgb(97,30,82)\"],[0.3137254901960784,\"rgb(123,30,89)\"],[0.3764705882352941,\"rgb(150,27,91)\"],[0.4392156862745098,\"rgb(177,22,88)\"],[0.5019607843137255,\"rgb(203,26,79)\"],[0.5647058823529412,\"rgb(223,47,67)\"],[0.6274509803921569,\"rgb(236,76,61)\"],[0.6901960784313725,\"rgb(242,107,73)\"],[0.7529411764705882,\"rgb(244,135,95)\"],[0.8156862745098039,\"rgb(245,162,122)\"],[0.8784313725490196,\"rgb(246,188,153)\"],[0.9411764705882353,\"rgb(247,212,187)\"],[1.0,\"rgb(250,234,220)\"]]},\"colorway\":[\"rgb(76,114,176)\",\"rgb(221,132,82)\",\"rgb(85,168,104)\",\"rgb(196,78,82)\",\"rgb(129,114,179)\",\"rgb(147,120,96)\",\"rgb(218,139,195)\",\"rgb(140,140,140)\",\"rgb(204,185,116)\",\"rgb(100,181,205)\"],\"font\":{\"color\":\"rgb(36,36,36)\"},\"geo\":{\"bgcolor\":\"white\",\"lakecolor\":\"white\",\"landcolor\":\"rgb(234,234,242)\",\"showlakes\":true,\"showland\":true,\"subunitcolor\":\"white\"},\"hoverlabel\":{\"align\":\"left\"},\"hovermode\":\"closest\",\"paper_bgcolor\":\"white\",\"plot_bgcolor\":\"rgb(234,234,242)\",\"polar\":{\"angularaxis\":{\"gridcolor\":\"white\",\"linecolor\":\"white\",\"showgrid\":true,\"ticks\":\"\"},\"bgcolor\":\"rgb(234,234,242)\",\"radialaxis\":{\"gridcolor\":\"white\",\"linecolor\":\"white\",\"showgrid\":true,\"ticks\":\"\"}},\"scene\":{\"xaxis\":{\"backgroundcolor\":\"rgb(234,234,242)\",\"gridcolor\":\"white\",\"gridwidth\":2,\"linecolor\":\"white\",\"showbackground\":true,\"showgrid\":true,\"ticks\":\"\",\"zerolinecolor\":\"white\"},\"yaxis\":{\"backgroundcolor\":\"rgb(234,234,242)\",\"gridcolor\":\"white\",\"gridwidth\":2,\"linecolor\":\"white\",\"showbackground\":true,\"showgrid\":true,\"ticks\":\"\",\"zerolinecolor\":\"white\"},\"zaxis\":{\"backgroundcolor\":\"rgb(234,234,242)\",\"gridcolor\":\"white\",\"gridwidth\":2,\"linecolor\":\"white\",\"showbackground\":true,\"showgrid\":true,\"ticks\":\"\",\"zerolinecolor\":\"white\"}},\"shapedefaults\":{\"fillcolor\":\"rgb(67,103,167)\",\"line\":{\"width\":0},\"opacity\":0.5},\"ternary\":{\"aaxis\":{\"gridcolor\":\"white\",\"linecolor\":\"white\",\"showgrid\":true,\"ticks\":\"\"},\"baxis\":{\"gridcolor\":\"white\",\"linecolor\":\"white\",\"showgrid\":true,\"ticks\":\"\"},\"bgcolor\":\"rgb(234,234,242)\",\"caxis\":{\"gridcolor\":\"white\",\"linecolor\":\"white\",\"showgrid\":true,\"ticks\":\"\"}},\"xaxis\":{\"automargin\":true,\"gridcolor\":\"white\",\"linecolor\":\"white\",\"showgrid\":true,\"ticks\":\"\",\"title\":{\"standoff\":15},\"zerolinecolor\":\"white\"},\"yaxis\":{\"automargin\":true,\"gridcolor\":\"white\",\"linecolor\":\"white\",\"showgrid\":true,\"ticks\":\"\",\"title\":{\"standoff\":15},\"zerolinecolor\":\"white\"}}},\"legend\":{\"tracegroupgap\":0,\"orientation\":\"h\",\"yanchor\":\"bottom\",\"y\":1.0,\"xanchor\":\"right\",\"x\":1},\"title\":{\"text\":\"<b> The Distribution of Demands Job Based on Academic Degrees in 2020\",\"x\":0.2}},                        {\"responsive\": true}                    ).then(function(){\n",
       "                            \n",
       "var gd = document.getElementById('0ff99237-d8f3-4fb8-83b0-03158e9b79a6');\n",
       "var x = new MutationObserver(function (mutations, observer) {{\n",
       "        var display = window.getComputedStyle(gd).display;\n",
       "        if (!display || display === 'none') {{\n",
       "            console.log([gd, 'removed!']);\n",
       "            Plotly.purge(gd);\n",
       "            observer.disconnect();\n",
       "        }}\n",
       "}});\n",
       "\n",
       "// Listen for the removal of the full notebook cells\n",
       "var notebookContainer = gd.closest('#notebook-container');\n",
       "if (notebookContainer) {{\n",
       "    x.observe(notebookContainer, {childList: true});\n",
       "}}\n",
       "\n",
       "// Listen for the clearing of the current output cell\n",
       "var outputEl = gd.closest('.output');\n",
       "if (outputEl) {{\n",
       "    x.observe(outputEl, {childList: true});\n",
       "}}\n",
       "\n",
       "                        })                };                });            </script>        </div>"
      ]
     },
     "metadata": {},
     "output_type": "display_data"
    }
   ],
   "source": [
    "fig = px.pie(df.groupby('degrees', as_index=False)['degrees'].count().sort_values(by='degrees',ascending=False).head(10),\n",
    "             names=['Higher Vocational Education','bachelor','diploma','master','student','Doctorate'],\n",
    "             values='degrees',\n",
    "             color='degrees',\n",
    "             hole=0.8,\n",
    "             #labels={'degree':'degree','count':'count'},\n",
    "             template='seaborn',title='<b> The Distribution of Demands Job Based on Academic Degrees in 2020')\n",
    "\n",
    "\n",
    "fig.update_layout(title_x=0.2,legend=dict(orientation='h',yanchor='bottom',y=1.0,xanchor='right',x=1))"
   ]
  },
  {
   "cell_type": "markdown",
   "id": "62f4b1fb",
   "metadata": {},
   "source": [
    "### 7th plot || The Distribution of Required Levels of Jobs in 2020 \n",
    "#### This plot gives insight into the rate of required levels of jobs in 2020.  We can see the Entry-level and Mid-level jobs are almost the same rates with a little pet increase of required in Mid-level jobs. Follow that Associate-level with the same rates also, which usually designates a position that requires two or three years of experience. We noted the create decrease when we talked about the director-level and executive-level jobs. In the end, Internship-level is not a favorite with both seeker and employer it shapes less than 1% of the count of required jobs.\n"
   ]
  },
  {
   "cell_type": "code",
   "execution_count": 16,
   "id": "da3f020f",
   "metadata": {},
   "outputs": [
    {
     "data": {
      "application/vnd.plotly.v1+json": {
       "config": {
        "plotlyServerURL": "https://plot.ly"
       },
       "data": [
        {
         "customdata": [
          [
           12089
          ],
          [
           10696
          ],
          [
           10410
          ],
          [
           3870
          ],
          [
           2265
          ],
          [
           791
          ],
          [
           377
          ]
         ],
         "domain": {
          "x": [
           0,
           1
          ],
          "y": [
           0,
           1
          ]
         },
         "hole": 0.5,
         "hovertemplate": "label=%{label}<br>count=%{customdata[0]}<extra></extra>",
         "labels": [
          "MidSenior level",
          "Entry level",
          "Associate",
          "Not Applicable",
          "Director",
          "Executive",
          "Internship"
         ],
         "legendgroup": "",
         "marker": {
          "colors": [
           "rgb(76,114,176)",
           "rgb(221,132,82)",
           "rgb(85,168,104)",
           "rgb(196,78,82)",
           "rgb(129,114,179)",
           "rgb(147,120,96)",
           "rgb(218,139,195)"
          ]
         },
         "name": "",
         "showlegend": true,
         "type": "pie",
         "values": [
          12089,
          10696,
          10410,
          3870,
          2265,
          791,
          377
         ]
        }
       ],
       "layout": {
        "legend": {
         "orientation": "h",
         "tracegroupgap": 0,
         "x": 1,
         "xanchor": "right",
         "y": 1,
         "yanchor": "bottom"
        },
        "template": {
         "data": {
          "bar": [
           {
            "error_x": {
             "color": "rgb(36,36,36)"
            },
            "error_y": {
             "color": "rgb(36,36,36)"
            },
            "marker": {
             "line": {
              "color": "rgb(234,234,242)",
              "width": 0.5
             },
             "pattern": {
              "fillmode": "overlay",
              "size": 10,
              "solidity": 0.2
             }
            },
            "type": "bar"
           }
          ],
          "barpolar": [
           {
            "marker": {
             "line": {
              "color": "rgb(234,234,242)",
              "width": 0.5
             },
             "pattern": {
              "fillmode": "overlay",
              "size": 10,
              "solidity": 0.2
             }
            },
            "type": "barpolar"
           }
          ],
          "carpet": [
           {
            "aaxis": {
             "endlinecolor": "rgb(36,36,36)",
             "gridcolor": "white",
             "linecolor": "white",
             "minorgridcolor": "white",
             "startlinecolor": "rgb(36,36,36)"
            },
            "baxis": {
             "endlinecolor": "rgb(36,36,36)",
             "gridcolor": "white",
             "linecolor": "white",
             "minorgridcolor": "white",
             "startlinecolor": "rgb(36,36,36)"
            },
            "type": "carpet"
           }
          ],
          "choropleth": [
           {
            "colorbar": {
             "outlinewidth": 0,
             "tickcolor": "rgb(36,36,36)",
             "ticklen": 8,
             "ticks": "outside",
             "tickwidth": 2
            },
            "type": "choropleth"
           }
          ],
          "contour": [
           {
            "colorbar": {
             "outlinewidth": 0,
             "tickcolor": "rgb(36,36,36)",
             "ticklen": 8,
             "ticks": "outside",
             "tickwidth": 2
            },
            "colorscale": [
             [
              0,
              "rgb(2,4,25)"
             ],
             [
              0.06274509803921569,
              "rgb(24,15,41)"
             ],
             [
              0.12549019607843137,
              "rgb(47,23,57)"
             ],
             [
              0.18823529411764706,
              "rgb(71,28,72)"
             ],
             [
              0.25098039215686274,
              "rgb(97,30,82)"
             ],
             [
              0.3137254901960784,
              "rgb(123,30,89)"
             ],
             [
              0.3764705882352941,
              "rgb(150,27,91)"
             ],
             [
              0.4392156862745098,
              "rgb(177,22,88)"
             ],
             [
              0.5019607843137255,
              "rgb(203,26,79)"
             ],
             [
              0.5647058823529412,
              "rgb(223,47,67)"
             ],
             [
              0.6274509803921569,
              "rgb(236,76,61)"
             ],
             [
              0.6901960784313725,
              "rgb(242,107,73)"
             ],
             [
              0.7529411764705882,
              "rgb(244,135,95)"
             ],
             [
              0.8156862745098039,
              "rgb(245,162,122)"
             ],
             [
              0.8784313725490196,
              "rgb(246,188,153)"
             ],
             [
              0.9411764705882353,
              "rgb(247,212,187)"
             ],
             [
              1,
              "rgb(250,234,220)"
             ]
            ],
            "type": "contour"
           }
          ],
          "contourcarpet": [
           {
            "colorbar": {
             "outlinewidth": 0,
             "tickcolor": "rgb(36,36,36)",
             "ticklen": 8,
             "ticks": "outside",
             "tickwidth": 2
            },
            "type": "contourcarpet"
           }
          ],
          "heatmap": [
           {
            "colorbar": {
             "outlinewidth": 0,
             "tickcolor": "rgb(36,36,36)",
             "ticklen": 8,
             "ticks": "outside",
             "tickwidth": 2
            },
            "colorscale": [
             [
              0,
              "rgb(2,4,25)"
             ],
             [
              0.06274509803921569,
              "rgb(24,15,41)"
             ],
             [
              0.12549019607843137,
              "rgb(47,23,57)"
             ],
             [
              0.18823529411764706,
              "rgb(71,28,72)"
             ],
             [
              0.25098039215686274,
              "rgb(97,30,82)"
             ],
             [
              0.3137254901960784,
              "rgb(123,30,89)"
             ],
             [
              0.3764705882352941,
              "rgb(150,27,91)"
             ],
             [
              0.4392156862745098,
              "rgb(177,22,88)"
             ],
             [
              0.5019607843137255,
              "rgb(203,26,79)"
             ],
             [
              0.5647058823529412,
              "rgb(223,47,67)"
             ],
             [
              0.6274509803921569,
              "rgb(236,76,61)"
             ],
             [
              0.6901960784313725,
              "rgb(242,107,73)"
             ],
             [
              0.7529411764705882,
              "rgb(244,135,95)"
             ],
             [
              0.8156862745098039,
              "rgb(245,162,122)"
             ],
             [
              0.8784313725490196,
              "rgb(246,188,153)"
             ],
             [
              0.9411764705882353,
              "rgb(247,212,187)"
             ],
             [
              1,
              "rgb(250,234,220)"
             ]
            ],
            "type": "heatmap"
           }
          ],
          "heatmapgl": [
           {
            "colorbar": {
             "outlinewidth": 0,
             "tickcolor": "rgb(36,36,36)",
             "ticklen": 8,
             "ticks": "outside",
             "tickwidth": 2
            },
            "colorscale": [
             [
              0,
              "rgb(2,4,25)"
             ],
             [
              0.06274509803921569,
              "rgb(24,15,41)"
             ],
             [
              0.12549019607843137,
              "rgb(47,23,57)"
             ],
             [
              0.18823529411764706,
              "rgb(71,28,72)"
             ],
             [
              0.25098039215686274,
              "rgb(97,30,82)"
             ],
             [
              0.3137254901960784,
              "rgb(123,30,89)"
             ],
             [
              0.3764705882352941,
              "rgb(150,27,91)"
             ],
             [
              0.4392156862745098,
              "rgb(177,22,88)"
             ],
             [
              0.5019607843137255,
              "rgb(203,26,79)"
             ],
             [
              0.5647058823529412,
              "rgb(223,47,67)"
             ],
             [
              0.6274509803921569,
              "rgb(236,76,61)"
             ],
             [
              0.6901960784313725,
              "rgb(242,107,73)"
             ],
             [
              0.7529411764705882,
              "rgb(244,135,95)"
             ],
             [
              0.8156862745098039,
              "rgb(245,162,122)"
             ],
             [
              0.8784313725490196,
              "rgb(246,188,153)"
             ],
             [
              0.9411764705882353,
              "rgb(247,212,187)"
             ],
             [
              1,
              "rgb(250,234,220)"
             ]
            ],
            "type": "heatmapgl"
           }
          ],
          "histogram": [
           {
            "marker": {
             "pattern": {
              "fillmode": "overlay",
              "size": 10,
              "solidity": 0.2
             }
            },
            "type": "histogram"
           }
          ],
          "histogram2d": [
           {
            "colorbar": {
             "outlinewidth": 0,
             "tickcolor": "rgb(36,36,36)",
             "ticklen": 8,
             "ticks": "outside",
             "tickwidth": 2
            },
            "colorscale": [
             [
              0,
              "rgb(2,4,25)"
             ],
             [
              0.06274509803921569,
              "rgb(24,15,41)"
             ],
             [
              0.12549019607843137,
              "rgb(47,23,57)"
             ],
             [
              0.18823529411764706,
              "rgb(71,28,72)"
             ],
             [
              0.25098039215686274,
              "rgb(97,30,82)"
             ],
             [
              0.3137254901960784,
              "rgb(123,30,89)"
             ],
             [
              0.3764705882352941,
              "rgb(150,27,91)"
             ],
             [
              0.4392156862745098,
              "rgb(177,22,88)"
             ],
             [
              0.5019607843137255,
              "rgb(203,26,79)"
             ],
             [
              0.5647058823529412,
              "rgb(223,47,67)"
             ],
             [
              0.6274509803921569,
              "rgb(236,76,61)"
             ],
             [
              0.6901960784313725,
              "rgb(242,107,73)"
             ],
             [
              0.7529411764705882,
              "rgb(244,135,95)"
             ],
             [
              0.8156862745098039,
              "rgb(245,162,122)"
             ],
             [
              0.8784313725490196,
              "rgb(246,188,153)"
             ],
             [
              0.9411764705882353,
              "rgb(247,212,187)"
             ],
             [
              1,
              "rgb(250,234,220)"
             ]
            ],
            "type": "histogram2d"
           }
          ],
          "histogram2dcontour": [
           {
            "colorbar": {
             "outlinewidth": 0,
             "tickcolor": "rgb(36,36,36)",
             "ticklen": 8,
             "ticks": "outside",
             "tickwidth": 2
            },
            "colorscale": [
             [
              0,
              "rgb(2,4,25)"
             ],
             [
              0.06274509803921569,
              "rgb(24,15,41)"
             ],
             [
              0.12549019607843137,
              "rgb(47,23,57)"
             ],
             [
              0.18823529411764706,
              "rgb(71,28,72)"
             ],
             [
              0.25098039215686274,
              "rgb(97,30,82)"
             ],
             [
              0.3137254901960784,
              "rgb(123,30,89)"
             ],
             [
              0.3764705882352941,
              "rgb(150,27,91)"
             ],
             [
              0.4392156862745098,
              "rgb(177,22,88)"
             ],
             [
              0.5019607843137255,
              "rgb(203,26,79)"
             ],
             [
              0.5647058823529412,
              "rgb(223,47,67)"
             ],
             [
              0.6274509803921569,
              "rgb(236,76,61)"
             ],
             [
              0.6901960784313725,
              "rgb(242,107,73)"
             ],
             [
              0.7529411764705882,
              "rgb(244,135,95)"
             ],
             [
              0.8156862745098039,
              "rgb(245,162,122)"
             ],
             [
              0.8784313725490196,
              "rgb(246,188,153)"
             ],
             [
              0.9411764705882353,
              "rgb(247,212,187)"
             ],
             [
              1,
              "rgb(250,234,220)"
             ]
            ],
            "type": "histogram2dcontour"
           }
          ],
          "mesh3d": [
           {
            "colorbar": {
             "outlinewidth": 0,
             "tickcolor": "rgb(36,36,36)",
             "ticklen": 8,
             "ticks": "outside",
             "tickwidth": 2
            },
            "type": "mesh3d"
           }
          ],
          "parcoords": [
           {
            "line": {
             "colorbar": {
              "outlinewidth": 0,
              "tickcolor": "rgb(36,36,36)",
              "ticklen": 8,
              "ticks": "outside",
              "tickwidth": 2
             }
            },
            "type": "parcoords"
           }
          ],
          "pie": [
           {
            "automargin": true,
            "type": "pie"
           }
          ],
          "scatter": [
           {
            "marker": {
             "colorbar": {
              "outlinewidth": 0,
              "tickcolor": "rgb(36,36,36)",
              "ticklen": 8,
              "ticks": "outside",
              "tickwidth": 2
             }
            },
            "type": "scatter"
           }
          ],
          "scatter3d": [
           {
            "line": {
             "colorbar": {
              "outlinewidth": 0,
              "tickcolor": "rgb(36,36,36)",
              "ticklen": 8,
              "ticks": "outside",
              "tickwidth": 2
             }
            },
            "marker": {
             "colorbar": {
              "outlinewidth": 0,
              "tickcolor": "rgb(36,36,36)",
              "ticklen": 8,
              "ticks": "outside",
              "tickwidth": 2
             }
            },
            "type": "scatter3d"
           }
          ],
          "scattercarpet": [
           {
            "marker": {
             "colorbar": {
              "outlinewidth": 0,
              "tickcolor": "rgb(36,36,36)",
              "ticklen": 8,
              "ticks": "outside",
              "tickwidth": 2
             }
            },
            "type": "scattercarpet"
           }
          ],
          "scattergeo": [
           {
            "marker": {
             "colorbar": {
              "outlinewidth": 0,
              "tickcolor": "rgb(36,36,36)",
              "ticklen": 8,
              "ticks": "outside",
              "tickwidth": 2
             }
            },
            "type": "scattergeo"
           }
          ],
          "scattergl": [
           {
            "marker": {
             "colorbar": {
              "outlinewidth": 0,
              "tickcolor": "rgb(36,36,36)",
              "ticklen": 8,
              "ticks": "outside",
              "tickwidth": 2
             }
            },
            "type": "scattergl"
           }
          ],
          "scattermapbox": [
           {
            "marker": {
             "colorbar": {
              "outlinewidth": 0,
              "tickcolor": "rgb(36,36,36)",
              "ticklen": 8,
              "ticks": "outside",
              "tickwidth": 2
             }
            },
            "type": "scattermapbox"
           }
          ],
          "scatterpolar": [
           {
            "marker": {
             "colorbar": {
              "outlinewidth": 0,
              "tickcolor": "rgb(36,36,36)",
              "ticklen": 8,
              "ticks": "outside",
              "tickwidth": 2
             }
            },
            "type": "scatterpolar"
           }
          ],
          "scatterpolargl": [
           {
            "marker": {
             "colorbar": {
              "outlinewidth": 0,
              "tickcolor": "rgb(36,36,36)",
              "ticklen": 8,
              "ticks": "outside",
              "tickwidth": 2
             }
            },
            "type": "scatterpolargl"
           }
          ],
          "scatterternary": [
           {
            "marker": {
             "colorbar": {
              "outlinewidth": 0,
              "tickcolor": "rgb(36,36,36)",
              "ticklen": 8,
              "ticks": "outside",
              "tickwidth": 2
             }
            },
            "type": "scatterternary"
           }
          ],
          "surface": [
           {
            "colorbar": {
             "outlinewidth": 0,
             "tickcolor": "rgb(36,36,36)",
             "ticklen": 8,
             "ticks": "outside",
             "tickwidth": 2
            },
            "colorscale": [
             [
              0,
              "rgb(2,4,25)"
             ],
             [
              0.06274509803921569,
              "rgb(24,15,41)"
             ],
             [
              0.12549019607843137,
              "rgb(47,23,57)"
             ],
             [
              0.18823529411764706,
              "rgb(71,28,72)"
             ],
             [
              0.25098039215686274,
              "rgb(97,30,82)"
             ],
             [
              0.3137254901960784,
              "rgb(123,30,89)"
             ],
             [
              0.3764705882352941,
              "rgb(150,27,91)"
             ],
             [
              0.4392156862745098,
              "rgb(177,22,88)"
             ],
             [
              0.5019607843137255,
              "rgb(203,26,79)"
             ],
             [
              0.5647058823529412,
              "rgb(223,47,67)"
             ],
             [
              0.6274509803921569,
              "rgb(236,76,61)"
             ],
             [
              0.6901960784313725,
              "rgb(242,107,73)"
             ],
             [
              0.7529411764705882,
              "rgb(244,135,95)"
             ],
             [
              0.8156862745098039,
              "rgb(245,162,122)"
             ],
             [
              0.8784313725490196,
              "rgb(246,188,153)"
             ],
             [
              0.9411764705882353,
              "rgb(247,212,187)"
             ],
             [
              1,
              "rgb(250,234,220)"
             ]
            ],
            "type": "surface"
           }
          ],
          "table": [
           {
            "cells": {
             "fill": {
              "color": "rgb(231,231,240)"
             },
             "line": {
              "color": "white"
             }
            },
            "header": {
             "fill": {
              "color": "rgb(183,183,191)"
             },
             "line": {
              "color": "white"
             }
            },
            "type": "table"
           }
          ]
         },
         "layout": {
          "annotationdefaults": {
           "arrowcolor": "rgb(67,103,167)"
          },
          "autotypenumbers": "strict",
          "coloraxis": {
           "colorbar": {
            "outlinewidth": 0,
            "tickcolor": "rgb(36,36,36)",
            "ticklen": 8,
            "ticks": "outside",
            "tickwidth": 2
           }
          },
          "colorscale": {
           "sequential": [
            [
             0,
             "rgb(2,4,25)"
            ],
            [
             0.06274509803921569,
             "rgb(24,15,41)"
            ],
            [
             0.12549019607843137,
             "rgb(47,23,57)"
            ],
            [
             0.18823529411764706,
             "rgb(71,28,72)"
            ],
            [
             0.25098039215686274,
             "rgb(97,30,82)"
            ],
            [
             0.3137254901960784,
             "rgb(123,30,89)"
            ],
            [
             0.3764705882352941,
             "rgb(150,27,91)"
            ],
            [
             0.4392156862745098,
             "rgb(177,22,88)"
            ],
            [
             0.5019607843137255,
             "rgb(203,26,79)"
            ],
            [
             0.5647058823529412,
             "rgb(223,47,67)"
            ],
            [
             0.6274509803921569,
             "rgb(236,76,61)"
            ],
            [
             0.6901960784313725,
             "rgb(242,107,73)"
            ],
            [
             0.7529411764705882,
             "rgb(244,135,95)"
            ],
            [
             0.8156862745098039,
             "rgb(245,162,122)"
            ],
            [
             0.8784313725490196,
             "rgb(246,188,153)"
            ],
            [
             0.9411764705882353,
             "rgb(247,212,187)"
            ],
            [
             1,
             "rgb(250,234,220)"
            ]
           ],
           "sequentialminus": [
            [
             0,
             "rgb(2,4,25)"
            ],
            [
             0.06274509803921569,
             "rgb(24,15,41)"
            ],
            [
             0.12549019607843137,
             "rgb(47,23,57)"
            ],
            [
             0.18823529411764706,
             "rgb(71,28,72)"
            ],
            [
             0.25098039215686274,
             "rgb(97,30,82)"
            ],
            [
             0.3137254901960784,
             "rgb(123,30,89)"
            ],
            [
             0.3764705882352941,
             "rgb(150,27,91)"
            ],
            [
             0.4392156862745098,
             "rgb(177,22,88)"
            ],
            [
             0.5019607843137255,
             "rgb(203,26,79)"
            ],
            [
             0.5647058823529412,
             "rgb(223,47,67)"
            ],
            [
             0.6274509803921569,
             "rgb(236,76,61)"
            ],
            [
             0.6901960784313725,
             "rgb(242,107,73)"
            ],
            [
             0.7529411764705882,
             "rgb(244,135,95)"
            ],
            [
             0.8156862745098039,
             "rgb(245,162,122)"
            ],
            [
             0.8784313725490196,
             "rgb(246,188,153)"
            ],
            [
             0.9411764705882353,
             "rgb(247,212,187)"
            ],
            [
             1,
             "rgb(250,234,220)"
            ]
           ]
          },
          "colorway": [
           "rgb(76,114,176)",
           "rgb(221,132,82)",
           "rgb(85,168,104)",
           "rgb(196,78,82)",
           "rgb(129,114,179)",
           "rgb(147,120,96)",
           "rgb(218,139,195)",
           "rgb(140,140,140)",
           "rgb(204,185,116)",
           "rgb(100,181,205)"
          ],
          "font": {
           "color": "rgb(36,36,36)"
          },
          "geo": {
           "bgcolor": "white",
           "lakecolor": "white",
           "landcolor": "rgb(234,234,242)",
           "showlakes": true,
           "showland": true,
           "subunitcolor": "white"
          },
          "hoverlabel": {
           "align": "left"
          },
          "hovermode": "closest",
          "paper_bgcolor": "white",
          "plot_bgcolor": "rgb(234,234,242)",
          "polar": {
           "angularaxis": {
            "gridcolor": "white",
            "linecolor": "white",
            "showgrid": true,
            "ticks": ""
           },
           "bgcolor": "rgb(234,234,242)",
           "radialaxis": {
            "gridcolor": "white",
            "linecolor": "white",
            "showgrid": true,
            "ticks": ""
           }
          },
          "scene": {
           "xaxis": {
            "backgroundcolor": "rgb(234,234,242)",
            "gridcolor": "white",
            "gridwidth": 2,
            "linecolor": "white",
            "showbackground": true,
            "showgrid": true,
            "ticks": "",
            "zerolinecolor": "white"
           },
           "yaxis": {
            "backgroundcolor": "rgb(234,234,242)",
            "gridcolor": "white",
            "gridwidth": 2,
            "linecolor": "white",
            "showbackground": true,
            "showgrid": true,
            "ticks": "",
            "zerolinecolor": "white"
           },
           "zaxis": {
            "backgroundcolor": "rgb(234,234,242)",
            "gridcolor": "white",
            "gridwidth": 2,
            "linecolor": "white",
            "showbackground": true,
            "showgrid": true,
            "ticks": "",
            "zerolinecolor": "white"
           }
          },
          "shapedefaults": {
           "fillcolor": "rgb(67,103,167)",
           "line": {
            "width": 0
           },
           "opacity": 0.5
          },
          "ternary": {
           "aaxis": {
            "gridcolor": "white",
            "linecolor": "white",
            "showgrid": true,
            "ticks": ""
           },
           "baxis": {
            "gridcolor": "white",
            "linecolor": "white",
            "showgrid": true,
            "ticks": ""
           },
           "bgcolor": "rgb(234,234,242)",
           "caxis": {
            "gridcolor": "white",
            "linecolor": "white",
            "showgrid": true,
            "ticks": ""
           }
          },
          "xaxis": {
           "automargin": true,
           "gridcolor": "white",
           "linecolor": "white",
           "showgrid": true,
           "ticks": "",
           "title": {
            "standoff": 15
           },
           "zerolinecolor": "white"
          },
          "yaxis": {
           "automargin": true,
           "gridcolor": "white",
           "linecolor": "white",
           "showgrid": true,
           "ticks": "",
           "title": {
            "standoff": 15
           },
           "zerolinecolor": "white"
          }
         }
        },
        "title": {
         "text": "<b>  The Distribution of Required Levels of Jobs in 2020",
         "x": 0.2
        }
       }
      },
      "text/html": [
       "<div>                            <div id=\"54a31ba4-90f6-4123-b339-84f7ccd6a76c\" class=\"plotly-graph-div\" style=\"height:525px; width:100%;\"></div>            <script type=\"text/javascript\">                require([\"plotly\"], function(Plotly) {                    window.PLOTLYENV=window.PLOTLYENV || {};                                    if (document.getElementById(\"54a31ba4-90f6-4123-b339-84f7ccd6a76c\")) {                    Plotly.newPlot(                        \"54a31ba4-90f6-4123-b339-84f7ccd6a76c\",                        [{\"customdata\":[[12089],[10696],[10410],[3870],[2265],[791],[377]],\"domain\":{\"x\":[0.0,1.0],\"y\":[0.0,1.0]},\"hole\":0.5,\"hovertemplate\":\"label=%{label}<br>count=%{customdata[0]}<extra></extra>\",\"labels\":[\"MidSenior level\",\"Entry level\",\"Associate\",\"Not Applicable\",\"Director\",\"Executive\",\"Internship\"],\"legendgroup\":\"\",\"marker\":{\"colors\":[\"rgb(76,114,176)\",\"rgb(221,132,82)\",\"rgb(85,168,104)\",\"rgb(196,78,82)\",\"rgb(129,114,179)\",\"rgb(147,120,96)\",\"rgb(218,139,195)\"]},\"name\":\"\",\"showlegend\":true,\"values\":[12089,10696,10410,3870,2265,791,377],\"type\":\"pie\"}],                        {\"template\":{\"data\":{\"barpolar\":[{\"marker\":{\"line\":{\"color\":\"rgb(234,234,242)\",\"width\":0.5},\"pattern\":{\"fillmode\":\"overlay\",\"size\":10,\"solidity\":0.2}},\"type\":\"barpolar\"}],\"bar\":[{\"error_x\":{\"color\":\"rgb(36,36,36)\"},\"error_y\":{\"color\":\"rgb(36,36,36)\"},\"marker\":{\"line\":{\"color\":\"rgb(234,234,242)\",\"width\":0.5},\"pattern\":{\"fillmode\":\"overlay\",\"size\":10,\"solidity\":0.2}},\"type\":\"bar\"}],\"carpet\":[{\"aaxis\":{\"endlinecolor\":\"rgb(36,36,36)\",\"gridcolor\":\"white\",\"linecolor\":\"white\",\"minorgridcolor\":\"white\",\"startlinecolor\":\"rgb(36,36,36)\"},\"baxis\":{\"endlinecolor\":\"rgb(36,36,36)\",\"gridcolor\":\"white\",\"linecolor\":\"white\",\"minorgridcolor\":\"white\",\"startlinecolor\":\"rgb(36,36,36)\"},\"type\":\"carpet\"}],\"choropleth\":[{\"colorbar\":{\"outlinewidth\":0,\"tickcolor\":\"rgb(36,36,36)\",\"ticklen\":8,\"ticks\":\"outside\",\"tickwidth\":2},\"type\":\"choropleth\"}],\"contourcarpet\":[{\"colorbar\":{\"outlinewidth\":0,\"tickcolor\":\"rgb(36,36,36)\",\"ticklen\":8,\"ticks\":\"outside\",\"tickwidth\":2},\"type\":\"contourcarpet\"}],\"contour\":[{\"colorbar\":{\"outlinewidth\":0,\"tickcolor\":\"rgb(36,36,36)\",\"ticklen\":8,\"ticks\":\"outside\",\"tickwidth\":2},\"colorscale\":[[0.0,\"rgb(2,4,25)\"],[0.06274509803921569,\"rgb(24,15,41)\"],[0.12549019607843137,\"rgb(47,23,57)\"],[0.18823529411764706,\"rgb(71,28,72)\"],[0.25098039215686274,\"rgb(97,30,82)\"],[0.3137254901960784,\"rgb(123,30,89)\"],[0.3764705882352941,\"rgb(150,27,91)\"],[0.4392156862745098,\"rgb(177,22,88)\"],[0.5019607843137255,\"rgb(203,26,79)\"],[0.5647058823529412,\"rgb(223,47,67)\"],[0.6274509803921569,\"rgb(236,76,61)\"],[0.6901960784313725,\"rgb(242,107,73)\"],[0.7529411764705882,\"rgb(244,135,95)\"],[0.8156862745098039,\"rgb(245,162,122)\"],[0.8784313725490196,\"rgb(246,188,153)\"],[0.9411764705882353,\"rgb(247,212,187)\"],[1.0,\"rgb(250,234,220)\"]],\"type\":\"contour\"}],\"heatmapgl\":[{\"colorbar\":{\"outlinewidth\":0,\"tickcolor\":\"rgb(36,36,36)\",\"ticklen\":8,\"ticks\":\"outside\",\"tickwidth\":2},\"colorscale\":[[0.0,\"rgb(2,4,25)\"],[0.06274509803921569,\"rgb(24,15,41)\"],[0.12549019607843137,\"rgb(47,23,57)\"],[0.18823529411764706,\"rgb(71,28,72)\"],[0.25098039215686274,\"rgb(97,30,82)\"],[0.3137254901960784,\"rgb(123,30,89)\"],[0.3764705882352941,\"rgb(150,27,91)\"],[0.4392156862745098,\"rgb(177,22,88)\"],[0.5019607843137255,\"rgb(203,26,79)\"],[0.5647058823529412,\"rgb(223,47,67)\"],[0.6274509803921569,\"rgb(236,76,61)\"],[0.6901960784313725,\"rgb(242,107,73)\"],[0.7529411764705882,\"rgb(244,135,95)\"],[0.8156862745098039,\"rgb(245,162,122)\"],[0.8784313725490196,\"rgb(246,188,153)\"],[0.9411764705882353,\"rgb(247,212,187)\"],[1.0,\"rgb(250,234,220)\"]],\"type\":\"heatmapgl\"}],\"heatmap\":[{\"colorbar\":{\"outlinewidth\":0,\"tickcolor\":\"rgb(36,36,36)\",\"ticklen\":8,\"ticks\":\"outside\",\"tickwidth\":2},\"colorscale\":[[0.0,\"rgb(2,4,25)\"],[0.06274509803921569,\"rgb(24,15,41)\"],[0.12549019607843137,\"rgb(47,23,57)\"],[0.18823529411764706,\"rgb(71,28,72)\"],[0.25098039215686274,\"rgb(97,30,82)\"],[0.3137254901960784,\"rgb(123,30,89)\"],[0.3764705882352941,\"rgb(150,27,91)\"],[0.4392156862745098,\"rgb(177,22,88)\"],[0.5019607843137255,\"rgb(203,26,79)\"],[0.5647058823529412,\"rgb(223,47,67)\"],[0.6274509803921569,\"rgb(236,76,61)\"],[0.6901960784313725,\"rgb(242,107,73)\"],[0.7529411764705882,\"rgb(244,135,95)\"],[0.8156862745098039,\"rgb(245,162,122)\"],[0.8784313725490196,\"rgb(246,188,153)\"],[0.9411764705882353,\"rgb(247,212,187)\"],[1.0,\"rgb(250,234,220)\"]],\"type\":\"heatmap\"}],\"histogram2dcontour\":[{\"colorbar\":{\"outlinewidth\":0,\"tickcolor\":\"rgb(36,36,36)\",\"ticklen\":8,\"ticks\":\"outside\",\"tickwidth\":2},\"colorscale\":[[0.0,\"rgb(2,4,25)\"],[0.06274509803921569,\"rgb(24,15,41)\"],[0.12549019607843137,\"rgb(47,23,57)\"],[0.18823529411764706,\"rgb(71,28,72)\"],[0.25098039215686274,\"rgb(97,30,82)\"],[0.3137254901960784,\"rgb(123,30,89)\"],[0.3764705882352941,\"rgb(150,27,91)\"],[0.4392156862745098,\"rgb(177,22,88)\"],[0.5019607843137255,\"rgb(203,26,79)\"],[0.5647058823529412,\"rgb(223,47,67)\"],[0.6274509803921569,\"rgb(236,76,61)\"],[0.6901960784313725,\"rgb(242,107,73)\"],[0.7529411764705882,\"rgb(244,135,95)\"],[0.8156862745098039,\"rgb(245,162,122)\"],[0.8784313725490196,\"rgb(246,188,153)\"],[0.9411764705882353,\"rgb(247,212,187)\"],[1.0,\"rgb(250,234,220)\"]],\"type\":\"histogram2dcontour\"}],\"histogram2d\":[{\"colorbar\":{\"outlinewidth\":0,\"tickcolor\":\"rgb(36,36,36)\",\"ticklen\":8,\"ticks\":\"outside\",\"tickwidth\":2},\"colorscale\":[[0.0,\"rgb(2,4,25)\"],[0.06274509803921569,\"rgb(24,15,41)\"],[0.12549019607843137,\"rgb(47,23,57)\"],[0.18823529411764706,\"rgb(71,28,72)\"],[0.25098039215686274,\"rgb(97,30,82)\"],[0.3137254901960784,\"rgb(123,30,89)\"],[0.3764705882352941,\"rgb(150,27,91)\"],[0.4392156862745098,\"rgb(177,22,88)\"],[0.5019607843137255,\"rgb(203,26,79)\"],[0.5647058823529412,\"rgb(223,47,67)\"],[0.6274509803921569,\"rgb(236,76,61)\"],[0.6901960784313725,\"rgb(242,107,73)\"],[0.7529411764705882,\"rgb(244,135,95)\"],[0.8156862745098039,\"rgb(245,162,122)\"],[0.8784313725490196,\"rgb(246,188,153)\"],[0.9411764705882353,\"rgb(247,212,187)\"],[1.0,\"rgb(250,234,220)\"]],\"type\":\"histogram2d\"}],\"histogram\":[{\"marker\":{\"pattern\":{\"fillmode\":\"overlay\",\"size\":10,\"solidity\":0.2}},\"type\":\"histogram\"}],\"mesh3d\":[{\"colorbar\":{\"outlinewidth\":0,\"tickcolor\":\"rgb(36,36,36)\",\"ticklen\":8,\"ticks\":\"outside\",\"tickwidth\":2},\"type\":\"mesh3d\"}],\"parcoords\":[{\"line\":{\"colorbar\":{\"outlinewidth\":0,\"tickcolor\":\"rgb(36,36,36)\",\"ticklen\":8,\"ticks\":\"outside\",\"tickwidth\":2}},\"type\":\"parcoords\"}],\"pie\":[{\"automargin\":true,\"type\":\"pie\"}],\"scatter3d\":[{\"line\":{\"colorbar\":{\"outlinewidth\":0,\"tickcolor\":\"rgb(36,36,36)\",\"ticklen\":8,\"ticks\":\"outside\",\"tickwidth\":2}},\"marker\":{\"colorbar\":{\"outlinewidth\":0,\"tickcolor\":\"rgb(36,36,36)\",\"ticklen\":8,\"ticks\":\"outside\",\"tickwidth\":2}},\"type\":\"scatter3d\"}],\"scattercarpet\":[{\"marker\":{\"colorbar\":{\"outlinewidth\":0,\"tickcolor\":\"rgb(36,36,36)\",\"ticklen\":8,\"ticks\":\"outside\",\"tickwidth\":2}},\"type\":\"scattercarpet\"}],\"scattergeo\":[{\"marker\":{\"colorbar\":{\"outlinewidth\":0,\"tickcolor\":\"rgb(36,36,36)\",\"ticklen\":8,\"ticks\":\"outside\",\"tickwidth\":2}},\"type\":\"scattergeo\"}],\"scattergl\":[{\"marker\":{\"colorbar\":{\"outlinewidth\":0,\"tickcolor\":\"rgb(36,36,36)\",\"ticklen\":8,\"ticks\":\"outside\",\"tickwidth\":2}},\"type\":\"scattergl\"}],\"scattermapbox\":[{\"marker\":{\"colorbar\":{\"outlinewidth\":0,\"tickcolor\":\"rgb(36,36,36)\",\"ticklen\":8,\"ticks\":\"outside\",\"tickwidth\":2}},\"type\":\"scattermapbox\"}],\"scatterpolargl\":[{\"marker\":{\"colorbar\":{\"outlinewidth\":0,\"tickcolor\":\"rgb(36,36,36)\",\"ticklen\":8,\"ticks\":\"outside\",\"tickwidth\":2}},\"type\":\"scatterpolargl\"}],\"scatterpolar\":[{\"marker\":{\"colorbar\":{\"outlinewidth\":0,\"tickcolor\":\"rgb(36,36,36)\",\"ticklen\":8,\"ticks\":\"outside\",\"tickwidth\":2}},\"type\":\"scatterpolar\"}],\"scatter\":[{\"marker\":{\"colorbar\":{\"outlinewidth\":0,\"tickcolor\":\"rgb(36,36,36)\",\"ticklen\":8,\"ticks\":\"outside\",\"tickwidth\":2}},\"type\":\"scatter\"}],\"scatterternary\":[{\"marker\":{\"colorbar\":{\"outlinewidth\":0,\"tickcolor\":\"rgb(36,36,36)\",\"ticklen\":8,\"ticks\":\"outside\",\"tickwidth\":2}},\"type\":\"scatterternary\"}],\"surface\":[{\"colorbar\":{\"outlinewidth\":0,\"tickcolor\":\"rgb(36,36,36)\",\"ticklen\":8,\"ticks\":\"outside\",\"tickwidth\":2},\"colorscale\":[[0.0,\"rgb(2,4,25)\"],[0.06274509803921569,\"rgb(24,15,41)\"],[0.12549019607843137,\"rgb(47,23,57)\"],[0.18823529411764706,\"rgb(71,28,72)\"],[0.25098039215686274,\"rgb(97,30,82)\"],[0.3137254901960784,\"rgb(123,30,89)\"],[0.3764705882352941,\"rgb(150,27,91)\"],[0.4392156862745098,\"rgb(177,22,88)\"],[0.5019607843137255,\"rgb(203,26,79)\"],[0.5647058823529412,\"rgb(223,47,67)\"],[0.6274509803921569,\"rgb(236,76,61)\"],[0.6901960784313725,\"rgb(242,107,73)\"],[0.7529411764705882,\"rgb(244,135,95)\"],[0.8156862745098039,\"rgb(245,162,122)\"],[0.8784313725490196,\"rgb(246,188,153)\"],[0.9411764705882353,\"rgb(247,212,187)\"],[1.0,\"rgb(250,234,220)\"]],\"type\":\"surface\"}],\"table\":[{\"cells\":{\"fill\":{\"color\":\"rgb(231,231,240)\"},\"line\":{\"color\":\"white\"}},\"header\":{\"fill\":{\"color\":\"rgb(183,183,191)\"},\"line\":{\"color\":\"white\"}},\"type\":\"table\"}]},\"layout\":{\"annotationdefaults\":{\"arrowcolor\":\"rgb(67,103,167)\"},\"autotypenumbers\":\"strict\",\"coloraxis\":{\"colorbar\":{\"outlinewidth\":0,\"tickcolor\":\"rgb(36,36,36)\",\"ticklen\":8,\"ticks\":\"outside\",\"tickwidth\":2}},\"colorscale\":{\"sequential\":[[0.0,\"rgb(2,4,25)\"],[0.06274509803921569,\"rgb(24,15,41)\"],[0.12549019607843137,\"rgb(47,23,57)\"],[0.18823529411764706,\"rgb(71,28,72)\"],[0.25098039215686274,\"rgb(97,30,82)\"],[0.3137254901960784,\"rgb(123,30,89)\"],[0.3764705882352941,\"rgb(150,27,91)\"],[0.4392156862745098,\"rgb(177,22,88)\"],[0.5019607843137255,\"rgb(203,26,79)\"],[0.5647058823529412,\"rgb(223,47,67)\"],[0.6274509803921569,\"rgb(236,76,61)\"],[0.6901960784313725,\"rgb(242,107,73)\"],[0.7529411764705882,\"rgb(244,135,95)\"],[0.8156862745098039,\"rgb(245,162,122)\"],[0.8784313725490196,\"rgb(246,188,153)\"],[0.9411764705882353,\"rgb(247,212,187)\"],[1.0,\"rgb(250,234,220)\"]],\"sequentialminus\":[[0.0,\"rgb(2,4,25)\"],[0.06274509803921569,\"rgb(24,15,41)\"],[0.12549019607843137,\"rgb(47,23,57)\"],[0.18823529411764706,\"rgb(71,28,72)\"],[0.25098039215686274,\"rgb(97,30,82)\"],[0.3137254901960784,\"rgb(123,30,89)\"],[0.3764705882352941,\"rgb(150,27,91)\"],[0.4392156862745098,\"rgb(177,22,88)\"],[0.5019607843137255,\"rgb(203,26,79)\"],[0.5647058823529412,\"rgb(223,47,67)\"],[0.6274509803921569,\"rgb(236,76,61)\"],[0.6901960784313725,\"rgb(242,107,73)\"],[0.7529411764705882,\"rgb(244,135,95)\"],[0.8156862745098039,\"rgb(245,162,122)\"],[0.8784313725490196,\"rgb(246,188,153)\"],[0.9411764705882353,\"rgb(247,212,187)\"],[1.0,\"rgb(250,234,220)\"]]},\"colorway\":[\"rgb(76,114,176)\",\"rgb(221,132,82)\",\"rgb(85,168,104)\",\"rgb(196,78,82)\",\"rgb(129,114,179)\",\"rgb(147,120,96)\",\"rgb(218,139,195)\",\"rgb(140,140,140)\",\"rgb(204,185,116)\",\"rgb(100,181,205)\"],\"font\":{\"color\":\"rgb(36,36,36)\"},\"geo\":{\"bgcolor\":\"white\",\"lakecolor\":\"white\",\"landcolor\":\"rgb(234,234,242)\",\"showlakes\":true,\"showland\":true,\"subunitcolor\":\"white\"},\"hoverlabel\":{\"align\":\"left\"},\"hovermode\":\"closest\",\"paper_bgcolor\":\"white\",\"plot_bgcolor\":\"rgb(234,234,242)\",\"polar\":{\"angularaxis\":{\"gridcolor\":\"white\",\"linecolor\":\"white\",\"showgrid\":true,\"ticks\":\"\"},\"bgcolor\":\"rgb(234,234,242)\",\"radialaxis\":{\"gridcolor\":\"white\",\"linecolor\":\"white\",\"showgrid\":true,\"ticks\":\"\"}},\"scene\":{\"xaxis\":{\"backgroundcolor\":\"rgb(234,234,242)\",\"gridcolor\":\"white\",\"gridwidth\":2,\"linecolor\":\"white\",\"showbackground\":true,\"showgrid\":true,\"ticks\":\"\",\"zerolinecolor\":\"white\"},\"yaxis\":{\"backgroundcolor\":\"rgb(234,234,242)\",\"gridcolor\":\"white\",\"gridwidth\":2,\"linecolor\":\"white\",\"showbackground\":true,\"showgrid\":true,\"ticks\":\"\",\"zerolinecolor\":\"white\"},\"zaxis\":{\"backgroundcolor\":\"rgb(234,234,242)\",\"gridcolor\":\"white\",\"gridwidth\":2,\"linecolor\":\"white\",\"showbackground\":true,\"showgrid\":true,\"ticks\":\"\",\"zerolinecolor\":\"white\"}},\"shapedefaults\":{\"fillcolor\":\"rgb(67,103,167)\",\"line\":{\"width\":0},\"opacity\":0.5},\"ternary\":{\"aaxis\":{\"gridcolor\":\"white\",\"linecolor\":\"white\",\"showgrid\":true,\"ticks\":\"\"},\"baxis\":{\"gridcolor\":\"white\",\"linecolor\":\"white\",\"showgrid\":true,\"ticks\":\"\"},\"bgcolor\":\"rgb(234,234,242)\",\"caxis\":{\"gridcolor\":\"white\",\"linecolor\":\"white\",\"showgrid\":true,\"ticks\":\"\"}},\"xaxis\":{\"automargin\":true,\"gridcolor\":\"white\",\"linecolor\":\"white\",\"showgrid\":true,\"ticks\":\"\",\"title\":{\"standoff\":15},\"zerolinecolor\":\"white\"},\"yaxis\":{\"automargin\":true,\"gridcolor\":\"white\",\"linecolor\":\"white\",\"showgrid\":true,\"ticks\":\"\",\"title\":{\"standoff\":15},\"zerolinecolor\":\"white\"}}},\"legend\":{\"tracegroupgap\":0,\"orientation\":\"h\",\"yanchor\":\"bottom\",\"y\":1.0,\"xanchor\":\"right\",\"x\":1},\"title\":{\"text\":\"<b>  The Distribution of Required Levels of Jobs in 2020\",\"x\":0.2}},                        {\"responsive\": true}                    ).then(function(){\n",
       "                            \n",
       "var gd = document.getElementById('54a31ba4-90f6-4123-b339-84f7ccd6a76c');\n",
       "var x = new MutationObserver(function (mutations, observer) {{\n",
       "        var display = window.getComputedStyle(gd).display;\n",
       "        if (!display || display === 'none') {{\n",
       "            console.log([gd, 'removed!']);\n",
       "            Plotly.purge(gd);\n",
       "            observer.disconnect();\n",
       "        }}\n",
       "}});\n",
       "\n",
       "// Listen for the removal of the full notebook cells\n",
       "var notebookContainer = gd.closest('#notebook-container');\n",
       "if (notebookContainer) {{\n",
       "    x.observe(notebookContainer, {childList: true});\n",
       "}}\n",
       "\n",
       "// Listen for the clearing of the current output cell\n",
       "var outputEl = gd.closest('.output');\n",
       "if (outputEl) {{\n",
       "    x.observe(outputEl, {childList: true});\n",
       "}}\n",
       "\n",
       "                        })                };                });            </script>        </div>"
      ]
     },
     "metadata": {},
     "output_type": "display_data"
    }
   ],
   "source": [
    "fig = px.pie(df.groupby('level', as_index=False)['level'].count().sort_values(by='level',ascending=False).head(10),\n",
    "             names=['MidSenior level','Entry level','Associate','Not Applicable','Director','Executive','Internship'],\n",
    "             values='level',\n",
    "             color='level',\n",
    "             hole=0.5,\n",
    "             labels={'experience_level':'job level ','level':'count'},\n",
    "             template='seaborn',title='<b>  The Distribution of Required Levels of Jobs in 2020')\n",
    "\n",
    "\n",
    "fig.update_layout(title_x=0.2,legend=dict(orientation='h',yanchor='bottom',y=1.0,xanchor='right',x=1))"
   ]
  },
  {
   "cell_type": "markdown",
   "id": "a88f413c",
   "metadata": {},
   "source": [
    "### 8th plot ||  Different Education Degrees in Regions with years of Experience\n",
    "#### This plot gives insight into jobs that require a degree of Vocational Education wherein are accepted in the absence of experience by the employer, and this is evidence of the efficiency of this degree in producing a worker with high professional competence. Also, we noted that the higher we rise the academic degree, the fewer employment opportunities for those without experience in most of the regions in 2020. This may be an indication of employers' desire to compensate for losses after the Covid-19 pandemic by accepting seekers who have experience."
   ]
  },
  {
   "cell_type": "code",
   "execution_count": 17,
   "id": "1e69f02b",
   "metadata": {},
   "outputs": [
    {
     "data": {
      "application/vnd.plotly.v1+json": {
       "config": {
        "plotlyServerURL": "https://plot.ly"
       },
       "data": [
        {
         "branchvalues": "total",
         "domain": {
          "x": [
           0,
           1
          ],
          "y": [
           0,
           1
          ]
         },
         "hovertemplate": "<b>%{hovertext}</b><br><br>labels=%{label}<br>count=%{value}<br>parent=%{parent}<br>id=%{id}<extra></extra>",
         "hovertext": [
          "Higher Vocational Education",
          "diploma",
          "Higher Vocational Education",
          "bachelor",
          "diploma",
          "master",
          "Higher Vocational Education",
          "bachelor",
          "Doctorate",
          "Higher Vocational Education",
          "bachelor",
          "diploma",
          "master",
          "student",
          "Higher Vocational Education",
          "bachelor",
          "diploma",
          "Higher Vocational Education",
          "bachelor",
          "diploma",
          "master",
          "Doctorate",
          "Higher Vocational Education",
          "bachelor",
          "diploma",
          "master",
          "student",
          "Higher Vocational Education",
          "bachelor",
          "diploma",
          "master",
          "Higher Vocational Education",
          "diploma",
          "Higher Vocational Education",
          "bachelor",
          "master",
          "Higher Vocational Education",
          "bachelor",
          "diploma",
          "master",
          "student",
          "Doctorate",
          "Higher Vocational Education",
          "bachelor",
          "diploma",
          "master",
          "student",
          "Higher Vocational Education",
          "bachelor",
          "diploma",
          "master",
          "bachelor",
          "bachelor",
          "Higher Vocational Education",
          "bachelor",
          "Higher Vocational Education",
          "bachelor",
          "diploma",
          "Higher Vocational Education",
          "bachelor",
          "diploma",
          "master",
          "student",
          "Higher Vocational Education",
          "bachelor",
          "diploma",
          "Doctorate",
          "Higher Vocational Education",
          "bachelor",
          "diploma",
          "master",
          "student",
          "Higher Vocational Education",
          "bachelor",
          "diploma",
          "Higher Vocational Education",
          "bachelor",
          "diploma",
          "master",
          "student",
          "Higher Vocational Education",
          "bachelor",
          "diploma",
          "master",
          "student",
          "Higher Vocational Education",
          "bachelor",
          "Higher Vocational Education",
          "bachelor",
          "diploma",
          "Higher Vocational Education",
          "bachelor",
          "Doctorate",
          "Higher Vocational Education",
          "bachelor",
          "diploma",
          "master",
          "Higher Vocational Education",
          "bachelor",
          "Higher Vocational Education",
          "bachelor",
          "diploma",
          "master",
          "Higher Vocational Education",
          "bachelor",
          "diploma",
          "master",
          "Higher Vocational Education",
          "bachelor",
          "diploma",
          "master",
          "bachelor",
          "Higher Vocational Education",
          "bachelor",
          "Higher Vocational Education",
          "bachelor",
          "Higher Vocational Education",
          "bachelor",
          "diploma",
          "master",
          "Doctorate",
          "Higher Vocational Education",
          "bachelor",
          "diploma",
          "master",
          "student",
          "Higher Vocational Education",
          "bachelor",
          "diploma",
          "master",
          "Higher Vocational Education",
          "bachelor",
          "master",
          "Higher Vocational Education",
          "bachelor",
          "diploma",
          "master",
          "Higher Vocational Education",
          "bachelor",
          "diploma",
          "master",
          "Higher Vocational Education",
          "bachelor",
          "diploma",
          "master",
          "Doctorate",
          "Higher Vocational Education",
          "bachelor",
          "diploma",
          "master",
          "student",
          "Higher Vocational Education",
          "bachelor",
          "master",
          "Higher Vocational Education",
          "bachelor",
          "diploma",
          "master",
          "Doctorate",
          "Higher Vocational Education",
          "bachelor",
          "diploma",
          "master",
          "student",
          "Doctorate",
          "Higher Vocational Education",
          "bachelor",
          "diploma",
          "master",
          "student",
          "Higher Vocational Education",
          "bachelor",
          "Higher Vocational Education",
          "bachelor",
          "diploma",
          "master",
          "Higher Vocational Education",
          "bachelor",
          "diploma",
          "master",
          "Higher Vocational Education",
          "bachelor",
          "diploma",
          "master",
          "student",
          "Doctorate",
          "Higher Vocational Education",
          "bachelor",
          "diploma",
          "master",
          "student",
          "Higher Vocational Education",
          "bachelor",
          "diploma",
          "master",
          "Higher Vocational Education",
          "bachelor",
          "Higher Vocational Education",
          "bachelor",
          "bachelor",
          "Doctorate",
          "Higher Vocational Education",
          "bachelor",
          "diploma",
          "master",
          "student",
          "Higher Vocational Education",
          "Higher Vocational Education",
          "bachelor",
          "master",
          "Higher Vocational Education",
          "bachelor",
          "diploma",
          "master",
          "Doctorate",
          "Higher Vocational Education",
          "bachelor",
          "diploma",
          "master",
          "Higher Vocational Education",
          "Higher Vocational Education",
          "Higher Vocational Education",
          "bachelor",
          "diploma",
          "master",
          "Doctorate",
          "Higher Vocational Education",
          "bachelor",
          "diploma",
          "master",
          "Higher Vocational Education",
          "diploma",
          "Higher Vocational Education",
          "Higher Vocational Education",
          "Higher Vocational Education",
          "bachelor",
          "master",
          "Higher Vocational Education",
          "bachelor",
          "diploma",
          "Doctorate",
          "Higher Vocational Education",
          "bachelor",
          "diploma",
          "master",
          "student",
          "Higher Vocational Education",
          "Higher Vocational Education",
          "bachelor",
          "diploma",
          "master",
          "Higher Vocational Education",
          "bachelor",
          "diploma",
          "master",
          "Doctorate",
          "Higher Vocational Education",
          "bachelor",
          "diploma",
          "master",
          "diploma",
          "Higher Vocational Education",
          "master",
          "Higher Vocational Education",
          "bachelor",
          "master",
          "Doctorate",
          "Higher Vocational Education",
          "bachelor",
          "diploma",
          "master",
          "student",
          "Doctorate",
          "Higher Vocational Education",
          "bachelor",
          "diploma",
          "master",
          "student",
          "Higher Vocational Education",
          "bachelor",
          "diploma",
          "master",
          "bachelor",
          "Higher Vocational Education",
          "Higher Vocational Education",
          "bachelor",
          "diploma",
          "master",
          "Higher Vocational Education",
          "Higher Vocational Education",
          "bachelor",
          "diploma",
          "master",
          "Higher Vocational Education",
          "bachelor",
          "master",
          "Higher Vocational Education",
          "bachelor",
          "diploma",
          "master",
          "Higher Vocational Education",
          "bachelor",
          "diploma",
          "master",
          "student",
          "bachelor",
          "Higher Vocational Education",
          "bachelor",
          "Higher Vocational Education",
          "bachelor",
          "diploma",
          "master",
          "student",
          "Higher Vocational Education",
          "bachelor",
          "Higher Vocational Education",
          "bachelor",
          "diploma",
          "master",
          "student",
          "Higher Vocational Education",
          "bachelor",
          "diploma",
          "master",
          "Higher Vocational Education",
          "bachelor",
          "diploma",
          "master",
          "Higher Vocational Education",
          "bachelor",
          "diploma",
          "master",
          "student",
          "bachelor",
          "Higher Vocational Education",
          "bachelor",
          "Higher Vocational Education",
          "Higher Vocational Education",
          "bachelor",
          "diploma",
          "master",
          "Higher Vocational Education",
          "bachelor",
          "diploma",
          "master",
          "Higher Vocational Education",
          "bachelor",
          "diploma",
          "master",
          "Higher Vocational Education",
          "bachelor",
          "diploma",
          "bachelor",
          "Higher Vocational Education",
          "bachelor",
          "diploma",
          "master",
          "Higher Vocational Education",
          "bachelor",
          "diploma",
          "master",
          "student",
          "Higher Vocational Education",
          "bachelor",
          "bachelor",
          "Higher Vocational Education",
          "bachelor",
          "bachelor",
          "diploma",
          "Higher Vocational Education",
          "Higher Vocational Education",
          "bachelor",
          "Higher Vocational Education",
          "bachelor",
          "diploma",
          "master",
          "student",
          "Higher Vocational Education",
          "bachelor",
          "master",
          "Higher Vocational Education",
          "bachelor",
          "diploma",
          "master",
          "Higher Vocational Education",
          "bachelor",
          "diploma",
          "master",
          "Higher Vocational Education",
          "bachelor",
          "diploma",
          "master",
          "Doctorate",
          "Higher Vocational Education",
          "bachelor",
          "diploma",
          "master",
          "student",
          "Higher Vocational Education",
          "bachelor",
          "diploma",
          "master",
          "Higher Vocational Education",
          "bachelor",
          "diploma",
          "master",
          "Doctorate",
          "Higher Vocational Education",
          "bachelor",
          "diploma",
          "master",
          "student",
          "Doctorate",
          "Higher Vocational Education",
          "bachelor",
          "diploma",
          "master",
          "student",
          "Higher Vocational Education",
          "bachelor",
          "diploma",
          "Higher Vocational Education",
          "bachelor",
          "diploma",
          "master",
          "Higher Vocational Education",
          "bachelor",
          "diploma",
          "master",
          "Doctorate",
          "Higher Vocational Education",
          "bachelor",
          "diploma",
          "master",
          "student",
          "Doctorate",
          "Higher Vocational Education",
          "bachelor",
          "diploma",
          "master",
          "student",
          "Higher Vocational Education",
          "bachelor",
          "diploma",
          "master",
          "Doctorate",
          "Higher Vocational Education",
          "bachelor",
          "diploma",
          "master",
          "student",
          "(?)"
         ],
         "ids": [
          "degrees/Higher Vocational Education/AlJawf /0",
          "degrees/diploma/AlJawf /0",
          "degrees/Higher Vocational Education/AlQassim/0",
          "degrees/bachelor/AlQassim/0",
          "degrees/diploma/AlQassim/0",
          "degrees/master/AlQassim/0",
          "degrees/Higher Vocational Education/Asir/0",
          "degrees/bachelor/Asir/0",
          "degrees/Doctorate/Eastern/0",
          "degrees/Higher Vocational Education/Eastern/0",
          "degrees/bachelor/Eastern/0",
          "degrees/diploma/Eastern/0",
          "degrees/master/Eastern/0",
          "degrees/student/Eastern/0",
          "degrees/Higher Vocational Education/Hail/0",
          "degrees/bachelor/Hail/0",
          "degrees/diploma/Hail/0",
          "degrees/Higher Vocational Education/Jazan/0",
          "degrees/bachelor/Jazan/0",
          "degrees/diploma/Jazan/0",
          "degrees/master/Jazan/0",
          "degrees/Doctorate/Makkah/0",
          "degrees/Higher Vocational Education/Makkah/0",
          "degrees/bachelor/Makkah/0",
          "degrees/diploma/Makkah/0",
          "degrees/master/Makkah/0",
          "degrees/student/Makkah/0",
          "degrees/Higher Vocational Education/Medina/0",
          "degrees/bachelor/Medina/0",
          "degrees/diploma/Medina/0",
          "degrees/master/Medina/0",
          "degrees/Higher Vocational Education/Northern Borders/0",
          "degrees/diploma/Northern Borders/0",
          "degrees/Higher Vocational Education/NotDefind/0",
          "degrees/bachelor/NotDefind/0",
          "degrees/master/NotDefind/0",
          "degrees/Higher Vocational Education/Remote/0",
          "degrees/bachelor/Remote/0",
          "degrees/diploma/Remote/0",
          "degrees/master/Remote/0",
          "degrees/student/Remote/0",
          "degrees/Doctorate/Riyadh/0",
          "degrees/Higher Vocational Education/Riyadh/0",
          "degrees/bachelor/Riyadh/0",
          "degrees/diploma/Riyadh/0",
          "degrees/master/Riyadh/0",
          "degrees/student/Riyadh/0",
          "degrees/Higher Vocational Education/Tabuk/0",
          "degrees/bachelor/Tabuk/0",
          "degrees/diploma/Tabuk/0",
          "degrees/master/Tabuk/0",
          "degrees/bachelor/AlBahah/1",
          "degrees/bachelor/AlJawf /1",
          "degrees/Higher Vocational Education/AlQassim/1",
          "degrees/bachelor/AlQassim/1",
          "degrees/Higher Vocational Education/Asir/1",
          "degrees/bachelor/Asir/1",
          "degrees/diploma/Asir/1",
          "degrees/Higher Vocational Education/Eastern/1",
          "degrees/bachelor/Eastern/1",
          "degrees/diploma/Eastern/1",
          "degrees/master/Eastern/1",
          "degrees/student/Eastern/1",
          "degrees/Higher Vocational Education/Hail/1",
          "degrees/bachelor/Hail/1",
          "degrees/diploma/Jazan/1",
          "degrees/Doctorate/Makkah/1",
          "degrees/Higher Vocational Education/Makkah/1",
          "degrees/bachelor/Makkah/1",
          "degrees/diploma/Makkah/1",
          "degrees/master/Makkah/1",
          "degrees/student/Makkah/1",
          "degrees/Higher Vocational Education/Medina/1",
          "degrees/bachelor/Medina/1",
          "degrees/diploma/Medina/1",
          "degrees/Higher Vocational Education/Remote/1",
          "degrees/bachelor/Remote/1",
          "degrees/diploma/Remote/1",
          "degrees/master/Remote/1",
          "degrees/student/Remote/1",
          "degrees/Higher Vocational Education/Riyadh/1",
          "degrees/bachelor/Riyadh/1",
          "degrees/diploma/Riyadh/1",
          "degrees/master/Riyadh/1",
          "degrees/student/Riyadh/1",
          "degrees/Higher Vocational Education/AlJawf /2",
          "degrees/bachelor/AlJawf /2",
          "degrees/Higher Vocational Education/AlQassim/2",
          "degrees/bachelor/AlQassim/2",
          "degrees/diploma/AlQassim/2",
          "degrees/Higher Vocational Education/Asir/2",
          "degrees/bachelor/Asir/2",
          "degrees/Doctorate/Eastern/2",
          "degrees/Higher Vocational Education/Eastern/2",
          "degrees/bachelor/Eastern/2",
          "degrees/diploma/Eastern/2",
          "degrees/master/Eastern/2",
          "degrees/Higher Vocational Education/Hail/2",
          "degrees/bachelor/Hail/2",
          "degrees/Higher Vocational Education/Jazan/2",
          "degrees/bachelor/Jazan/2",
          "degrees/diploma/Jazan/2",
          "degrees/master/Jazan/2",
          "degrees/Higher Vocational Education/Makkah/2",
          "degrees/bachelor/Makkah/2",
          "degrees/diploma/Makkah/2",
          "degrees/master/Makkah/2",
          "degrees/Higher Vocational Education/Medina/2",
          "degrees/bachelor/Medina/2",
          "degrees/diploma/Medina/2",
          "degrees/master/Medina/2",
          "degrees/bachelor/Najran/2",
          "degrees/Higher Vocational Education/Northern Borders/2",
          "degrees/bachelor/Northern Borders/2",
          "degrees/Higher Vocational Education/NotDefind/2",
          "degrees/bachelor/NotDefind/2",
          "degrees/Higher Vocational Education/Remote/2",
          "degrees/bachelor/Remote/2",
          "degrees/diploma/Remote/2",
          "degrees/master/Remote/2",
          "degrees/Doctorate/Riyadh/2",
          "degrees/Higher Vocational Education/Riyadh/2",
          "degrees/bachelor/Riyadh/2",
          "degrees/diploma/Riyadh/2",
          "degrees/master/Riyadh/2",
          "degrees/student/Riyadh/2",
          "degrees/Higher Vocational Education/Tabuk/2",
          "degrees/bachelor/Tabuk/2",
          "degrees/diploma/Tabuk/2",
          "degrees/master/Tabuk/2",
          "degrees/Higher Vocational Education/AlBahah/3",
          "degrees/bachelor/AlBahah/3",
          "degrees/master/AlBahah/3",
          "degrees/Higher Vocational Education/AlJawf /3",
          "degrees/bachelor/AlJawf /3",
          "degrees/diploma/AlJawf /3",
          "degrees/master/AlJawf /3",
          "degrees/Higher Vocational Education/AlQassim/3",
          "degrees/bachelor/AlQassim/3",
          "degrees/diploma/AlQassim/3",
          "degrees/master/AlQassim/3",
          "degrees/Higher Vocational Education/Asir/3",
          "degrees/bachelor/Asir/3",
          "degrees/diploma/Asir/3",
          "degrees/master/Asir/3",
          "degrees/Doctorate/Eastern/3",
          "degrees/Higher Vocational Education/Eastern/3",
          "degrees/bachelor/Eastern/3",
          "degrees/diploma/Eastern/3",
          "degrees/master/Eastern/3",
          "degrees/student/Eastern/3",
          "degrees/Higher Vocational Education/Hail/3",
          "degrees/bachelor/Hail/3",
          "degrees/master/Hail/3",
          "degrees/Higher Vocational Education/Jazan/3",
          "degrees/bachelor/Jazan/3",
          "degrees/diploma/Jazan/3",
          "degrees/master/Jazan/3",
          "degrees/Doctorate/Makkah/3",
          "degrees/Higher Vocational Education/Makkah/3",
          "degrees/bachelor/Makkah/3",
          "degrees/diploma/Makkah/3",
          "degrees/master/Makkah/3",
          "degrees/student/Makkah/3",
          "degrees/Doctorate/Medina/3",
          "degrees/Higher Vocational Education/Medina/3",
          "degrees/bachelor/Medina/3",
          "degrees/diploma/Medina/3",
          "degrees/master/Medina/3",
          "degrees/student/Medina/3",
          "degrees/Higher Vocational Education/Najran/3",
          "degrees/bachelor/Najran/3",
          "degrees/Higher Vocational Education/Northern Borders/3",
          "degrees/bachelor/Northern Borders/3",
          "degrees/diploma/Northern Borders/3",
          "degrees/master/Northern Borders/3",
          "degrees/Higher Vocational Education/NotDefind/3",
          "degrees/bachelor/NotDefind/3",
          "degrees/diploma/NotDefind/3",
          "degrees/master/NotDefind/3",
          "degrees/Higher Vocational Education/Remote/3",
          "degrees/bachelor/Remote/3",
          "degrees/diploma/Remote/3",
          "degrees/master/Remote/3",
          "degrees/student/Remote/3",
          "degrees/Doctorate/Riyadh/3",
          "degrees/Higher Vocational Education/Riyadh/3",
          "degrees/bachelor/Riyadh/3",
          "degrees/diploma/Riyadh/3",
          "degrees/master/Riyadh/3",
          "degrees/student/Riyadh/3",
          "degrees/Higher Vocational Education/Tabuk/3",
          "degrees/bachelor/Tabuk/3",
          "degrees/diploma/Tabuk/3",
          "degrees/master/Tabuk/3",
          "degrees/Higher Vocational Education/AlBahah/4",
          "degrees/bachelor/AlBahah/4",
          "degrees/Higher Vocational Education/AlQassim/4",
          "degrees/bachelor/AlQassim/4",
          "degrees/bachelor/Asir/4",
          "degrees/Doctorate/Eastern/4",
          "degrees/Higher Vocational Education/Eastern/4",
          "degrees/bachelor/Eastern/4",
          "degrees/diploma/Eastern/4",
          "degrees/master/Eastern/4",
          "degrees/student/Eastern/4",
          "degrees/Higher Vocational Education/Hail/4",
          "degrees/Higher Vocational Education/Jazan/4",
          "degrees/bachelor/Jazan/4",
          "degrees/master/Jazan/4",
          "degrees/Higher Vocational Education/Makkah/4",
          "degrees/bachelor/Makkah/4",
          "degrees/diploma/Makkah/4",
          "degrees/master/Makkah/4",
          "degrees/Doctorate/Medina/4",
          "degrees/Higher Vocational Education/Medina/4",
          "degrees/bachelor/Medina/4",
          "degrees/diploma/Medina/4",
          "degrees/master/Medina/4",
          "degrees/Higher Vocational Education/Northern Borders/4",
          "degrees/Higher Vocational Education/NotDefind/4",
          "degrees/Higher Vocational Education/Remote/4",
          "degrees/bachelor/Remote/4",
          "degrees/diploma/Remote/4",
          "degrees/master/Remote/4",
          "degrees/Doctorate/Riyadh/4",
          "degrees/Higher Vocational Education/Riyadh/4",
          "degrees/bachelor/Riyadh/4",
          "degrees/diploma/Riyadh/4",
          "degrees/master/Riyadh/4",
          "degrees/Higher Vocational Education/Tabuk/4",
          "degrees/diploma/Tabuk/4",
          "degrees/Higher Vocational Education/AlBahah/5",
          "degrees/Higher Vocational Education/AlJawf /5",
          "degrees/Higher Vocational Education/AlQassim/5",
          "degrees/bachelor/AlQassim/5",
          "degrees/master/AlQassim/5",
          "degrees/Higher Vocational Education/Asir/5",
          "degrees/bachelor/Asir/5",
          "degrees/diploma/Asir/5",
          "degrees/Doctorate/Eastern/5",
          "degrees/Higher Vocational Education/Eastern/5",
          "degrees/bachelor/Eastern/5",
          "degrees/diploma/Eastern/5",
          "degrees/master/Eastern/5",
          "degrees/student/Eastern/5",
          "degrees/Higher Vocational Education/Hail/5",
          "degrees/Higher Vocational Education/Jazan/5",
          "degrees/bachelor/Jazan/5",
          "degrees/diploma/Jazan/5",
          "degrees/master/Jazan/5",
          "degrees/Higher Vocational Education/Makkah/5",
          "degrees/bachelor/Makkah/5",
          "degrees/diploma/Makkah/5",
          "degrees/master/Makkah/5",
          "degrees/Doctorate/Medina/5",
          "degrees/Higher Vocational Education/Medina/5",
          "degrees/bachelor/Medina/5",
          "degrees/diploma/Medina/5",
          "degrees/master/Medina/5",
          "degrees/diploma/Najran/5",
          "degrees/Higher Vocational Education/Northern Borders/5",
          "degrees/master/Northern Borders/5",
          "degrees/Higher Vocational Education/NotDefind/5",
          "degrees/bachelor/NotDefind/5",
          "degrees/master/NotDefind/5",
          "degrees/Doctorate/Remote/5",
          "degrees/Higher Vocational Education/Remote/5",
          "degrees/bachelor/Remote/5",
          "degrees/diploma/Remote/5",
          "degrees/master/Remote/5",
          "degrees/student/Remote/5",
          "degrees/Doctorate/Riyadh/5",
          "degrees/Higher Vocational Education/Riyadh/5",
          "degrees/bachelor/Riyadh/5",
          "degrees/diploma/Riyadh/5",
          "degrees/master/Riyadh/5",
          "degrees/student/Riyadh/5",
          "degrees/Higher Vocational Education/Tabuk/5",
          "degrees/bachelor/Tabuk/5",
          "degrees/diploma/Tabuk/5",
          "degrees/master/Tabuk/5",
          "degrees/bachelor/AlBahah/6",
          "degrees/Higher Vocational Education/AlQassim/6",
          "degrees/Higher Vocational Education/Eastern/6",
          "degrees/bachelor/Eastern/6",
          "degrees/diploma/Eastern/6",
          "degrees/master/Eastern/6",
          "degrees/Higher Vocational Education/Jazan/6",
          "degrees/Higher Vocational Education/Makkah/6",
          "degrees/bachelor/Makkah/6",
          "degrees/diploma/Makkah/6",
          "degrees/master/Makkah/6",
          "degrees/Higher Vocational Education/Medina/6",
          "degrees/bachelor/Medina/6",
          "degrees/master/Medina/6",
          "degrees/Higher Vocational Education/Remote/6",
          "degrees/bachelor/Remote/6",
          "degrees/diploma/Remote/6",
          "degrees/master/Remote/6",
          "degrees/Higher Vocational Education/Riyadh/6",
          "degrees/bachelor/Riyadh/6",
          "degrees/diploma/Riyadh/6",
          "degrees/master/Riyadh/6",
          "degrees/student/Riyadh/6",
          "degrees/bachelor/AlBahah/7",
          "degrees/Higher Vocational Education/AlQassim/7",
          "degrees/bachelor/AlQassim/7",
          "degrees/Higher Vocational Education/Eastern/7",
          "degrees/bachelor/Eastern/7",
          "degrees/diploma/Eastern/7",
          "degrees/master/Eastern/7",
          "degrees/student/Eastern/7",
          "degrees/Higher Vocational Education/Jazan/7",
          "degrees/bachelor/Jazan/7",
          "degrees/Higher Vocational Education/Makkah/7",
          "degrees/bachelor/Makkah/7",
          "degrees/diploma/Makkah/7",
          "degrees/master/Makkah/7",
          "degrees/student/Makkah/7",
          "degrees/Higher Vocational Education/Medina/7",
          "degrees/bachelor/Medina/7",
          "degrees/diploma/Medina/7",
          "degrees/master/Medina/7",
          "degrees/Higher Vocational Education/Remote/7",
          "degrees/bachelor/Remote/7",
          "degrees/diploma/Remote/7",
          "degrees/master/Remote/7",
          "degrees/Higher Vocational Education/Riyadh/7",
          "degrees/bachelor/Riyadh/7",
          "degrees/diploma/Riyadh/7",
          "degrees/master/Riyadh/7",
          "degrees/student/Riyadh/7",
          "degrees/bachelor/Tabuk/7",
          "degrees/Higher Vocational Education/AlQassim/8",
          "degrees/bachelor/AlQassim/8",
          "degrees/Higher Vocational Education/Asir/8",
          "degrees/Higher Vocational Education/Eastern/8",
          "degrees/bachelor/Eastern/8",
          "degrees/diploma/Eastern/8",
          "degrees/master/Eastern/8",
          "degrees/Higher Vocational Education/Jazan/8",
          "degrees/bachelor/Jazan/8",
          "degrees/diploma/Jazan/8",
          "degrees/master/Jazan/8",
          "degrees/Higher Vocational Education/Makkah/8",
          "degrees/bachelor/Makkah/8",
          "degrees/diploma/Makkah/8",
          "degrees/master/Makkah/8",
          "degrees/Higher Vocational Education/Medina/8",
          "degrees/bachelor/Medina/8",
          "degrees/diploma/Medina/8",
          "degrees/bachelor/NotDefind/8",
          "degrees/Higher Vocational Education/Remote/8",
          "degrees/bachelor/Remote/8",
          "degrees/diploma/Remote/8",
          "degrees/master/Remote/8",
          "degrees/Higher Vocational Education/Riyadh/8",
          "degrees/bachelor/Riyadh/8",
          "degrees/diploma/Riyadh/8",
          "degrees/master/Riyadh/8",
          "degrees/student/Riyadh/8",
          "degrees/Higher Vocational Education/Tabuk/8",
          "degrees/bachelor/Tabuk/8",
          "degrees/bachelor/Asir/9",
          "degrees/Higher Vocational Education/Eastern/9",
          "degrees/bachelor/Eastern/9",
          "degrees/bachelor/Makkah/9",
          "degrees/diploma/Makkah/9",
          "degrees/Higher Vocational Education/Medina/9",
          "degrees/Higher Vocational Education/Remote/9",
          "degrees/bachelor/Remote/9",
          "degrees/Higher Vocational Education/Riyadh/9",
          "degrees/bachelor/Riyadh/9",
          "degrees/diploma/Riyadh/9",
          "degrees/master/Riyadh/9",
          "degrees/student/Riyadh/9",
          "degrees/Higher Vocational Education/AlBahah",
          "degrees/bachelor/AlBahah",
          "degrees/master/AlBahah",
          "degrees/Higher Vocational Education/AlJawf ",
          "degrees/bachelor/AlJawf ",
          "degrees/diploma/AlJawf ",
          "degrees/master/AlJawf ",
          "degrees/Higher Vocational Education/AlQassim",
          "degrees/bachelor/AlQassim",
          "degrees/diploma/AlQassim",
          "degrees/master/AlQassim",
          "degrees/Higher Vocational Education/Asir",
          "degrees/bachelor/Asir",
          "degrees/diploma/Asir",
          "degrees/master/Asir",
          "degrees/Doctorate/Eastern",
          "degrees/Higher Vocational Education/Eastern",
          "degrees/bachelor/Eastern",
          "degrees/diploma/Eastern",
          "degrees/master/Eastern",
          "degrees/student/Eastern",
          "degrees/Higher Vocational Education/Hail",
          "degrees/bachelor/Hail",
          "degrees/diploma/Hail",
          "degrees/master/Hail",
          "degrees/Higher Vocational Education/Jazan",
          "degrees/bachelor/Jazan",
          "degrees/diploma/Jazan",
          "degrees/master/Jazan",
          "degrees/Doctorate/Makkah",
          "degrees/Higher Vocational Education/Makkah",
          "degrees/bachelor/Makkah",
          "degrees/diploma/Makkah",
          "degrees/master/Makkah",
          "degrees/student/Makkah",
          "degrees/Doctorate/Medina",
          "degrees/Higher Vocational Education/Medina",
          "degrees/bachelor/Medina",
          "degrees/diploma/Medina",
          "degrees/master/Medina",
          "degrees/student/Medina",
          "degrees/Higher Vocational Education/Najran",
          "degrees/bachelor/Najran",
          "degrees/diploma/Najran",
          "degrees/Higher Vocational Education/Northern Borders",
          "degrees/bachelor/Northern Borders",
          "degrees/diploma/Northern Borders",
          "degrees/master/Northern Borders",
          "degrees/Higher Vocational Education/NotDefind",
          "degrees/bachelor/NotDefind",
          "degrees/diploma/NotDefind",
          "degrees/master/NotDefind",
          "degrees/Doctorate/Remote",
          "degrees/Higher Vocational Education/Remote",
          "degrees/bachelor/Remote",
          "degrees/diploma/Remote",
          "degrees/master/Remote",
          "degrees/student/Remote",
          "degrees/Doctorate/Riyadh",
          "degrees/Higher Vocational Education/Riyadh",
          "degrees/bachelor/Riyadh",
          "degrees/diploma/Riyadh",
          "degrees/master/Riyadh",
          "degrees/student/Riyadh",
          "degrees/Higher Vocational Education/Tabuk",
          "degrees/bachelor/Tabuk",
          "degrees/diploma/Tabuk",
          "degrees/master/Tabuk",
          "degrees/Doctorate",
          "degrees/Higher Vocational Education",
          "degrees/bachelor",
          "degrees/diploma",
          "degrees/master",
          "degrees/student",
          "degrees"
         ],
         "labels": [
          "0",
          "0",
          "0",
          "0",
          "0",
          "0",
          "0",
          "0",
          "0",
          "0",
          "0",
          "0",
          "0",
          "0",
          "0",
          "0",
          "0",
          "0",
          "0",
          "0",
          "0",
          "0",
          "0",
          "0",
          "0",
          "0",
          "0",
          "0",
          "0",
          "0",
          "0",
          "0",
          "0",
          "0",
          "0",
          "0",
          "0",
          "0",
          "0",
          "0",
          "0",
          "0",
          "0",
          "0",
          "0",
          "0",
          "0",
          "0",
          "0",
          "0",
          "0",
          "1",
          "1",
          "1",
          "1",
          "1",
          "1",
          "1",
          "1",
          "1",
          "1",
          "1",
          "1",
          "1",
          "1",
          "1",
          "1",
          "1",
          "1",
          "1",
          "1",
          "1",
          "1",
          "1",
          "1",
          "1",
          "1",
          "1",
          "1",
          "1",
          "1",
          "1",
          "1",
          "1",
          "1",
          "2",
          "2",
          "2",
          "2",
          "2",
          "2",
          "2",
          "2",
          "2",
          "2",
          "2",
          "2",
          "2",
          "2",
          "2",
          "2",
          "2",
          "2",
          "2",
          "2",
          "2",
          "2",
          "2",
          "2",
          "2",
          "2",
          "2",
          "2",
          "2",
          "2",
          "2",
          "2",
          "2",
          "2",
          "2",
          "2",
          "2",
          "2",
          "2",
          "2",
          "2",
          "2",
          "2",
          "2",
          "2",
          "3",
          "3",
          "3",
          "3",
          "3",
          "3",
          "3",
          "3",
          "3",
          "3",
          "3",
          "3",
          "3",
          "3",
          "3",
          "3",
          "3",
          "3",
          "3",
          "3",
          "3",
          "3",
          "3",
          "3",
          "3",
          "3",
          "3",
          "3",
          "3",
          "3",
          "3",
          "3",
          "3",
          "3",
          "3",
          "3",
          "3",
          "3",
          "3",
          "3",
          "3",
          "3",
          "3",
          "3",
          "3",
          "3",
          "3",
          "3",
          "3",
          "3",
          "3",
          "3",
          "3",
          "3",
          "3",
          "3",
          "3",
          "3",
          "3",
          "3",
          "3",
          "3",
          "3",
          "3",
          "3",
          "4",
          "4",
          "4",
          "4",
          "4",
          "4",
          "4",
          "4",
          "4",
          "4",
          "4",
          "4",
          "4",
          "4",
          "4",
          "4",
          "4",
          "4",
          "4",
          "4",
          "4",
          "4",
          "4",
          "4",
          "4",
          "4",
          "4",
          "4",
          "4",
          "4",
          "4",
          "4",
          "4",
          "4",
          "4",
          "4",
          "4",
          "5",
          "5",
          "5",
          "5",
          "5",
          "5",
          "5",
          "5",
          "5",
          "5",
          "5",
          "5",
          "5",
          "5",
          "5",
          "5",
          "5",
          "5",
          "5",
          "5",
          "5",
          "5",
          "5",
          "5",
          "5",
          "5",
          "5",
          "5",
          "5",
          "5",
          "5",
          "5",
          "5",
          "5",
          "5",
          "5",
          "5",
          "5",
          "5",
          "5",
          "5",
          "5",
          "5",
          "5",
          "5",
          "5",
          "5",
          "5",
          "5",
          "5",
          "6",
          "6",
          "6",
          "6",
          "6",
          "6",
          "6",
          "6",
          "6",
          "6",
          "6",
          "6",
          "6",
          "6",
          "6",
          "6",
          "6",
          "6",
          "6",
          "6",
          "6",
          "6",
          "6",
          "7",
          "7",
          "7",
          "7",
          "7",
          "7",
          "7",
          "7",
          "7",
          "7",
          "7",
          "7",
          "7",
          "7",
          "7",
          "7",
          "7",
          "7",
          "7",
          "7",
          "7",
          "7",
          "7",
          "7",
          "7",
          "7",
          "7",
          "7",
          "7",
          "8",
          "8",
          "8",
          "8",
          "8",
          "8",
          "8",
          "8",
          "8",
          "8",
          "8",
          "8",
          "8",
          "8",
          "8",
          "8",
          "8",
          "8",
          "8",
          "8",
          "8",
          "8",
          "8",
          "8",
          "8",
          "8",
          "8",
          "8",
          "8",
          "8",
          "9",
          "9",
          "9",
          "9",
          "9",
          "9",
          "9",
          "9",
          "9",
          "9",
          "9",
          "9",
          "9",
          "AlBahah",
          "AlBahah",
          "AlBahah",
          "AlJawf ",
          "AlJawf ",
          "AlJawf ",
          "AlJawf ",
          "AlQassim",
          "AlQassim",
          "AlQassim",
          "AlQassim",
          "Asir",
          "Asir",
          "Asir",
          "Asir",
          "Eastern",
          "Eastern",
          "Eastern",
          "Eastern",
          "Eastern",
          "Eastern",
          "Hail",
          "Hail",
          "Hail",
          "Hail",
          "Jazan",
          "Jazan",
          "Jazan",
          "Jazan",
          "Makkah",
          "Makkah",
          "Makkah",
          "Makkah",
          "Makkah",
          "Makkah",
          "Medina",
          "Medina",
          "Medina",
          "Medina",
          "Medina",
          "Medina",
          "Najran",
          "Najran",
          "Najran",
          "Northern Borders",
          "Northern Borders",
          "Northern Borders",
          "Northern Borders",
          "NotDefind",
          "NotDefind",
          "NotDefind",
          "NotDefind",
          "Remote",
          "Remote",
          "Remote",
          "Remote",
          "Remote",
          "Remote",
          "Riyadh",
          "Riyadh",
          "Riyadh",
          "Riyadh",
          "Riyadh",
          "Riyadh",
          "Tabuk",
          "Tabuk",
          "Tabuk",
          "Tabuk",
          "Doctorate",
          "Higher Vocational Education",
          "bachelor",
          "diploma",
          "master",
          "student",
          "degrees"
         ],
         "name": "",
         "parents": [
          "degrees/Higher Vocational Education/AlJawf ",
          "degrees/diploma/AlJawf ",
          "degrees/Higher Vocational Education/AlQassim",
          "degrees/bachelor/AlQassim",
          "degrees/diploma/AlQassim",
          "degrees/master/AlQassim",
          "degrees/Higher Vocational Education/Asir",
          "degrees/bachelor/Asir",
          "degrees/Doctorate/Eastern",
          "degrees/Higher Vocational Education/Eastern",
          "degrees/bachelor/Eastern",
          "degrees/diploma/Eastern",
          "degrees/master/Eastern",
          "degrees/student/Eastern",
          "degrees/Higher Vocational Education/Hail",
          "degrees/bachelor/Hail",
          "degrees/diploma/Hail",
          "degrees/Higher Vocational Education/Jazan",
          "degrees/bachelor/Jazan",
          "degrees/diploma/Jazan",
          "degrees/master/Jazan",
          "degrees/Doctorate/Makkah",
          "degrees/Higher Vocational Education/Makkah",
          "degrees/bachelor/Makkah",
          "degrees/diploma/Makkah",
          "degrees/master/Makkah",
          "degrees/student/Makkah",
          "degrees/Higher Vocational Education/Medina",
          "degrees/bachelor/Medina",
          "degrees/diploma/Medina",
          "degrees/master/Medina",
          "degrees/Higher Vocational Education/Northern Borders",
          "degrees/diploma/Northern Borders",
          "degrees/Higher Vocational Education/NotDefind",
          "degrees/bachelor/NotDefind",
          "degrees/master/NotDefind",
          "degrees/Higher Vocational Education/Remote",
          "degrees/bachelor/Remote",
          "degrees/diploma/Remote",
          "degrees/master/Remote",
          "degrees/student/Remote",
          "degrees/Doctorate/Riyadh",
          "degrees/Higher Vocational Education/Riyadh",
          "degrees/bachelor/Riyadh",
          "degrees/diploma/Riyadh",
          "degrees/master/Riyadh",
          "degrees/student/Riyadh",
          "degrees/Higher Vocational Education/Tabuk",
          "degrees/bachelor/Tabuk",
          "degrees/diploma/Tabuk",
          "degrees/master/Tabuk",
          "degrees/bachelor/AlBahah",
          "degrees/bachelor/AlJawf ",
          "degrees/Higher Vocational Education/AlQassim",
          "degrees/bachelor/AlQassim",
          "degrees/Higher Vocational Education/Asir",
          "degrees/bachelor/Asir",
          "degrees/diploma/Asir",
          "degrees/Higher Vocational Education/Eastern",
          "degrees/bachelor/Eastern",
          "degrees/diploma/Eastern",
          "degrees/master/Eastern",
          "degrees/student/Eastern",
          "degrees/Higher Vocational Education/Hail",
          "degrees/bachelor/Hail",
          "degrees/diploma/Jazan",
          "degrees/Doctorate/Makkah",
          "degrees/Higher Vocational Education/Makkah",
          "degrees/bachelor/Makkah",
          "degrees/diploma/Makkah",
          "degrees/master/Makkah",
          "degrees/student/Makkah",
          "degrees/Higher Vocational Education/Medina",
          "degrees/bachelor/Medina",
          "degrees/diploma/Medina",
          "degrees/Higher Vocational Education/Remote",
          "degrees/bachelor/Remote",
          "degrees/diploma/Remote",
          "degrees/master/Remote",
          "degrees/student/Remote",
          "degrees/Higher Vocational Education/Riyadh",
          "degrees/bachelor/Riyadh",
          "degrees/diploma/Riyadh",
          "degrees/master/Riyadh",
          "degrees/student/Riyadh",
          "degrees/Higher Vocational Education/AlJawf ",
          "degrees/bachelor/AlJawf ",
          "degrees/Higher Vocational Education/AlQassim",
          "degrees/bachelor/AlQassim",
          "degrees/diploma/AlQassim",
          "degrees/Higher Vocational Education/Asir",
          "degrees/bachelor/Asir",
          "degrees/Doctorate/Eastern",
          "degrees/Higher Vocational Education/Eastern",
          "degrees/bachelor/Eastern",
          "degrees/diploma/Eastern",
          "degrees/master/Eastern",
          "degrees/Higher Vocational Education/Hail",
          "degrees/bachelor/Hail",
          "degrees/Higher Vocational Education/Jazan",
          "degrees/bachelor/Jazan",
          "degrees/diploma/Jazan",
          "degrees/master/Jazan",
          "degrees/Higher Vocational Education/Makkah",
          "degrees/bachelor/Makkah",
          "degrees/diploma/Makkah",
          "degrees/master/Makkah",
          "degrees/Higher Vocational Education/Medina",
          "degrees/bachelor/Medina",
          "degrees/diploma/Medina",
          "degrees/master/Medina",
          "degrees/bachelor/Najran",
          "degrees/Higher Vocational Education/Northern Borders",
          "degrees/bachelor/Northern Borders",
          "degrees/Higher Vocational Education/NotDefind",
          "degrees/bachelor/NotDefind",
          "degrees/Higher Vocational Education/Remote",
          "degrees/bachelor/Remote",
          "degrees/diploma/Remote",
          "degrees/master/Remote",
          "degrees/Doctorate/Riyadh",
          "degrees/Higher Vocational Education/Riyadh",
          "degrees/bachelor/Riyadh",
          "degrees/diploma/Riyadh",
          "degrees/master/Riyadh",
          "degrees/student/Riyadh",
          "degrees/Higher Vocational Education/Tabuk",
          "degrees/bachelor/Tabuk",
          "degrees/diploma/Tabuk",
          "degrees/master/Tabuk",
          "degrees/Higher Vocational Education/AlBahah",
          "degrees/bachelor/AlBahah",
          "degrees/master/AlBahah",
          "degrees/Higher Vocational Education/AlJawf ",
          "degrees/bachelor/AlJawf ",
          "degrees/diploma/AlJawf ",
          "degrees/master/AlJawf ",
          "degrees/Higher Vocational Education/AlQassim",
          "degrees/bachelor/AlQassim",
          "degrees/diploma/AlQassim",
          "degrees/master/AlQassim",
          "degrees/Higher Vocational Education/Asir",
          "degrees/bachelor/Asir",
          "degrees/diploma/Asir",
          "degrees/master/Asir",
          "degrees/Doctorate/Eastern",
          "degrees/Higher Vocational Education/Eastern",
          "degrees/bachelor/Eastern",
          "degrees/diploma/Eastern",
          "degrees/master/Eastern",
          "degrees/student/Eastern",
          "degrees/Higher Vocational Education/Hail",
          "degrees/bachelor/Hail",
          "degrees/master/Hail",
          "degrees/Higher Vocational Education/Jazan",
          "degrees/bachelor/Jazan",
          "degrees/diploma/Jazan",
          "degrees/master/Jazan",
          "degrees/Doctorate/Makkah",
          "degrees/Higher Vocational Education/Makkah",
          "degrees/bachelor/Makkah",
          "degrees/diploma/Makkah",
          "degrees/master/Makkah",
          "degrees/student/Makkah",
          "degrees/Doctorate/Medina",
          "degrees/Higher Vocational Education/Medina",
          "degrees/bachelor/Medina",
          "degrees/diploma/Medina",
          "degrees/master/Medina",
          "degrees/student/Medina",
          "degrees/Higher Vocational Education/Najran",
          "degrees/bachelor/Najran",
          "degrees/Higher Vocational Education/Northern Borders",
          "degrees/bachelor/Northern Borders",
          "degrees/diploma/Northern Borders",
          "degrees/master/Northern Borders",
          "degrees/Higher Vocational Education/NotDefind",
          "degrees/bachelor/NotDefind",
          "degrees/diploma/NotDefind",
          "degrees/master/NotDefind",
          "degrees/Higher Vocational Education/Remote",
          "degrees/bachelor/Remote",
          "degrees/diploma/Remote",
          "degrees/master/Remote",
          "degrees/student/Remote",
          "degrees/Doctorate/Riyadh",
          "degrees/Higher Vocational Education/Riyadh",
          "degrees/bachelor/Riyadh",
          "degrees/diploma/Riyadh",
          "degrees/master/Riyadh",
          "degrees/student/Riyadh",
          "degrees/Higher Vocational Education/Tabuk",
          "degrees/bachelor/Tabuk",
          "degrees/diploma/Tabuk",
          "degrees/master/Tabuk",
          "degrees/Higher Vocational Education/AlBahah",
          "degrees/bachelor/AlBahah",
          "degrees/Higher Vocational Education/AlQassim",
          "degrees/bachelor/AlQassim",
          "degrees/bachelor/Asir",
          "degrees/Doctorate/Eastern",
          "degrees/Higher Vocational Education/Eastern",
          "degrees/bachelor/Eastern",
          "degrees/diploma/Eastern",
          "degrees/master/Eastern",
          "degrees/student/Eastern",
          "degrees/Higher Vocational Education/Hail",
          "degrees/Higher Vocational Education/Jazan",
          "degrees/bachelor/Jazan",
          "degrees/master/Jazan",
          "degrees/Higher Vocational Education/Makkah",
          "degrees/bachelor/Makkah",
          "degrees/diploma/Makkah",
          "degrees/master/Makkah",
          "degrees/Doctorate/Medina",
          "degrees/Higher Vocational Education/Medina",
          "degrees/bachelor/Medina",
          "degrees/diploma/Medina",
          "degrees/master/Medina",
          "degrees/Higher Vocational Education/Northern Borders",
          "degrees/Higher Vocational Education/NotDefind",
          "degrees/Higher Vocational Education/Remote",
          "degrees/bachelor/Remote",
          "degrees/diploma/Remote",
          "degrees/master/Remote",
          "degrees/Doctorate/Riyadh",
          "degrees/Higher Vocational Education/Riyadh",
          "degrees/bachelor/Riyadh",
          "degrees/diploma/Riyadh",
          "degrees/master/Riyadh",
          "degrees/Higher Vocational Education/Tabuk",
          "degrees/diploma/Tabuk",
          "degrees/Higher Vocational Education/AlBahah",
          "degrees/Higher Vocational Education/AlJawf ",
          "degrees/Higher Vocational Education/AlQassim",
          "degrees/bachelor/AlQassim",
          "degrees/master/AlQassim",
          "degrees/Higher Vocational Education/Asir",
          "degrees/bachelor/Asir",
          "degrees/diploma/Asir",
          "degrees/Doctorate/Eastern",
          "degrees/Higher Vocational Education/Eastern",
          "degrees/bachelor/Eastern",
          "degrees/diploma/Eastern",
          "degrees/master/Eastern",
          "degrees/student/Eastern",
          "degrees/Higher Vocational Education/Hail",
          "degrees/Higher Vocational Education/Jazan",
          "degrees/bachelor/Jazan",
          "degrees/diploma/Jazan",
          "degrees/master/Jazan",
          "degrees/Higher Vocational Education/Makkah",
          "degrees/bachelor/Makkah",
          "degrees/diploma/Makkah",
          "degrees/master/Makkah",
          "degrees/Doctorate/Medina",
          "degrees/Higher Vocational Education/Medina",
          "degrees/bachelor/Medina",
          "degrees/diploma/Medina",
          "degrees/master/Medina",
          "degrees/diploma/Najran",
          "degrees/Higher Vocational Education/Northern Borders",
          "degrees/master/Northern Borders",
          "degrees/Higher Vocational Education/NotDefind",
          "degrees/bachelor/NotDefind",
          "degrees/master/NotDefind",
          "degrees/Doctorate/Remote",
          "degrees/Higher Vocational Education/Remote",
          "degrees/bachelor/Remote",
          "degrees/diploma/Remote",
          "degrees/master/Remote",
          "degrees/student/Remote",
          "degrees/Doctorate/Riyadh",
          "degrees/Higher Vocational Education/Riyadh",
          "degrees/bachelor/Riyadh",
          "degrees/diploma/Riyadh",
          "degrees/master/Riyadh",
          "degrees/student/Riyadh",
          "degrees/Higher Vocational Education/Tabuk",
          "degrees/bachelor/Tabuk",
          "degrees/diploma/Tabuk",
          "degrees/master/Tabuk",
          "degrees/bachelor/AlBahah",
          "degrees/Higher Vocational Education/AlQassim",
          "degrees/Higher Vocational Education/Eastern",
          "degrees/bachelor/Eastern",
          "degrees/diploma/Eastern",
          "degrees/master/Eastern",
          "degrees/Higher Vocational Education/Jazan",
          "degrees/Higher Vocational Education/Makkah",
          "degrees/bachelor/Makkah",
          "degrees/diploma/Makkah",
          "degrees/master/Makkah",
          "degrees/Higher Vocational Education/Medina",
          "degrees/bachelor/Medina",
          "degrees/master/Medina",
          "degrees/Higher Vocational Education/Remote",
          "degrees/bachelor/Remote",
          "degrees/diploma/Remote",
          "degrees/master/Remote",
          "degrees/Higher Vocational Education/Riyadh",
          "degrees/bachelor/Riyadh",
          "degrees/diploma/Riyadh",
          "degrees/master/Riyadh",
          "degrees/student/Riyadh",
          "degrees/bachelor/AlBahah",
          "degrees/Higher Vocational Education/AlQassim",
          "degrees/bachelor/AlQassim",
          "degrees/Higher Vocational Education/Eastern",
          "degrees/bachelor/Eastern",
          "degrees/diploma/Eastern",
          "degrees/master/Eastern",
          "degrees/student/Eastern",
          "degrees/Higher Vocational Education/Jazan",
          "degrees/bachelor/Jazan",
          "degrees/Higher Vocational Education/Makkah",
          "degrees/bachelor/Makkah",
          "degrees/diploma/Makkah",
          "degrees/master/Makkah",
          "degrees/student/Makkah",
          "degrees/Higher Vocational Education/Medina",
          "degrees/bachelor/Medina",
          "degrees/diploma/Medina",
          "degrees/master/Medina",
          "degrees/Higher Vocational Education/Remote",
          "degrees/bachelor/Remote",
          "degrees/diploma/Remote",
          "degrees/master/Remote",
          "degrees/Higher Vocational Education/Riyadh",
          "degrees/bachelor/Riyadh",
          "degrees/diploma/Riyadh",
          "degrees/master/Riyadh",
          "degrees/student/Riyadh",
          "degrees/bachelor/Tabuk",
          "degrees/Higher Vocational Education/AlQassim",
          "degrees/bachelor/AlQassim",
          "degrees/Higher Vocational Education/Asir",
          "degrees/Higher Vocational Education/Eastern",
          "degrees/bachelor/Eastern",
          "degrees/diploma/Eastern",
          "degrees/master/Eastern",
          "degrees/Higher Vocational Education/Jazan",
          "degrees/bachelor/Jazan",
          "degrees/diploma/Jazan",
          "degrees/master/Jazan",
          "degrees/Higher Vocational Education/Makkah",
          "degrees/bachelor/Makkah",
          "degrees/diploma/Makkah",
          "degrees/master/Makkah",
          "degrees/Higher Vocational Education/Medina",
          "degrees/bachelor/Medina",
          "degrees/diploma/Medina",
          "degrees/bachelor/NotDefind",
          "degrees/Higher Vocational Education/Remote",
          "degrees/bachelor/Remote",
          "degrees/diploma/Remote",
          "degrees/master/Remote",
          "degrees/Higher Vocational Education/Riyadh",
          "degrees/bachelor/Riyadh",
          "degrees/diploma/Riyadh",
          "degrees/master/Riyadh",
          "degrees/student/Riyadh",
          "degrees/Higher Vocational Education/Tabuk",
          "degrees/bachelor/Tabuk",
          "degrees/bachelor/Asir",
          "degrees/Higher Vocational Education/Eastern",
          "degrees/bachelor/Eastern",
          "degrees/bachelor/Makkah",
          "degrees/diploma/Makkah",
          "degrees/Higher Vocational Education/Medina",
          "degrees/Higher Vocational Education/Remote",
          "degrees/bachelor/Remote",
          "degrees/Higher Vocational Education/Riyadh",
          "degrees/bachelor/Riyadh",
          "degrees/diploma/Riyadh",
          "degrees/master/Riyadh",
          "degrees/student/Riyadh",
          "degrees/Higher Vocational Education",
          "degrees/bachelor",
          "degrees/master",
          "degrees/Higher Vocational Education",
          "degrees/bachelor",
          "degrees/diploma",
          "degrees/master",
          "degrees/Higher Vocational Education",
          "degrees/bachelor",
          "degrees/diploma",
          "degrees/master",
          "degrees/Higher Vocational Education",
          "degrees/bachelor",
          "degrees/diploma",
          "degrees/master",
          "degrees/Doctorate",
          "degrees/Higher Vocational Education",
          "degrees/bachelor",
          "degrees/diploma",
          "degrees/master",
          "degrees/student",
          "degrees/Higher Vocational Education",
          "degrees/bachelor",
          "degrees/diploma",
          "degrees/master",
          "degrees/Higher Vocational Education",
          "degrees/bachelor",
          "degrees/diploma",
          "degrees/master",
          "degrees/Doctorate",
          "degrees/Higher Vocational Education",
          "degrees/bachelor",
          "degrees/diploma",
          "degrees/master",
          "degrees/student",
          "degrees/Doctorate",
          "degrees/Higher Vocational Education",
          "degrees/bachelor",
          "degrees/diploma",
          "degrees/master",
          "degrees/student",
          "degrees/Higher Vocational Education",
          "degrees/bachelor",
          "degrees/diploma",
          "degrees/Higher Vocational Education",
          "degrees/bachelor",
          "degrees/diploma",
          "degrees/master",
          "degrees/Higher Vocational Education",
          "degrees/bachelor",
          "degrees/diploma",
          "degrees/master",
          "degrees/Doctorate",
          "degrees/Higher Vocational Education",
          "degrees/bachelor",
          "degrees/diploma",
          "degrees/master",
          "degrees/student",
          "degrees/Doctorate",
          "degrees/Higher Vocational Education",
          "degrees/bachelor",
          "degrees/diploma",
          "degrees/master",
          "degrees/student",
          "degrees/Higher Vocational Education",
          "degrees/bachelor",
          "degrees/diploma",
          "degrees/master",
          "degrees",
          "degrees",
          "degrees",
          "degrees",
          "degrees",
          "degrees",
          ""
         ],
         "root": {
          "color": "lightgrey"
         },
         "type": "treemap",
         "values": [
          4,
          1,
          26,
          9,
          2,
          2,
          6,
          2,
          1,
          243,
          191,
          153,
          43,
          4,
          3,
          1,
          1,
          94,
          34,
          2,
          20,
          1,
          300,
          152,
          63,
          25,
          5,
          33,
          19,
          16,
          7,
          1,
          1,
          3,
          4,
          1,
          430,
          288,
          135,
          71,
          1,
          1,
          955,
          608,
          155,
          112,
          4,
          14,
          10,
          5,
          2,
          1,
          1,
          2,
          2,
          1,
          2,
          1,
          69,
          42,
          17,
          6,
          2,
          1,
          3,
          1,
          1,
          49,
          63,
          13,
          5,
          5,
          20,
          8,
          3,
          139,
          82,
          24,
          6,
          1,
          227,
          198,
          26,
          25,
          4,
          6,
          3,
          9,
          9,
          2,
          26,
          9,
          1,
          231,
          173,
          131,
          30,
          2,
          1,
          181,
          14,
          2,
          1,
          313,
          258,
          81,
          20,
          99,
          48,
          13,
          3,
          2,
          1,
          1,
          2,
          1,
          336,
          232,
          30,
          45,
          1,
          922,
          689,
          90,
          107,
          8,
          9,
          5,
          1,
          2,
          14,
          4,
          5,
          11,
          5,
          1,
          1,
          125,
          40,
          8,
          5,
          43,
          34,
          4,
          7,
          7,
          1583,
          783,
          300,
          119,
          4,
          6,
          6,
          1,
          56,
          70,
          13,
          43,
          1,
          1542,
          793,
          165,
          210,
          8,
          10,
          456,
          204,
          95,
          44,
          1,
          2,
          2,
          7,
          8,
          5,
          2,
          14,
          8,
          5,
          2,
          2553,
          1256,
          262,
          318,
          14,
          5,
          5803,
          2779,
          481,
          473,
          24,
          78,
          14,
          18,
          6,
          1,
          1,
          4,
          2,
          2,
          1,
          73,
          56,
          24,
          14,
          1,
          1,
          1,
          1,
          8,
          45,
          55,
          18,
          14,
          1,
          14,
          9,
          2,
          1,
          1,
          1,
          120,
          110,
          40,
          33,
          2,
          264,
          348,
          37,
          60,
          1,
          3,
          1,
          2,
          27,
          4,
          1,
          2,
          2,
          2,
          2,
          293,
          287,
          85,
          37,
          5,
          3,
          43,
          14,
          2,
          19,
          326,
          253,
          74,
          46,
          6,
          70,
          24,
          19,
          6,
          1,
          2,
          1,
          2,
          3,
          2,
          3,
          660,
          327,
          85,
          77,
          2,
          1,
          1619,
          947,
          107,
          180,
          10,
          9,
          9,
          2,
          5,
          1,
          2,
          19,
          36,
          27,
          2,
          2,
          37,
          32,
          12,
          10,
          6,
          4,
          3,
          41,
          50,
          16,
          4,
          130,
          187,
          5,
          24,
          2,
          1,
          9,
          2,
          28,
          47,
          5,
          7,
          3,
          39,
          1,
          42,
          45,
          10,
          10,
          1,
          1,
          11,
          10,
          2,
          92,
          67,
          12,
          11,
          160,
          181,
          17,
          55,
          9,
          2,
          1,
          1,
          1,
          28,
          42,
          7,
          4,
          47,
          19,
          1,
          11,
          58,
          49,
          7,
          8,
          356,
          9,
          9,
          1,
          173,
          62,
          10,
          15,
          209,
          159,
          46,
          43,
          2,
          2,
          3,
          1,
          7,
          3,
          5,
          1,
          3,
          6,
          10,
          10,
          18,
          2,
          8,
          1,
          16,
          8,
          5,
          23,
          9,
          2,
          1,
          205,
          69,
          12,
          8,
          79,
          52,
          7,
          7,
          12,
          2574,
          1660,
          749,
          262,
          19,
          16,
          11,
          1,
          1,
          463,
          153,
          21,
          102,
          3,
          2712,
          1705,
          444,
          348,
          19,
          17,
          1058,
          336,
          167,
          66,
          1,
          2,
          4,
          1,
          12,
          9,
          6,
          3,
          22,
          17,
          5,
          5,
          3,
          4550,
          2484,
          614,
          580,
          18,
          10,
          10299,
          6114,
          966,
          1087,
          64,
          113,
          43,
          29,
          15,
          45,
          22144,
          12674,
          3024,
          2490,
          121,
          40498
         ]
        }
       ],
       "layout": {
        "legend": {
         "tracegroupgap": 0
        },
        "template": {
         "data": {
          "bar": [
           {
            "error_x": {
             "color": "rgb(36,36,36)"
            },
            "error_y": {
             "color": "rgb(36,36,36)"
            },
            "marker": {
             "line": {
              "color": "rgb(234,234,242)",
              "width": 0.5
             },
             "pattern": {
              "fillmode": "overlay",
              "size": 10,
              "solidity": 0.2
             }
            },
            "type": "bar"
           }
          ],
          "barpolar": [
           {
            "marker": {
             "line": {
              "color": "rgb(234,234,242)",
              "width": 0.5
             },
             "pattern": {
              "fillmode": "overlay",
              "size": 10,
              "solidity": 0.2
             }
            },
            "type": "barpolar"
           }
          ],
          "carpet": [
           {
            "aaxis": {
             "endlinecolor": "rgb(36,36,36)",
             "gridcolor": "white",
             "linecolor": "white",
             "minorgridcolor": "white",
             "startlinecolor": "rgb(36,36,36)"
            },
            "baxis": {
             "endlinecolor": "rgb(36,36,36)",
             "gridcolor": "white",
             "linecolor": "white",
             "minorgridcolor": "white",
             "startlinecolor": "rgb(36,36,36)"
            },
            "type": "carpet"
           }
          ],
          "choropleth": [
           {
            "colorbar": {
             "outlinewidth": 0,
             "tickcolor": "rgb(36,36,36)",
             "ticklen": 8,
             "ticks": "outside",
             "tickwidth": 2
            },
            "type": "choropleth"
           }
          ],
          "contour": [
           {
            "colorbar": {
             "outlinewidth": 0,
             "tickcolor": "rgb(36,36,36)",
             "ticklen": 8,
             "ticks": "outside",
             "tickwidth": 2
            },
            "colorscale": [
             [
              0,
              "rgb(2,4,25)"
             ],
             [
              0.06274509803921569,
              "rgb(24,15,41)"
             ],
             [
              0.12549019607843137,
              "rgb(47,23,57)"
             ],
             [
              0.18823529411764706,
              "rgb(71,28,72)"
             ],
             [
              0.25098039215686274,
              "rgb(97,30,82)"
             ],
             [
              0.3137254901960784,
              "rgb(123,30,89)"
             ],
             [
              0.3764705882352941,
              "rgb(150,27,91)"
             ],
             [
              0.4392156862745098,
              "rgb(177,22,88)"
             ],
             [
              0.5019607843137255,
              "rgb(203,26,79)"
             ],
             [
              0.5647058823529412,
              "rgb(223,47,67)"
             ],
             [
              0.6274509803921569,
              "rgb(236,76,61)"
             ],
             [
              0.6901960784313725,
              "rgb(242,107,73)"
             ],
             [
              0.7529411764705882,
              "rgb(244,135,95)"
             ],
             [
              0.8156862745098039,
              "rgb(245,162,122)"
             ],
             [
              0.8784313725490196,
              "rgb(246,188,153)"
             ],
             [
              0.9411764705882353,
              "rgb(247,212,187)"
             ],
             [
              1,
              "rgb(250,234,220)"
             ]
            ],
            "type": "contour"
           }
          ],
          "contourcarpet": [
           {
            "colorbar": {
             "outlinewidth": 0,
             "tickcolor": "rgb(36,36,36)",
             "ticklen": 8,
             "ticks": "outside",
             "tickwidth": 2
            },
            "type": "contourcarpet"
           }
          ],
          "heatmap": [
           {
            "colorbar": {
             "outlinewidth": 0,
             "tickcolor": "rgb(36,36,36)",
             "ticklen": 8,
             "ticks": "outside",
             "tickwidth": 2
            },
            "colorscale": [
             [
              0,
              "rgb(2,4,25)"
             ],
             [
              0.06274509803921569,
              "rgb(24,15,41)"
             ],
             [
              0.12549019607843137,
              "rgb(47,23,57)"
             ],
             [
              0.18823529411764706,
              "rgb(71,28,72)"
             ],
             [
              0.25098039215686274,
              "rgb(97,30,82)"
             ],
             [
              0.3137254901960784,
              "rgb(123,30,89)"
             ],
             [
              0.3764705882352941,
              "rgb(150,27,91)"
             ],
             [
              0.4392156862745098,
              "rgb(177,22,88)"
             ],
             [
              0.5019607843137255,
              "rgb(203,26,79)"
             ],
             [
              0.5647058823529412,
              "rgb(223,47,67)"
             ],
             [
              0.6274509803921569,
              "rgb(236,76,61)"
             ],
             [
              0.6901960784313725,
              "rgb(242,107,73)"
             ],
             [
              0.7529411764705882,
              "rgb(244,135,95)"
             ],
             [
              0.8156862745098039,
              "rgb(245,162,122)"
             ],
             [
              0.8784313725490196,
              "rgb(246,188,153)"
             ],
             [
              0.9411764705882353,
              "rgb(247,212,187)"
             ],
             [
              1,
              "rgb(250,234,220)"
             ]
            ],
            "type": "heatmap"
           }
          ],
          "heatmapgl": [
           {
            "colorbar": {
             "outlinewidth": 0,
             "tickcolor": "rgb(36,36,36)",
             "ticklen": 8,
             "ticks": "outside",
             "tickwidth": 2
            },
            "colorscale": [
             [
              0,
              "rgb(2,4,25)"
             ],
             [
              0.06274509803921569,
              "rgb(24,15,41)"
             ],
             [
              0.12549019607843137,
              "rgb(47,23,57)"
             ],
             [
              0.18823529411764706,
              "rgb(71,28,72)"
             ],
             [
              0.25098039215686274,
              "rgb(97,30,82)"
             ],
             [
              0.3137254901960784,
              "rgb(123,30,89)"
             ],
             [
              0.3764705882352941,
              "rgb(150,27,91)"
             ],
             [
              0.4392156862745098,
              "rgb(177,22,88)"
             ],
             [
              0.5019607843137255,
              "rgb(203,26,79)"
             ],
             [
              0.5647058823529412,
              "rgb(223,47,67)"
             ],
             [
              0.6274509803921569,
              "rgb(236,76,61)"
             ],
             [
              0.6901960784313725,
              "rgb(242,107,73)"
             ],
             [
              0.7529411764705882,
              "rgb(244,135,95)"
             ],
             [
              0.8156862745098039,
              "rgb(245,162,122)"
             ],
             [
              0.8784313725490196,
              "rgb(246,188,153)"
             ],
             [
              0.9411764705882353,
              "rgb(247,212,187)"
             ],
             [
              1,
              "rgb(250,234,220)"
             ]
            ],
            "type": "heatmapgl"
           }
          ],
          "histogram": [
           {
            "marker": {
             "pattern": {
              "fillmode": "overlay",
              "size": 10,
              "solidity": 0.2
             }
            },
            "type": "histogram"
           }
          ],
          "histogram2d": [
           {
            "colorbar": {
             "outlinewidth": 0,
             "tickcolor": "rgb(36,36,36)",
             "ticklen": 8,
             "ticks": "outside",
             "tickwidth": 2
            },
            "colorscale": [
             [
              0,
              "rgb(2,4,25)"
             ],
             [
              0.06274509803921569,
              "rgb(24,15,41)"
             ],
             [
              0.12549019607843137,
              "rgb(47,23,57)"
             ],
             [
              0.18823529411764706,
              "rgb(71,28,72)"
             ],
             [
              0.25098039215686274,
              "rgb(97,30,82)"
             ],
             [
              0.3137254901960784,
              "rgb(123,30,89)"
             ],
             [
              0.3764705882352941,
              "rgb(150,27,91)"
             ],
             [
              0.4392156862745098,
              "rgb(177,22,88)"
             ],
             [
              0.5019607843137255,
              "rgb(203,26,79)"
             ],
             [
              0.5647058823529412,
              "rgb(223,47,67)"
             ],
             [
              0.6274509803921569,
              "rgb(236,76,61)"
             ],
             [
              0.6901960784313725,
              "rgb(242,107,73)"
             ],
             [
              0.7529411764705882,
              "rgb(244,135,95)"
             ],
             [
              0.8156862745098039,
              "rgb(245,162,122)"
             ],
             [
              0.8784313725490196,
              "rgb(246,188,153)"
             ],
             [
              0.9411764705882353,
              "rgb(247,212,187)"
             ],
             [
              1,
              "rgb(250,234,220)"
             ]
            ],
            "type": "histogram2d"
           }
          ],
          "histogram2dcontour": [
           {
            "colorbar": {
             "outlinewidth": 0,
             "tickcolor": "rgb(36,36,36)",
             "ticklen": 8,
             "ticks": "outside",
             "tickwidth": 2
            },
            "colorscale": [
             [
              0,
              "rgb(2,4,25)"
             ],
             [
              0.06274509803921569,
              "rgb(24,15,41)"
             ],
             [
              0.12549019607843137,
              "rgb(47,23,57)"
             ],
             [
              0.18823529411764706,
              "rgb(71,28,72)"
             ],
             [
              0.25098039215686274,
              "rgb(97,30,82)"
             ],
             [
              0.3137254901960784,
              "rgb(123,30,89)"
             ],
             [
              0.3764705882352941,
              "rgb(150,27,91)"
             ],
             [
              0.4392156862745098,
              "rgb(177,22,88)"
             ],
             [
              0.5019607843137255,
              "rgb(203,26,79)"
             ],
             [
              0.5647058823529412,
              "rgb(223,47,67)"
             ],
             [
              0.6274509803921569,
              "rgb(236,76,61)"
             ],
             [
              0.6901960784313725,
              "rgb(242,107,73)"
             ],
             [
              0.7529411764705882,
              "rgb(244,135,95)"
             ],
             [
              0.8156862745098039,
              "rgb(245,162,122)"
             ],
             [
              0.8784313725490196,
              "rgb(246,188,153)"
             ],
             [
              0.9411764705882353,
              "rgb(247,212,187)"
             ],
             [
              1,
              "rgb(250,234,220)"
             ]
            ],
            "type": "histogram2dcontour"
           }
          ],
          "mesh3d": [
           {
            "colorbar": {
             "outlinewidth": 0,
             "tickcolor": "rgb(36,36,36)",
             "ticklen": 8,
             "ticks": "outside",
             "tickwidth": 2
            },
            "type": "mesh3d"
           }
          ],
          "parcoords": [
           {
            "line": {
             "colorbar": {
              "outlinewidth": 0,
              "tickcolor": "rgb(36,36,36)",
              "ticklen": 8,
              "ticks": "outside",
              "tickwidth": 2
             }
            },
            "type": "parcoords"
           }
          ],
          "pie": [
           {
            "automargin": true,
            "type": "pie"
           }
          ],
          "scatter": [
           {
            "marker": {
             "colorbar": {
              "outlinewidth": 0,
              "tickcolor": "rgb(36,36,36)",
              "ticklen": 8,
              "ticks": "outside",
              "tickwidth": 2
             }
            },
            "type": "scatter"
           }
          ],
          "scatter3d": [
           {
            "line": {
             "colorbar": {
              "outlinewidth": 0,
              "tickcolor": "rgb(36,36,36)",
              "ticklen": 8,
              "ticks": "outside",
              "tickwidth": 2
             }
            },
            "marker": {
             "colorbar": {
              "outlinewidth": 0,
              "tickcolor": "rgb(36,36,36)",
              "ticklen": 8,
              "ticks": "outside",
              "tickwidth": 2
             }
            },
            "type": "scatter3d"
           }
          ],
          "scattercarpet": [
           {
            "marker": {
             "colorbar": {
              "outlinewidth": 0,
              "tickcolor": "rgb(36,36,36)",
              "ticklen": 8,
              "ticks": "outside",
              "tickwidth": 2
             }
            },
            "type": "scattercarpet"
           }
          ],
          "scattergeo": [
           {
            "marker": {
             "colorbar": {
              "outlinewidth": 0,
              "tickcolor": "rgb(36,36,36)",
              "ticklen": 8,
              "ticks": "outside",
              "tickwidth": 2
             }
            },
            "type": "scattergeo"
           }
          ],
          "scattergl": [
           {
            "marker": {
             "colorbar": {
              "outlinewidth": 0,
              "tickcolor": "rgb(36,36,36)",
              "ticklen": 8,
              "ticks": "outside",
              "tickwidth": 2
             }
            },
            "type": "scattergl"
           }
          ],
          "scattermapbox": [
           {
            "marker": {
             "colorbar": {
              "outlinewidth": 0,
              "tickcolor": "rgb(36,36,36)",
              "ticklen": 8,
              "ticks": "outside",
              "tickwidth": 2
             }
            },
            "type": "scattermapbox"
           }
          ],
          "scatterpolar": [
           {
            "marker": {
             "colorbar": {
              "outlinewidth": 0,
              "tickcolor": "rgb(36,36,36)",
              "ticklen": 8,
              "ticks": "outside",
              "tickwidth": 2
             }
            },
            "type": "scatterpolar"
           }
          ],
          "scatterpolargl": [
           {
            "marker": {
             "colorbar": {
              "outlinewidth": 0,
              "tickcolor": "rgb(36,36,36)",
              "ticklen": 8,
              "ticks": "outside",
              "tickwidth": 2
             }
            },
            "type": "scatterpolargl"
           }
          ],
          "scatterternary": [
           {
            "marker": {
             "colorbar": {
              "outlinewidth": 0,
              "tickcolor": "rgb(36,36,36)",
              "ticklen": 8,
              "ticks": "outside",
              "tickwidth": 2
             }
            },
            "type": "scatterternary"
           }
          ],
          "surface": [
           {
            "colorbar": {
             "outlinewidth": 0,
             "tickcolor": "rgb(36,36,36)",
             "ticklen": 8,
             "ticks": "outside",
             "tickwidth": 2
            },
            "colorscale": [
             [
              0,
              "rgb(2,4,25)"
             ],
             [
              0.06274509803921569,
              "rgb(24,15,41)"
             ],
             [
              0.12549019607843137,
              "rgb(47,23,57)"
             ],
             [
              0.18823529411764706,
              "rgb(71,28,72)"
             ],
             [
              0.25098039215686274,
              "rgb(97,30,82)"
             ],
             [
              0.3137254901960784,
              "rgb(123,30,89)"
             ],
             [
              0.3764705882352941,
              "rgb(150,27,91)"
             ],
             [
              0.4392156862745098,
              "rgb(177,22,88)"
             ],
             [
              0.5019607843137255,
              "rgb(203,26,79)"
             ],
             [
              0.5647058823529412,
              "rgb(223,47,67)"
             ],
             [
              0.6274509803921569,
              "rgb(236,76,61)"
             ],
             [
              0.6901960784313725,
              "rgb(242,107,73)"
             ],
             [
              0.7529411764705882,
              "rgb(244,135,95)"
             ],
             [
              0.8156862745098039,
              "rgb(245,162,122)"
             ],
             [
              0.8784313725490196,
              "rgb(246,188,153)"
             ],
             [
              0.9411764705882353,
              "rgb(247,212,187)"
             ],
             [
              1,
              "rgb(250,234,220)"
             ]
            ],
            "type": "surface"
           }
          ],
          "table": [
           {
            "cells": {
             "fill": {
              "color": "rgb(231,231,240)"
             },
             "line": {
              "color": "white"
             }
            },
            "header": {
             "fill": {
              "color": "rgb(183,183,191)"
             },
             "line": {
              "color": "white"
             }
            },
            "type": "table"
           }
          ]
         },
         "layout": {
          "annotationdefaults": {
           "arrowcolor": "rgb(67,103,167)"
          },
          "autotypenumbers": "strict",
          "coloraxis": {
           "colorbar": {
            "outlinewidth": 0,
            "tickcolor": "rgb(36,36,36)",
            "ticklen": 8,
            "ticks": "outside",
            "tickwidth": 2
           }
          },
          "colorscale": {
           "sequential": [
            [
             0,
             "rgb(2,4,25)"
            ],
            [
             0.06274509803921569,
             "rgb(24,15,41)"
            ],
            [
             0.12549019607843137,
             "rgb(47,23,57)"
            ],
            [
             0.18823529411764706,
             "rgb(71,28,72)"
            ],
            [
             0.25098039215686274,
             "rgb(97,30,82)"
            ],
            [
             0.3137254901960784,
             "rgb(123,30,89)"
            ],
            [
             0.3764705882352941,
             "rgb(150,27,91)"
            ],
            [
             0.4392156862745098,
             "rgb(177,22,88)"
            ],
            [
             0.5019607843137255,
             "rgb(203,26,79)"
            ],
            [
             0.5647058823529412,
             "rgb(223,47,67)"
            ],
            [
             0.6274509803921569,
             "rgb(236,76,61)"
            ],
            [
             0.6901960784313725,
             "rgb(242,107,73)"
            ],
            [
             0.7529411764705882,
             "rgb(244,135,95)"
            ],
            [
             0.8156862745098039,
             "rgb(245,162,122)"
            ],
            [
             0.8784313725490196,
             "rgb(246,188,153)"
            ],
            [
             0.9411764705882353,
             "rgb(247,212,187)"
            ],
            [
             1,
             "rgb(250,234,220)"
            ]
           ],
           "sequentialminus": [
            [
             0,
             "rgb(2,4,25)"
            ],
            [
             0.06274509803921569,
             "rgb(24,15,41)"
            ],
            [
             0.12549019607843137,
             "rgb(47,23,57)"
            ],
            [
             0.18823529411764706,
             "rgb(71,28,72)"
            ],
            [
             0.25098039215686274,
             "rgb(97,30,82)"
            ],
            [
             0.3137254901960784,
             "rgb(123,30,89)"
            ],
            [
             0.3764705882352941,
             "rgb(150,27,91)"
            ],
            [
             0.4392156862745098,
             "rgb(177,22,88)"
            ],
            [
             0.5019607843137255,
             "rgb(203,26,79)"
            ],
            [
             0.5647058823529412,
             "rgb(223,47,67)"
            ],
            [
             0.6274509803921569,
             "rgb(236,76,61)"
            ],
            [
             0.6901960784313725,
             "rgb(242,107,73)"
            ],
            [
             0.7529411764705882,
             "rgb(244,135,95)"
            ],
            [
             0.8156862745098039,
             "rgb(245,162,122)"
            ],
            [
             0.8784313725490196,
             "rgb(246,188,153)"
            ],
            [
             0.9411764705882353,
             "rgb(247,212,187)"
            ],
            [
             1,
             "rgb(250,234,220)"
            ]
           ]
          },
          "colorway": [
           "rgb(76,114,176)",
           "rgb(221,132,82)",
           "rgb(85,168,104)",
           "rgb(196,78,82)",
           "rgb(129,114,179)",
           "rgb(147,120,96)",
           "rgb(218,139,195)",
           "rgb(140,140,140)",
           "rgb(204,185,116)",
           "rgb(100,181,205)"
          ],
          "font": {
           "color": "rgb(36,36,36)"
          },
          "geo": {
           "bgcolor": "white",
           "lakecolor": "white",
           "landcolor": "rgb(234,234,242)",
           "showlakes": true,
           "showland": true,
           "subunitcolor": "white"
          },
          "hoverlabel": {
           "align": "left"
          },
          "hovermode": "closest",
          "paper_bgcolor": "white",
          "plot_bgcolor": "rgb(234,234,242)",
          "polar": {
           "angularaxis": {
            "gridcolor": "white",
            "linecolor": "white",
            "showgrid": true,
            "ticks": ""
           },
           "bgcolor": "rgb(234,234,242)",
           "radialaxis": {
            "gridcolor": "white",
            "linecolor": "white",
            "showgrid": true,
            "ticks": ""
           }
          },
          "scene": {
           "xaxis": {
            "backgroundcolor": "rgb(234,234,242)",
            "gridcolor": "white",
            "gridwidth": 2,
            "linecolor": "white",
            "showbackground": true,
            "showgrid": true,
            "ticks": "",
            "zerolinecolor": "white"
           },
           "yaxis": {
            "backgroundcolor": "rgb(234,234,242)",
            "gridcolor": "white",
            "gridwidth": 2,
            "linecolor": "white",
            "showbackground": true,
            "showgrid": true,
            "ticks": "",
            "zerolinecolor": "white"
           },
           "zaxis": {
            "backgroundcolor": "rgb(234,234,242)",
            "gridcolor": "white",
            "gridwidth": 2,
            "linecolor": "white",
            "showbackground": true,
            "showgrid": true,
            "ticks": "",
            "zerolinecolor": "white"
           }
          },
          "shapedefaults": {
           "fillcolor": "rgb(67,103,167)",
           "line": {
            "width": 0
           },
           "opacity": 0.5
          },
          "ternary": {
           "aaxis": {
            "gridcolor": "white",
            "linecolor": "white",
            "showgrid": true,
            "ticks": ""
           },
           "baxis": {
            "gridcolor": "white",
            "linecolor": "white",
            "showgrid": true,
            "ticks": ""
           },
           "bgcolor": "rgb(234,234,242)",
           "caxis": {
            "gridcolor": "white",
            "linecolor": "white",
            "showgrid": true,
            "ticks": ""
           }
          },
          "xaxis": {
           "automargin": true,
           "gridcolor": "white",
           "linecolor": "white",
           "showgrid": true,
           "ticks": "",
           "title": {
            "standoff": 15
           },
           "zerolinecolor": "white"
          },
          "yaxis": {
           "automargin": true,
           "gridcolor": "white",
           "linecolor": "white",
           "showgrid": true,
           "ticks": "",
           "title": {
            "standoff": 15
           },
           "zerolinecolor": "white"
          }
         }
        },
        "title": {
         "text": "<b> Different Education Degrees in Regions with years of Experience"
        }
       }
      },
      "text/html": [
       "<div>                            <div id=\"a48cf771-9e4a-4744-882b-db12dd03974f\" class=\"plotly-graph-div\" style=\"height:525px; width:100%;\"></div>            <script type=\"text/javascript\">                require([\"plotly\"], function(Plotly) {                    window.PLOTLYENV=window.PLOTLYENV || {};                                    if (document.getElementById(\"a48cf771-9e4a-4744-882b-db12dd03974f\")) {                    Plotly.newPlot(                        \"a48cf771-9e4a-4744-882b-db12dd03974f\",                        [{\"branchvalues\":\"total\",\"domain\":{\"x\":[0.0,1.0],\"y\":[0.0,1.0]},\"hovertemplate\":\"<b>%{hovertext}</b><br><br>labels=%{label}<br>count=%{value}<br>parent=%{parent}<br>id=%{id}<extra></extra>\",\"hovertext\":[\"Higher Vocational Education\",\"diploma\",\"Higher Vocational Education\",\"bachelor\",\"diploma\",\"master\",\"Higher Vocational Education\",\"bachelor\",\"Doctorate\",\"Higher Vocational Education\",\"bachelor\",\"diploma\",\"master\",\"student\",\"Higher Vocational Education\",\"bachelor\",\"diploma\",\"Higher Vocational Education\",\"bachelor\",\"diploma\",\"master\",\"Doctorate\",\"Higher Vocational Education\",\"bachelor\",\"diploma\",\"master\",\"student\",\"Higher Vocational Education\",\"bachelor\",\"diploma\",\"master\",\"Higher Vocational Education\",\"diploma\",\"Higher Vocational Education\",\"bachelor\",\"master\",\"Higher Vocational Education\",\"bachelor\",\"diploma\",\"master\",\"student\",\"Doctorate\",\"Higher Vocational Education\",\"bachelor\",\"diploma\",\"master\",\"student\",\"Higher Vocational Education\",\"bachelor\",\"diploma\",\"master\",\"bachelor\",\"bachelor\",\"Higher Vocational Education\",\"bachelor\",\"Higher Vocational Education\",\"bachelor\",\"diploma\",\"Higher Vocational Education\",\"bachelor\",\"diploma\",\"master\",\"student\",\"Higher Vocational Education\",\"bachelor\",\"diploma\",\"Doctorate\",\"Higher Vocational Education\",\"bachelor\",\"diploma\",\"master\",\"student\",\"Higher Vocational Education\",\"bachelor\",\"diploma\",\"Higher Vocational Education\",\"bachelor\",\"diploma\",\"master\",\"student\",\"Higher Vocational Education\",\"bachelor\",\"diploma\",\"master\",\"student\",\"Higher Vocational Education\",\"bachelor\",\"Higher Vocational Education\",\"bachelor\",\"diploma\",\"Higher Vocational Education\",\"bachelor\",\"Doctorate\",\"Higher Vocational Education\",\"bachelor\",\"diploma\",\"master\",\"Higher Vocational Education\",\"bachelor\",\"Higher Vocational Education\",\"bachelor\",\"diploma\",\"master\",\"Higher Vocational Education\",\"bachelor\",\"diploma\",\"master\",\"Higher Vocational Education\",\"bachelor\",\"diploma\",\"master\",\"bachelor\",\"Higher Vocational Education\",\"bachelor\",\"Higher Vocational Education\",\"bachelor\",\"Higher Vocational Education\",\"bachelor\",\"diploma\",\"master\",\"Doctorate\",\"Higher Vocational Education\",\"bachelor\",\"diploma\",\"master\",\"student\",\"Higher Vocational Education\",\"bachelor\",\"diploma\",\"master\",\"Higher Vocational Education\",\"bachelor\",\"master\",\"Higher Vocational Education\",\"bachelor\",\"diploma\",\"master\",\"Higher Vocational Education\",\"bachelor\",\"diploma\",\"master\",\"Higher Vocational Education\",\"bachelor\",\"diploma\",\"master\",\"Doctorate\",\"Higher Vocational Education\",\"bachelor\",\"diploma\",\"master\",\"student\",\"Higher Vocational Education\",\"bachelor\",\"master\",\"Higher Vocational Education\",\"bachelor\",\"diploma\",\"master\",\"Doctorate\",\"Higher Vocational Education\",\"bachelor\",\"diploma\",\"master\",\"student\",\"Doctorate\",\"Higher Vocational Education\",\"bachelor\",\"diploma\",\"master\",\"student\",\"Higher Vocational Education\",\"bachelor\",\"Higher Vocational Education\",\"bachelor\",\"diploma\",\"master\",\"Higher Vocational Education\",\"bachelor\",\"diploma\",\"master\",\"Higher Vocational Education\",\"bachelor\",\"diploma\",\"master\",\"student\",\"Doctorate\",\"Higher Vocational Education\",\"bachelor\",\"diploma\",\"master\",\"student\",\"Higher Vocational Education\",\"bachelor\",\"diploma\",\"master\",\"Higher Vocational Education\",\"bachelor\",\"Higher Vocational Education\",\"bachelor\",\"bachelor\",\"Doctorate\",\"Higher Vocational Education\",\"bachelor\",\"diploma\",\"master\",\"student\",\"Higher Vocational Education\",\"Higher Vocational Education\",\"bachelor\",\"master\",\"Higher Vocational Education\",\"bachelor\",\"diploma\",\"master\",\"Doctorate\",\"Higher Vocational Education\",\"bachelor\",\"diploma\",\"master\",\"Higher Vocational Education\",\"Higher Vocational Education\",\"Higher Vocational Education\",\"bachelor\",\"diploma\",\"master\",\"Doctorate\",\"Higher Vocational Education\",\"bachelor\",\"diploma\",\"master\",\"Higher Vocational Education\",\"diploma\",\"Higher Vocational Education\",\"Higher Vocational Education\",\"Higher Vocational Education\",\"bachelor\",\"master\",\"Higher Vocational Education\",\"bachelor\",\"diploma\",\"Doctorate\",\"Higher Vocational Education\",\"bachelor\",\"diploma\",\"master\",\"student\",\"Higher Vocational Education\",\"Higher Vocational Education\",\"bachelor\",\"diploma\",\"master\",\"Higher Vocational Education\",\"bachelor\",\"diploma\",\"master\",\"Doctorate\",\"Higher Vocational Education\",\"bachelor\",\"diploma\",\"master\",\"diploma\",\"Higher Vocational Education\",\"master\",\"Higher Vocational Education\",\"bachelor\",\"master\",\"Doctorate\",\"Higher Vocational Education\",\"bachelor\",\"diploma\",\"master\",\"student\",\"Doctorate\",\"Higher Vocational Education\",\"bachelor\",\"diploma\",\"master\",\"student\",\"Higher Vocational Education\",\"bachelor\",\"diploma\",\"master\",\"bachelor\",\"Higher Vocational Education\",\"Higher Vocational Education\",\"bachelor\",\"diploma\",\"master\",\"Higher Vocational Education\",\"Higher Vocational Education\",\"bachelor\",\"diploma\",\"master\",\"Higher Vocational Education\",\"bachelor\",\"master\",\"Higher Vocational Education\",\"bachelor\",\"diploma\",\"master\",\"Higher Vocational Education\",\"bachelor\",\"diploma\",\"master\",\"student\",\"bachelor\",\"Higher Vocational Education\",\"bachelor\",\"Higher Vocational Education\",\"bachelor\",\"diploma\",\"master\",\"student\",\"Higher Vocational Education\",\"bachelor\",\"Higher Vocational Education\",\"bachelor\",\"diploma\",\"master\",\"student\",\"Higher Vocational Education\",\"bachelor\",\"diploma\",\"master\",\"Higher Vocational Education\",\"bachelor\",\"diploma\",\"master\",\"Higher Vocational Education\",\"bachelor\",\"diploma\",\"master\",\"student\",\"bachelor\",\"Higher Vocational Education\",\"bachelor\",\"Higher Vocational Education\",\"Higher Vocational Education\",\"bachelor\",\"diploma\",\"master\",\"Higher Vocational Education\",\"bachelor\",\"diploma\",\"master\",\"Higher Vocational Education\",\"bachelor\",\"diploma\",\"master\",\"Higher Vocational Education\",\"bachelor\",\"diploma\",\"bachelor\",\"Higher Vocational Education\",\"bachelor\",\"diploma\",\"master\",\"Higher Vocational Education\",\"bachelor\",\"diploma\",\"master\",\"student\",\"Higher Vocational Education\",\"bachelor\",\"bachelor\",\"Higher Vocational Education\",\"bachelor\",\"bachelor\",\"diploma\",\"Higher Vocational Education\",\"Higher Vocational Education\",\"bachelor\",\"Higher Vocational Education\",\"bachelor\",\"diploma\",\"master\",\"student\",\"Higher Vocational Education\",\"bachelor\",\"master\",\"Higher Vocational Education\",\"bachelor\",\"diploma\",\"master\",\"Higher Vocational Education\",\"bachelor\",\"diploma\",\"master\",\"Higher Vocational Education\",\"bachelor\",\"diploma\",\"master\",\"Doctorate\",\"Higher Vocational Education\",\"bachelor\",\"diploma\",\"master\",\"student\",\"Higher Vocational Education\",\"bachelor\",\"diploma\",\"master\",\"Higher Vocational Education\",\"bachelor\",\"diploma\",\"master\",\"Doctorate\",\"Higher Vocational Education\",\"bachelor\",\"diploma\",\"master\",\"student\",\"Doctorate\",\"Higher Vocational Education\",\"bachelor\",\"diploma\",\"master\",\"student\",\"Higher Vocational Education\",\"bachelor\",\"diploma\",\"Higher Vocational Education\",\"bachelor\",\"diploma\",\"master\",\"Higher Vocational Education\",\"bachelor\",\"diploma\",\"master\",\"Doctorate\",\"Higher Vocational Education\",\"bachelor\",\"diploma\",\"master\",\"student\",\"Doctorate\",\"Higher Vocational Education\",\"bachelor\",\"diploma\",\"master\",\"student\",\"Higher Vocational Education\",\"bachelor\",\"diploma\",\"master\",\"Doctorate\",\"Higher Vocational Education\",\"bachelor\",\"diploma\",\"master\",\"student\",\"(?)\"],\"ids\":[\"degrees/Higher Vocational Education/AlJawf /0\",\"degrees/diploma/AlJawf /0\",\"degrees/Higher Vocational Education/AlQassim/0\",\"degrees/bachelor/AlQassim/0\",\"degrees/diploma/AlQassim/0\",\"degrees/master/AlQassim/0\",\"degrees/Higher Vocational Education/Asir/0\",\"degrees/bachelor/Asir/0\",\"degrees/Doctorate/Eastern/0\",\"degrees/Higher Vocational Education/Eastern/0\",\"degrees/bachelor/Eastern/0\",\"degrees/diploma/Eastern/0\",\"degrees/master/Eastern/0\",\"degrees/student/Eastern/0\",\"degrees/Higher Vocational Education/Hail/0\",\"degrees/bachelor/Hail/0\",\"degrees/diploma/Hail/0\",\"degrees/Higher Vocational Education/Jazan/0\",\"degrees/bachelor/Jazan/0\",\"degrees/diploma/Jazan/0\",\"degrees/master/Jazan/0\",\"degrees/Doctorate/Makkah/0\",\"degrees/Higher Vocational Education/Makkah/0\",\"degrees/bachelor/Makkah/0\",\"degrees/diploma/Makkah/0\",\"degrees/master/Makkah/0\",\"degrees/student/Makkah/0\",\"degrees/Higher Vocational Education/Medina/0\",\"degrees/bachelor/Medina/0\",\"degrees/diploma/Medina/0\",\"degrees/master/Medina/0\",\"degrees/Higher Vocational Education/Northern Borders/0\",\"degrees/diploma/Northern Borders/0\",\"degrees/Higher Vocational Education/NotDefind/0\",\"degrees/bachelor/NotDefind/0\",\"degrees/master/NotDefind/0\",\"degrees/Higher Vocational Education/Remote/0\",\"degrees/bachelor/Remote/0\",\"degrees/diploma/Remote/0\",\"degrees/master/Remote/0\",\"degrees/student/Remote/0\",\"degrees/Doctorate/Riyadh/0\",\"degrees/Higher Vocational Education/Riyadh/0\",\"degrees/bachelor/Riyadh/0\",\"degrees/diploma/Riyadh/0\",\"degrees/master/Riyadh/0\",\"degrees/student/Riyadh/0\",\"degrees/Higher Vocational Education/Tabuk/0\",\"degrees/bachelor/Tabuk/0\",\"degrees/diploma/Tabuk/0\",\"degrees/master/Tabuk/0\",\"degrees/bachelor/AlBahah/1\",\"degrees/bachelor/AlJawf /1\",\"degrees/Higher Vocational Education/AlQassim/1\",\"degrees/bachelor/AlQassim/1\",\"degrees/Higher Vocational Education/Asir/1\",\"degrees/bachelor/Asir/1\",\"degrees/diploma/Asir/1\",\"degrees/Higher Vocational Education/Eastern/1\",\"degrees/bachelor/Eastern/1\",\"degrees/diploma/Eastern/1\",\"degrees/master/Eastern/1\",\"degrees/student/Eastern/1\",\"degrees/Higher Vocational Education/Hail/1\",\"degrees/bachelor/Hail/1\",\"degrees/diploma/Jazan/1\",\"degrees/Doctorate/Makkah/1\",\"degrees/Higher Vocational Education/Makkah/1\",\"degrees/bachelor/Makkah/1\",\"degrees/diploma/Makkah/1\",\"degrees/master/Makkah/1\",\"degrees/student/Makkah/1\",\"degrees/Higher Vocational Education/Medina/1\",\"degrees/bachelor/Medina/1\",\"degrees/diploma/Medina/1\",\"degrees/Higher Vocational Education/Remote/1\",\"degrees/bachelor/Remote/1\",\"degrees/diploma/Remote/1\",\"degrees/master/Remote/1\",\"degrees/student/Remote/1\",\"degrees/Higher Vocational Education/Riyadh/1\",\"degrees/bachelor/Riyadh/1\",\"degrees/diploma/Riyadh/1\",\"degrees/master/Riyadh/1\",\"degrees/student/Riyadh/1\",\"degrees/Higher Vocational Education/AlJawf /2\",\"degrees/bachelor/AlJawf /2\",\"degrees/Higher Vocational Education/AlQassim/2\",\"degrees/bachelor/AlQassim/2\",\"degrees/diploma/AlQassim/2\",\"degrees/Higher Vocational Education/Asir/2\",\"degrees/bachelor/Asir/2\",\"degrees/Doctorate/Eastern/2\",\"degrees/Higher Vocational Education/Eastern/2\",\"degrees/bachelor/Eastern/2\",\"degrees/diploma/Eastern/2\",\"degrees/master/Eastern/2\",\"degrees/Higher Vocational Education/Hail/2\",\"degrees/bachelor/Hail/2\",\"degrees/Higher Vocational Education/Jazan/2\",\"degrees/bachelor/Jazan/2\",\"degrees/diploma/Jazan/2\",\"degrees/master/Jazan/2\",\"degrees/Higher Vocational Education/Makkah/2\",\"degrees/bachelor/Makkah/2\",\"degrees/diploma/Makkah/2\",\"degrees/master/Makkah/2\",\"degrees/Higher Vocational Education/Medina/2\",\"degrees/bachelor/Medina/2\",\"degrees/diploma/Medina/2\",\"degrees/master/Medina/2\",\"degrees/bachelor/Najran/2\",\"degrees/Higher Vocational Education/Northern Borders/2\",\"degrees/bachelor/Northern Borders/2\",\"degrees/Higher Vocational Education/NotDefind/2\",\"degrees/bachelor/NotDefind/2\",\"degrees/Higher Vocational Education/Remote/2\",\"degrees/bachelor/Remote/2\",\"degrees/diploma/Remote/2\",\"degrees/master/Remote/2\",\"degrees/Doctorate/Riyadh/2\",\"degrees/Higher Vocational Education/Riyadh/2\",\"degrees/bachelor/Riyadh/2\",\"degrees/diploma/Riyadh/2\",\"degrees/master/Riyadh/2\",\"degrees/student/Riyadh/2\",\"degrees/Higher Vocational Education/Tabuk/2\",\"degrees/bachelor/Tabuk/2\",\"degrees/diploma/Tabuk/2\",\"degrees/master/Tabuk/2\",\"degrees/Higher Vocational Education/AlBahah/3\",\"degrees/bachelor/AlBahah/3\",\"degrees/master/AlBahah/3\",\"degrees/Higher Vocational Education/AlJawf /3\",\"degrees/bachelor/AlJawf /3\",\"degrees/diploma/AlJawf /3\",\"degrees/master/AlJawf /3\",\"degrees/Higher Vocational Education/AlQassim/3\",\"degrees/bachelor/AlQassim/3\",\"degrees/diploma/AlQassim/3\",\"degrees/master/AlQassim/3\",\"degrees/Higher Vocational Education/Asir/3\",\"degrees/bachelor/Asir/3\",\"degrees/diploma/Asir/3\",\"degrees/master/Asir/3\",\"degrees/Doctorate/Eastern/3\",\"degrees/Higher Vocational Education/Eastern/3\",\"degrees/bachelor/Eastern/3\",\"degrees/diploma/Eastern/3\",\"degrees/master/Eastern/3\",\"degrees/student/Eastern/3\",\"degrees/Higher Vocational Education/Hail/3\",\"degrees/bachelor/Hail/3\",\"degrees/master/Hail/3\",\"degrees/Higher Vocational Education/Jazan/3\",\"degrees/bachelor/Jazan/3\",\"degrees/diploma/Jazan/3\",\"degrees/master/Jazan/3\",\"degrees/Doctorate/Makkah/3\",\"degrees/Higher Vocational Education/Makkah/3\",\"degrees/bachelor/Makkah/3\",\"degrees/diploma/Makkah/3\",\"degrees/master/Makkah/3\",\"degrees/student/Makkah/3\",\"degrees/Doctorate/Medina/3\",\"degrees/Higher Vocational Education/Medina/3\",\"degrees/bachelor/Medina/3\",\"degrees/diploma/Medina/3\",\"degrees/master/Medina/3\",\"degrees/student/Medina/3\",\"degrees/Higher Vocational Education/Najran/3\",\"degrees/bachelor/Najran/3\",\"degrees/Higher Vocational Education/Northern Borders/3\",\"degrees/bachelor/Northern Borders/3\",\"degrees/diploma/Northern Borders/3\",\"degrees/master/Northern Borders/3\",\"degrees/Higher Vocational Education/NotDefind/3\",\"degrees/bachelor/NotDefind/3\",\"degrees/diploma/NotDefind/3\",\"degrees/master/NotDefind/3\",\"degrees/Higher Vocational Education/Remote/3\",\"degrees/bachelor/Remote/3\",\"degrees/diploma/Remote/3\",\"degrees/master/Remote/3\",\"degrees/student/Remote/3\",\"degrees/Doctorate/Riyadh/3\",\"degrees/Higher Vocational Education/Riyadh/3\",\"degrees/bachelor/Riyadh/3\",\"degrees/diploma/Riyadh/3\",\"degrees/master/Riyadh/3\",\"degrees/student/Riyadh/3\",\"degrees/Higher Vocational Education/Tabuk/3\",\"degrees/bachelor/Tabuk/3\",\"degrees/diploma/Tabuk/3\",\"degrees/master/Tabuk/3\",\"degrees/Higher Vocational Education/AlBahah/4\",\"degrees/bachelor/AlBahah/4\",\"degrees/Higher Vocational Education/AlQassim/4\",\"degrees/bachelor/AlQassim/4\",\"degrees/bachelor/Asir/4\",\"degrees/Doctorate/Eastern/4\",\"degrees/Higher Vocational Education/Eastern/4\",\"degrees/bachelor/Eastern/4\",\"degrees/diploma/Eastern/4\",\"degrees/master/Eastern/4\",\"degrees/student/Eastern/4\",\"degrees/Higher Vocational Education/Hail/4\",\"degrees/Higher Vocational Education/Jazan/4\",\"degrees/bachelor/Jazan/4\",\"degrees/master/Jazan/4\",\"degrees/Higher Vocational Education/Makkah/4\",\"degrees/bachelor/Makkah/4\",\"degrees/diploma/Makkah/4\",\"degrees/master/Makkah/4\",\"degrees/Doctorate/Medina/4\",\"degrees/Higher Vocational Education/Medina/4\",\"degrees/bachelor/Medina/4\",\"degrees/diploma/Medina/4\",\"degrees/master/Medina/4\",\"degrees/Higher Vocational Education/Northern Borders/4\",\"degrees/Higher Vocational Education/NotDefind/4\",\"degrees/Higher Vocational Education/Remote/4\",\"degrees/bachelor/Remote/4\",\"degrees/diploma/Remote/4\",\"degrees/master/Remote/4\",\"degrees/Doctorate/Riyadh/4\",\"degrees/Higher Vocational Education/Riyadh/4\",\"degrees/bachelor/Riyadh/4\",\"degrees/diploma/Riyadh/4\",\"degrees/master/Riyadh/4\",\"degrees/Higher Vocational Education/Tabuk/4\",\"degrees/diploma/Tabuk/4\",\"degrees/Higher Vocational Education/AlBahah/5\",\"degrees/Higher Vocational Education/AlJawf /5\",\"degrees/Higher Vocational Education/AlQassim/5\",\"degrees/bachelor/AlQassim/5\",\"degrees/master/AlQassim/5\",\"degrees/Higher Vocational Education/Asir/5\",\"degrees/bachelor/Asir/5\",\"degrees/diploma/Asir/5\",\"degrees/Doctorate/Eastern/5\",\"degrees/Higher Vocational Education/Eastern/5\",\"degrees/bachelor/Eastern/5\",\"degrees/diploma/Eastern/5\",\"degrees/master/Eastern/5\",\"degrees/student/Eastern/5\",\"degrees/Higher Vocational Education/Hail/5\",\"degrees/Higher Vocational Education/Jazan/5\",\"degrees/bachelor/Jazan/5\",\"degrees/diploma/Jazan/5\",\"degrees/master/Jazan/5\",\"degrees/Higher Vocational Education/Makkah/5\",\"degrees/bachelor/Makkah/5\",\"degrees/diploma/Makkah/5\",\"degrees/master/Makkah/5\",\"degrees/Doctorate/Medina/5\",\"degrees/Higher Vocational Education/Medina/5\",\"degrees/bachelor/Medina/5\",\"degrees/diploma/Medina/5\",\"degrees/master/Medina/5\",\"degrees/diploma/Najran/5\",\"degrees/Higher Vocational Education/Northern Borders/5\",\"degrees/master/Northern Borders/5\",\"degrees/Higher Vocational Education/NotDefind/5\",\"degrees/bachelor/NotDefind/5\",\"degrees/master/NotDefind/5\",\"degrees/Doctorate/Remote/5\",\"degrees/Higher Vocational Education/Remote/5\",\"degrees/bachelor/Remote/5\",\"degrees/diploma/Remote/5\",\"degrees/master/Remote/5\",\"degrees/student/Remote/5\",\"degrees/Doctorate/Riyadh/5\",\"degrees/Higher Vocational Education/Riyadh/5\",\"degrees/bachelor/Riyadh/5\",\"degrees/diploma/Riyadh/5\",\"degrees/master/Riyadh/5\",\"degrees/student/Riyadh/5\",\"degrees/Higher Vocational Education/Tabuk/5\",\"degrees/bachelor/Tabuk/5\",\"degrees/diploma/Tabuk/5\",\"degrees/master/Tabuk/5\",\"degrees/bachelor/AlBahah/6\",\"degrees/Higher Vocational Education/AlQassim/6\",\"degrees/Higher Vocational Education/Eastern/6\",\"degrees/bachelor/Eastern/6\",\"degrees/diploma/Eastern/6\",\"degrees/master/Eastern/6\",\"degrees/Higher Vocational Education/Jazan/6\",\"degrees/Higher Vocational Education/Makkah/6\",\"degrees/bachelor/Makkah/6\",\"degrees/diploma/Makkah/6\",\"degrees/master/Makkah/6\",\"degrees/Higher Vocational Education/Medina/6\",\"degrees/bachelor/Medina/6\",\"degrees/master/Medina/6\",\"degrees/Higher Vocational Education/Remote/6\",\"degrees/bachelor/Remote/6\",\"degrees/diploma/Remote/6\",\"degrees/master/Remote/6\",\"degrees/Higher Vocational Education/Riyadh/6\",\"degrees/bachelor/Riyadh/6\",\"degrees/diploma/Riyadh/6\",\"degrees/master/Riyadh/6\",\"degrees/student/Riyadh/6\",\"degrees/bachelor/AlBahah/7\",\"degrees/Higher Vocational Education/AlQassim/7\",\"degrees/bachelor/AlQassim/7\",\"degrees/Higher Vocational Education/Eastern/7\",\"degrees/bachelor/Eastern/7\",\"degrees/diploma/Eastern/7\",\"degrees/master/Eastern/7\",\"degrees/student/Eastern/7\",\"degrees/Higher Vocational Education/Jazan/7\",\"degrees/bachelor/Jazan/7\",\"degrees/Higher Vocational Education/Makkah/7\",\"degrees/bachelor/Makkah/7\",\"degrees/diploma/Makkah/7\",\"degrees/master/Makkah/7\",\"degrees/student/Makkah/7\",\"degrees/Higher Vocational Education/Medina/7\",\"degrees/bachelor/Medina/7\",\"degrees/diploma/Medina/7\",\"degrees/master/Medina/7\",\"degrees/Higher Vocational Education/Remote/7\",\"degrees/bachelor/Remote/7\",\"degrees/diploma/Remote/7\",\"degrees/master/Remote/7\",\"degrees/Higher Vocational Education/Riyadh/7\",\"degrees/bachelor/Riyadh/7\",\"degrees/diploma/Riyadh/7\",\"degrees/master/Riyadh/7\",\"degrees/student/Riyadh/7\",\"degrees/bachelor/Tabuk/7\",\"degrees/Higher Vocational Education/AlQassim/8\",\"degrees/bachelor/AlQassim/8\",\"degrees/Higher Vocational Education/Asir/8\",\"degrees/Higher Vocational Education/Eastern/8\",\"degrees/bachelor/Eastern/8\",\"degrees/diploma/Eastern/8\",\"degrees/master/Eastern/8\",\"degrees/Higher Vocational Education/Jazan/8\",\"degrees/bachelor/Jazan/8\",\"degrees/diploma/Jazan/8\",\"degrees/master/Jazan/8\",\"degrees/Higher Vocational Education/Makkah/8\",\"degrees/bachelor/Makkah/8\",\"degrees/diploma/Makkah/8\",\"degrees/master/Makkah/8\",\"degrees/Higher Vocational Education/Medina/8\",\"degrees/bachelor/Medina/8\",\"degrees/diploma/Medina/8\",\"degrees/bachelor/NotDefind/8\",\"degrees/Higher Vocational Education/Remote/8\",\"degrees/bachelor/Remote/8\",\"degrees/diploma/Remote/8\",\"degrees/master/Remote/8\",\"degrees/Higher Vocational Education/Riyadh/8\",\"degrees/bachelor/Riyadh/8\",\"degrees/diploma/Riyadh/8\",\"degrees/master/Riyadh/8\",\"degrees/student/Riyadh/8\",\"degrees/Higher Vocational Education/Tabuk/8\",\"degrees/bachelor/Tabuk/8\",\"degrees/bachelor/Asir/9\",\"degrees/Higher Vocational Education/Eastern/9\",\"degrees/bachelor/Eastern/9\",\"degrees/bachelor/Makkah/9\",\"degrees/diploma/Makkah/9\",\"degrees/Higher Vocational Education/Medina/9\",\"degrees/Higher Vocational Education/Remote/9\",\"degrees/bachelor/Remote/9\",\"degrees/Higher Vocational Education/Riyadh/9\",\"degrees/bachelor/Riyadh/9\",\"degrees/diploma/Riyadh/9\",\"degrees/master/Riyadh/9\",\"degrees/student/Riyadh/9\",\"degrees/Higher Vocational Education/AlBahah\",\"degrees/bachelor/AlBahah\",\"degrees/master/AlBahah\",\"degrees/Higher Vocational Education/AlJawf \",\"degrees/bachelor/AlJawf \",\"degrees/diploma/AlJawf \",\"degrees/master/AlJawf \",\"degrees/Higher Vocational Education/AlQassim\",\"degrees/bachelor/AlQassim\",\"degrees/diploma/AlQassim\",\"degrees/master/AlQassim\",\"degrees/Higher Vocational Education/Asir\",\"degrees/bachelor/Asir\",\"degrees/diploma/Asir\",\"degrees/master/Asir\",\"degrees/Doctorate/Eastern\",\"degrees/Higher Vocational Education/Eastern\",\"degrees/bachelor/Eastern\",\"degrees/diploma/Eastern\",\"degrees/master/Eastern\",\"degrees/student/Eastern\",\"degrees/Higher Vocational Education/Hail\",\"degrees/bachelor/Hail\",\"degrees/diploma/Hail\",\"degrees/master/Hail\",\"degrees/Higher Vocational Education/Jazan\",\"degrees/bachelor/Jazan\",\"degrees/diploma/Jazan\",\"degrees/master/Jazan\",\"degrees/Doctorate/Makkah\",\"degrees/Higher Vocational Education/Makkah\",\"degrees/bachelor/Makkah\",\"degrees/diploma/Makkah\",\"degrees/master/Makkah\",\"degrees/student/Makkah\",\"degrees/Doctorate/Medina\",\"degrees/Higher Vocational Education/Medina\",\"degrees/bachelor/Medina\",\"degrees/diploma/Medina\",\"degrees/master/Medina\",\"degrees/student/Medina\",\"degrees/Higher Vocational Education/Najran\",\"degrees/bachelor/Najran\",\"degrees/diploma/Najran\",\"degrees/Higher Vocational Education/Northern Borders\",\"degrees/bachelor/Northern Borders\",\"degrees/diploma/Northern Borders\",\"degrees/master/Northern Borders\",\"degrees/Higher Vocational Education/NotDefind\",\"degrees/bachelor/NotDefind\",\"degrees/diploma/NotDefind\",\"degrees/master/NotDefind\",\"degrees/Doctorate/Remote\",\"degrees/Higher Vocational Education/Remote\",\"degrees/bachelor/Remote\",\"degrees/diploma/Remote\",\"degrees/master/Remote\",\"degrees/student/Remote\",\"degrees/Doctorate/Riyadh\",\"degrees/Higher Vocational Education/Riyadh\",\"degrees/bachelor/Riyadh\",\"degrees/diploma/Riyadh\",\"degrees/master/Riyadh\",\"degrees/student/Riyadh\",\"degrees/Higher Vocational Education/Tabuk\",\"degrees/bachelor/Tabuk\",\"degrees/diploma/Tabuk\",\"degrees/master/Tabuk\",\"degrees/Doctorate\",\"degrees/Higher Vocational Education\",\"degrees/bachelor\",\"degrees/diploma\",\"degrees/master\",\"degrees/student\",\"degrees\"],\"labels\":[\"0\",\"0\",\"0\",\"0\",\"0\",\"0\",\"0\",\"0\",\"0\",\"0\",\"0\",\"0\",\"0\",\"0\",\"0\",\"0\",\"0\",\"0\",\"0\",\"0\",\"0\",\"0\",\"0\",\"0\",\"0\",\"0\",\"0\",\"0\",\"0\",\"0\",\"0\",\"0\",\"0\",\"0\",\"0\",\"0\",\"0\",\"0\",\"0\",\"0\",\"0\",\"0\",\"0\",\"0\",\"0\",\"0\",\"0\",\"0\",\"0\",\"0\",\"0\",\"1\",\"1\",\"1\",\"1\",\"1\",\"1\",\"1\",\"1\",\"1\",\"1\",\"1\",\"1\",\"1\",\"1\",\"1\",\"1\",\"1\",\"1\",\"1\",\"1\",\"1\",\"1\",\"1\",\"1\",\"1\",\"1\",\"1\",\"1\",\"1\",\"1\",\"1\",\"1\",\"1\",\"1\",\"2\",\"2\",\"2\",\"2\",\"2\",\"2\",\"2\",\"2\",\"2\",\"2\",\"2\",\"2\",\"2\",\"2\",\"2\",\"2\",\"2\",\"2\",\"2\",\"2\",\"2\",\"2\",\"2\",\"2\",\"2\",\"2\",\"2\",\"2\",\"2\",\"2\",\"2\",\"2\",\"2\",\"2\",\"2\",\"2\",\"2\",\"2\",\"2\",\"2\",\"2\",\"2\",\"2\",\"2\",\"2\",\"3\",\"3\",\"3\",\"3\",\"3\",\"3\",\"3\",\"3\",\"3\",\"3\",\"3\",\"3\",\"3\",\"3\",\"3\",\"3\",\"3\",\"3\",\"3\",\"3\",\"3\",\"3\",\"3\",\"3\",\"3\",\"3\",\"3\",\"3\",\"3\",\"3\",\"3\",\"3\",\"3\",\"3\",\"3\",\"3\",\"3\",\"3\",\"3\",\"3\",\"3\",\"3\",\"3\",\"3\",\"3\",\"3\",\"3\",\"3\",\"3\",\"3\",\"3\",\"3\",\"3\",\"3\",\"3\",\"3\",\"3\",\"3\",\"3\",\"3\",\"3\",\"3\",\"3\",\"3\",\"3\",\"4\",\"4\",\"4\",\"4\",\"4\",\"4\",\"4\",\"4\",\"4\",\"4\",\"4\",\"4\",\"4\",\"4\",\"4\",\"4\",\"4\",\"4\",\"4\",\"4\",\"4\",\"4\",\"4\",\"4\",\"4\",\"4\",\"4\",\"4\",\"4\",\"4\",\"4\",\"4\",\"4\",\"4\",\"4\",\"4\",\"4\",\"5\",\"5\",\"5\",\"5\",\"5\",\"5\",\"5\",\"5\",\"5\",\"5\",\"5\",\"5\",\"5\",\"5\",\"5\",\"5\",\"5\",\"5\",\"5\",\"5\",\"5\",\"5\",\"5\",\"5\",\"5\",\"5\",\"5\",\"5\",\"5\",\"5\",\"5\",\"5\",\"5\",\"5\",\"5\",\"5\",\"5\",\"5\",\"5\",\"5\",\"5\",\"5\",\"5\",\"5\",\"5\",\"5\",\"5\",\"5\",\"5\",\"5\",\"6\",\"6\",\"6\",\"6\",\"6\",\"6\",\"6\",\"6\",\"6\",\"6\",\"6\",\"6\",\"6\",\"6\",\"6\",\"6\",\"6\",\"6\",\"6\",\"6\",\"6\",\"6\",\"6\",\"7\",\"7\",\"7\",\"7\",\"7\",\"7\",\"7\",\"7\",\"7\",\"7\",\"7\",\"7\",\"7\",\"7\",\"7\",\"7\",\"7\",\"7\",\"7\",\"7\",\"7\",\"7\",\"7\",\"7\",\"7\",\"7\",\"7\",\"7\",\"7\",\"8\",\"8\",\"8\",\"8\",\"8\",\"8\",\"8\",\"8\",\"8\",\"8\",\"8\",\"8\",\"8\",\"8\",\"8\",\"8\",\"8\",\"8\",\"8\",\"8\",\"8\",\"8\",\"8\",\"8\",\"8\",\"8\",\"8\",\"8\",\"8\",\"8\",\"9\",\"9\",\"9\",\"9\",\"9\",\"9\",\"9\",\"9\",\"9\",\"9\",\"9\",\"9\",\"9\",\"AlBahah\",\"AlBahah\",\"AlBahah\",\"AlJawf \",\"AlJawf \",\"AlJawf \",\"AlJawf \",\"AlQassim\",\"AlQassim\",\"AlQassim\",\"AlQassim\",\"Asir\",\"Asir\",\"Asir\",\"Asir\",\"Eastern\",\"Eastern\",\"Eastern\",\"Eastern\",\"Eastern\",\"Eastern\",\"Hail\",\"Hail\",\"Hail\",\"Hail\",\"Jazan\",\"Jazan\",\"Jazan\",\"Jazan\",\"Makkah\",\"Makkah\",\"Makkah\",\"Makkah\",\"Makkah\",\"Makkah\",\"Medina\",\"Medina\",\"Medina\",\"Medina\",\"Medina\",\"Medina\",\"Najran\",\"Najran\",\"Najran\",\"Northern Borders\",\"Northern Borders\",\"Northern Borders\",\"Northern Borders\",\"NotDefind\",\"NotDefind\",\"NotDefind\",\"NotDefind\",\"Remote\",\"Remote\",\"Remote\",\"Remote\",\"Remote\",\"Remote\",\"Riyadh\",\"Riyadh\",\"Riyadh\",\"Riyadh\",\"Riyadh\",\"Riyadh\",\"Tabuk\",\"Tabuk\",\"Tabuk\",\"Tabuk\",\"Doctorate\",\"Higher Vocational Education\",\"bachelor\",\"diploma\",\"master\",\"student\",\"degrees\"],\"name\":\"\",\"parents\":[\"degrees/Higher Vocational Education/AlJawf \",\"degrees/diploma/AlJawf \",\"degrees/Higher Vocational Education/AlQassim\",\"degrees/bachelor/AlQassim\",\"degrees/diploma/AlQassim\",\"degrees/master/AlQassim\",\"degrees/Higher Vocational Education/Asir\",\"degrees/bachelor/Asir\",\"degrees/Doctorate/Eastern\",\"degrees/Higher Vocational Education/Eastern\",\"degrees/bachelor/Eastern\",\"degrees/diploma/Eastern\",\"degrees/master/Eastern\",\"degrees/student/Eastern\",\"degrees/Higher Vocational Education/Hail\",\"degrees/bachelor/Hail\",\"degrees/diploma/Hail\",\"degrees/Higher Vocational Education/Jazan\",\"degrees/bachelor/Jazan\",\"degrees/diploma/Jazan\",\"degrees/master/Jazan\",\"degrees/Doctorate/Makkah\",\"degrees/Higher Vocational Education/Makkah\",\"degrees/bachelor/Makkah\",\"degrees/diploma/Makkah\",\"degrees/master/Makkah\",\"degrees/student/Makkah\",\"degrees/Higher Vocational Education/Medina\",\"degrees/bachelor/Medina\",\"degrees/diploma/Medina\",\"degrees/master/Medina\",\"degrees/Higher Vocational Education/Northern Borders\",\"degrees/diploma/Northern Borders\",\"degrees/Higher Vocational Education/NotDefind\",\"degrees/bachelor/NotDefind\",\"degrees/master/NotDefind\",\"degrees/Higher Vocational Education/Remote\",\"degrees/bachelor/Remote\",\"degrees/diploma/Remote\",\"degrees/master/Remote\",\"degrees/student/Remote\",\"degrees/Doctorate/Riyadh\",\"degrees/Higher Vocational Education/Riyadh\",\"degrees/bachelor/Riyadh\",\"degrees/diploma/Riyadh\",\"degrees/master/Riyadh\",\"degrees/student/Riyadh\",\"degrees/Higher Vocational Education/Tabuk\",\"degrees/bachelor/Tabuk\",\"degrees/diploma/Tabuk\",\"degrees/master/Tabuk\",\"degrees/bachelor/AlBahah\",\"degrees/bachelor/AlJawf \",\"degrees/Higher Vocational Education/AlQassim\",\"degrees/bachelor/AlQassim\",\"degrees/Higher Vocational Education/Asir\",\"degrees/bachelor/Asir\",\"degrees/diploma/Asir\",\"degrees/Higher Vocational Education/Eastern\",\"degrees/bachelor/Eastern\",\"degrees/diploma/Eastern\",\"degrees/master/Eastern\",\"degrees/student/Eastern\",\"degrees/Higher Vocational Education/Hail\",\"degrees/bachelor/Hail\",\"degrees/diploma/Jazan\",\"degrees/Doctorate/Makkah\",\"degrees/Higher Vocational Education/Makkah\",\"degrees/bachelor/Makkah\",\"degrees/diploma/Makkah\",\"degrees/master/Makkah\",\"degrees/student/Makkah\",\"degrees/Higher Vocational Education/Medina\",\"degrees/bachelor/Medina\",\"degrees/diploma/Medina\",\"degrees/Higher Vocational Education/Remote\",\"degrees/bachelor/Remote\",\"degrees/diploma/Remote\",\"degrees/master/Remote\",\"degrees/student/Remote\",\"degrees/Higher Vocational Education/Riyadh\",\"degrees/bachelor/Riyadh\",\"degrees/diploma/Riyadh\",\"degrees/master/Riyadh\",\"degrees/student/Riyadh\",\"degrees/Higher Vocational Education/AlJawf \",\"degrees/bachelor/AlJawf \",\"degrees/Higher Vocational Education/AlQassim\",\"degrees/bachelor/AlQassim\",\"degrees/diploma/AlQassim\",\"degrees/Higher Vocational Education/Asir\",\"degrees/bachelor/Asir\",\"degrees/Doctorate/Eastern\",\"degrees/Higher Vocational Education/Eastern\",\"degrees/bachelor/Eastern\",\"degrees/diploma/Eastern\",\"degrees/master/Eastern\",\"degrees/Higher Vocational Education/Hail\",\"degrees/bachelor/Hail\",\"degrees/Higher Vocational Education/Jazan\",\"degrees/bachelor/Jazan\",\"degrees/diploma/Jazan\",\"degrees/master/Jazan\",\"degrees/Higher Vocational Education/Makkah\",\"degrees/bachelor/Makkah\",\"degrees/diploma/Makkah\",\"degrees/master/Makkah\",\"degrees/Higher Vocational Education/Medina\",\"degrees/bachelor/Medina\",\"degrees/diploma/Medina\",\"degrees/master/Medina\",\"degrees/bachelor/Najran\",\"degrees/Higher Vocational Education/Northern Borders\",\"degrees/bachelor/Northern Borders\",\"degrees/Higher Vocational Education/NotDefind\",\"degrees/bachelor/NotDefind\",\"degrees/Higher Vocational Education/Remote\",\"degrees/bachelor/Remote\",\"degrees/diploma/Remote\",\"degrees/master/Remote\",\"degrees/Doctorate/Riyadh\",\"degrees/Higher Vocational Education/Riyadh\",\"degrees/bachelor/Riyadh\",\"degrees/diploma/Riyadh\",\"degrees/master/Riyadh\",\"degrees/student/Riyadh\",\"degrees/Higher Vocational Education/Tabuk\",\"degrees/bachelor/Tabuk\",\"degrees/diploma/Tabuk\",\"degrees/master/Tabuk\",\"degrees/Higher Vocational Education/AlBahah\",\"degrees/bachelor/AlBahah\",\"degrees/master/AlBahah\",\"degrees/Higher Vocational Education/AlJawf \",\"degrees/bachelor/AlJawf \",\"degrees/diploma/AlJawf \",\"degrees/master/AlJawf \",\"degrees/Higher Vocational Education/AlQassim\",\"degrees/bachelor/AlQassim\",\"degrees/diploma/AlQassim\",\"degrees/master/AlQassim\",\"degrees/Higher Vocational Education/Asir\",\"degrees/bachelor/Asir\",\"degrees/diploma/Asir\",\"degrees/master/Asir\",\"degrees/Doctorate/Eastern\",\"degrees/Higher Vocational Education/Eastern\",\"degrees/bachelor/Eastern\",\"degrees/diploma/Eastern\",\"degrees/master/Eastern\",\"degrees/student/Eastern\",\"degrees/Higher Vocational Education/Hail\",\"degrees/bachelor/Hail\",\"degrees/master/Hail\",\"degrees/Higher Vocational Education/Jazan\",\"degrees/bachelor/Jazan\",\"degrees/diploma/Jazan\",\"degrees/master/Jazan\",\"degrees/Doctorate/Makkah\",\"degrees/Higher Vocational Education/Makkah\",\"degrees/bachelor/Makkah\",\"degrees/diploma/Makkah\",\"degrees/master/Makkah\",\"degrees/student/Makkah\",\"degrees/Doctorate/Medina\",\"degrees/Higher Vocational Education/Medina\",\"degrees/bachelor/Medina\",\"degrees/diploma/Medina\",\"degrees/master/Medina\",\"degrees/student/Medina\",\"degrees/Higher Vocational Education/Najran\",\"degrees/bachelor/Najran\",\"degrees/Higher Vocational Education/Northern Borders\",\"degrees/bachelor/Northern Borders\",\"degrees/diploma/Northern Borders\",\"degrees/master/Northern Borders\",\"degrees/Higher Vocational Education/NotDefind\",\"degrees/bachelor/NotDefind\",\"degrees/diploma/NotDefind\",\"degrees/master/NotDefind\",\"degrees/Higher Vocational Education/Remote\",\"degrees/bachelor/Remote\",\"degrees/diploma/Remote\",\"degrees/master/Remote\",\"degrees/student/Remote\",\"degrees/Doctorate/Riyadh\",\"degrees/Higher Vocational Education/Riyadh\",\"degrees/bachelor/Riyadh\",\"degrees/diploma/Riyadh\",\"degrees/master/Riyadh\",\"degrees/student/Riyadh\",\"degrees/Higher Vocational Education/Tabuk\",\"degrees/bachelor/Tabuk\",\"degrees/diploma/Tabuk\",\"degrees/master/Tabuk\",\"degrees/Higher Vocational Education/AlBahah\",\"degrees/bachelor/AlBahah\",\"degrees/Higher Vocational Education/AlQassim\",\"degrees/bachelor/AlQassim\",\"degrees/bachelor/Asir\",\"degrees/Doctorate/Eastern\",\"degrees/Higher Vocational Education/Eastern\",\"degrees/bachelor/Eastern\",\"degrees/diploma/Eastern\",\"degrees/master/Eastern\",\"degrees/student/Eastern\",\"degrees/Higher Vocational Education/Hail\",\"degrees/Higher Vocational Education/Jazan\",\"degrees/bachelor/Jazan\",\"degrees/master/Jazan\",\"degrees/Higher Vocational Education/Makkah\",\"degrees/bachelor/Makkah\",\"degrees/diploma/Makkah\",\"degrees/master/Makkah\",\"degrees/Doctorate/Medina\",\"degrees/Higher Vocational Education/Medina\",\"degrees/bachelor/Medina\",\"degrees/diploma/Medina\",\"degrees/master/Medina\",\"degrees/Higher Vocational Education/Northern Borders\",\"degrees/Higher Vocational Education/NotDefind\",\"degrees/Higher Vocational Education/Remote\",\"degrees/bachelor/Remote\",\"degrees/diploma/Remote\",\"degrees/master/Remote\",\"degrees/Doctorate/Riyadh\",\"degrees/Higher Vocational Education/Riyadh\",\"degrees/bachelor/Riyadh\",\"degrees/diploma/Riyadh\",\"degrees/master/Riyadh\",\"degrees/Higher Vocational Education/Tabuk\",\"degrees/diploma/Tabuk\",\"degrees/Higher Vocational Education/AlBahah\",\"degrees/Higher Vocational Education/AlJawf \",\"degrees/Higher Vocational Education/AlQassim\",\"degrees/bachelor/AlQassim\",\"degrees/master/AlQassim\",\"degrees/Higher Vocational Education/Asir\",\"degrees/bachelor/Asir\",\"degrees/diploma/Asir\",\"degrees/Doctorate/Eastern\",\"degrees/Higher Vocational Education/Eastern\",\"degrees/bachelor/Eastern\",\"degrees/diploma/Eastern\",\"degrees/master/Eastern\",\"degrees/student/Eastern\",\"degrees/Higher Vocational Education/Hail\",\"degrees/Higher Vocational Education/Jazan\",\"degrees/bachelor/Jazan\",\"degrees/diploma/Jazan\",\"degrees/master/Jazan\",\"degrees/Higher Vocational Education/Makkah\",\"degrees/bachelor/Makkah\",\"degrees/diploma/Makkah\",\"degrees/master/Makkah\",\"degrees/Doctorate/Medina\",\"degrees/Higher Vocational Education/Medina\",\"degrees/bachelor/Medina\",\"degrees/diploma/Medina\",\"degrees/master/Medina\",\"degrees/diploma/Najran\",\"degrees/Higher Vocational Education/Northern Borders\",\"degrees/master/Northern Borders\",\"degrees/Higher Vocational Education/NotDefind\",\"degrees/bachelor/NotDefind\",\"degrees/master/NotDefind\",\"degrees/Doctorate/Remote\",\"degrees/Higher Vocational Education/Remote\",\"degrees/bachelor/Remote\",\"degrees/diploma/Remote\",\"degrees/master/Remote\",\"degrees/student/Remote\",\"degrees/Doctorate/Riyadh\",\"degrees/Higher Vocational Education/Riyadh\",\"degrees/bachelor/Riyadh\",\"degrees/diploma/Riyadh\",\"degrees/master/Riyadh\",\"degrees/student/Riyadh\",\"degrees/Higher Vocational Education/Tabuk\",\"degrees/bachelor/Tabuk\",\"degrees/diploma/Tabuk\",\"degrees/master/Tabuk\",\"degrees/bachelor/AlBahah\",\"degrees/Higher Vocational Education/AlQassim\",\"degrees/Higher Vocational Education/Eastern\",\"degrees/bachelor/Eastern\",\"degrees/diploma/Eastern\",\"degrees/master/Eastern\",\"degrees/Higher Vocational Education/Jazan\",\"degrees/Higher Vocational Education/Makkah\",\"degrees/bachelor/Makkah\",\"degrees/diploma/Makkah\",\"degrees/master/Makkah\",\"degrees/Higher Vocational Education/Medina\",\"degrees/bachelor/Medina\",\"degrees/master/Medina\",\"degrees/Higher Vocational Education/Remote\",\"degrees/bachelor/Remote\",\"degrees/diploma/Remote\",\"degrees/master/Remote\",\"degrees/Higher Vocational Education/Riyadh\",\"degrees/bachelor/Riyadh\",\"degrees/diploma/Riyadh\",\"degrees/master/Riyadh\",\"degrees/student/Riyadh\",\"degrees/bachelor/AlBahah\",\"degrees/Higher Vocational Education/AlQassim\",\"degrees/bachelor/AlQassim\",\"degrees/Higher Vocational Education/Eastern\",\"degrees/bachelor/Eastern\",\"degrees/diploma/Eastern\",\"degrees/master/Eastern\",\"degrees/student/Eastern\",\"degrees/Higher Vocational Education/Jazan\",\"degrees/bachelor/Jazan\",\"degrees/Higher Vocational Education/Makkah\",\"degrees/bachelor/Makkah\",\"degrees/diploma/Makkah\",\"degrees/master/Makkah\",\"degrees/student/Makkah\",\"degrees/Higher Vocational Education/Medina\",\"degrees/bachelor/Medina\",\"degrees/diploma/Medina\",\"degrees/master/Medina\",\"degrees/Higher Vocational Education/Remote\",\"degrees/bachelor/Remote\",\"degrees/diploma/Remote\",\"degrees/master/Remote\",\"degrees/Higher Vocational Education/Riyadh\",\"degrees/bachelor/Riyadh\",\"degrees/diploma/Riyadh\",\"degrees/master/Riyadh\",\"degrees/student/Riyadh\",\"degrees/bachelor/Tabuk\",\"degrees/Higher Vocational Education/AlQassim\",\"degrees/bachelor/AlQassim\",\"degrees/Higher Vocational Education/Asir\",\"degrees/Higher Vocational Education/Eastern\",\"degrees/bachelor/Eastern\",\"degrees/diploma/Eastern\",\"degrees/master/Eastern\",\"degrees/Higher Vocational Education/Jazan\",\"degrees/bachelor/Jazan\",\"degrees/diploma/Jazan\",\"degrees/master/Jazan\",\"degrees/Higher Vocational Education/Makkah\",\"degrees/bachelor/Makkah\",\"degrees/diploma/Makkah\",\"degrees/master/Makkah\",\"degrees/Higher Vocational Education/Medina\",\"degrees/bachelor/Medina\",\"degrees/diploma/Medina\",\"degrees/bachelor/NotDefind\",\"degrees/Higher Vocational Education/Remote\",\"degrees/bachelor/Remote\",\"degrees/diploma/Remote\",\"degrees/master/Remote\",\"degrees/Higher Vocational Education/Riyadh\",\"degrees/bachelor/Riyadh\",\"degrees/diploma/Riyadh\",\"degrees/master/Riyadh\",\"degrees/student/Riyadh\",\"degrees/Higher Vocational Education/Tabuk\",\"degrees/bachelor/Tabuk\",\"degrees/bachelor/Asir\",\"degrees/Higher Vocational Education/Eastern\",\"degrees/bachelor/Eastern\",\"degrees/bachelor/Makkah\",\"degrees/diploma/Makkah\",\"degrees/Higher Vocational Education/Medina\",\"degrees/Higher Vocational Education/Remote\",\"degrees/bachelor/Remote\",\"degrees/Higher Vocational Education/Riyadh\",\"degrees/bachelor/Riyadh\",\"degrees/diploma/Riyadh\",\"degrees/master/Riyadh\",\"degrees/student/Riyadh\",\"degrees/Higher Vocational Education\",\"degrees/bachelor\",\"degrees/master\",\"degrees/Higher Vocational Education\",\"degrees/bachelor\",\"degrees/diploma\",\"degrees/master\",\"degrees/Higher Vocational Education\",\"degrees/bachelor\",\"degrees/diploma\",\"degrees/master\",\"degrees/Higher Vocational Education\",\"degrees/bachelor\",\"degrees/diploma\",\"degrees/master\",\"degrees/Doctorate\",\"degrees/Higher Vocational Education\",\"degrees/bachelor\",\"degrees/diploma\",\"degrees/master\",\"degrees/student\",\"degrees/Higher Vocational Education\",\"degrees/bachelor\",\"degrees/diploma\",\"degrees/master\",\"degrees/Higher Vocational Education\",\"degrees/bachelor\",\"degrees/diploma\",\"degrees/master\",\"degrees/Doctorate\",\"degrees/Higher Vocational Education\",\"degrees/bachelor\",\"degrees/diploma\",\"degrees/master\",\"degrees/student\",\"degrees/Doctorate\",\"degrees/Higher Vocational Education\",\"degrees/bachelor\",\"degrees/diploma\",\"degrees/master\",\"degrees/student\",\"degrees/Higher Vocational Education\",\"degrees/bachelor\",\"degrees/diploma\",\"degrees/Higher Vocational Education\",\"degrees/bachelor\",\"degrees/diploma\",\"degrees/master\",\"degrees/Higher Vocational Education\",\"degrees/bachelor\",\"degrees/diploma\",\"degrees/master\",\"degrees/Doctorate\",\"degrees/Higher Vocational Education\",\"degrees/bachelor\",\"degrees/diploma\",\"degrees/master\",\"degrees/student\",\"degrees/Doctorate\",\"degrees/Higher Vocational Education\",\"degrees/bachelor\",\"degrees/diploma\",\"degrees/master\",\"degrees/student\",\"degrees/Higher Vocational Education\",\"degrees/bachelor\",\"degrees/diploma\",\"degrees/master\",\"degrees\",\"degrees\",\"degrees\",\"degrees\",\"degrees\",\"degrees\",\"\"],\"values\":[4,1,26,9,2,2,6,2,1,243,191,153,43,4,3,1,1,94,34,2,20,1,300,152,63,25,5,33,19,16,7,1,1,3,4,1,430,288,135,71,1,1,955,608,155,112,4,14,10,5,2,1,1,2,2,1,2,1,69,42,17,6,2,1,3,1,1,49,63,13,5,5,20,8,3,139,82,24,6,1,227,198,26,25,4,6,3,9,9,2,26,9,1,231,173,131,30,2,1,181,14,2,1,313,258,81,20,99,48,13,3,2,1,1,2,1,336,232,30,45,1,922,689,90,107,8,9,5,1,2,14,4,5,11,5,1,1,125,40,8,5,43,34,4,7,7,1583,783,300,119,4,6,6,1,56,70,13,43,1,1542,793,165,210,8,10,456,204,95,44,1,2,2,7,8,5,2,14,8,5,2,2553,1256,262,318,14,5,5803,2779,481,473,24,78,14,18,6,1,1,4,2,2,1,73,56,24,14,1,1,1,1,8,45,55,18,14,1,14,9,2,1,1,1,120,110,40,33,2,264,348,37,60,1,3,1,2,27,4,1,2,2,2,2,293,287,85,37,5,3,43,14,2,19,326,253,74,46,6,70,24,19,6,1,2,1,2,3,2,3,660,327,85,77,2,1,1619,947,107,180,10,9,9,2,5,1,2,19,36,27,2,2,37,32,12,10,6,4,3,41,50,16,4,130,187,5,24,2,1,9,2,28,47,5,7,3,39,1,42,45,10,10,1,1,11,10,2,92,67,12,11,160,181,17,55,9,2,1,1,1,28,42,7,4,47,19,1,11,58,49,7,8,356,9,9,1,173,62,10,15,209,159,46,43,2,2,3,1,7,3,5,1,3,6,10,10,18,2,8,1,16,8,5,23,9,2,1,205,69,12,8,79,52,7,7,12,2574,1660,749,262,19,16,11,1,1,463,153,21,102,3,2712,1705,444,348,19,17,1058,336,167,66,1,2,4,1,12,9,6,3,22,17,5,5,3,4550,2484,614,580,18,10,10299,6114,966,1087,64,113,43,29,15,45,22144,12674,3024,2490,121,40498],\"type\":\"treemap\",\"root\":{\"color\":\"lightgrey\"}}],                        {\"template\":{\"data\":{\"barpolar\":[{\"marker\":{\"line\":{\"color\":\"rgb(234,234,242)\",\"width\":0.5},\"pattern\":{\"fillmode\":\"overlay\",\"size\":10,\"solidity\":0.2}},\"type\":\"barpolar\"}],\"bar\":[{\"error_x\":{\"color\":\"rgb(36,36,36)\"},\"error_y\":{\"color\":\"rgb(36,36,36)\"},\"marker\":{\"line\":{\"color\":\"rgb(234,234,242)\",\"width\":0.5},\"pattern\":{\"fillmode\":\"overlay\",\"size\":10,\"solidity\":0.2}},\"type\":\"bar\"}],\"carpet\":[{\"aaxis\":{\"endlinecolor\":\"rgb(36,36,36)\",\"gridcolor\":\"white\",\"linecolor\":\"white\",\"minorgridcolor\":\"white\",\"startlinecolor\":\"rgb(36,36,36)\"},\"baxis\":{\"endlinecolor\":\"rgb(36,36,36)\",\"gridcolor\":\"white\",\"linecolor\":\"white\",\"minorgridcolor\":\"white\",\"startlinecolor\":\"rgb(36,36,36)\"},\"type\":\"carpet\"}],\"choropleth\":[{\"colorbar\":{\"outlinewidth\":0,\"tickcolor\":\"rgb(36,36,36)\",\"ticklen\":8,\"ticks\":\"outside\",\"tickwidth\":2},\"type\":\"choropleth\"}],\"contourcarpet\":[{\"colorbar\":{\"outlinewidth\":0,\"tickcolor\":\"rgb(36,36,36)\",\"ticklen\":8,\"ticks\":\"outside\",\"tickwidth\":2},\"type\":\"contourcarpet\"}],\"contour\":[{\"colorbar\":{\"outlinewidth\":0,\"tickcolor\":\"rgb(36,36,36)\",\"ticklen\":8,\"ticks\":\"outside\",\"tickwidth\":2},\"colorscale\":[[0.0,\"rgb(2,4,25)\"],[0.06274509803921569,\"rgb(24,15,41)\"],[0.12549019607843137,\"rgb(47,23,57)\"],[0.18823529411764706,\"rgb(71,28,72)\"],[0.25098039215686274,\"rgb(97,30,82)\"],[0.3137254901960784,\"rgb(123,30,89)\"],[0.3764705882352941,\"rgb(150,27,91)\"],[0.4392156862745098,\"rgb(177,22,88)\"],[0.5019607843137255,\"rgb(203,26,79)\"],[0.5647058823529412,\"rgb(223,47,67)\"],[0.6274509803921569,\"rgb(236,76,61)\"],[0.6901960784313725,\"rgb(242,107,73)\"],[0.7529411764705882,\"rgb(244,135,95)\"],[0.8156862745098039,\"rgb(245,162,122)\"],[0.8784313725490196,\"rgb(246,188,153)\"],[0.9411764705882353,\"rgb(247,212,187)\"],[1.0,\"rgb(250,234,220)\"]],\"type\":\"contour\"}],\"heatmapgl\":[{\"colorbar\":{\"outlinewidth\":0,\"tickcolor\":\"rgb(36,36,36)\",\"ticklen\":8,\"ticks\":\"outside\",\"tickwidth\":2},\"colorscale\":[[0.0,\"rgb(2,4,25)\"],[0.06274509803921569,\"rgb(24,15,41)\"],[0.12549019607843137,\"rgb(47,23,57)\"],[0.18823529411764706,\"rgb(71,28,72)\"],[0.25098039215686274,\"rgb(97,30,82)\"],[0.3137254901960784,\"rgb(123,30,89)\"],[0.3764705882352941,\"rgb(150,27,91)\"],[0.4392156862745098,\"rgb(177,22,88)\"],[0.5019607843137255,\"rgb(203,26,79)\"],[0.5647058823529412,\"rgb(223,47,67)\"],[0.6274509803921569,\"rgb(236,76,61)\"],[0.6901960784313725,\"rgb(242,107,73)\"],[0.7529411764705882,\"rgb(244,135,95)\"],[0.8156862745098039,\"rgb(245,162,122)\"],[0.8784313725490196,\"rgb(246,188,153)\"],[0.9411764705882353,\"rgb(247,212,187)\"],[1.0,\"rgb(250,234,220)\"]],\"type\":\"heatmapgl\"}],\"heatmap\":[{\"colorbar\":{\"outlinewidth\":0,\"tickcolor\":\"rgb(36,36,36)\",\"ticklen\":8,\"ticks\":\"outside\",\"tickwidth\":2},\"colorscale\":[[0.0,\"rgb(2,4,25)\"],[0.06274509803921569,\"rgb(24,15,41)\"],[0.12549019607843137,\"rgb(47,23,57)\"],[0.18823529411764706,\"rgb(71,28,72)\"],[0.25098039215686274,\"rgb(97,30,82)\"],[0.3137254901960784,\"rgb(123,30,89)\"],[0.3764705882352941,\"rgb(150,27,91)\"],[0.4392156862745098,\"rgb(177,22,88)\"],[0.5019607843137255,\"rgb(203,26,79)\"],[0.5647058823529412,\"rgb(223,47,67)\"],[0.6274509803921569,\"rgb(236,76,61)\"],[0.6901960784313725,\"rgb(242,107,73)\"],[0.7529411764705882,\"rgb(244,135,95)\"],[0.8156862745098039,\"rgb(245,162,122)\"],[0.8784313725490196,\"rgb(246,188,153)\"],[0.9411764705882353,\"rgb(247,212,187)\"],[1.0,\"rgb(250,234,220)\"]],\"type\":\"heatmap\"}],\"histogram2dcontour\":[{\"colorbar\":{\"outlinewidth\":0,\"tickcolor\":\"rgb(36,36,36)\",\"ticklen\":8,\"ticks\":\"outside\",\"tickwidth\":2},\"colorscale\":[[0.0,\"rgb(2,4,25)\"],[0.06274509803921569,\"rgb(24,15,41)\"],[0.12549019607843137,\"rgb(47,23,57)\"],[0.18823529411764706,\"rgb(71,28,72)\"],[0.25098039215686274,\"rgb(97,30,82)\"],[0.3137254901960784,\"rgb(123,30,89)\"],[0.3764705882352941,\"rgb(150,27,91)\"],[0.4392156862745098,\"rgb(177,22,88)\"],[0.5019607843137255,\"rgb(203,26,79)\"],[0.5647058823529412,\"rgb(223,47,67)\"],[0.6274509803921569,\"rgb(236,76,61)\"],[0.6901960784313725,\"rgb(242,107,73)\"],[0.7529411764705882,\"rgb(244,135,95)\"],[0.8156862745098039,\"rgb(245,162,122)\"],[0.8784313725490196,\"rgb(246,188,153)\"],[0.9411764705882353,\"rgb(247,212,187)\"],[1.0,\"rgb(250,234,220)\"]],\"type\":\"histogram2dcontour\"}],\"histogram2d\":[{\"colorbar\":{\"outlinewidth\":0,\"tickcolor\":\"rgb(36,36,36)\",\"ticklen\":8,\"ticks\":\"outside\",\"tickwidth\":2},\"colorscale\":[[0.0,\"rgb(2,4,25)\"],[0.06274509803921569,\"rgb(24,15,41)\"],[0.12549019607843137,\"rgb(47,23,57)\"],[0.18823529411764706,\"rgb(71,28,72)\"],[0.25098039215686274,\"rgb(97,30,82)\"],[0.3137254901960784,\"rgb(123,30,89)\"],[0.3764705882352941,\"rgb(150,27,91)\"],[0.4392156862745098,\"rgb(177,22,88)\"],[0.5019607843137255,\"rgb(203,26,79)\"],[0.5647058823529412,\"rgb(223,47,67)\"],[0.6274509803921569,\"rgb(236,76,61)\"],[0.6901960784313725,\"rgb(242,107,73)\"],[0.7529411764705882,\"rgb(244,135,95)\"],[0.8156862745098039,\"rgb(245,162,122)\"],[0.8784313725490196,\"rgb(246,188,153)\"],[0.9411764705882353,\"rgb(247,212,187)\"],[1.0,\"rgb(250,234,220)\"]],\"type\":\"histogram2d\"}],\"histogram\":[{\"marker\":{\"pattern\":{\"fillmode\":\"overlay\",\"size\":10,\"solidity\":0.2}},\"type\":\"histogram\"}],\"mesh3d\":[{\"colorbar\":{\"outlinewidth\":0,\"tickcolor\":\"rgb(36,36,36)\",\"ticklen\":8,\"ticks\":\"outside\",\"tickwidth\":2},\"type\":\"mesh3d\"}],\"parcoords\":[{\"line\":{\"colorbar\":{\"outlinewidth\":0,\"tickcolor\":\"rgb(36,36,36)\",\"ticklen\":8,\"ticks\":\"outside\",\"tickwidth\":2}},\"type\":\"parcoords\"}],\"pie\":[{\"automargin\":true,\"type\":\"pie\"}],\"scatter3d\":[{\"line\":{\"colorbar\":{\"outlinewidth\":0,\"tickcolor\":\"rgb(36,36,36)\",\"ticklen\":8,\"ticks\":\"outside\",\"tickwidth\":2}},\"marker\":{\"colorbar\":{\"outlinewidth\":0,\"tickcolor\":\"rgb(36,36,36)\",\"ticklen\":8,\"ticks\":\"outside\",\"tickwidth\":2}},\"type\":\"scatter3d\"}],\"scattercarpet\":[{\"marker\":{\"colorbar\":{\"outlinewidth\":0,\"tickcolor\":\"rgb(36,36,36)\",\"ticklen\":8,\"ticks\":\"outside\",\"tickwidth\":2}},\"type\":\"scattercarpet\"}],\"scattergeo\":[{\"marker\":{\"colorbar\":{\"outlinewidth\":0,\"tickcolor\":\"rgb(36,36,36)\",\"ticklen\":8,\"ticks\":\"outside\",\"tickwidth\":2}},\"type\":\"scattergeo\"}],\"scattergl\":[{\"marker\":{\"colorbar\":{\"outlinewidth\":0,\"tickcolor\":\"rgb(36,36,36)\",\"ticklen\":8,\"ticks\":\"outside\",\"tickwidth\":2}},\"type\":\"scattergl\"}],\"scattermapbox\":[{\"marker\":{\"colorbar\":{\"outlinewidth\":0,\"tickcolor\":\"rgb(36,36,36)\",\"ticklen\":8,\"ticks\":\"outside\",\"tickwidth\":2}},\"type\":\"scattermapbox\"}],\"scatterpolargl\":[{\"marker\":{\"colorbar\":{\"outlinewidth\":0,\"tickcolor\":\"rgb(36,36,36)\",\"ticklen\":8,\"ticks\":\"outside\",\"tickwidth\":2}},\"type\":\"scatterpolargl\"}],\"scatterpolar\":[{\"marker\":{\"colorbar\":{\"outlinewidth\":0,\"tickcolor\":\"rgb(36,36,36)\",\"ticklen\":8,\"ticks\":\"outside\",\"tickwidth\":2}},\"type\":\"scatterpolar\"}],\"scatter\":[{\"marker\":{\"colorbar\":{\"outlinewidth\":0,\"tickcolor\":\"rgb(36,36,36)\",\"ticklen\":8,\"ticks\":\"outside\",\"tickwidth\":2}},\"type\":\"scatter\"}],\"scatterternary\":[{\"marker\":{\"colorbar\":{\"outlinewidth\":0,\"tickcolor\":\"rgb(36,36,36)\",\"ticklen\":8,\"ticks\":\"outside\",\"tickwidth\":2}},\"type\":\"scatterternary\"}],\"surface\":[{\"colorbar\":{\"outlinewidth\":0,\"tickcolor\":\"rgb(36,36,36)\",\"ticklen\":8,\"ticks\":\"outside\",\"tickwidth\":2},\"colorscale\":[[0.0,\"rgb(2,4,25)\"],[0.06274509803921569,\"rgb(24,15,41)\"],[0.12549019607843137,\"rgb(47,23,57)\"],[0.18823529411764706,\"rgb(71,28,72)\"],[0.25098039215686274,\"rgb(97,30,82)\"],[0.3137254901960784,\"rgb(123,30,89)\"],[0.3764705882352941,\"rgb(150,27,91)\"],[0.4392156862745098,\"rgb(177,22,88)\"],[0.5019607843137255,\"rgb(203,26,79)\"],[0.5647058823529412,\"rgb(223,47,67)\"],[0.6274509803921569,\"rgb(236,76,61)\"],[0.6901960784313725,\"rgb(242,107,73)\"],[0.7529411764705882,\"rgb(244,135,95)\"],[0.8156862745098039,\"rgb(245,162,122)\"],[0.8784313725490196,\"rgb(246,188,153)\"],[0.9411764705882353,\"rgb(247,212,187)\"],[1.0,\"rgb(250,234,220)\"]],\"type\":\"surface\"}],\"table\":[{\"cells\":{\"fill\":{\"color\":\"rgb(231,231,240)\"},\"line\":{\"color\":\"white\"}},\"header\":{\"fill\":{\"color\":\"rgb(183,183,191)\"},\"line\":{\"color\":\"white\"}},\"type\":\"table\"}]},\"layout\":{\"annotationdefaults\":{\"arrowcolor\":\"rgb(67,103,167)\"},\"autotypenumbers\":\"strict\",\"coloraxis\":{\"colorbar\":{\"outlinewidth\":0,\"tickcolor\":\"rgb(36,36,36)\",\"ticklen\":8,\"ticks\":\"outside\",\"tickwidth\":2}},\"colorscale\":{\"sequential\":[[0.0,\"rgb(2,4,25)\"],[0.06274509803921569,\"rgb(24,15,41)\"],[0.12549019607843137,\"rgb(47,23,57)\"],[0.18823529411764706,\"rgb(71,28,72)\"],[0.25098039215686274,\"rgb(97,30,82)\"],[0.3137254901960784,\"rgb(123,30,89)\"],[0.3764705882352941,\"rgb(150,27,91)\"],[0.4392156862745098,\"rgb(177,22,88)\"],[0.5019607843137255,\"rgb(203,26,79)\"],[0.5647058823529412,\"rgb(223,47,67)\"],[0.6274509803921569,\"rgb(236,76,61)\"],[0.6901960784313725,\"rgb(242,107,73)\"],[0.7529411764705882,\"rgb(244,135,95)\"],[0.8156862745098039,\"rgb(245,162,122)\"],[0.8784313725490196,\"rgb(246,188,153)\"],[0.9411764705882353,\"rgb(247,212,187)\"],[1.0,\"rgb(250,234,220)\"]],\"sequentialminus\":[[0.0,\"rgb(2,4,25)\"],[0.06274509803921569,\"rgb(24,15,41)\"],[0.12549019607843137,\"rgb(47,23,57)\"],[0.18823529411764706,\"rgb(71,28,72)\"],[0.25098039215686274,\"rgb(97,30,82)\"],[0.3137254901960784,\"rgb(123,30,89)\"],[0.3764705882352941,\"rgb(150,27,91)\"],[0.4392156862745098,\"rgb(177,22,88)\"],[0.5019607843137255,\"rgb(203,26,79)\"],[0.5647058823529412,\"rgb(223,47,67)\"],[0.6274509803921569,\"rgb(236,76,61)\"],[0.6901960784313725,\"rgb(242,107,73)\"],[0.7529411764705882,\"rgb(244,135,95)\"],[0.8156862745098039,\"rgb(245,162,122)\"],[0.8784313725490196,\"rgb(246,188,153)\"],[0.9411764705882353,\"rgb(247,212,187)\"],[1.0,\"rgb(250,234,220)\"]]},\"colorway\":[\"rgb(76,114,176)\",\"rgb(221,132,82)\",\"rgb(85,168,104)\",\"rgb(196,78,82)\",\"rgb(129,114,179)\",\"rgb(147,120,96)\",\"rgb(218,139,195)\",\"rgb(140,140,140)\",\"rgb(204,185,116)\",\"rgb(100,181,205)\"],\"font\":{\"color\":\"rgb(36,36,36)\"},\"geo\":{\"bgcolor\":\"white\",\"lakecolor\":\"white\",\"landcolor\":\"rgb(234,234,242)\",\"showlakes\":true,\"showland\":true,\"subunitcolor\":\"white\"},\"hoverlabel\":{\"align\":\"left\"},\"hovermode\":\"closest\",\"paper_bgcolor\":\"white\",\"plot_bgcolor\":\"rgb(234,234,242)\",\"polar\":{\"angularaxis\":{\"gridcolor\":\"white\",\"linecolor\":\"white\",\"showgrid\":true,\"ticks\":\"\"},\"bgcolor\":\"rgb(234,234,242)\",\"radialaxis\":{\"gridcolor\":\"white\",\"linecolor\":\"white\",\"showgrid\":true,\"ticks\":\"\"}},\"scene\":{\"xaxis\":{\"backgroundcolor\":\"rgb(234,234,242)\",\"gridcolor\":\"white\",\"gridwidth\":2,\"linecolor\":\"white\",\"showbackground\":true,\"showgrid\":true,\"ticks\":\"\",\"zerolinecolor\":\"white\"},\"yaxis\":{\"backgroundcolor\":\"rgb(234,234,242)\",\"gridcolor\":\"white\",\"gridwidth\":2,\"linecolor\":\"white\",\"showbackground\":true,\"showgrid\":true,\"ticks\":\"\",\"zerolinecolor\":\"white\"},\"zaxis\":{\"backgroundcolor\":\"rgb(234,234,242)\",\"gridcolor\":\"white\",\"gridwidth\":2,\"linecolor\":\"white\",\"showbackground\":true,\"showgrid\":true,\"ticks\":\"\",\"zerolinecolor\":\"white\"}},\"shapedefaults\":{\"fillcolor\":\"rgb(67,103,167)\",\"line\":{\"width\":0},\"opacity\":0.5},\"ternary\":{\"aaxis\":{\"gridcolor\":\"white\",\"linecolor\":\"white\",\"showgrid\":true,\"ticks\":\"\"},\"baxis\":{\"gridcolor\":\"white\",\"linecolor\":\"white\",\"showgrid\":true,\"ticks\":\"\"},\"bgcolor\":\"rgb(234,234,242)\",\"caxis\":{\"gridcolor\":\"white\",\"linecolor\":\"white\",\"showgrid\":true,\"ticks\":\"\"}},\"xaxis\":{\"automargin\":true,\"gridcolor\":\"white\",\"linecolor\":\"white\",\"showgrid\":true,\"ticks\":\"\",\"title\":{\"standoff\":15},\"zerolinecolor\":\"white\"},\"yaxis\":{\"automargin\":true,\"gridcolor\":\"white\",\"linecolor\":\"white\",\"showgrid\":true,\"ticks\":\"\",\"title\":{\"standoff\":15},\"zerolinecolor\":\"white\"}}},\"legend\":{\"tracegroupgap\":0},\"title\":{\"text\":\"<b> Different Education Degrees in Regions with years of Experience\"}},                        {\"responsive\": true}                    ).then(function(){\n",
       "                            \n",
       "var gd = document.getElementById('a48cf771-9e4a-4744-882b-db12dd03974f');\n",
       "var x = new MutationObserver(function (mutations, observer) {{\n",
       "        var display = window.getComputedStyle(gd).display;\n",
       "        if (!display || display === 'none') {{\n",
       "            console.log([gd, 'removed!']);\n",
       "            Plotly.purge(gd);\n",
       "            observer.disconnect();\n",
       "        }}\n",
       "}});\n",
       "\n",
       "// Listen for the removal of the full notebook cells\n",
       "var notebookContainer = gd.closest('#notebook-container');\n",
       "if (notebookContainer) {{\n",
       "    x.observe(notebookContainer, {childList: true});\n",
       "}}\n",
       "\n",
       "// Listen for the clearing of the current output cell\n",
       "var outputEl = gd.closest('.output');\n",
       "if (outputEl) {{\n",
       "    x.observe(outputEl, {childList: true});\n",
       "}}\n",
       "\n",
       "                        })                };                });            </script>        </div>"
      ]
     },
     "metadata": {},
     "output_type": "display_data"
    }
   ],
   "source": [
    "\n",
    "fig=px.treemap(df,path=[px.Constant('degrees'),'degrees','Regions','year_of_ex'],\n",
    "               hover_name='degrees',\n",
    "               template='seaborn',\n",
    "               title='<b> Different Education Degrees in Regions with years of Experience')\n",
    "fig.update_traces(root_color='lightgrey')\n"
   ]
  },
  {
   "cell_type": "markdown",
   "id": "2dd180de",
   "metadata": {},
   "source": [
    "### 9th plot || The Distribution of Demands Job Levels Based on Academic Degrees\n",
    "#### This plot gives insight into the academic degrees required for a job position based on job levels. We see that Higher Vocational Education, which means preparing students to work in a specific profession or craft, attracts employers to contract with them more than others at all job levels, then followed by bachelor’s students with a MidSenior level, The master’s degree is close to the level of a mid-level sensor and Associate, while the diploma is the most requirement in with Entry level position, and we see that students have job opportunities, they may work as practical training to achieve an academic degree or additional income during the period of study, while there is very little demand for a doctorate degree."
   ]
  },
  {
   "cell_type": "code",
   "execution_count": 18,
   "id": "66e267bd",
   "metadata": {
    "scrolled": true
   },
   "outputs": [
    {
     "data": {
      "image/png": "[encoded data removed]",
      "text/plain": [
       "<Figure size 1440x432 with 1 Axes>"
      ]
     },
     "metadata": {
      "needs_background": "light"
     },
     "output_type": "display_data"
    }
   ],
   "source": [
    "# define color\n",
    "\n",
    "palette = ['#f5c614', '#2b364a', '#916fdd', '#14c8b3','#6495ED', '#0000FF', '#00008B']\n",
    "\n",
    "plt.figure(figsize=(20,6))\n",
    "\n",
    "hue_order = ['Executive', 'Director', 'MidSenior level','Associate','Entry level','Internship','Not Applicable']\n",
    "\n",
    "ax = sns.countplot(x= \"degrees\"  , hue = \"level\", hue_order=hue_order,palette=palette, data = df)\n",
    "\n",
    "plt.title(\"The Distribution of Demands Job Levels Based on Academic Degrees\")\n",
    "\n",
    "for i in ax.containers:   #to set a level on top of the bars.\n",
    "    ax.bar_label(i,)"
   ]
  },
  {
   "cell_type": "markdown",
   "id": "281d1d31",
   "metadata": {},
   "source": [
    "### 10th plot || Top 10 Companies with Maximum Number of Job Postings \n",
    "#### This plot gives insight into the top 10 companies with a maximum number of job postings. We see that the first companies are well-established companies in the Kingdom, and this also indicates the large size of the company. When looking quickly at the first three companies, we find that AFRY company which providing comprehensive locally-based engineering and consultancy services. Parsons Company Provides engineering, construction, and technical services, and the third is a Confidential Company that services and consulting in the field of information technology"
   ]
  },
  {
   "cell_type": "code",
   "execution_count": 43,
   "id": "9f77ef08",
   "metadata": {},
   "outputs": [
    {
     "data": {
      "image/png": "[encoded data removed]",
      "text/plain": [
       "<Figure size 1440x432 with 1 Axes>"
      ]
     },
     "metadata": {
      "needs_background": "light"
     },
     "output_type": "display_data"
    }
   ],
   "source": [
    "#Lets visualize the top 10 companies with the most number of job postings.\n",
    "\n",
    "fig, ax = plt.subplots(nrows=1, ncols=1, figsize=(20,6))\n",
    "a = sns.barplot(x= df[\"company\"].value_counts().sort_values(ascending=False).head(20).index ,palette='viridis',y= df[\"company\"].value_counts().sort_values(ascending=False).head(20))\n",
    "\n",
    "#Removing top and Right borders\n",
    "\n",
    "sns.despine(bottom = False, left = False)\n",
    "\n",
    "rcParams['figure.figsize'] = (25,9)\n",
    "\n",
    "#Putting % on the bar plot. Credit: Stackoverflow\n",
    "spots = df[\"company\"].value_counts().sort_values(ascending=False).index[0:20]\n",
    "for p in ax.patches:\n",
    "    ax.text(p.get_x() + 0.2, p.get_height()+0.5, '{:.2f}%'.format((p.get_height()/5243)*100),fontsize=15)\n",
    "\n",
    "#Beautifying the plot\n",
    "plt.title('\\n Top 10 Companies with Maximum Number of Job Postings \\n', size=16, color='black')\n",
    "plt.xticks(fontsize=20,rotation=90)\n",
    "plt.yticks(fontsize=15)\n",
    "plt.xlabel('\\n Company name \\n', fontsize=20, color='black')\n",
    "plt.ylabel('\\n Count \\n', fontsize=20, color='black')\n",
    "plt.show()"
   ]
  },
  {
   "cell_type": "markdown",
   "id": "4c7d0201",
   "metadata": {},
   "source": [
    "### 11th plot || The Most 20 position Request from Companies in 2020 \n",
    "#### This plot gives insight into the 20 most wanted positions in the labor market during 2020."
   ]
  },
  {
   "cell_type": "code",
   "execution_count": 45,
   "id": "9804dddc",
   "metadata": {},
   "outputs": [
    {
     "data": {
      "application/vnd.plotly.v1+json": {
       "config": {
        "plotlyServerURL": "https://plot.ly"
       },
       "data": [
        {
         "alignmentgroup": "True",
         "hovertemplate": "position name=%{x}<br>number of position=%{y}<br>count=%{text}<extra></extra>",
         "legendgroup": "Store Associate",
         "marker": {
          "color": "rgb(76,114,176)",
          "pattern": {
           "shape": ""
          }
         },
         "name": "Store Associate",
         "offsetgroup": "Store Associate",
         "orientation": "v",
         "showlegend": true,
         "text": [
          239
         ],
         "textposition": "auto",
         "type": "bar",
         "x": [
          "Store Associate"
         ],
         "xaxis": "x",
         "y": [
          239
         ],
         "yaxis": "y"
        },
        {
         "alignmentgroup": "True",
         "hovertemplate": "position name=%{x}<br>number of position=%{y}<br>count=%{text}<extra></extra>",
         "legendgroup": "Project Manager",
         "marker": {
          "color": "rgb(221,132,82)",
          "pattern": {
           "shape": ""
          }
         },
         "name": "Project Manager",
         "offsetgroup": "Project Manager",
         "orientation": "v",
         "showlegend": true,
         "text": [
          204
         ],
         "textposition": "auto",
         "type": "bar",
         "x": [
          "Project Manager"
         ],
         "xaxis": "x",
         "y": [
          204
         ],
         "yaxis": "y"
        },
        {
         "alignmentgroup": "True",
         "hovertemplate": "position name=%{x}<br>number of position=%{y}<br>count=%{text}<extra></extra>",
         "legendgroup": "Graphic Designer",
         "marker": {
          "color": "rgb(85,168,104)",
          "pattern": {
           "shape": ""
          }
         },
         "name": "Graphic Designer",
         "offsetgroup": "Graphic Designer",
         "orientation": "v",
         "showlegend": true,
         "text": [
          187
         ],
         "textposition": "auto",
         "type": "bar",
         "x": [
          "Graphic Designer"
         ],
         "xaxis": "x",
         "y": [
          187
         ],
         "yaxis": "y"
        },
        {
         "alignmentgroup": "True",
         "hovertemplate": "position name=%{x}<br>number of position=%{y}<br>count=%{text}<extra></extra>",
         "legendgroup": "Accountant",
         "marker": {
          "color": "rgb(196,78,82)",
          "pattern": {
           "shape": ""
          }
         },
         "name": "Accountant",
         "offsetgroup": "Accountant",
         "orientation": "v",
         "showlegend": true,
         "text": [
          173
         ],
         "textposition": "auto",
         "type": "bar",
         "x": [
          "Accountant"
         ],
         "xaxis": "x",
         "y": [
          173
         ],
         "yaxis": "y"
        },
        {
         "alignmentgroup": "True",
         "hovertemplate": "position name=%{x}<br>number of position=%{y}<br>count=%{text}<extra></extra>",
         "legendgroup": "Sales Manager",
         "marker": {
          "color": "rgb(129,114,179)",
          "pattern": {
           "shape": ""
          }
         },
         "name": "Sales Manager",
         "offsetgroup": "Sales Manager",
         "orientation": "v",
         "showlegend": true,
         "text": [
          157
         ],
         "textposition": "auto",
         "type": "bar",
         "x": [
          "Sales Manager"
         ],
         "xaxis": "x",
         "y": [
          157
         ],
         "yaxis": "y"
        },
        {
         "alignmentgroup": "True",
         "hovertemplate": "position name=%{x}<br>number of position=%{y}<br>count=%{text}<extra></extra>",
         "legendgroup": "Business Development Manager",
         "marker": {
          "color": "rgb(147,120,96)",
          "pattern": {
           "shape": ""
          }
         },
         "name": "Business Development Manager",
         "offsetgroup": "Business Development Manager",
         "orientation": "v",
         "showlegend": true,
         "text": [
          141
         ],
         "textposition": "auto",
         "type": "bar",
         "x": [
          "Business Development Manager"
         ],
         "xaxis": "x",
         "y": [
          141
         ],
         "yaxis": "y"
        },
        {
         "alignmentgroup": "True",
         "hovertemplate": "position name=%{x}<br>number of position=%{y}<br>count=%{text}<extra></extra>",
         "legendgroup": "Account Manager",
         "marker": {
          "color": "rgb(218,139,195)",
          "pattern": {
           "shape": ""
          }
         },
         "name": "Account Manager",
         "offsetgroup": "Account Manager",
         "orientation": "v",
         "showlegend": true,
         "text": [
          133
         ],
         "textposition": "auto",
         "type": "bar",
         "x": [
          "Account Manager"
         ],
         "xaxis": "x",
         "y": [
          133
         ],
         "yaxis": "y"
        },
        {
         "alignmentgroup": "True",
         "hovertemplate": "position name=%{x}<br>number of position=%{y}<br>count=%{text}<extra></extra>",
         "legendgroup": "Finance Manager",
         "marker": {
          "color": "rgb(140,140,140)",
          "pattern": {
           "shape": ""
          }
         },
         "name": "Finance Manager",
         "offsetgroup": "Finance Manager",
         "orientation": "v",
         "showlegend": true,
         "text": [
          125
         ],
         "textposition": "auto",
         "type": "bar",
         "x": [
          "Finance Manager"
         ],
         "xaxis": "x",
         "y": [
          125
         ],
         "yaxis": "y"
        },
        {
         "alignmentgroup": "True",
         "hovertemplate": "position name=%{x}<br>number of position=%{y}<br>count=%{text}<extra></extra>",
         "legendgroup": "Marketing Manager",
         "marker": {
          "color": "rgb(204,185,116)",
          "pattern": {
           "shape": ""
          }
         },
         "name": "Marketing Manager",
         "offsetgroup": "Marketing Manager",
         "orientation": "v",
         "showlegend": true,
         "text": [
          114
         ],
         "textposition": "auto",
         "type": "bar",
         "x": [
          "Marketing Manager"
         ],
         "xaxis": "x",
         "y": [
          114
         ],
         "yaxis": "y"
        },
        {
         "alignmentgroup": "True",
         "hovertemplate": "position name=%{x}<br>number of position=%{y}<br>count=%{text}<extra></extra>",
         "legendgroup": "Sales Executive",
         "marker": {
          "color": "rgb(100,181,205)",
          "pattern": {
           "shape": ""
          }
         },
         "name": "Sales Executive",
         "offsetgroup": "Sales Executive",
         "orientation": "v",
         "showlegend": true,
         "text": [
          109
         ],
         "textposition": "auto",
         "type": "bar",
         "x": [
          "Sales Executive"
         ],
         "xaxis": "x",
         "y": [
          109
         ],
         "yaxis": "y"
        },
        {
         "alignmentgroup": "True",
         "hovertemplate": "position name=%{x}<br>number of position=%{y}<br>count=%{text}<extra></extra>",
         "legendgroup": "Operations Manager",
         "marker": {
          "color": "rgb(76,114,176)",
          "pattern": {
           "shape": ""
          }
         },
         "name": "Operations Manager",
         "offsetgroup": "Operations Manager",
         "orientation": "v",
         "showlegend": true,
         "text": [
          103
         ],
         "textposition": "auto",
         "type": "bar",
         "x": [
          "Operations Manager"
         ],
         "xaxis": "x",
         "y": [
          103
         ],
         "yaxis": "y"
        },
        {
         "alignmentgroup": "True",
         "hovertemplate": "position name=%{x}<br>number of position=%{y}<br>count=%{text}<extra></extra>",
         "legendgroup": "Senior React Developer  Fulltime Remote",
         "marker": {
          "color": "rgb(221,132,82)",
          "pattern": {
           "shape": ""
          }
         },
         "name": "Senior React Developer  Fulltime Remote",
         "offsetgroup": "Senior React Developer  Fulltime Remote",
         "orientation": "v",
         "showlegend": true,
         "text": [
          95
         ],
         "textposition": "auto",
         "type": "bar",
         "x": [
          "Senior React Developer  Fulltime Remote"
         ],
         "xaxis": "x",
         "y": [
          95
         ],
         "yaxis": "y"
        },
        {
         "alignmentgroup": "True",
         "hovertemplate": "position name=%{x}<br>number of position=%{y}<br>count=%{text}<extra></extra>",
         "legendgroup": "Sales Engineer",
         "marker": {
          "color": "rgb(85,168,104)",
          "pattern": {
           "shape": ""
          }
         },
         "name": "Sales Engineer",
         "offsetgroup": "Sales Engineer",
         "orientation": "v",
         "showlegend": true,
         "text": [
          85
         ],
         "textposition": "auto",
         "type": "bar",
         "x": [
          "Sales Engineer"
         ],
         "xaxis": "x",
         "y": [
          85
         ],
         "yaxis": "y"
        },
        {
         "alignmentgroup": "True",
         "hovertemplate": "position name=%{x}<br>number of position=%{y}<br>count=%{text}<extra></extra>",
         "legendgroup": "Human Resources Manager",
         "marker": {
          "color": "rgb(196,78,82)",
          "pattern": {
           "shape": ""
          }
         },
         "name": "Human Resources Manager",
         "offsetgroup": "Human Resources Manager",
         "orientation": "v",
         "showlegend": true,
         "text": [
          83
         ],
         "textposition": "auto",
         "type": "bar",
         "x": [
          "Human Resources Manager"
         ],
         "xaxis": "x",
         "y": [
          83
         ],
         "yaxis": "y"
        },
        {
         "alignmentgroup": "True",
         "hovertemplate": "position name=%{x}<br>number of position=%{y}<br>count=%{text}<extra></extra>",
         "legendgroup": "Senior Accountant",
         "marker": {
          "color": "rgb(129,114,179)",
          "pattern": {
           "shape": ""
          }
         },
         "name": "Senior Accountant",
         "offsetgroup": "Senior Accountant",
         "orientation": "v",
         "showlegend": true,
         "text": [
          83
         ],
         "textposition": "auto",
         "type": "bar",
         "x": [
          "Senior Accountant"
         ],
         "xaxis": "x",
         "y": [
          83
         ],
         "yaxis": "y"
        },
        {
         "alignmentgroup": "True",
         "hovertemplate": "position name=%{x}<br>number of position=%{y}<br>count=%{text}<extra></extra>",
         "legendgroup": "Digital Marketing Specialist",
         "marker": {
          "color": "rgb(147,120,96)",
          "pattern": {
           "shape": ""
          }
         },
         "name": "Digital Marketing Specialist",
         "offsetgroup": "Digital Marketing Specialist",
         "orientation": "v",
         "showlegend": true,
         "text": [
          71
         ],
         "textposition": "auto",
         "type": "bar",
         "x": [
          "Digital Marketing Specialist"
         ],
         "xaxis": "x",
         "y": [
          71
         ],
         "yaxis": "y"
        },
        {
         "alignmentgroup": "True",
         "hovertemplate": "position name=%{x}<br>number of position=%{y}<br>count=%{text}<extra></extra>",
         "legendgroup": "Marketing Specialist",
         "marker": {
          "color": "rgb(218,139,195)",
          "pattern": {
           "shape": ""
          }
         },
         "name": "Marketing Specialist",
         "offsetgroup": "Marketing Specialist",
         "orientation": "v",
         "showlegend": true,
         "text": [
          67
         ],
         "textposition": "auto",
         "type": "bar",
         "x": [
          "Marketing Specialist"
         ],
         "xaxis": "x",
         "y": [
          67
         ],
         "yaxis": "y"
        },
        {
         "alignmentgroup": "True",
         "hovertemplate": "position name=%{x}<br>number of position=%{y}<br>count=%{text}<extra></extra>",
         "legendgroup": "Sales Specialist",
         "marker": {
          "color": "rgb(140,140,140)",
          "pattern": {
           "shape": ""
          }
         },
         "name": "Sales Specialist",
         "offsetgroup": "Sales Specialist",
         "orientation": "v",
         "showlegend": true,
         "text": [
          66
         ],
         "textposition": "auto",
         "type": "bar",
         "x": [
          "Sales Specialist"
         ],
         "xaxis": "x",
         "y": [
          66
         ],
         "yaxis": "y"
        },
        {
         "alignmentgroup": "True",
         "hovertemplate": "position name=%{x}<br>number of position=%{y}<br>count=%{text}<extra></extra>",
         "legendgroup": "Store Manager",
         "marker": {
          "color": "rgb(204,185,116)",
          "pattern": {
           "shape": ""
          }
         },
         "name": "Store Manager",
         "offsetgroup": "Store Manager",
         "orientation": "v",
         "showlegend": true,
         "text": [
          58
         ],
         "textposition": "auto",
         "type": "bar",
         "x": [
          "Store Manager"
         ],
         "xaxis": "x",
         "y": [
          58
         ],
         "yaxis": "y"
        },
        {
         "alignmentgroup": "True",
         "hovertemplate": "position name=%{x}<br>number of position=%{y}<br>count=%{text}<extra></extra>",
         "legendgroup": "Executive Secretary",
         "marker": {
          "color": "rgb(100,181,205)",
          "pattern": {
           "shape": ""
          }
         },
         "name": "Executive Secretary",
         "offsetgroup": "Executive Secretary",
         "orientation": "v",
         "showlegend": true,
         "text": [
          57
         ],
         "textposition": "auto",
         "type": "bar",
         "x": [
          "Executive Secretary"
         ],
         "xaxis": "x",
         "y": [
          57
         ],
         "yaxis": "y"
        }
       ],
       "layout": {
        "barmode": "relative",
        "legend": {
         "title": {
          "text": "position name"
         },
         "tracegroupgap": 0
        },
        "template": {
         "data": {
          "bar": [
           {
            "error_x": {
             "color": "rgb(36,36,36)"
            },
            "error_y": {
             "color": "rgb(36,36,36)"
            },
            "marker": {
             "line": {
              "color": "rgb(234,234,242)",
              "width": 0.5
             },
             "pattern": {
              "fillmode": "overlay",
              "size": 10,
              "solidity": 0.2
             }
            },
            "type": "bar"
           }
          ],
          "barpolar": [
           {
            "marker": {
             "line": {
              "color": "rgb(234,234,242)",
              "width": 0.5
             },
             "pattern": {
              "fillmode": "overlay",
              "size": 10,
              "solidity": 0.2
             }
            },
            "type": "barpolar"
           }
          ],
          "carpet": [
           {
            "aaxis": {
             "endlinecolor": "rgb(36,36,36)",
             "gridcolor": "white",
             "linecolor": "white",
             "minorgridcolor": "white",
             "startlinecolor": "rgb(36,36,36)"
            },
            "baxis": {
             "endlinecolor": "rgb(36,36,36)",
             "gridcolor": "white",
             "linecolor": "white",
             "minorgridcolor": "white",
             "startlinecolor": "rgb(36,36,36)"
            },
            "type": "carpet"
           }
          ],
          "choropleth": [
           {
            "colorbar": {
             "outlinewidth": 0,
             "tickcolor": "rgb(36,36,36)",
             "ticklen": 8,
             "ticks": "outside",
             "tickwidth": 2
            },
            "type": "choropleth"
           }
          ],
          "contour": [
           {
            "colorbar": {
             "outlinewidth": 0,
             "tickcolor": "rgb(36,36,36)",
             "ticklen": 8,
             "ticks": "outside",
             "tickwidth": 2
            },
            "colorscale": [
             [
              0,
              "rgb(2,4,25)"
             ],
             [
              0.06274509803921569,
              "rgb(24,15,41)"
             ],
             [
              0.12549019607843137,
              "rgb(47,23,57)"
             ],
             [
              0.18823529411764706,
              "rgb(71,28,72)"
             ],
             [
              0.25098039215686274,
              "rgb(97,30,82)"
             ],
             [
              0.3137254901960784,
              "rgb(123,30,89)"
             ],
             [
              0.3764705882352941,
              "rgb(150,27,91)"
             ],
             [
              0.4392156862745098,
              "rgb(177,22,88)"
             ],
             [
              0.5019607843137255,
              "rgb(203,26,79)"
             ],
             [
              0.5647058823529412,
              "rgb(223,47,67)"
             ],
             [
              0.6274509803921569,
              "rgb(236,76,61)"
             ],
             [
              0.6901960784313725,
              "rgb(242,107,73)"
             ],
             [
              0.7529411764705882,
              "rgb(244,135,95)"
             ],
             [
              0.8156862745098039,
              "rgb(245,162,122)"
             ],
             [
              0.8784313725490196,
              "rgb(246,188,153)"
             ],
             [
              0.9411764705882353,
              "rgb(247,212,187)"
             ],
             [
              1,
              "rgb(250,234,220)"
             ]
            ],
            "type": "contour"
           }
          ],
          "contourcarpet": [
           {
            "colorbar": {
             "outlinewidth": 0,
             "tickcolor": "rgb(36,36,36)",
             "ticklen": 8,
             "ticks": "outside",
             "tickwidth": 2
            },
            "type": "contourcarpet"
           }
          ],
          "heatmap": [
           {
            "colorbar": {
             "outlinewidth": 0,
             "tickcolor": "rgb(36,36,36)",
             "ticklen": 8,
             "ticks": "outside",
             "tickwidth": 2
            },
            "colorscale": [
             [
              0,
              "rgb(2,4,25)"
             ],
             [
              0.06274509803921569,
              "rgb(24,15,41)"
             ],
             [
              0.12549019607843137,
              "rgb(47,23,57)"
             ],
             [
              0.18823529411764706,
              "rgb(71,28,72)"
             ],
             [
              0.25098039215686274,
              "rgb(97,30,82)"
             ],
             [
              0.3137254901960784,
              "rgb(123,30,89)"
             ],
             [
              0.3764705882352941,
              "rgb(150,27,91)"
             ],
             [
              0.4392156862745098,
              "rgb(177,22,88)"
             ],
             [
              0.5019607843137255,
              "rgb(203,26,79)"
             ],
             [
              0.5647058823529412,
              "rgb(223,47,67)"
             ],
             [
              0.6274509803921569,
              "rgb(236,76,61)"
             ],
             [
              0.6901960784313725,
              "rgb(242,107,73)"
             ],
             [
              0.7529411764705882,
              "rgb(244,135,95)"
             ],
             [
              0.8156862745098039,
              "rgb(245,162,122)"
             ],
             [
              0.8784313725490196,
              "rgb(246,188,153)"
             ],
             [
              0.9411764705882353,
              "rgb(247,212,187)"
             ],
             [
              1,
              "rgb(250,234,220)"
             ]
            ],
            "type": "heatmap"
           }
          ],
          "heatmapgl": [
           {
            "colorbar": {
             "outlinewidth": 0,
             "tickcolor": "rgb(36,36,36)",
             "ticklen": 8,
             "ticks": "outside",
             "tickwidth": 2
            },
            "colorscale": [
             [
              0,
              "rgb(2,4,25)"
             ],
             [
              0.06274509803921569,
              "rgb(24,15,41)"
             ],
             [
              0.12549019607843137,
              "rgb(47,23,57)"
             ],
             [
              0.18823529411764706,
              "rgb(71,28,72)"
             ],
             [
              0.25098039215686274,
              "rgb(97,30,82)"
             ],
             [
              0.3137254901960784,
              "rgb(123,30,89)"
             ],
             [
              0.3764705882352941,
              "rgb(150,27,91)"
             ],
             [
              0.4392156862745098,
              "rgb(177,22,88)"
             ],
             [
              0.5019607843137255,
              "rgb(203,26,79)"
             ],
             [
              0.5647058823529412,
              "rgb(223,47,67)"
             ],
             [
              0.6274509803921569,
              "rgb(236,76,61)"
             ],
             [
              0.6901960784313725,
              "rgb(242,107,73)"
             ],
             [
              0.7529411764705882,
              "rgb(244,135,95)"
             ],
             [
              0.8156862745098039,
              "rgb(245,162,122)"
             ],
             [
              0.8784313725490196,
              "rgb(246,188,153)"
             ],
             [
              0.9411764705882353,
              "rgb(247,212,187)"
             ],
             [
              1,
              "rgb(250,234,220)"
             ]
            ],
            "type": "heatmapgl"
           }
          ],
          "histogram": [
           {
            "marker": {
             "pattern": {
              "fillmode": "overlay",
              "size": 10,
              "solidity": 0.2
             }
            },
            "type": "histogram"
           }
          ],
          "histogram2d": [
           {
            "colorbar": {
             "outlinewidth": 0,
             "tickcolor": "rgb(36,36,36)",
             "ticklen": 8,
             "ticks": "outside",
             "tickwidth": 2
            },
            "colorscale": [
             [
              0,
              "rgb(2,4,25)"
             ],
             [
              0.06274509803921569,
              "rgb(24,15,41)"
             ],
             [
              0.12549019607843137,
              "rgb(47,23,57)"
             ],
             [
              0.18823529411764706,
              "rgb(71,28,72)"
             ],
             [
              0.25098039215686274,
              "rgb(97,30,82)"
             ],
             [
              0.3137254901960784,
              "rgb(123,30,89)"
             ],
             [
              0.3764705882352941,
              "rgb(150,27,91)"
             ],
             [
              0.4392156862745098,
              "rgb(177,22,88)"
             ],
             [
              0.5019607843137255,
              "rgb(203,26,79)"
             ],
             [
              0.5647058823529412,
              "rgb(223,47,67)"
             ],
             [
              0.6274509803921569,
              "rgb(236,76,61)"
             ],
             [
              0.6901960784313725,
              "rgb(242,107,73)"
             ],
             [
              0.7529411764705882,
              "rgb(244,135,95)"
             ],
             [
              0.8156862745098039,
              "rgb(245,162,122)"
             ],
             [
              0.8784313725490196,
              "rgb(246,188,153)"
             ],
             [
              0.9411764705882353,
              "rgb(247,212,187)"
             ],
             [
              1,
              "rgb(250,234,220)"
             ]
            ],
            "type": "histogram2d"
           }
          ],
          "histogram2dcontour": [
           {
            "colorbar": {
             "outlinewidth": 0,
             "tickcolor": "rgb(36,36,36)",
             "ticklen": 8,
             "ticks": "outside",
             "tickwidth": 2
            },
            "colorscale": [
             [
              0,
              "rgb(2,4,25)"
             ],
             [
              0.06274509803921569,
              "rgb(24,15,41)"
             ],
             [
              0.12549019607843137,
              "rgb(47,23,57)"
             ],
             [
              0.18823529411764706,
              "rgb(71,28,72)"
             ],
             [
              0.25098039215686274,
              "rgb(97,30,82)"
             ],
             [
              0.3137254901960784,
              "rgb(123,30,89)"
             ],
             [
              0.3764705882352941,
              "rgb(150,27,91)"
             ],
             [
              0.4392156862745098,
              "rgb(177,22,88)"
             ],
             [
              0.5019607843137255,
              "rgb(203,26,79)"
             ],
             [
              0.5647058823529412,
              "rgb(223,47,67)"
             ],
             [
              0.6274509803921569,
              "rgb(236,76,61)"
             ],
             [
              0.6901960784313725,
              "rgb(242,107,73)"
             ],
             [
              0.7529411764705882,
              "rgb(244,135,95)"
             ],
             [
              0.8156862745098039,
              "rgb(245,162,122)"
             ],
             [
              0.8784313725490196,
              "rgb(246,188,153)"
             ],
             [
              0.9411764705882353,
              "rgb(247,212,187)"
             ],
             [
              1,
              "rgb(250,234,220)"
             ]
            ],
            "type": "histogram2dcontour"
           }
          ],
          "mesh3d": [
           {
            "colorbar": {
             "outlinewidth": 0,
             "tickcolor": "rgb(36,36,36)",
             "ticklen": 8,
             "ticks": "outside",
             "tickwidth": 2
            },
            "type": "mesh3d"
           }
          ],
          "parcoords": [
           {
            "line": {
             "colorbar": {
              "outlinewidth": 0,
              "tickcolor": "rgb(36,36,36)",
              "ticklen": 8,
              "ticks": "outside",
              "tickwidth": 2
             }
            },
            "type": "parcoords"
           }
          ],
          "pie": [
           {
            "automargin": true,
            "type": "pie"
           }
          ],
          "scatter": [
           {
            "marker": {
             "colorbar": {
              "outlinewidth": 0,
              "tickcolor": "rgb(36,36,36)",
              "ticklen": 8,
              "ticks": "outside",
              "tickwidth": 2
             }
            },
            "type": "scatter"
           }
          ],
          "scatter3d": [
           {
            "line": {
             "colorbar": {
              "outlinewidth": 0,
              "tickcolor": "rgb(36,36,36)",
              "ticklen": 8,
              "ticks": "outside",
              "tickwidth": 2
             }
            },
            "marker": {
             "colorbar": {
              "outlinewidth": 0,
              "tickcolor": "rgb(36,36,36)",
              "ticklen": 8,
              "ticks": "outside",
              "tickwidth": 2
             }
            },
            "type": "scatter3d"
           }
          ],
          "scattercarpet": [
           {
            "marker": {
             "colorbar": {
              "outlinewidth": 0,
              "tickcolor": "rgb(36,36,36)",
              "ticklen": 8,
              "ticks": "outside",
              "tickwidth": 2
             }
            },
            "type": "scattercarpet"
           }
          ],
          "scattergeo": [
           {
            "marker": {
             "colorbar": {
              "outlinewidth": 0,
              "tickcolor": "rgb(36,36,36)",
              "ticklen": 8,
              "ticks": "outside",
              "tickwidth": 2
             }
            },
            "type": "scattergeo"
           }
          ],
          "scattergl": [
           {
            "marker": {
             "colorbar": {
              "outlinewidth": 0,
              "tickcolor": "rgb(36,36,36)",
              "ticklen": 8,
              "ticks": "outside",
              "tickwidth": 2
             }
            },
            "type": "scattergl"
           }
          ],
          "scattermapbox": [
           {
            "marker": {
             "colorbar": {
              "outlinewidth": 0,
              "tickcolor": "rgb(36,36,36)",
              "ticklen": 8,
              "ticks": "outside",
              "tickwidth": 2
             }
            },
            "type": "scattermapbox"
           }
          ],
          "scatterpolar": [
           {
            "marker": {
             "colorbar": {
              "outlinewidth": 0,
              "tickcolor": "rgb(36,36,36)",
              "ticklen": 8,
              "ticks": "outside",
              "tickwidth": 2
             }
            },
            "type": "scatterpolar"
           }
          ],
          "scatterpolargl": [
           {
            "marker": {
             "colorbar": {
              "outlinewidth": 0,
              "tickcolor": "rgb(36,36,36)",
              "ticklen": 8,
              "ticks": "outside",
              "tickwidth": 2
             }
            },
            "type": "scatterpolargl"
           }
          ],
          "scatterternary": [
           {
            "marker": {
             "colorbar": {
              "outlinewidth": 0,
              "tickcolor": "rgb(36,36,36)",
              "ticklen": 8,
              "ticks": "outside",
              "tickwidth": 2
             }
            },
            "type": "scatterternary"
           }
          ],
          "surface": [
           {
            "colorbar": {
             "outlinewidth": 0,
             "tickcolor": "rgb(36,36,36)",
             "ticklen": 8,
             "ticks": "outside",
             "tickwidth": 2
            },
            "colorscale": [
             [
              0,
              "rgb(2,4,25)"
             ],
             [
              0.06274509803921569,
              "rgb(24,15,41)"
             ],
             [
              0.12549019607843137,
              "rgb(47,23,57)"
             ],
             [
              0.18823529411764706,
              "rgb(71,28,72)"
             ],
             [
              0.25098039215686274,
              "rgb(97,30,82)"
             ],
             [
              0.3137254901960784,
              "rgb(123,30,89)"
             ],
             [
              0.3764705882352941,
              "rgb(150,27,91)"
             ],
             [
              0.4392156862745098,
              "rgb(177,22,88)"
             ],
             [
              0.5019607843137255,
              "rgb(203,26,79)"
             ],
             [
              0.5647058823529412,
              "rgb(223,47,67)"
             ],
             [
              0.6274509803921569,
              "rgb(236,76,61)"
             ],
             [
              0.6901960784313725,
              "rgb(242,107,73)"
             ],
             [
              0.7529411764705882,
              "rgb(244,135,95)"
             ],
             [
              0.8156862745098039,
              "rgb(245,162,122)"
             ],
             [
              0.8784313725490196,
              "rgb(246,188,153)"
             ],
             [
              0.9411764705882353,
              "rgb(247,212,187)"
             ],
             [
              1,
              "rgb(250,234,220)"
             ]
            ],
            "type": "surface"
           }
          ],
          "table": [
           {
            "cells": {
             "fill": {
              "color": "rgb(231,231,240)"
             },
             "line": {
              "color": "white"
             }
            },
            "header": {
             "fill": {
              "color": "rgb(183,183,191)"
             },
             "line": {
              "color": "white"
             }
            },
            "type": "table"
           }
          ]
         },
         "layout": {
          "annotationdefaults": {
           "arrowcolor": "rgb(67,103,167)"
          },
          "autotypenumbers": "strict",
          "coloraxis": {
           "colorbar": {
            "outlinewidth": 0,
            "tickcolor": "rgb(36,36,36)",
            "ticklen": 8,
            "ticks": "outside",
            "tickwidth": 2
           }
          },
          "colorscale": {
           "sequential": [
            [
             0,
             "rgb(2,4,25)"
            ],
            [
             0.06274509803921569,
             "rgb(24,15,41)"
            ],
            [
             0.12549019607843137,
             "rgb(47,23,57)"
            ],
            [
             0.18823529411764706,
             "rgb(71,28,72)"
            ],
            [
             0.25098039215686274,
             "rgb(97,30,82)"
            ],
            [
             0.3137254901960784,
             "rgb(123,30,89)"
            ],
            [
             0.3764705882352941,
             "rgb(150,27,91)"
            ],
            [
             0.4392156862745098,
             "rgb(177,22,88)"
            ],
            [
             0.5019607843137255,
             "rgb(203,26,79)"
            ],
            [
             0.5647058823529412,
             "rgb(223,47,67)"
            ],
            [
             0.6274509803921569,
             "rgb(236,76,61)"
            ],
            [
             0.6901960784313725,
             "rgb(242,107,73)"
            ],
            [
             0.7529411764705882,
             "rgb(244,135,95)"
            ],
            [
             0.8156862745098039,
             "rgb(245,162,122)"
            ],
            [
             0.8784313725490196,
             "rgb(246,188,153)"
            ],
            [
             0.9411764705882353,
             "rgb(247,212,187)"
            ],
            [
             1,
             "rgb(250,234,220)"
            ]
           ],
           "sequentialminus": [
            [
             0,
             "rgb(2,4,25)"
            ],
            [
             0.06274509803921569,
             "rgb(24,15,41)"
            ],
            [
             0.12549019607843137,
             "rgb(47,23,57)"
            ],
            [
             0.18823529411764706,
             "rgb(71,28,72)"
            ],
            [
             0.25098039215686274,
             "rgb(97,30,82)"
            ],
            [
             0.3137254901960784,
             "rgb(123,30,89)"
            ],
            [
             0.3764705882352941,
             "rgb(150,27,91)"
            ],
            [
             0.4392156862745098,
             "rgb(177,22,88)"
            ],
            [
             0.5019607843137255,
             "rgb(203,26,79)"
            ],
            [
             0.5647058823529412,
             "rgb(223,47,67)"
            ],
            [
             0.6274509803921569,
             "rgb(236,76,61)"
            ],
            [
             0.6901960784313725,
             "rgb(242,107,73)"
            ],
            [
             0.7529411764705882,
             "rgb(244,135,95)"
            ],
            [
             0.8156862745098039,
             "rgb(245,162,122)"
            ],
            [
             0.8784313725490196,
             "rgb(246,188,153)"
            ],
            [
             0.9411764705882353,
             "rgb(247,212,187)"
            ],
            [
             1,
             "rgb(250,234,220)"
            ]
           ]
          },
          "colorway": [
           "rgb(76,114,176)",
           "rgb(221,132,82)",
           "rgb(85,168,104)",
           "rgb(196,78,82)",
           "rgb(129,114,179)",
           "rgb(147,120,96)",
           "rgb(218,139,195)",
           "rgb(140,140,140)",
           "rgb(204,185,116)",
           "rgb(100,181,205)"
          ],
          "font": {
           "color": "rgb(36,36,36)"
          },
          "geo": {
           "bgcolor": "white",
           "lakecolor": "white",
           "landcolor": "rgb(234,234,242)",
           "showlakes": true,
           "showland": true,
           "subunitcolor": "white"
          },
          "hoverlabel": {
           "align": "left"
          },
          "hovermode": "closest",
          "paper_bgcolor": "white",
          "plot_bgcolor": "rgb(234,234,242)",
          "polar": {
           "angularaxis": {
            "gridcolor": "white",
            "linecolor": "white",
            "showgrid": true,
            "ticks": ""
           },
           "bgcolor": "rgb(234,234,242)",
           "radialaxis": {
            "gridcolor": "white",
            "linecolor": "white",
            "showgrid": true,
            "ticks": ""
           }
          },
          "scene": {
           "xaxis": {
            "backgroundcolor": "rgb(234,234,242)",
            "gridcolor": "white",
            "gridwidth": 2,
            "linecolor": "white",
            "showbackground": true,
            "showgrid": true,
            "ticks": "",
            "zerolinecolor": "white"
           },
           "yaxis": {
            "backgroundcolor": "rgb(234,234,242)",
            "gridcolor": "white",
            "gridwidth": 2,
            "linecolor": "white",
            "showbackground": true,
            "showgrid": true,
            "ticks": "",
            "zerolinecolor": "white"
           },
           "zaxis": {
            "backgroundcolor": "rgb(234,234,242)",
            "gridcolor": "white",
            "gridwidth": 2,
            "linecolor": "white",
            "showbackground": true,
            "showgrid": true,
            "ticks": "",
            "zerolinecolor": "white"
           }
          },
          "shapedefaults": {
           "fillcolor": "rgb(67,103,167)",
           "line": {
            "width": 0
           },
           "opacity": 0.5
          },
          "ternary": {
           "aaxis": {
            "gridcolor": "white",
            "linecolor": "white",
            "showgrid": true,
            "ticks": ""
           },
           "baxis": {
            "gridcolor": "white",
            "linecolor": "white",
            "showgrid": true,
            "ticks": ""
           },
           "bgcolor": "rgb(234,234,242)",
           "caxis": {
            "gridcolor": "white",
            "linecolor": "white",
            "showgrid": true,
            "ticks": ""
           }
          },
          "xaxis": {
           "automargin": true,
           "gridcolor": "white",
           "linecolor": "white",
           "showgrid": true,
           "ticks": "",
           "title": {
            "standoff": 15
           },
           "zerolinecolor": "white"
          },
          "yaxis": {
           "automargin": true,
           "gridcolor": "white",
           "linecolor": "white",
           "showgrid": true,
           "ticks": "",
           "title": {
            "standoff": 15
           },
           "zerolinecolor": "white"
          }
         }
        },
        "title": {
         "text": "<b> The Most 20 position Request from Companies in 2020"
        },
        "xaxis": {
         "anchor": "y",
         "categoryarray": [
          "Store Associate",
          "Project Manager",
          "Graphic Designer",
          "Accountant",
          "Sales Manager",
          "Business Development Manager",
          "Account Manager",
          "Finance Manager",
          "Marketing Manager",
          "Sales Executive",
          "Operations Manager",
          "Senior React Developer  Fulltime Remote",
          "Sales Engineer",
          "Human Resources Manager",
          "Senior Accountant",
          "Digital Marketing Specialist",
          "Marketing Specialist",
          "Sales Specialist",
          "Store Manager",
          "Executive Secretary"
         ],
         "categoryorder": "array",
         "domain": [
          0,
          1
         ],
         "title": {
          "text": "position name"
         }
        },
        "yaxis": {
         "anchor": "x",
         "domain": [
          0,
          1
         ],
         "title": {
          "text": "number of position"
         }
        }
       }
      },
      "text/html": [
       "<div>                            <div id=\"a33802b9-4f1c-4f67-b9f1-d30fa8ade25c\" class=\"plotly-graph-div\" style=\"height:525px; width:100%;\"></div>            <script type=\"text/javascript\">                require([\"plotly\"], function(Plotly) {                    window.PLOTLYENV=window.PLOTLYENV || {};                                    if (document.getElementById(\"a33802b9-4f1c-4f67-b9f1-d30fa8ade25c\")) {                    Plotly.newPlot(                        \"a33802b9-4f1c-4f67-b9f1-d30fa8ade25c\",                        [{\"alignmentgroup\":\"True\",\"hovertemplate\":\"position name=%{x}<br>number of position=%{y}<br>count=%{text}<extra></extra>\",\"legendgroup\":\"Store Associate\",\"marker\":{\"color\":\"rgb(76,114,176)\",\"pattern\":{\"shape\":\"\"}},\"name\":\"Store Associate\",\"offsetgroup\":\"Store Associate\",\"orientation\":\"v\",\"showlegend\":true,\"text\":[239.0],\"textposition\":\"auto\",\"x\":[\"Store Associate\"],\"xaxis\":\"x\",\"y\":[239],\"yaxis\":\"y\",\"type\":\"bar\"},{\"alignmentgroup\":\"True\",\"hovertemplate\":\"position name=%{x}<br>number of position=%{y}<br>count=%{text}<extra></extra>\",\"legendgroup\":\"Project Manager\",\"marker\":{\"color\":\"rgb(221,132,82)\",\"pattern\":{\"shape\":\"\"}},\"name\":\"Project Manager\",\"offsetgroup\":\"Project Manager\",\"orientation\":\"v\",\"showlegend\":true,\"text\":[204.0],\"textposition\":\"auto\",\"x\":[\"Project Manager\"],\"xaxis\":\"x\",\"y\":[204],\"yaxis\":\"y\",\"type\":\"bar\"},{\"alignmentgroup\":\"True\",\"hovertemplate\":\"position name=%{x}<br>number of position=%{y}<br>count=%{text}<extra></extra>\",\"legendgroup\":\"Graphic Designer\",\"marker\":{\"color\":\"rgb(85,168,104)\",\"pattern\":{\"shape\":\"\"}},\"name\":\"Graphic Designer\",\"offsetgroup\":\"Graphic Designer\",\"orientation\":\"v\",\"showlegend\":true,\"text\":[187.0],\"textposition\":\"auto\",\"x\":[\"Graphic Designer\"],\"xaxis\":\"x\",\"y\":[187],\"yaxis\":\"y\",\"type\":\"bar\"},{\"alignmentgroup\":\"True\",\"hovertemplate\":\"position name=%{x}<br>number of position=%{y}<br>count=%{text}<extra></extra>\",\"legendgroup\":\"Accountant\",\"marker\":{\"color\":\"rgb(196,78,82)\",\"pattern\":{\"shape\":\"\"}},\"name\":\"Accountant\",\"offsetgroup\":\"Accountant\",\"orientation\":\"v\",\"showlegend\":true,\"text\":[173.0],\"textposition\":\"auto\",\"x\":[\"Accountant\"],\"xaxis\":\"x\",\"y\":[173],\"yaxis\":\"y\",\"type\":\"bar\"},{\"alignmentgroup\":\"True\",\"hovertemplate\":\"position name=%{x}<br>number of position=%{y}<br>count=%{text}<extra></extra>\",\"legendgroup\":\"Sales Manager\",\"marker\":{\"color\":\"rgb(129,114,179)\",\"pattern\":{\"shape\":\"\"}},\"name\":\"Sales Manager\",\"offsetgroup\":\"Sales Manager\",\"orientation\":\"v\",\"showlegend\":true,\"text\":[157.0],\"textposition\":\"auto\",\"x\":[\"Sales Manager\"],\"xaxis\":\"x\",\"y\":[157],\"yaxis\":\"y\",\"type\":\"bar\"},{\"alignmentgroup\":\"True\",\"hovertemplate\":\"position name=%{x}<br>number of position=%{y}<br>count=%{text}<extra></extra>\",\"legendgroup\":\"Business Development Manager\",\"marker\":{\"color\":\"rgb(147,120,96)\",\"pattern\":{\"shape\":\"\"}},\"name\":\"Business Development Manager\",\"offsetgroup\":\"Business Development Manager\",\"orientation\":\"v\",\"showlegend\":true,\"text\":[141.0],\"textposition\":\"auto\",\"x\":[\"Business Development Manager\"],\"xaxis\":\"x\",\"y\":[141],\"yaxis\":\"y\",\"type\":\"bar\"},{\"alignmentgroup\":\"True\",\"hovertemplate\":\"position name=%{x}<br>number of position=%{y}<br>count=%{text}<extra></extra>\",\"legendgroup\":\"Account Manager\",\"marker\":{\"color\":\"rgb(218,139,195)\",\"pattern\":{\"shape\":\"\"}},\"name\":\"Account Manager\",\"offsetgroup\":\"Account Manager\",\"orientation\":\"v\",\"showlegend\":true,\"text\":[133.0],\"textposition\":\"auto\",\"x\":[\"Account Manager\"],\"xaxis\":\"x\",\"y\":[133],\"yaxis\":\"y\",\"type\":\"bar\"},{\"alignmentgroup\":\"True\",\"hovertemplate\":\"position name=%{x}<br>number of position=%{y}<br>count=%{text}<extra></extra>\",\"legendgroup\":\"Finance Manager\",\"marker\":{\"color\":\"rgb(140,140,140)\",\"pattern\":{\"shape\":\"\"}},\"name\":\"Finance Manager\",\"offsetgroup\":\"Finance Manager\",\"orientation\":\"v\",\"showlegend\":true,\"text\":[125.0],\"textposition\":\"auto\",\"x\":[\"Finance Manager\"],\"xaxis\":\"x\",\"y\":[125],\"yaxis\":\"y\",\"type\":\"bar\"},{\"alignmentgroup\":\"True\",\"hovertemplate\":\"position name=%{x}<br>number of position=%{y}<br>count=%{text}<extra></extra>\",\"legendgroup\":\"Marketing Manager\",\"marker\":{\"color\":\"rgb(204,185,116)\",\"pattern\":{\"shape\":\"\"}},\"name\":\"Marketing Manager\",\"offsetgroup\":\"Marketing Manager\",\"orientation\":\"v\",\"showlegend\":true,\"text\":[114.0],\"textposition\":\"auto\",\"x\":[\"Marketing Manager\"],\"xaxis\":\"x\",\"y\":[114],\"yaxis\":\"y\",\"type\":\"bar\"},{\"alignmentgroup\":\"True\",\"hovertemplate\":\"position name=%{x}<br>number of position=%{y}<br>count=%{text}<extra></extra>\",\"legendgroup\":\"Sales Executive\",\"marker\":{\"color\":\"rgb(100,181,205)\",\"pattern\":{\"shape\":\"\"}},\"name\":\"Sales Executive\",\"offsetgroup\":\"Sales Executive\",\"orientation\":\"v\",\"showlegend\":true,\"text\":[109.0],\"textposition\":\"auto\",\"x\":[\"Sales Executive\"],\"xaxis\":\"x\",\"y\":[109],\"yaxis\":\"y\",\"type\":\"bar\"},{\"alignmentgroup\":\"True\",\"hovertemplate\":\"position name=%{x}<br>number of position=%{y}<br>count=%{text}<extra></extra>\",\"legendgroup\":\"Operations Manager\",\"marker\":{\"color\":\"rgb(76,114,176)\",\"pattern\":{\"shape\":\"\"}},\"name\":\"Operations Manager\",\"offsetgroup\":\"Operations Manager\",\"orientation\":\"v\",\"showlegend\":true,\"text\":[103.0],\"textposition\":\"auto\",\"x\":[\"Operations Manager\"],\"xaxis\":\"x\",\"y\":[103],\"yaxis\":\"y\",\"type\":\"bar\"},{\"alignmentgroup\":\"True\",\"hovertemplate\":\"position name=%{x}<br>number of position=%{y}<br>count=%{text}<extra></extra>\",\"legendgroup\":\"Senior React Developer  Fulltime Remote\",\"marker\":{\"color\":\"rgb(221,132,82)\",\"pattern\":{\"shape\":\"\"}},\"name\":\"Senior React Developer  Fulltime Remote\",\"offsetgroup\":\"Senior React Developer  Fulltime Remote\",\"orientation\":\"v\",\"showlegend\":true,\"text\":[95.0],\"textposition\":\"auto\",\"x\":[\"Senior React Developer  Fulltime Remote\"],\"xaxis\":\"x\",\"y\":[95],\"yaxis\":\"y\",\"type\":\"bar\"},{\"alignmentgroup\":\"True\",\"hovertemplate\":\"position name=%{x}<br>number of position=%{y}<br>count=%{text}<extra></extra>\",\"legendgroup\":\"Sales Engineer\",\"marker\":{\"color\":\"rgb(85,168,104)\",\"pattern\":{\"shape\":\"\"}},\"name\":\"Sales Engineer\",\"offsetgroup\":\"Sales Engineer\",\"orientation\":\"v\",\"showlegend\":true,\"text\":[85.0],\"textposition\":\"auto\",\"x\":[\"Sales Engineer\"],\"xaxis\":\"x\",\"y\":[85],\"yaxis\":\"y\",\"type\":\"bar\"},{\"alignmentgroup\":\"True\",\"hovertemplate\":\"position name=%{x}<br>number of position=%{y}<br>count=%{text}<extra></extra>\",\"legendgroup\":\"Human Resources Manager\",\"marker\":{\"color\":\"rgb(196,78,82)\",\"pattern\":{\"shape\":\"\"}},\"name\":\"Human Resources Manager\",\"offsetgroup\":\"Human Resources Manager\",\"orientation\":\"v\",\"showlegend\":true,\"text\":[83.0],\"textposition\":\"auto\",\"x\":[\"Human Resources Manager\"],\"xaxis\":\"x\",\"y\":[83],\"yaxis\":\"y\",\"type\":\"bar\"},{\"alignmentgroup\":\"True\",\"hovertemplate\":\"position name=%{x}<br>number of position=%{y}<br>count=%{text}<extra></extra>\",\"legendgroup\":\"Senior Accountant\",\"marker\":{\"color\":\"rgb(129,114,179)\",\"pattern\":{\"shape\":\"\"}},\"name\":\"Senior Accountant\",\"offsetgroup\":\"Senior Accountant\",\"orientation\":\"v\",\"showlegend\":true,\"text\":[83.0],\"textposition\":\"auto\",\"x\":[\"Senior Accountant\"],\"xaxis\":\"x\",\"y\":[83],\"yaxis\":\"y\",\"type\":\"bar\"},{\"alignmentgroup\":\"True\",\"hovertemplate\":\"position name=%{x}<br>number of position=%{y}<br>count=%{text}<extra></extra>\",\"legendgroup\":\"Digital Marketing Specialist\",\"marker\":{\"color\":\"rgb(147,120,96)\",\"pattern\":{\"shape\":\"\"}},\"name\":\"Digital Marketing Specialist\",\"offsetgroup\":\"Digital Marketing Specialist\",\"orientation\":\"v\",\"showlegend\":true,\"text\":[71.0],\"textposition\":\"auto\",\"x\":[\"Digital Marketing Specialist\"],\"xaxis\":\"x\",\"y\":[71],\"yaxis\":\"y\",\"type\":\"bar\"},{\"alignmentgroup\":\"True\",\"hovertemplate\":\"position name=%{x}<br>number of position=%{y}<br>count=%{text}<extra></extra>\",\"legendgroup\":\"Marketing Specialist\",\"marker\":{\"color\":\"rgb(218,139,195)\",\"pattern\":{\"shape\":\"\"}},\"name\":\"Marketing Specialist\",\"offsetgroup\":\"Marketing Specialist\",\"orientation\":\"v\",\"showlegend\":true,\"text\":[67.0],\"textposition\":\"auto\",\"x\":[\"Marketing Specialist\"],\"xaxis\":\"x\",\"y\":[67],\"yaxis\":\"y\",\"type\":\"bar\"},{\"alignmentgroup\":\"True\",\"hovertemplate\":\"position name=%{x}<br>number of position=%{y}<br>count=%{text}<extra></extra>\",\"legendgroup\":\"Sales Specialist\",\"marker\":{\"color\":\"rgb(140,140,140)\",\"pattern\":{\"shape\":\"\"}},\"name\":\"Sales Specialist\",\"offsetgroup\":\"Sales Specialist\",\"orientation\":\"v\",\"showlegend\":true,\"text\":[66.0],\"textposition\":\"auto\",\"x\":[\"Sales Specialist\"],\"xaxis\":\"x\",\"y\":[66],\"yaxis\":\"y\",\"type\":\"bar\"},{\"alignmentgroup\":\"True\",\"hovertemplate\":\"position name=%{x}<br>number of position=%{y}<br>count=%{text}<extra></extra>\",\"legendgroup\":\"Store Manager\",\"marker\":{\"color\":\"rgb(204,185,116)\",\"pattern\":{\"shape\":\"\"}},\"name\":\"Store Manager\",\"offsetgroup\":\"Store Manager\",\"orientation\":\"v\",\"showlegend\":true,\"text\":[58.0],\"textposition\":\"auto\",\"x\":[\"Store Manager\"],\"xaxis\":\"x\",\"y\":[58],\"yaxis\":\"y\",\"type\":\"bar\"},{\"alignmentgroup\":\"True\",\"hovertemplate\":\"position name=%{x}<br>number of position=%{y}<br>count=%{text}<extra></extra>\",\"legendgroup\":\"Executive Secretary\",\"marker\":{\"color\":\"rgb(100,181,205)\",\"pattern\":{\"shape\":\"\"}},\"name\":\"Executive Secretary\",\"offsetgroup\":\"Executive Secretary\",\"orientation\":\"v\",\"showlegend\":true,\"text\":[57.0],\"textposition\":\"auto\",\"x\":[\"Executive Secretary\"],\"xaxis\":\"x\",\"y\":[57],\"yaxis\":\"y\",\"type\":\"bar\"}],                        {\"template\":{\"data\":{\"barpolar\":[{\"marker\":{\"line\":{\"color\":\"rgb(234,234,242)\",\"width\":0.5},\"pattern\":{\"fillmode\":\"overlay\",\"size\":10,\"solidity\":0.2}},\"type\":\"barpolar\"}],\"bar\":[{\"error_x\":{\"color\":\"rgb(36,36,36)\"},\"error_y\":{\"color\":\"rgb(36,36,36)\"},\"marker\":{\"line\":{\"color\":\"rgb(234,234,242)\",\"width\":0.5},\"pattern\":{\"fillmode\":\"overlay\",\"size\":10,\"solidity\":0.2}},\"type\":\"bar\"}],\"carpet\":[{\"aaxis\":{\"endlinecolor\":\"rgb(36,36,36)\",\"gridcolor\":\"white\",\"linecolor\":\"white\",\"minorgridcolor\":\"white\",\"startlinecolor\":\"rgb(36,36,36)\"},\"baxis\":{\"endlinecolor\":\"rgb(36,36,36)\",\"gridcolor\":\"white\",\"linecolor\":\"white\",\"minorgridcolor\":\"white\",\"startlinecolor\":\"rgb(36,36,36)\"},\"type\":\"carpet\"}],\"choropleth\":[{\"colorbar\":{\"outlinewidth\":0,\"tickcolor\":\"rgb(36,36,36)\",\"ticklen\":8,\"ticks\":\"outside\",\"tickwidth\":2},\"type\":\"choropleth\"}],\"contourcarpet\":[{\"colorbar\":{\"outlinewidth\":0,\"tickcolor\":\"rgb(36,36,36)\",\"ticklen\":8,\"ticks\":\"outside\",\"tickwidth\":2},\"type\":\"contourcarpet\"}],\"contour\":[{\"colorbar\":{\"outlinewidth\":0,\"tickcolor\":\"rgb(36,36,36)\",\"ticklen\":8,\"ticks\":\"outside\",\"tickwidth\":2},\"colorscale\":[[0.0,\"rgb(2,4,25)\"],[0.06274509803921569,\"rgb(24,15,41)\"],[0.12549019607843137,\"rgb(47,23,57)\"],[0.18823529411764706,\"rgb(71,28,72)\"],[0.25098039215686274,\"rgb(97,30,82)\"],[0.3137254901960784,\"rgb(123,30,89)\"],[0.3764705882352941,\"rgb(150,27,91)\"],[0.4392156862745098,\"rgb(177,22,88)\"],[0.5019607843137255,\"rgb(203,26,79)\"],[0.5647058823529412,\"rgb(223,47,67)\"],[0.6274509803921569,\"rgb(236,76,61)\"],[0.6901960784313725,\"rgb(242,107,73)\"],[0.7529411764705882,\"rgb(244,135,95)\"],[0.8156862745098039,\"rgb(245,162,122)\"],[0.8784313725490196,\"rgb(246,188,153)\"],[0.9411764705882353,\"rgb(247,212,187)\"],[1.0,\"rgb(250,234,220)\"]],\"type\":\"contour\"}],\"heatmapgl\":[{\"colorbar\":{\"outlinewidth\":0,\"tickcolor\":\"rgb(36,36,36)\",\"ticklen\":8,\"ticks\":\"outside\",\"tickwidth\":2},\"colorscale\":[[0.0,\"rgb(2,4,25)\"],[0.06274509803921569,\"rgb(24,15,41)\"],[0.12549019607843137,\"rgb(47,23,57)\"],[0.18823529411764706,\"rgb(71,28,72)\"],[0.25098039215686274,\"rgb(97,30,82)\"],[0.3137254901960784,\"rgb(123,30,89)\"],[0.3764705882352941,\"rgb(150,27,91)\"],[0.4392156862745098,\"rgb(177,22,88)\"],[0.5019607843137255,\"rgb(203,26,79)\"],[0.5647058823529412,\"rgb(223,47,67)\"],[0.6274509803921569,\"rgb(236,76,61)\"],[0.6901960784313725,\"rgb(242,107,73)\"],[0.7529411764705882,\"rgb(244,135,95)\"],[0.8156862745098039,\"rgb(245,162,122)\"],[0.8784313725490196,\"rgb(246,188,153)\"],[0.9411764705882353,\"rgb(247,212,187)\"],[1.0,\"rgb(250,234,220)\"]],\"type\":\"heatmapgl\"}],\"heatmap\":[{\"colorbar\":{\"outlinewidth\":0,\"tickcolor\":\"rgb(36,36,36)\",\"ticklen\":8,\"ticks\":\"outside\",\"tickwidth\":2},\"colorscale\":[[0.0,\"rgb(2,4,25)\"],[0.06274509803921569,\"rgb(24,15,41)\"],[0.12549019607843137,\"rgb(47,23,57)\"],[0.18823529411764706,\"rgb(71,28,72)\"],[0.25098039215686274,\"rgb(97,30,82)\"],[0.3137254901960784,\"rgb(123,30,89)\"],[0.3764705882352941,\"rgb(150,27,91)\"],[0.4392156862745098,\"rgb(177,22,88)\"],[0.5019607843137255,\"rgb(203,26,79)\"],[0.5647058823529412,\"rgb(223,47,67)\"],[0.6274509803921569,\"rgb(236,76,61)\"],[0.6901960784313725,\"rgb(242,107,73)\"],[0.7529411764705882,\"rgb(244,135,95)\"],[0.8156862745098039,\"rgb(245,162,122)\"],[0.8784313725490196,\"rgb(246,188,153)\"],[0.9411764705882353,\"rgb(247,212,187)\"],[1.0,\"rgb(250,234,220)\"]],\"type\":\"heatmap\"}],\"histogram2dcontour\":[{\"colorbar\":{\"outlinewidth\":0,\"tickcolor\":\"rgb(36,36,36)\",\"ticklen\":8,\"ticks\":\"outside\",\"tickwidth\":2},\"colorscale\":[[0.0,\"rgb(2,4,25)\"],[0.06274509803921569,\"rgb(24,15,41)\"],[0.12549019607843137,\"rgb(47,23,57)\"],[0.18823529411764706,\"rgb(71,28,72)\"],[0.25098039215686274,\"rgb(97,30,82)\"],[0.3137254901960784,\"rgb(123,30,89)\"],[0.3764705882352941,\"rgb(150,27,91)\"],[0.4392156862745098,\"rgb(177,22,88)\"],[0.5019607843137255,\"rgb(203,26,79)\"],[0.5647058823529412,\"rgb(223,47,67)\"],[0.6274509803921569,\"rgb(236,76,61)\"],[0.6901960784313725,\"rgb(242,107,73)\"],[0.7529411764705882,\"rgb(244,135,95)\"],[0.8156862745098039,\"rgb(245,162,122)\"],[0.8784313725490196,\"rgb(246,188,153)\"],[0.9411764705882353,\"rgb(247,212,187)\"],[1.0,\"rgb(250,234,220)\"]],\"type\":\"histogram2dcontour\"}],\"histogram2d\":[{\"colorbar\":{\"outlinewidth\":0,\"tickcolor\":\"rgb(36,36,36)\",\"ticklen\":8,\"ticks\":\"outside\",\"tickwidth\":2},\"colorscale\":[[0.0,\"rgb(2,4,25)\"],[0.06274509803921569,\"rgb(24,15,41)\"],[0.12549019607843137,\"rgb(47,23,57)\"],[0.18823529411764706,\"rgb(71,28,72)\"],[0.25098039215686274,\"rgb(97,30,82)\"],[0.3137254901960784,\"rgb(123,30,89)\"],[0.3764705882352941,\"rgb(150,27,91)\"],[0.4392156862745098,\"rgb(177,22,88)\"],[0.5019607843137255,\"rgb(203,26,79)\"],[0.5647058823529412,\"rgb(223,47,67)\"],[0.6274509803921569,\"rgb(236,76,61)\"],[0.6901960784313725,\"rgb(242,107,73)\"],[0.7529411764705882,\"rgb(244,135,95)\"],[0.8156862745098039,\"rgb(245,162,122)\"],[0.8784313725490196,\"rgb(246,188,153)\"],[0.9411764705882353,\"rgb(247,212,187)\"],[1.0,\"rgb(250,234,220)\"]],\"type\":\"histogram2d\"}],\"histogram\":[{\"marker\":{\"pattern\":{\"fillmode\":\"overlay\",\"size\":10,\"solidity\":0.2}},\"type\":\"histogram\"}],\"mesh3d\":[{\"colorbar\":{\"outlinewidth\":0,\"tickcolor\":\"rgb(36,36,36)\",\"ticklen\":8,\"ticks\":\"outside\",\"tickwidth\":2},\"type\":\"mesh3d\"}],\"parcoords\":[{\"line\":{\"colorbar\":{\"outlinewidth\":0,\"tickcolor\":\"rgb(36,36,36)\",\"ticklen\":8,\"ticks\":\"outside\",\"tickwidth\":2}},\"type\":\"parcoords\"}],\"pie\":[{\"automargin\":true,\"type\":\"pie\"}],\"scatter3d\":[{\"line\":{\"colorbar\":{\"outlinewidth\":0,\"tickcolor\":\"rgb(36,36,36)\",\"ticklen\":8,\"ticks\":\"outside\",\"tickwidth\":2}},\"marker\":{\"colorbar\":{\"outlinewidth\":0,\"tickcolor\":\"rgb(36,36,36)\",\"ticklen\":8,\"ticks\":\"outside\",\"tickwidth\":2}},\"type\":\"scatter3d\"}],\"scattercarpet\":[{\"marker\":{\"colorbar\":{\"outlinewidth\":0,\"tickcolor\":\"rgb(36,36,36)\",\"ticklen\":8,\"ticks\":\"outside\",\"tickwidth\":2}},\"type\":\"scattercarpet\"}],\"scattergeo\":[{\"marker\":{\"colorbar\":{\"outlinewidth\":0,\"tickcolor\":\"rgb(36,36,36)\",\"ticklen\":8,\"ticks\":\"outside\",\"tickwidth\":2}},\"type\":\"scattergeo\"}],\"scattergl\":[{\"marker\":{\"colorbar\":{\"outlinewidth\":0,\"tickcolor\":\"rgb(36,36,36)\",\"ticklen\":8,\"ticks\":\"outside\",\"tickwidth\":2}},\"type\":\"scattergl\"}],\"scattermapbox\":[{\"marker\":{\"colorbar\":{\"outlinewidth\":0,\"tickcolor\":\"rgb(36,36,36)\",\"ticklen\":8,\"ticks\":\"outside\",\"tickwidth\":2}},\"type\":\"scattermapbox\"}],\"scatterpolargl\":[{\"marker\":{\"colorbar\":{\"outlinewidth\":0,\"tickcolor\":\"rgb(36,36,36)\",\"ticklen\":8,\"ticks\":\"outside\",\"tickwidth\":2}},\"type\":\"scatterpolargl\"}],\"scatterpolar\":[{\"marker\":{\"colorbar\":{\"outlinewidth\":0,\"tickcolor\":\"rgb(36,36,36)\",\"ticklen\":8,\"ticks\":\"outside\",\"tickwidth\":2}},\"type\":\"scatterpolar\"}],\"scatter\":[{\"marker\":{\"colorbar\":{\"outlinewidth\":0,\"tickcolor\":\"rgb(36,36,36)\",\"ticklen\":8,\"ticks\":\"outside\",\"tickwidth\":2}},\"type\":\"scatter\"}],\"scatterternary\":[{\"marker\":{\"colorbar\":{\"outlinewidth\":0,\"tickcolor\":\"rgb(36,36,36)\",\"ticklen\":8,\"ticks\":\"outside\",\"tickwidth\":2}},\"type\":\"scatterternary\"}],\"surface\":[{\"colorbar\":{\"outlinewidth\":0,\"tickcolor\":\"rgb(36,36,36)\",\"ticklen\":8,\"ticks\":\"outside\",\"tickwidth\":2},\"colorscale\":[[0.0,\"rgb(2,4,25)\"],[0.06274509803921569,\"rgb(24,15,41)\"],[0.12549019607843137,\"rgb(47,23,57)\"],[0.18823529411764706,\"rgb(71,28,72)\"],[0.25098039215686274,\"rgb(97,30,82)\"],[0.3137254901960784,\"rgb(123,30,89)\"],[0.3764705882352941,\"rgb(150,27,91)\"],[0.4392156862745098,\"rgb(177,22,88)\"],[0.5019607843137255,\"rgb(203,26,79)\"],[0.5647058823529412,\"rgb(223,47,67)\"],[0.6274509803921569,\"rgb(236,76,61)\"],[0.6901960784313725,\"rgb(242,107,73)\"],[0.7529411764705882,\"rgb(244,135,95)\"],[0.8156862745098039,\"rgb(245,162,122)\"],[0.8784313725490196,\"rgb(246,188,153)\"],[0.9411764705882353,\"rgb(247,212,187)\"],[1.0,\"rgb(250,234,220)\"]],\"type\":\"surface\"}],\"table\":[{\"cells\":{\"fill\":{\"color\":\"rgb(231,231,240)\"},\"line\":{\"color\":\"white\"}},\"header\":{\"fill\":{\"color\":\"rgb(183,183,191)\"},\"line\":{\"color\":\"white\"}},\"type\":\"table\"}]},\"layout\":{\"annotationdefaults\":{\"arrowcolor\":\"rgb(67,103,167)\"},\"autotypenumbers\":\"strict\",\"coloraxis\":{\"colorbar\":{\"outlinewidth\":0,\"tickcolor\":\"rgb(36,36,36)\",\"ticklen\":8,\"ticks\":\"outside\",\"tickwidth\":2}},\"colorscale\":{\"sequential\":[[0.0,\"rgb(2,4,25)\"],[0.06274509803921569,\"rgb(24,15,41)\"],[0.12549019607843137,\"rgb(47,23,57)\"],[0.18823529411764706,\"rgb(71,28,72)\"],[0.25098039215686274,\"rgb(97,30,82)\"],[0.3137254901960784,\"rgb(123,30,89)\"],[0.3764705882352941,\"rgb(150,27,91)\"],[0.4392156862745098,\"rgb(177,22,88)\"],[0.5019607843137255,\"rgb(203,26,79)\"],[0.5647058823529412,\"rgb(223,47,67)\"],[0.6274509803921569,\"rgb(236,76,61)\"],[0.6901960784313725,\"rgb(242,107,73)\"],[0.7529411764705882,\"rgb(244,135,95)\"],[0.8156862745098039,\"rgb(245,162,122)\"],[0.8784313725490196,\"rgb(246,188,153)\"],[0.9411764705882353,\"rgb(247,212,187)\"],[1.0,\"rgb(250,234,220)\"]],\"sequentialminus\":[[0.0,\"rgb(2,4,25)\"],[0.06274509803921569,\"rgb(24,15,41)\"],[0.12549019607843137,\"rgb(47,23,57)\"],[0.18823529411764706,\"rgb(71,28,72)\"],[0.25098039215686274,\"rgb(97,30,82)\"],[0.3137254901960784,\"rgb(123,30,89)\"],[0.3764705882352941,\"rgb(150,27,91)\"],[0.4392156862745098,\"rgb(177,22,88)\"],[0.5019607843137255,\"rgb(203,26,79)\"],[0.5647058823529412,\"rgb(223,47,67)\"],[0.6274509803921569,\"rgb(236,76,61)\"],[0.6901960784313725,\"rgb(242,107,73)\"],[0.7529411764705882,\"rgb(244,135,95)\"],[0.8156862745098039,\"rgb(245,162,122)\"],[0.8784313725490196,\"rgb(246,188,153)\"],[0.9411764705882353,\"rgb(247,212,187)\"],[1.0,\"rgb(250,234,220)\"]]},\"colorway\":[\"rgb(76,114,176)\",\"rgb(221,132,82)\",\"rgb(85,168,104)\",\"rgb(196,78,82)\",\"rgb(129,114,179)\",\"rgb(147,120,96)\",\"rgb(218,139,195)\",\"rgb(140,140,140)\",\"rgb(204,185,116)\",\"rgb(100,181,205)\"],\"font\":{\"color\":\"rgb(36,36,36)\"},\"geo\":{\"bgcolor\":\"white\",\"lakecolor\":\"white\",\"landcolor\":\"rgb(234,234,242)\",\"showlakes\":true,\"showland\":true,\"subunitcolor\":\"white\"},\"hoverlabel\":{\"align\":\"left\"},\"hovermode\":\"closest\",\"paper_bgcolor\":\"white\",\"plot_bgcolor\":\"rgb(234,234,242)\",\"polar\":{\"angularaxis\":{\"gridcolor\":\"white\",\"linecolor\":\"white\",\"showgrid\":true,\"ticks\":\"\"},\"bgcolor\":\"rgb(234,234,242)\",\"radialaxis\":{\"gridcolor\":\"white\",\"linecolor\":\"white\",\"showgrid\":true,\"ticks\":\"\"}},\"scene\":{\"xaxis\":{\"backgroundcolor\":\"rgb(234,234,242)\",\"gridcolor\":\"white\",\"gridwidth\":2,\"linecolor\":\"white\",\"showbackground\":true,\"showgrid\":true,\"ticks\":\"\",\"zerolinecolor\":\"white\"},\"yaxis\":{\"backgroundcolor\":\"rgb(234,234,242)\",\"gridcolor\":\"white\",\"gridwidth\":2,\"linecolor\":\"white\",\"showbackground\":true,\"showgrid\":true,\"ticks\":\"\",\"zerolinecolor\":\"white\"},\"zaxis\":{\"backgroundcolor\":\"rgb(234,234,242)\",\"gridcolor\":\"white\",\"gridwidth\":2,\"linecolor\":\"white\",\"showbackground\":true,\"showgrid\":true,\"ticks\":\"\",\"zerolinecolor\":\"white\"}},\"shapedefaults\":{\"fillcolor\":\"rgb(67,103,167)\",\"line\":{\"width\":0},\"opacity\":0.5},\"ternary\":{\"aaxis\":{\"gridcolor\":\"white\",\"linecolor\":\"white\",\"showgrid\":true,\"ticks\":\"\"},\"baxis\":{\"gridcolor\":\"white\",\"linecolor\":\"white\",\"showgrid\":true,\"ticks\":\"\"},\"bgcolor\":\"rgb(234,234,242)\",\"caxis\":{\"gridcolor\":\"white\",\"linecolor\":\"white\",\"showgrid\":true,\"ticks\":\"\"}},\"xaxis\":{\"automargin\":true,\"gridcolor\":\"white\",\"linecolor\":\"white\",\"showgrid\":true,\"ticks\":\"\",\"title\":{\"standoff\":15},\"zerolinecolor\":\"white\"},\"yaxis\":{\"automargin\":true,\"gridcolor\":\"white\",\"linecolor\":\"white\",\"showgrid\":true,\"ticks\":\"\",\"title\":{\"standoff\":15},\"zerolinecolor\":\"white\"}}},\"xaxis\":{\"anchor\":\"y\",\"domain\":[0.0,1.0],\"title\":{\"text\":\"position name\"},\"categoryorder\":\"array\",\"categoryarray\":[\"Store Associate\",\"Project Manager\",\"Graphic Designer\",\"Accountant\",\"Sales Manager\",\"Business Development Manager\",\"Account Manager\",\"Finance Manager\",\"Marketing Manager\",\"Sales Executive\",\"Operations Manager\",\"Senior React Developer  Fulltime Remote\",\"Sales Engineer\",\"Human Resources Manager\",\"Senior Accountant\",\"Digital Marketing Specialist\",\"Marketing Specialist\",\"Sales Specialist\",\"Store Manager\",\"Executive Secretary\"]},\"yaxis\":{\"anchor\":\"x\",\"domain\":[0.0,1.0],\"title\":{\"text\":\"number of position\"}},\"legend\":{\"title\":{\"text\":\"position name\"},\"tracegroupgap\":0},\"title\":{\"text\":\"<b> The Most 20 position Request from Companies in 2020\"},\"barmode\":\"relative\"},                        {\"responsive\": true}                    ).then(function(){\n",
       "                            \n",
       "var gd = document.getElementById('a33802b9-4f1c-4f67-b9f1-d30fa8ade25c');\n",
       "var x = new MutationObserver(function (mutations, observer) {{\n",
       "        var display = window.getComputedStyle(gd).display;\n",
       "        if (!display || display === 'none') {{\n",
       "            console.log([gd, 'removed!']);\n",
       "            Plotly.purge(gd);\n",
       "            observer.disconnect();\n",
       "        }}\n",
       "}});\n",
       "\n",
       "// Listen for the removal of the full notebook cells\n",
       "var notebookContainer = gd.closest('#notebook-container');\n",
       "if (notebookContainer) {{\n",
       "    x.observe(notebookContainer, {childList: true});\n",
       "}}\n",
       "\n",
       "// Listen for the clearing of the current output cell\n",
       "var outputEl = gd.closest('.output');\n",
       "if (outputEl) {{\n",
       "    x.observe(outputEl, {childList: true});\n",
       "}}\n",
       "\n",
       "                        })                };                });            </script>        </div>"
      ]
     },
     "metadata": {},
     "output_type": "display_data"
    }
   ],
   "source": [
    "industry=df['position'].value_counts().head(20)\n",
    "\n",
    "fig=px.bar(industry,x=industry.index,\n",
    "           y=industry.values,\n",
    "           color=industry.index,\n",
    "           text=industry.values,\n",
    "           labels={'index':'position name','y':'number of position','text':'count'},\n",
    "           template='seaborn',\n",
    "           title='<b> The Most 20 position Request from Companies in 2020')\n",
    "\n",
    "fig.show()"
   ]
  },
  {
   "cell_type": "markdown",
   "id": "940d557c",
   "metadata": {},
   "source": [
    "### 12th plot ||  Years of experience requierd in each position\n",
    "#### This plot gives insight into the years of experience required in random positions selected in the labor market during 2020."
   ]
  },
  {
   "cell_type": "code",
   "execution_count": 22,
   "id": "08221cce",
   "metadata": {},
   "outputs": [
    {
     "data": {
      "image/png": "[encoded data removed]",
      "text/plain": [
       "<Figure size 864x432 with 1 Axes>"
      ]
     },
     "metadata": {
      "needs_background": "light"
     },
     "output_type": "display_data"
    }
   ],
   "source": [
    "#total_position_each_job=highest_jobs.sort_values('year_of_ex',ascending=False)\n",
    "plt.figure(figsize=(12,6))\n",
    "axis1=sns.barplot(x=df['year_of_ex'].head(10), y=df['position'].head(10), data=df.head(10))\n",
    "plt.xlim(0,10)\n",
    "plt.title('Years of experience requierd in each position', weight='bold')\n",
    "plt.xlabel('years_of_experience', weight='bold')\n",
    "plt.ylabel('position', weight='bold');\n",
    "#plt.savefig('highest_Jobs.png')"
   ]
  },
  {
   "cell_type": "code",
   "execution_count": null,
   "id": "d40d4ec0",
   "metadata": {},
   "outputs": [],
   "source": []
  }
 ],
 "metadata": {
  "kernelspec": {
   "display_name": "Python 3 (ipykernel)",
   "language": "python",
   "name": "python3"
  },
  "language_info": {
   "codemirror_mode": {
    "name": "ipython",
    "version": 3
   },
   "file_extension": ".py",
   "mimetype": "text/x-python",
   "name": "python",
   "nbconvert_exporter": "python",
   "pygments_lexer": "ipython3",
   "version": "3.9.12"
  }
 },
 "nbformat": 4,
 "nbformat_minor": 5
}
