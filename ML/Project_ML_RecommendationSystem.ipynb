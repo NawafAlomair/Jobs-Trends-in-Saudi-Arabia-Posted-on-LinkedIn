{
 "cells": [
  {
   "cell_type": "markdown",
   "id": "6ec9a0ba",
   "metadata": {},
   "source": [
    "#  <b><span style=\"color:#14c8b3\"><center> Recommendation System STEP  </span></b> </center>\n",
    "\n",
    "\n",
    "   \n",
    "\n",
    "<span> <center><img src=\"https://miro.medium.com/max/640/1*D8qyeXxlbHFUlpZtfjvM7Q.png\" width=\"700\" /></span>"
   ]
  },
  {
   "cell_type": "markdown",
   "id": "8d42f3e1",
   "metadata": {},
   "source": [
    "### Importing Packages "
   ]
  },
  {
   "cell_type": "code",
   "execution_count": 1,
   "id": "8168fbcb",
   "metadata": {
    "execution": {
     "iopub.execute_input": "2022-11-19T10:00:46.933219Z",
     "iopub.status.busy": "2022-11-19T10:00:46.932047Z",
     "iopub.status.idle": "2022-11-19T10:00:47.162231Z",
     "shell.execute_reply": "2022-11-19T10:00:47.160705Z",
     "shell.execute_reply.started": "2022-11-19T10:00:46.933177Z"
    }
   },
   "outputs": [],
   "source": [
    "import pandas as pd\n",
    "import matplotlib.pyplot as plt\n",
    "import seaborn as sns\n",
    "import numpy as np\n",
    "import statsmodels.api as sm\n",
    "import statsmodels.formula.api as smf\n",
    "\n",
    "from sklearn.model_selection import train_test_split\n",
    "from sklearn.metrics import precision_score, recall_score, precision_recall_curve,f1_score, fbeta_score,accuracy_score\n",
    "\n",
    "# Feature Engineering\n",
    "from sklearn.preprocessing import OneHotEncoder\n",
    "from sklearn.preprocessing import LabelEncoder\n",
    "from sklearn.decomposition import PCA\n",
    "\n",
    "from sklearn import svm\n",
    "\n",
    "import xgboost as xgb\n",
    "from xgboost import XGBClassifier\n",
    "from sklearn.ensemble import RandomForestClassifier\n",
    "from sklearn.tree import DecisionTreeClassifier\n",
    "from sklearn.svm import SVC\n",
    "\n",
    "from sklearn.impute import SimpleImputer\n",
    "from sklearn.model_selection import KFold\n",
    "\n",
    "from sklearn.linear_model import LinearRegression\n",
    "from sklearn.linear_model import LogisticRegression\n",
    "from sklearn.metrics import mean_absolute_error\n",
    "from sklearn.metrics import mean_squared_error\n",
    "from sklearn.preprocessing import StandardScaler\n",
    "from sklearn import metrics\n",
    "from sklearn.svm import SVR\n",
    "\n",
    "\n",
    "from sklearn.tree import DecisionTreeRegressor \n",
    "from sklearn.ensemble import RandomForestRegressor\n",
    "from sklearn.neighbors import KNeighborsRegressor\n",
    "\n",
    "from sklearn.model_selection import GridSearchCV\n",
    "from sklearn.pipeline import make_pipeline\n",
    "\n",
    "\n",
    "from sklearn.metrics import plot_confusion_matrix\n",
    "from sklearn.metrics import classification_report\n",
    "from sklearn import tree\n",
    "\n",
    "from sklearn.ensemble import StackingClassifier\n",
    "\n",
    "from imblearn.over_sampling import SMOTE\n",
    "from imblearn.over_sampling import RandomOverSampler\n",
    "from imblearn.under_sampling import RandomUnderSampler \n",
    "from sklearn.metrics import fbeta_score, make_scorer\n",
    "from sklearn.model_selection import cross_validate\n",
    "\n",
    "from xgboost import XGBClassifier\n",
    "from xgboost import XGBRegressor\n",
    "# Dataprep\n",
    "# Modeling \n",
    "from sklearn.preprocessing import StandardScaler\n",
    "from sklearn.model_selection import cross_val_score \n",
    "from sklearn.model_selection import GridSearchCV\n",
    "from sklearn.tree import DecisionTreeClassifier\n",
    "from sklearn.neighbors import KNeighborsClassifier\n",
    "from sklearn.ensemble import RandomForestClassifier,VotingClassifier\n",
    "from imblearn.combine import SMOTEENN #resampling\n",
    "from sklearn import datasets, linear_model, metrics\n",
    "from sklearn.metrics import accuracy_score, confusion_matrix, classification_report\n",
    "from sklearn.preprocessing import StandardScaler\n",
    "#Import pipeline to allow you to do multiple steps at once\n",
    "from imblearn.pipeline import Pipeline, make_pipeline\n",
    "\n",
    "# Plot style\n",
    "plt.style.use(\"seaborn-whitegrid\")\n",
    "\n",
    "import warnings\n",
    "warnings.filterwarnings('ignore')"
   ]
  },
  {
   "cell_type": "markdown",
   "id": "bb1811a9",
   "metadata": {},
   "source": [
    "\n",
    "***\n",
    "\n",
    "## Loading Dataset\n",
    "\n",
    "\n",
    "***"
   ]
  },
  {
   "cell_type": "code",
   "execution_count": 2,
   "id": "45e0974e",
   "metadata": {
    "execution": {
     "iopub.execute_input": "2022-11-19T10:00:56.255652Z",
     "iopub.status.busy": "2022-11-19T10:00:56.254056Z",
     "iopub.status.idle": "2022-11-19T10:00:58.780603Z",
     "shell.execute_reply": "2022-11-19T10:00:58.779861Z",
     "shell.execute_reply.started": "2022-11-19T10:00:56.255512Z"
    }
   },
   "outputs": [],
   "source": [
    "#Reading the file\n",
    "df = pd.read_csv(\"data_jobs1.csv\")"
   ]
  },
  {
   "cell_type": "code",
   "execution_count": 3,
   "id": "921125b6",
   "metadata": {
    "execution": {
     "iopub.execute_input": "2022-11-19T10:03:11.807339Z",
     "iopub.status.busy": "2022-11-19T10:03:11.806955Z",
     "iopub.status.idle": "2022-11-19T10:03:11.832421Z",
     "shell.execute_reply": "2022-11-19T10:03:11.831178Z",
     "shell.execute_reply.started": "2022-11-19T10:03:11.807310Z"
    }
   },
   "outputs": [
    {
     "data": {
      "text/html": [
       "<div>\n",
       "<style scoped>\n",
       "    .dataframe tbody tr th:only-of-type {\n",
       "        vertical-align: middle;\n",
       "    }\n",
       "\n",
       "    .dataframe tbody tr th {\n",
       "        vertical-align: top;\n",
       "    }\n",
       "\n",
       "    .dataframe thead th {\n",
       "        text-align: right;\n",
       "    }\n",
       "</style>\n",
       "<table border=\"1\" class=\"dataframe\">\n",
       "  <thead>\n",
       "    <tr style=\"text-align: right;\">\n",
       "      <th></th>\n",
       "      <th>Unnamed: 0</th>\n",
       "      <th>position</th>\n",
       "      <th>company</th>\n",
       "      <th>level</th>\n",
       "      <th>job_functions</th>\n",
       "      <th>industries</th>\n",
       "      <th>description</th>\n",
       "      <th>day</th>\n",
       "      <th>month</th>\n",
       "      <th>quarter</th>\n",
       "      <th>city</th>\n",
       "      <th>Regions</th>\n",
       "      <th>industry_cat</th>\n",
       "      <th>TotalPositions</th>\n",
       "      <th>PositionsByMonth</th>\n",
       "      <th>year_of_ex</th>\n",
       "      <th>degrees</th>\n",
       "    </tr>\n",
       "  </thead>\n",
       "  <tbody>\n",
       "    <tr>\n",
       "      <th>0</th>\n",
       "      <td>0</td>\n",
       "      <td>Employee Engagement Specialist</td>\n",
       "      <td>PepsiCo</td>\n",
       "      <td>MidSenior level</td>\n",
       "      <td>Human Resources</td>\n",
       "      <td>Consumer Goods Food  Beverages</td>\n",
       "      <td>auto req id  199735brjob descriptionpepsico sa...</td>\n",
       "      <td>6</td>\n",
       "      <td>1</td>\n",
       "      <td>1</td>\n",
       "      <td>Riyadh</td>\n",
       "      <td>Riyadh</td>\n",
       "      <td>Consumer Goods</td>\n",
       "      <td>219</td>\n",
       "      <td>2339</td>\n",
       "      <td>3</td>\n",
       "      <td>bachelor</td>\n",
       "    </tr>\n",
       "    <tr>\n",
       "      <th>1</th>\n",
       "      <td>1</td>\n",
       "      <td>Account Manager GPS  Riyadh</td>\n",
       "      <td>EY</td>\n",
       "      <td>Not Applicable</td>\n",
       "      <td>Sales Business Development</td>\n",
       "      <td>Accounting Financial Services</td>\n",
       "      <td>in a business where are our people are our pro...</td>\n",
       "      <td>6</td>\n",
       "      <td>1</td>\n",
       "      <td>1</td>\n",
       "      <td>Riyadh</td>\n",
       "      <td>Riyadh</td>\n",
       "      <td>Accounting</td>\n",
       "      <td>101</td>\n",
       "      <td>2339</td>\n",
       "      <td>7</td>\n",
       "      <td>bachelor</td>\n",
       "    </tr>\n",
       "    <tr>\n",
       "      <th>2</th>\n",
       "      <td>2</td>\n",
       "      <td>Business Analyst</td>\n",
       "      <td>تطوير تقنيات التعليم  Tatweer Educational Tech...</td>\n",
       "      <td>MidSenior level</td>\n",
       "      <td>Business Development Sales</td>\n",
       "      <td>Information Technology and Services</td>\n",
       "      <td>the ideal candidate will design  organize  and...</td>\n",
       "      <td>6</td>\n",
       "      <td>1</td>\n",
       "      <td>1</td>\n",
       "      <td>Riyadh</td>\n",
       "      <td>Riyadh</td>\n",
       "      <td>Information Technology and Services</td>\n",
       "      <td>16</td>\n",
       "      <td>2339</td>\n",
       "      <td>5</td>\n",
       "      <td>bachelor</td>\n",
       "    </tr>\n",
       "    <tr>\n",
       "      <th>3</th>\n",
       "      <td>3</td>\n",
       "      <td>Talent Acquisition Advisor</td>\n",
       "      <td>WSP in the Middle East</td>\n",
       "      <td>Associate</td>\n",
       "      <td>Finance</td>\n",
       "      <td>Construction</td>\n",
       "      <td>think bigger scale  think higher profile  thin...</td>\n",
       "      <td>6</td>\n",
       "      <td>1</td>\n",
       "      <td>1</td>\n",
       "      <td>Riyadh</td>\n",
       "      <td>Riyadh</td>\n",
       "      <td>Construction</td>\n",
       "      <td>43</td>\n",
       "      <td>2339</td>\n",
       "      <td>5</td>\n",
       "      <td>bachelor</td>\n",
       "    </tr>\n",
       "    <tr>\n",
       "      <th>4</th>\n",
       "      <td>4</td>\n",
       "      <td>Organisational Design Specialist</td>\n",
       "      <td>Aventus Global Talent</td>\n",
       "      <td>MidSenior level</td>\n",
       "      <td>Human Resources Design</td>\n",
       "      <td>Financial Services Banking</td>\n",
       "      <td>organisational design specialist  eastern regi...</td>\n",
       "      <td>6</td>\n",
       "      <td>1</td>\n",
       "      <td>1</td>\n",
       "      <td>Remote</td>\n",
       "      <td>Remote</td>\n",
       "      <td>Financial Services</td>\n",
       "      <td>28</td>\n",
       "      <td>2339</td>\n",
       "      <td>5</td>\n",
       "      <td>bachelor</td>\n",
       "    </tr>\n",
       "  </tbody>\n",
       "</table>\n",
       "</div>"
      ],
      "text/plain": [
       "   Unnamed: 0                          position  \\\n",
       "0           0    Employee Engagement Specialist   \n",
       "1           1       Account Manager GPS  Riyadh   \n",
       "2           2                  Business Analyst   \n",
       "3           3        Talent Acquisition Advisor   \n",
       "4           4  Organisational Design Specialist   \n",
       "\n",
       "                                             company            level  \\\n",
       "0                                            PepsiCo  MidSenior level   \n",
       "1                                                 EY   Not Applicable   \n",
       "2  تطوير تقنيات التعليم  Tatweer Educational Tech...  MidSenior level   \n",
       "3                             WSP in the Middle East        Associate   \n",
       "4                              Aventus Global Talent  MidSenior level   \n",
       "\n",
       "                job_functions                           industries  \\\n",
       "0             Human Resources       Consumer Goods Food  Beverages   \n",
       "1  Sales Business Development        Accounting Financial Services   \n",
       "2  Business Development Sales  Information Technology and Services   \n",
       "3                     Finance                         Construction   \n",
       "4      Human Resources Design           Financial Services Banking   \n",
       "\n",
       "                                         description  day  month  quarter  \\\n",
       "0  auto req id  199735brjob descriptionpepsico sa...    6      1        1   \n",
       "1  in a business where are our people are our pro...    6      1        1   \n",
       "2  the ideal candidate will design  organize  and...    6      1        1   \n",
       "3  think bigger scale  think higher profile  thin...    6      1        1   \n",
       "4  organisational design specialist  eastern regi...    6      1        1   \n",
       "\n",
       "     city Regions                         industry_cat  TotalPositions  \\\n",
       "0  Riyadh  Riyadh                       Consumer Goods             219   \n",
       "1  Riyadh  Riyadh                           Accounting             101   \n",
       "2  Riyadh  Riyadh  Information Technology and Services              16   \n",
       "3  Riyadh  Riyadh                         Construction              43   \n",
       "4  Remote  Remote                   Financial Services              28   \n",
       "\n",
       "   PositionsByMonth  year_of_ex   degrees  \n",
       "0              2339           3  bachelor  \n",
       "1              2339           7  bachelor  \n",
       "2              2339           5  bachelor  \n",
       "3              2339           5  bachelor  \n",
       "4              2339           5  bachelor  "
      ]
     },
     "execution_count": 3,
     "metadata": {},
     "output_type": "execute_result"
    }
   ],
   "source": [
    "df.head()\n"
   ]
  },
  {
   "cell_type": "code",
   "execution_count": 4,
   "id": "12fa9b1d",
   "metadata": {
    "execution": {
     "iopub.execute_input": "2022-11-19T10:03:13.726275Z",
     "iopub.status.busy": "2022-11-19T10:03:13.725879Z",
     "iopub.status.idle": "2022-11-19T10:03:13.734641Z",
     "shell.execute_reply": "2022-11-19T10:03:13.732820Z",
     "shell.execute_reply.started": "2022-11-19T10:03:13.726225Z"
    }
   },
   "outputs": [
    {
     "data": {
      "text/plain": [
       "Index(['Unnamed: 0', 'position', 'company', 'level', 'job_functions',\n",
       "       'industries', 'description', 'day', 'month', 'quarter', 'city',\n",
       "       'Regions', 'industry_cat', 'TotalPositions', 'PositionsByMonth',\n",
       "       'year_of_ex', 'degrees'],\n",
       "      dtype='object')"
      ]
     },
     "execution_count": 4,
     "metadata": {},
     "output_type": "execute_result"
    }
   ],
   "source": [
    "#data.column method returns an array of columns list. \n",
    "df.columns"
   ]
  },
  {
   "cell_type": "code",
   "execution_count": 5,
   "id": "ee73ff67",
   "metadata": {
    "execution": {
     "iopub.execute_input": "2022-11-19T10:03:14.246334Z",
     "iopub.status.busy": "2022-11-19T10:03:14.245941Z",
     "iopub.status.idle": "2022-11-19T10:03:14.253580Z",
     "shell.execute_reply": "2022-11-19T10:03:14.252165Z",
     "shell.execute_reply.started": "2022-11-19T10:03:14.246302Z"
    }
   },
   "outputs": [
    {
     "data": {
      "text/plain": [
       "(40500, 17)"
      ]
     },
     "execution_count": 5,
     "metadata": {},
     "output_type": "execute_result"
    }
   ],
   "source": [
    "#dimensions of a given DataFrame.\n",
    "df.shape"
   ]
  },
  {
   "cell_type": "code",
   "execution_count": 6,
   "id": "f60b6b98",
   "metadata": {
    "execution": {
     "iopub.execute_input": "2022-11-19T10:03:14.517864Z",
     "iopub.status.busy": "2022-11-19T10:03:14.516825Z",
     "iopub.status.idle": "2022-11-19T10:03:14.554498Z",
     "shell.execute_reply": "2022-11-19T10:03:14.552946Z",
     "shell.execute_reply.started": "2022-11-19T10:03:14.517825Z"
    }
   },
   "outputs": [
    {
     "data": {
      "text/html": [
       "<div>\n",
       "<style scoped>\n",
       "    .dataframe tbody tr th:only-of-type {\n",
       "        vertical-align: middle;\n",
       "    }\n",
       "\n",
       "    .dataframe tbody tr th {\n",
       "        vertical-align: top;\n",
       "    }\n",
       "\n",
       "    .dataframe thead th {\n",
       "        text-align: right;\n",
       "    }\n",
       "</style>\n",
       "<table border=\"1\" class=\"dataframe\">\n",
       "  <thead>\n",
       "    <tr style=\"text-align: right;\">\n",
       "      <th></th>\n",
       "      <th>Unnamed: 0</th>\n",
       "      <th>day</th>\n",
       "      <th>month</th>\n",
       "      <th>quarter</th>\n",
       "      <th>TotalPositions</th>\n",
       "      <th>PositionsByMonth</th>\n",
       "      <th>year_of_ex</th>\n",
       "    </tr>\n",
       "  </thead>\n",
       "  <tbody>\n",
       "    <tr>\n",
       "      <th>count</th>\n",
       "      <td>40500.000000</td>\n",
       "      <td>40500.000000</td>\n",
       "      <td>40500.000000</td>\n",
       "      <td>40500.000000</td>\n",
       "      <td>40500.000000</td>\n",
       "      <td>40500.000000</td>\n",
       "      <td>40500.000000</td>\n",
       "    </tr>\n",
       "    <tr>\n",
       "      <th>mean</th>\n",
       "      <td>20249.500000</td>\n",
       "      <td>16.501852</td>\n",
       "      <td>8.114025</td>\n",
       "      <td>2.991383</td>\n",
       "      <td>166.897333</td>\n",
       "      <td>4459.400840</td>\n",
       "      <td>3.162691</td>\n",
       "    </tr>\n",
       "    <tr>\n",
       "      <th>std</th>\n",
       "      <td>11691.487288</td>\n",
       "      <td>8.712515</td>\n",
       "      <td>3.410742</td>\n",
       "      <td>1.094917</td>\n",
       "      <td>284.505201</td>\n",
       "      <td>2075.751616</td>\n",
       "      <td>1.771476</td>\n",
       "    </tr>\n",
       "    <tr>\n",
       "      <th>min</th>\n",
       "      <td>0.000000</td>\n",
       "      <td>1.000000</td>\n",
       "      <td>1.000000</td>\n",
       "      <td>1.000000</td>\n",
       "      <td>1.000000</td>\n",
       "      <td>2160.000000</td>\n",
       "      <td>0.000000</td>\n",
       "    </tr>\n",
       "    <tr>\n",
       "      <th>25%</th>\n",
       "      <td>10124.750000</td>\n",
       "      <td>9.000000</td>\n",
       "      <td>5.000000</td>\n",
       "      <td>2.000000</td>\n",
       "      <td>9.000000</td>\n",
       "      <td>2531.000000</td>\n",
       "      <td>3.000000</td>\n",
       "    </tr>\n",
       "    <tr>\n",
       "      <th>50%</th>\n",
       "      <td>20249.500000</td>\n",
       "      <td>17.000000</td>\n",
       "      <td>9.000000</td>\n",
       "      <td>3.000000</td>\n",
       "      <td>40.000000</td>\n",
       "      <td>4031.000000</td>\n",
       "      <td>3.000000</td>\n",
       "    </tr>\n",
       "    <tr>\n",
       "      <th>75%</th>\n",
       "      <td>30374.250000</td>\n",
       "      <td>24.000000</td>\n",
       "      <td>11.000000</td>\n",
       "      <td>4.000000</td>\n",
       "      <td>172.000000</td>\n",
       "      <td>6071.000000</td>\n",
       "      <td>3.000000</td>\n",
       "    </tr>\n",
       "    <tr>\n",
       "      <th>max</th>\n",
       "      <td>40499.000000</td>\n",
       "      <td>31.000000</td>\n",
       "      <td>12.000000</td>\n",
       "      <td>4.000000</td>\n",
       "      <td>1266.000000</td>\n",
       "      <td>7809.000000</td>\n",
       "      <td>9.000000</td>\n",
       "    </tr>\n",
       "  </tbody>\n",
       "</table>\n",
       "</div>"
      ],
      "text/plain": [
       "         Unnamed: 0           day         month       quarter  TotalPositions  \\\n",
       "count  40500.000000  40500.000000  40500.000000  40500.000000    40500.000000   \n",
       "mean   20249.500000     16.501852      8.114025      2.991383      166.897333   \n",
       "std    11691.487288      8.712515      3.410742      1.094917      284.505201   \n",
       "min        0.000000      1.000000      1.000000      1.000000        1.000000   \n",
       "25%    10124.750000      9.000000      5.000000      2.000000        9.000000   \n",
       "50%    20249.500000     17.000000      9.000000      3.000000       40.000000   \n",
       "75%    30374.250000     24.000000     11.000000      4.000000      172.000000   \n",
       "max    40499.000000     31.000000     12.000000      4.000000     1266.000000   \n",
       "\n",
       "       PositionsByMonth    year_of_ex  \n",
       "count      40500.000000  40500.000000  \n",
       "mean        4459.400840      3.162691  \n",
       "std         2075.751616      1.771476  \n",
       "min         2160.000000      0.000000  \n",
       "25%         2531.000000      3.000000  \n",
       "50%         4031.000000      3.000000  \n",
       "75%         6071.000000      3.000000  \n",
       "max         7809.000000      9.000000  "
      ]
     },
     "execution_count": 6,
     "metadata": {},
     "output_type": "execute_result"
    }
   ],
   "source": [
    "df.describe()"
   ]
  },
  {
   "cell_type": "code",
   "execution_count": 7,
   "id": "697abb95",
   "metadata": {
    "execution": {
     "iopub.execute_input": "2022-11-19T10:03:14.757614Z",
     "iopub.status.busy": "2022-11-19T10:03:14.756213Z",
     "iopub.status.idle": "2022-11-19T10:03:14.767240Z",
     "shell.execute_reply": "2022-11-19T10:03:14.765781Z",
     "shell.execute_reply.started": "2022-11-19T10:03:14.757502Z"
    }
   },
   "outputs": [],
   "source": [
    "#Drop Unnamed: 0 column\n",
    "df= df.drop(['Unnamed: 0'], axis=1)"
   ]
  },
  {
   "cell_type": "code",
   "execution_count": 8,
   "id": "4999cb0a",
   "metadata": {
    "execution": {
     "iopub.execute_input": "2022-11-19T10:03:15.046038Z",
     "iopub.status.busy": "2022-11-19T10:03:15.045639Z",
     "iopub.status.idle": "2022-11-19T10:03:15.080282Z",
     "shell.execute_reply": "2022-11-19T10:03:15.079357Z",
     "shell.execute_reply.started": "2022-11-19T10:03:15.046006Z"
    }
   },
   "outputs": [
    {
     "name": "stdout",
     "output_type": "stream",
     "text": [
      "<class 'pandas.core.frame.DataFrame'>\n",
      "RangeIndex: 40500 entries, 0 to 40499\n",
      "Data columns (total 16 columns):\n",
      " #   Column            Non-Null Count  Dtype \n",
      "---  ------            --------------  ----- \n",
      " 0   position          40500 non-null  object\n",
      " 1   company           40498 non-null  object\n",
      " 2   level             40500 non-null  object\n",
      " 3   job_functions     40500 non-null  object\n",
      " 4   industries        40500 non-null  object\n",
      " 5   description       40500 non-null  object\n",
      " 6   day               40500 non-null  int64 \n",
      " 7   month             40500 non-null  int64 \n",
      " 8   quarter           40500 non-null  int64 \n",
      " 9   city              40500 non-null  object\n",
      " 10  Regions           40500 non-null  object\n",
      " 11  industry_cat      40500 non-null  object\n",
      " 12  TotalPositions    40500 non-null  int64 \n",
      " 13  PositionsByMonth  40500 non-null  int64 \n",
      " 14  year_of_ex        40500 non-null  int64 \n",
      " 15  degrees           40500 non-null  object\n",
      "dtypes: int64(6), object(10)\n",
      "memory usage: 4.9+ MB\n"
     ]
    }
   ],
   "source": [
    "df.info()"
   ]
  },
  {
   "cell_type": "code",
   "execution_count": 9,
   "id": "20cbc3fb",
   "metadata": {
    "execution": {
     "iopub.execute_input": "2022-11-19T10:03:15.197381Z",
     "iopub.status.busy": "2022-11-19T10:03:15.196269Z",
     "iopub.status.idle": "2022-11-19T10:03:15.226521Z",
     "shell.execute_reply": "2022-11-19T10:03:15.225100Z",
     "shell.execute_reply.started": "2022-11-19T10:03:15.197322Z"
    }
   },
   "outputs": [
    {
     "data": {
      "text/plain": [
       "position            0\n",
       "company             2\n",
       "level               0\n",
       "job_functions       0\n",
       "industries          0\n",
       "description         0\n",
       "day                 0\n",
       "month               0\n",
       "quarter             0\n",
       "city                0\n",
       "Regions             0\n",
       "industry_cat        0\n",
       "TotalPositions      0\n",
       "PositionsByMonth    0\n",
       "year_of_ex          0\n",
       "degrees             0\n",
       "dtype: int64"
      ]
     },
     "execution_count": 9,
     "metadata": {},
     "output_type": "execute_result"
    }
   ],
   "source": [
    "df.isna().sum()"
   ]
  },
  {
   "cell_type": "code",
   "execution_count": 10,
   "id": "2b920047",
   "metadata": {
    "execution": {
     "iopub.execute_input": "2022-11-19T10:03:15.486529Z",
     "iopub.status.busy": "2022-11-19T10:03:15.486051Z",
     "iopub.status.idle": "2022-11-19T10:03:15.498878Z",
     "shell.execute_reply": "2022-11-19T10:03:15.496956Z",
     "shell.execute_reply.started": "2022-11-19T10:03:15.486488Z"
    }
   },
   "outputs": [
    {
     "data": {
      "text/plain": [
       "bachelor     33879\n",
       "master        3924\n",
       "diploma       2639\n",
       "Doctorate       58\n",
       "Name: degrees, dtype: int64"
      ]
     },
     "execution_count": 10,
     "metadata": {},
     "output_type": "execute_result"
    }
   ],
   "source": [
    "df.degrees.value_counts()"
   ]
  },
  {
   "cell_type": "code",
   "execution_count": 11,
   "id": "7382e73f",
   "metadata": {
    "execution": {
     "iopub.execute_input": "2022-11-19T10:03:16.037517Z",
     "iopub.status.busy": "2022-11-19T10:03:16.036882Z",
     "iopub.status.idle": "2022-11-19T10:03:16.054693Z",
     "shell.execute_reply": "2022-11-19T10:03:16.053749Z",
     "shell.execute_reply.started": "2022-11-19T10:03:16.037478Z"
    }
   },
   "outputs": [
    {
     "data": {
      "text/html": [
       "<div>\n",
       "<style scoped>\n",
       "    .dataframe tbody tr th:only-of-type {\n",
       "        vertical-align: middle;\n",
       "    }\n",
       "\n",
       "    .dataframe tbody tr th {\n",
       "        vertical-align: top;\n",
       "    }\n",
       "\n",
       "    .dataframe thead th {\n",
       "        text-align: right;\n",
       "    }\n",
       "</style>\n",
       "<table border=\"1\" class=\"dataframe\">\n",
       "  <thead>\n",
       "    <tr style=\"text-align: right;\">\n",
       "      <th></th>\n",
       "      <th>position</th>\n",
       "      <th>company</th>\n",
       "      <th>level</th>\n",
       "      <th>job_functions</th>\n",
       "      <th>industries</th>\n",
       "      <th>description</th>\n",
       "      <th>day</th>\n",
       "      <th>month</th>\n",
       "      <th>quarter</th>\n",
       "      <th>city</th>\n",
       "      <th>Regions</th>\n",
       "      <th>industry_cat</th>\n",
       "      <th>TotalPositions</th>\n",
       "      <th>PositionsByMonth</th>\n",
       "      <th>year_of_ex</th>\n",
       "      <th>degrees</th>\n",
       "    </tr>\n",
       "  </thead>\n",
       "  <tbody>\n",
       "    <tr>\n",
       "      <th>0</th>\n",
       "      <td>Employee Engagement Specialist</td>\n",
       "      <td>PepsiCo</td>\n",
       "      <td>MidSenior level</td>\n",
       "      <td>Human Resources</td>\n",
       "      <td>Consumer Goods Food  Beverages</td>\n",
       "      <td>auto req id  199735brjob descriptionpepsico sa...</td>\n",
       "      <td>6</td>\n",
       "      <td>1</td>\n",
       "      <td>1</td>\n",
       "      <td>Riyadh</td>\n",
       "      <td>Riyadh</td>\n",
       "      <td>Consumer Goods</td>\n",
       "      <td>219</td>\n",
       "      <td>2339</td>\n",
       "      <td>3</td>\n",
       "      <td>bachelor</td>\n",
       "    </tr>\n",
       "    <tr>\n",
       "      <th>1</th>\n",
       "      <td>Account Manager GPS  Riyadh</td>\n",
       "      <td>EY</td>\n",
       "      <td>Not Applicable</td>\n",
       "      <td>Sales Business Development</td>\n",
       "      <td>Accounting Financial Services</td>\n",
       "      <td>in a business where are our people are our pro...</td>\n",
       "      <td>6</td>\n",
       "      <td>1</td>\n",
       "      <td>1</td>\n",
       "      <td>Riyadh</td>\n",
       "      <td>Riyadh</td>\n",
       "      <td>Accounting</td>\n",
       "      <td>101</td>\n",
       "      <td>2339</td>\n",
       "      <td>7</td>\n",
       "      <td>bachelor</td>\n",
       "    </tr>\n",
       "    <tr>\n",
       "      <th>2</th>\n",
       "      <td>Business Analyst</td>\n",
       "      <td>تطوير تقنيات التعليم  Tatweer Educational Tech...</td>\n",
       "      <td>MidSenior level</td>\n",
       "      <td>Business Development Sales</td>\n",
       "      <td>Information Technology and Services</td>\n",
       "      <td>the ideal candidate will design  organize  and...</td>\n",
       "      <td>6</td>\n",
       "      <td>1</td>\n",
       "      <td>1</td>\n",
       "      <td>Riyadh</td>\n",
       "      <td>Riyadh</td>\n",
       "      <td>Information Technology and Services</td>\n",
       "      <td>16</td>\n",
       "      <td>2339</td>\n",
       "      <td>5</td>\n",
       "      <td>bachelor</td>\n",
       "    </tr>\n",
       "    <tr>\n",
       "      <th>3</th>\n",
       "      <td>Talent Acquisition Advisor</td>\n",
       "      <td>WSP in the Middle East</td>\n",
       "      <td>Associate</td>\n",
       "      <td>Finance</td>\n",
       "      <td>Construction</td>\n",
       "      <td>think bigger scale  think higher profile  thin...</td>\n",
       "      <td>6</td>\n",
       "      <td>1</td>\n",
       "      <td>1</td>\n",
       "      <td>Riyadh</td>\n",
       "      <td>Riyadh</td>\n",
       "      <td>Construction</td>\n",
       "      <td>43</td>\n",
       "      <td>2339</td>\n",
       "      <td>5</td>\n",
       "      <td>bachelor</td>\n",
       "    </tr>\n",
       "    <tr>\n",
       "      <th>4</th>\n",
       "      <td>Organisational Design Specialist</td>\n",
       "      <td>Aventus Global Talent</td>\n",
       "      <td>MidSenior level</td>\n",
       "      <td>Human Resources Design</td>\n",
       "      <td>Financial Services Banking</td>\n",
       "      <td>organisational design specialist  eastern regi...</td>\n",
       "      <td>6</td>\n",
       "      <td>1</td>\n",
       "      <td>1</td>\n",
       "      <td>Remote</td>\n",
       "      <td>Remote</td>\n",
       "      <td>Financial Services</td>\n",
       "      <td>28</td>\n",
       "      <td>2339</td>\n",
       "      <td>5</td>\n",
       "      <td>bachelor</td>\n",
       "    </tr>\n",
       "  </tbody>\n",
       "</table>\n",
       "</div>"
      ],
      "text/plain": [
       "                           position  \\\n",
       "0    Employee Engagement Specialist   \n",
       "1       Account Manager GPS  Riyadh   \n",
       "2                  Business Analyst   \n",
       "3        Talent Acquisition Advisor   \n",
       "4  Organisational Design Specialist   \n",
       "\n",
       "                                             company            level  \\\n",
       "0                                            PepsiCo  MidSenior level   \n",
       "1                                                 EY   Not Applicable   \n",
       "2  تطوير تقنيات التعليم  Tatweer Educational Tech...  MidSenior level   \n",
       "3                             WSP in the Middle East        Associate   \n",
       "4                              Aventus Global Talent  MidSenior level   \n",
       "\n",
       "                job_functions                           industries  \\\n",
       "0             Human Resources       Consumer Goods Food  Beverages   \n",
       "1  Sales Business Development        Accounting Financial Services   \n",
       "2  Business Development Sales  Information Technology and Services   \n",
       "3                     Finance                         Construction   \n",
       "4      Human Resources Design           Financial Services Banking   \n",
       "\n",
       "                                         description  day  month  quarter  \\\n",
       "0  auto req id  199735brjob descriptionpepsico sa...    6      1        1   \n",
       "1  in a business where are our people are our pro...    6      1        1   \n",
       "2  the ideal candidate will design  organize  and...    6      1        1   \n",
       "3  think bigger scale  think higher profile  thin...    6      1        1   \n",
       "4  organisational design specialist  eastern regi...    6      1        1   \n",
       "\n",
       "     city Regions                         industry_cat  TotalPositions  \\\n",
       "0  Riyadh  Riyadh                       Consumer Goods             219   \n",
       "1  Riyadh  Riyadh                           Accounting             101   \n",
       "2  Riyadh  Riyadh  Information Technology and Services              16   \n",
       "3  Riyadh  Riyadh                         Construction              43   \n",
       "4  Remote  Remote                   Financial Services              28   \n",
       "\n",
       "   PositionsByMonth  year_of_ex   degrees  \n",
       "0              2339           3  bachelor  \n",
       "1              2339           7  bachelor  \n",
       "2              2339           5  bachelor  \n",
       "3              2339           5  bachelor  \n",
       "4              2339           5  bachelor  "
      ]
     },
     "execution_count": 11,
     "metadata": {},
     "output_type": "execute_result"
    }
   ],
   "source": [
    "df.head()"
   ]
  },
  {
   "cell_type": "code",
   "execution_count": 12,
   "id": "ece77f4d",
   "metadata": {
    "execution": {
     "iopub.execute_input": "2022-11-19T10:03:16.277109Z",
     "iopub.status.busy": "2022-11-19T10:03:16.276610Z",
     "iopub.status.idle": "2022-11-19T10:03:16.283492Z",
     "shell.execute_reply": "2022-11-19T10:03:16.282580Z",
     "shell.execute_reply.started": "2022-11-19T10:03:16.277080Z"
    }
   },
   "outputs": [
    {
     "data": {
      "text/plain": [
       "Index(['position', 'company', 'level', 'job_functions', 'industries',\n",
       "       'description', 'day', 'month', 'quarter', 'city', 'Regions',\n",
       "       'industry_cat', 'TotalPositions', 'PositionsByMonth', 'year_of_ex',\n",
       "       'degrees'],\n",
       "      dtype='object')"
      ]
     },
     "execution_count": 12,
     "metadata": {},
     "output_type": "execute_result"
    }
   ],
   "source": [
    "df.columns"
   ]
  },
  {
   "cell_type": "code",
   "execution_count": 13,
   "id": "ac1cd6ae",
   "metadata": {
    "execution": {
     "iopub.execute_input": "2022-11-19T10:03:16.565971Z",
     "iopub.status.busy": "2022-11-19T10:03:16.565350Z",
     "iopub.status.idle": "2022-11-19T10:03:16.575823Z",
     "shell.execute_reply": "2022-11-19T10:03:16.574689Z",
     "shell.execute_reply.started": "2022-11-19T10:03:16.565930Z"
    }
   },
   "outputs": [
    {
     "data": {
      "text/plain": [
       "Riyadh              18542\n",
       "Remote               8249\n",
       "Eastern              5276\n",
       "Makkah               5231\n",
       "Medina               1645\n",
       "Jazan                 739\n",
       "AlQassim              294\n",
       "Tabuk                 200\n",
       "Asir                  145\n",
       "NotDefind              49\n",
       "AlJawf                 35\n",
       "Northern Borders       30\n",
       "Hail                   29\n",
       "AlBahah                29\n",
       "Najran                  7\n",
       "Name: Regions, dtype: int64"
      ]
     },
     "execution_count": 13,
     "metadata": {},
     "output_type": "execute_result"
    }
   ],
   "source": [
    "df.Regions.value_counts()"
   ]
  },
  {
   "cell_type": "code",
   "execution_count": 14,
   "id": "4276bda9",
   "metadata": {
    "execution": {
     "iopub.execute_input": "2022-11-19T10:03:17.006081Z",
     "iopub.status.busy": "2022-11-19T10:03:17.005706Z",
     "iopub.status.idle": "2022-11-19T10:03:17.024815Z",
     "shell.execute_reply": "2022-11-19T10:03:17.023174Z",
     "shell.execute_reply.started": "2022-11-19T10:03:17.006049Z"
    }
   },
   "outputs": [],
   "source": [
    "# Encoding the \"contract\" using LabelEncoder\n",
    "le = LabelEncoder()\n",
    "\n",
    "df['Regions'] = le.fit_transform(df['Regions'])"
   ]
  },
  {
   "cell_type": "code",
   "execution_count": 15,
   "id": "88bc0143",
   "metadata": {
    "execution": {
     "iopub.execute_input": "2022-11-19T10:03:17.246159Z",
     "iopub.status.busy": "2022-11-19T10:03:17.245778Z",
     "iopub.status.idle": "2022-11-19T10:03:17.253121Z",
     "shell.execute_reply": "2022-11-19T10:03:17.251628Z",
     "shell.execute_reply.started": "2022-11-19T10:03:17.246128Z"
    }
   },
   "outputs": [
    {
     "data": {
      "text/plain": [
       "array(['AlBahah', 'AlJawf ', 'AlQassim', 'Asir', 'Eastern', 'Hail',\n",
       "       'Jazan', 'Makkah', 'Medina', 'Najran', 'Northern Borders',\n",
       "       'NotDefind', 'Remote', 'Riyadh', 'Tabuk'], dtype=object)"
      ]
     },
     "execution_count": 15,
     "metadata": {},
     "output_type": "execute_result"
    }
   ],
   "source": [
    "le.classes_"
   ]
  },
  {
   "cell_type": "code",
   "execution_count": 16,
   "id": "8afa116c",
   "metadata": {
    "execution": {
     "iopub.execute_input": "2022-11-19T10:03:17.516929Z",
     "iopub.status.busy": "2022-11-19T10:03:17.516546Z",
     "iopub.status.idle": "2022-11-19T10:03:17.528398Z",
     "shell.execute_reply": "2022-11-19T10:03:17.527009Z",
     "shell.execute_reply.started": "2022-11-19T10:03:17.516897Z"
    }
   },
   "outputs": [
    {
     "data": {
      "text/plain": [
       "MidSenior level    12090\n",
       "Entry level        10696\n",
       "Associate          10411\n",
       "Not Applicable      3870\n",
       "Director            2265\n",
       "Executive            791\n",
       "Internship           377\n",
       "Name: level, dtype: int64"
      ]
     },
     "execution_count": 16,
     "metadata": {},
     "output_type": "execute_result"
    }
   ],
   "source": [
    "df.level.value_counts()"
   ]
  },
  {
   "cell_type": "code",
   "execution_count": 17,
   "id": "5160f8ac",
   "metadata": {
    "execution": {
     "iopub.execute_input": "2022-11-19T10:03:18.038289Z",
     "iopub.status.busy": "2022-11-19T10:03:18.037035Z",
     "iopub.status.idle": "2022-11-19T10:03:18.049865Z",
     "shell.execute_reply": "2022-11-19T10:03:18.048805Z",
     "shell.execute_reply.started": "2022-11-19T10:03:18.038233Z"
    },
    "scrolled": true
   },
   "outputs": [
    {
     "data": {
      "text/plain": [
       "Information Technology and Services    6203\n",
       "Construction                           3658\n",
       "Marketing and Advertising              1894\n",
       "Consumer Goods                         1584\n",
       "Computer Software                      1481\n",
       "                                       ... \n",
       "Glass Ceramics                            3\n",
       "Photography                               2\n",
       "Quality Assurance                         1\n",
       "Customer Service Sales                    1\n",
       "Fine Art                                  1\n",
       "Name: industry_cat, Length: 130, dtype: int64"
      ]
     },
     "execution_count": 17,
     "metadata": {},
     "output_type": "execute_result"
    }
   ],
   "source": [
    "df.industry_cat.value_counts()"
   ]
  },
  {
   "cell_type": "code",
   "execution_count": 18,
   "id": "663bc7fb",
   "metadata": {
    "execution": {
     "iopub.execute_input": "2022-11-19T10:03:18.607200Z",
     "iopub.status.busy": "2022-11-19T10:03:18.606125Z",
     "iopub.status.idle": "2022-11-19T10:03:18.625451Z",
     "shell.execute_reply": "2022-11-19T10:03:18.623995Z",
     "shell.execute_reply.started": "2022-11-19T10:03:18.607164Z"
    }
   },
   "outputs": [
    {
     "data": {
      "text/html": [
       "<div>\n",
       "<style scoped>\n",
       "    .dataframe tbody tr th:only-of-type {\n",
       "        vertical-align: middle;\n",
       "    }\n",
       "\n",
       "    .dataframe tbody tr th {\n",
       "        vertical-align: top;\n",
       "    }\n",
       "\n",
       "    .dataframe thead th {\n",
       "        text-align: right;\n",
       "    }\n",
       "</style>\n",
       "<table border=\"1\" class=\"dataframe\">\n",
       "  <thead>\n",
       "    <tr style=\"text-align: right;\">\n",
       "      <th></th>\n",
       "      <th>position</th>\n",
       "      <th>company</th>\n",
       "      <th>level</th>\n",
       "      <th>job_functions</th>\n",
       "      <th>industries</th>\n",
       "      <th>description</th>\n",
       "      <th>day</th>\n",
       "      <th>month</th>\n",
       "      <th>quarter</th>\n",
       "      <th>city</th>\n",
       "      <th>Regions</th>\n",
       "      <th>industry_cat</th>\n",
       "      <th>TotalPositions</th>\n",
       "      <th>PositionsByMonth</th>\n",
       "      <th>year_of_ex</th>\n",
       "      <th>degrees</th>\n",
       "    </tr>\n",
       "  </thead>\n",
       "  <tbody>\n",
       "    <tr>\n",
       "      <th>0</th>\n",
       "      <td>Employee Engagement Specialist</td>\n",
       "      <td>PepsiCo</td>\n",
       "      <td>MidSenior level</td>\n",
       "      <td>Human Resources</td>\n",
       "      <td>Consumer Goods Food  Beverages</td>\n",
       "      <td>auto req id  199735brjob descriptionpepsico sa...</td>\n",
       "      <td>6</td>\n",
       "      <td>1</td>\n",
       "      <td>1</td>\n",
       "      <td>Riyadh</td>\n",
       "      <td>13</td>\n",
       "      <td>Consumer Goods</td>\n",
       "      <td>219</td>\n",
       "      <td>2339</td>\n",
       "      <td>3</td>\n",
       "      <td>bachelor</td>\n",
       "    </tr>\n",
       "    <tr>\n",
       "      <th>1</th>\n",
       "      <td>Account Manager GPS  Riyadh</td>\n",
       "      <td>EY</td>\n",
       "      <td>Not Applicable</td>\n",
       "      <td>Sales Business Development</td>\n",
       "      <td>Accounting Financial Services</td>\n",
       "      <td>in a business where are our people are our pro...</td>\n",
       "      <td>6</td>\n",
       "      <td>1</td>\n",
       "      <td>1</td>\n",
       "      <td>Riyadh</td>\n",
       "      <td>13</td>\n",
       "      <td>Accounting</td>\n",
       "      <td>101</td>\n",
       "      <td>2339</td>\n",
       "      <td>7</td>\n",
       "      <td>bachelor</td>\n",
       "    </tr>\n",
       "    <tr>\n",
       "      <th>2</th>\n",
       "      <td>Business Analyst</td>\n",
       "      <td>تطوير تقنيات التعليم  Tatweer Educational Tech...</td>\n",
       "      <td>MidSenior level</td>\n",
       "      <td>Business Development Sales</td>\n",
       "      <td>Information Technology and Services</td>\n",
       "      <td>the ideal candidate will design  organize  and...</td>\n",
       "      <td>6</td>\n",
       "      <td>1</td>\n",
       "      <td>1</td>\n",
       "      <td>Riyadh</td>\n",
       "      <td>13</td>\n",
       "      <td>Information Technology and Services</td>\n",
       "      <td>16</td>\n",
       "      <td>2339</td>\n",
       "      <td>5</td>\n",
       "      <td>bachelor</td>\n",
       "    </tr>\n",
       "    <tr>\n",
       "      <th>3</th>\n",
       "      <td>Talent Acquisition Advisor</td>\n",
       "      <td>WSP in the Middle East</td>\n",
       "      <td>Associate</td>\n",
       "      <td>Finance</td>\n",
       "      <td>Construction</td>\n",
       "      <td>think bigger scale  think higher profile  thin...</td>\n",
       "      <td>6</td>\n",
       "      <td>1</td>\n",
       "      <td>1</td>\n",
       "      <td>Riyadh</td>\n",
       "      <td>13</td>\n",
       "      <td>Construction</td>\n",
       "      <td>43</td>\n",
       "      <td>2339</td>\n",
       "      <td>5</td>\n",
       "      <td>bachelor</td>\n",
       "    </tr>\n",
       "    <tr>\n",
       "      <th>4</th>\n",
       "      <td>Organisational Design Specialist</td>\n",
       "      <td>Aventus Global Talent</td>\n",
       "      <td>MidSenior level</td>\n",
       "      <td>Human Resources Design</td>\n",
       "      <td>Financial Services Banking</td>\n",
       "      <td>organisational design specialist  eastern regi...</td>\n",
       "      <td>6</td>\n",
       "      <td>1</td>\n",
       "      <td>1</td>\n",
       "      <td>Remote</td>\n",
       "      <td>12</td>\n",
       "      <td>Financial Services</td>\n",
       "      <td>28</td>\n",
       "      <td>2339</td>\n",
       "      <td>5</td>\n",
       "      <td>bachelor</td>\n",
       "    </tr>\n",
       "  </tbody>\n",
       "</table>\n",
       "</div>"
      ],
      "text/plain": [
       "                           position  \\\n",
       "0    Employee Engagement Specialist   \n",
       "1       Account Manager GPS  Riyadh   \n",
       "2                  Business Analyst   \n",
       "3        Talent Acquisition Advisor   \n",
       "4  Organisational Design Specialist   \n",
       "\n",
       "                                             company            level  \\\n",
       "0                                            PepsiCo  MidSenior level   \n",
       "1                                                 EY   Not Applicable   \n",
       "2  تطوير تقنيات التعليم  Tatweer Educational Tech...  MidSenior level   \n",
       "3                             WSP in the Middle East        Associate   \n",
       "4                              Aventus Global Talent  MidSenior level   \n",
       "\n",
       "                job_functions                           industries  \\\n",
       "0             Human Resources       Consumer Goods Food  Beverages   \n",
       "1  Sales Business Development        Accounting Financial Services   \n",
       "2  Business Development Sales  Information Technology and Services   \n",
       "3                     Finance                         Construction   \n",
       "4      Human Resources Design           Financial Services Banking   \n",
       "\n",
       "                                         description  day  month  quarter  \\\n",
       "0  auto req id  199735brjob descriptionpepsico sa...    6      1        1   \n",
       "1  in a business where are our people are our pro...    6      1        1   \n",
       "2  the ideal candidate will design  organize  and...    6      1        1   \n",
       "3  think bigger scale  think higher profile  thin...    6      1        1   \n",
       "4  organisational design specialist  eastern regi...    6      1        1   \n",
       "\n",
       "     city  Regions                         industry_cat  TotalPositions  \\\n",
       "0  Riyadh       13                       Consumer Goods             219   \n",
       "1  Riyadh       13                           Accounting             101   \n",
       "2  Riyadh       13  Information Technology and Services              16   \n",
       "3  Riyadh       13                         Construction              43   \n",
       "4  Remote       12                   Financial Services              28   \n",
       "\n",
       "   PositionsByMonth  year_of_ex   degrees  \n",
       "0              2339           3  bachelor  \n",
       "1              2339           7  bachelor  \n",
       "2              2339           5  bachelor  \n",
       "3              2339           5  bachelor  \n",
       "4              2339           5  bachelor  "
      ]
     },
     "execution_count": 18,
     "metadata": {},
     "output_type": "execute_result"
    }
   ],
   "source": [
    "df.head()"
   ]
  },
  {
   "cell_type": "code",
   "execution_count": 19,
   "id": "3cd3906c",
   "metadata": {
    "execution": {
     "iopub.execute_input": "2022-11-19T10:03:19.446245Z",
     "iopub.status.busy": "2022-11-19T10:03:19.445849Z",
     "iopub.status.idle": "2022-11-19T10:03:19.463708Z",
     "shell.execute_reply": "2022-11-19T10:03:19.462926Z",
     "shell.execute_reply.started": "2022-11-19T10:03:19.446214Z"
    }
   },
   "outputs": [
    {
     "data": {
      "text/html": [
       "<div>\n",
       "<style scoped>\n",
       "    .dataframe tbody tr th:only-of-type {\n",
       "        vertical-align: middle;\n",
       "    }\n",
       "\n",
       "    .dataframe tbody tr th {\n",
       "        vertical-align: top;\n",
       "    }\n",
       "\n",
       "    .dataframe thead th {\n",
       "        text-align: right;\n",
       "    }\n",
       "</style>\n",
       "<table border=\"1\" class=\"dataframe\">\n",
       "  <thead>\n",
       "    <tr style=\"text-align: right;\">\n",
       "      <th></th>\n",
       "      <th>position</th>\n",
       "      <th>TotalPositions</th>\n",
       "      <th>year_of_ex</th>\n",
       "      <th>degrees</th>\n",
       "    </tr>\n",
       "  </thead>\n",
       "  <tbody>\n",
       "    <tr>\n",
       "      <th>0</th>\n",
       "      <td>Employee Engagement Specialist</td>\n",
       "      <td>219</td>\n",
       "      <td>3</td>\n",
       "      <td>bachelor</td>\n",
       "    </tr>\n",
       "    <tr>\n",
       "      <th>1</th>\n",
       "      <td>Account Manager GPS  Riyadh</td>\n",
       "      <td>101</td>\n",
       "      <td>7</td>\n",
       "      <td>bachelor</td>\n",
       "    </tr>\n",
       "    <tr>\n",
       "      <th>2</th>\n",
       "      <td>Business Analyst</td>\n",
       "      <td>16</td>\n",
       "      <td>5</td>\n",
       "      <td>bachelor</td>\n",
       "    </tr>\n",
       "    <tr>\n",
       "      <th>3</th>\n",
       "      <td>Talent Acquisition Advisor</td>\n",
       "      <td>43</td>\n",
       "      <td>5</td>\n",
       "      <td>bachelor</td>\n",
       "    </tr>\n",
       "    <tr>\n",
       "      <th>4</th>\n",
       "      <td>Organisational Design Specialist</td>\n",
       "      <td>28</td>\n",
       "      <td>5</td>\n",
       "      <td>bachelor</td>\n",
       "    </tr>\n",
       "    <tr>\n",
       "      <th>...</th>\n",
       "      <td>...</td>\n",
       "      <td>...</td>\n",
       "      <td>...</td>\n",
       "      <td>...</td>\n",
       "    </tr>\n",
       "    <tr>\n",
       "      <th>40495</th>\n",
       "      <td>Sales Associate</td>\n",
       "      <td>541</td>\n",
       "      <td>3</td>\n",
       "      <td>diploma</td>\n",
       "    </tr>\n",
       "    <tr>\n",
       "      <th>40496</th>\n",
       "      <td>SA</td>\n",
       "      <td>541</td>\n",
       "      <td>3</td>\n",
       "      <td>bachelor</td>\n",
       "    </tr>\n",
       "    <tr>\n",
       "      <th>40497</th>\n",
       "      <td>Restaurant Manager  Nandos</td>\n",
       "      <td>541</td>\n",
       "      <td>0</td>\n",
       "      <td>bachelor</td>\n",
       "    </tr>\n",
       "    <tr>\n",
       "      <th>40498</th>\n",
       "      <td>Restaurant Supervisor  Nandos</td>\n",
       "      <td>541</td>\n",
       "      <td>4</td>\n",
       "      <td>bachelor</td>\n",
       "    </tr>\n",
       "    <tr>\n",
       "      <th>40499</th>\n",
       "      <td>Group Exercise  Personal Training</td>\n",
       "      <td>541</td>\n",
       "      <td>1</td>\n",
       "      <td>bachelor</td>\n",
       "    </tr>\n",
       "  </tbody>\n",
       "</table>\n",
       "<p>40500 rows × 4 columns</p>\n",
       "</div>"
      ],
      "text/plain": [
       "                                position  TotalPositions  year_of_ex   degrees\n",
       "0         Employee Engagement Specialist             219           3  bachelor\n",
       "1            Account Manager GPS  Riyadh             101           7  bachelor\n",
       "2                       Business Analyst              16           5  bachelor\n",
       "3             Talent Acquisition Advisor              43           5  bachelor\n",
       "4       Organisational Design Specialist              28           5  bachelor\n",
       "...                                  ...             ...         ...       ...\n",
       "40495                    Sales Associate             541           3   diploma\n",
       "40496                                 SA             541           3  bachelor\n",
       "40497         Restaurant Manager  Nandos             541           0  bachelor\n",
       "40498      Restaurant Supervisor  Nandos             541           4  bachelor\n",
       "40499  Group Exercise  Personal Training             541           1  bachelor\n",
       "\n",
       "[40500 rows x 4 columns]"
      ]
     },
     "execution_count": 19,
     "metadata": {},
     "output_type": "execute_result"
    }
   ],
   "source": [
    "highest_jobs=df.loc[:,['position','TotalPositions','year_of_ex','degrees']]   \n",
    "highest_jobs"
   ]
  },
  {
   "cell_type": "code",
   "execution_count": 20,
   "id": "e9cbf65e",
   "metadata": {
    "execution": {
     "iopub.execute_input": "2022-11-19T10:03:20.236670Z",
     "iopub.status.busy": "2022-11-19T10:03:20.236264Z",
     "iopub.status.idle": "2022-11-19T10:03:20.244053Z",
     "shell.execute_reply": "2022-11-19T10:03:20.243128Z",
     "shell.execute_reply.started": "2022-11-19T10:03:20.236637Z"
    }
   },
   "outputs": [],
   "source": [
    "total_position_each_job=highest_jobs[['position','TotalPositions','year_of_ex','degrees']].head(10)"
   ]
  },
  {
   "cell_type": "code",
   "execution_count": 21,
   "id": "9e25adbc",
   "metadata": {
    "execution": {
     "iopub.execute_input": "2022-11-19T10:03:20.686357Z",
     "iopub.status.busy": "2022-11-19T10:03:20.685220Z",
     "iopub.status.idle": "2022-11-19T10:03:20.697603Z",
     "shell.execute_reply": "2022-11-19T10:03:20.696642Z",
     "shell.execute_reply.started": "2022-11-19T10:03:20.686309Z"
    }
   },
   "outputs": [
    {
     "data": {
      "text/html": [
       "<div>\n",
       "<style scoped>\n",
       "    .dataframe tbody tr th:only-of-type {\n",
       "        vertical-align: middle;\n",
       "    }\n",
       "\n",
       "    .dataframe tbody tr th {\n",
       "        vertical-align: top;\n",
       "    }\n",
       "\n",
       "    .dataframe thead th {\n",
       "        text-align: right;\n",
       "    }\n",
       "</style>\n",
       "<table border=\"1\" class=\"dataframe\">\n",
       "  <thead>\n",
       "    <tr style=\"text-align: right;\">\n",
       "      <th></th>\n",
       "      <th>position</th>\n",
       "      <th>TotalPositions</th>\n",
       "      <th>year_of_ex</th>\n",
       "      <th>degrees</th>\n",
       "    </tr>\n",
       "  </thead>\n",
       "  <tbody>\n",
       "    <tr>\n",
       "      <th>0</th>\n",
       "      <td>Employee Engagement Specialist</td>\n",
       "      <td>219</td>\n",
       "      <td>3</td>\n",
       "      <td>bachelor</td>\n",
       "    </tr>\n",
       "    <tr>\n",
       "      <th>1</th>\n",
       "      <td>Account Manager GPS  Riyadh</td>\n",
       "      <td>101</td>\n",
       "      <td>7</td>\n",
       "      <td>bachelor</td>\n",
       "    </tr>\n",
       "    <tr>\n",
       "      <th>2</th>\n",
       "      <td>Business Analyst</td>\n",
       "      <td>16</td>\n",
       "      <td>5</td>\n",
       "      <td>bachelor</td>\n",
       "    </tr>\n",
       "    <tr>\n",
       "      <th>3</th>\n",
       "      <td>Talent Acquisition Advisor</td>\n",
       "      <td>43</td>\n",
       "      <td>5</td>\n",
       "      <td>bachelor</td>\n",
       "    </tr>\n",
       "    <tr>\n",
       "      <th>4</th>\n",
       "      <td>Organisational Design Specialist</td>\n",
       "      <td>28</td>\n",
       "      <td>5</td>\n",
       "      <td>bachelor</td>\n",
       "    </tr>\n",
       "    <tr>\n",
       "      <th>5</th>\n",
       "      <td>Quality Specialist</td>\n",
       "      <td>23</td>\n",
       "      <td>2</td>\n",
       "      <td>bachelor</td>\n",
       "    </tr>\n",
       "    <tr>\n",
       "      <th>6</th>\n",
       "      <td>Events Operations Manager</td>\n",
       "      <td>24</td>\n",
       "      <td>3</td>\n",
       "      <td>bachelor</td>\n",
       "    </tr>\n",
       "    <tr>\n",
       "      <th>7</th>\n",
       "      <td>Business Analyst</td>\n",
       "      <td>6</td>\n",
       "      <td>3</td>\n",
       "      <td>bachelor</td>\n",
       "    </tr>\n",
       "    <tr>\n",
       "      <th>8</th>\n",
       "      <td>Program ManagerEasternSouthernNorthernWestern ...</td>\n",
       "      <td>22</td>\n",
       "      <td>8</td>\n",
       "      <td>bachelor</td>\n",
       "    </tr>\n",
       "    <tr>\n",
       "      <th>9</th>\n",
       "      <td>Project manager</td>\n",
       "      <td>364</td>\n",
       "      <td>2</td>\n",
       "      <td>bachelor</td>\n",
       "    </tr>\n",
       "  </tbody>\n",
       "</table>\n",
       "</div>"
      ],
      "text/plain": [
       "                                            position  TotalPositions  \\\n",
       "0                     Employee Engagement Specialist             219   \n",
       "1                        Account Manager GPS  Riyadh             101   \n",
       "2                                   Business Analyst              16   \n",
       "3                         Talent Acquisition Advisor              43   \n",
       "4                   Organisational Design Specialist              28   \n",
       "5                                 Quality Specialist              23   \n",
       "6                          Events Operations Manager              24   \n",
       "7                                   Business Analyst               6   \n",
       "8  Program ManagerEasternSouthernNorthernWestern ...              22   \n",
       "9                                    Project manager             364   \n",
       "\n",
       "   year_of_ex   degrees  \n",
       "0           3  bachelor  \n",
       "1           7  bachelor  \n",
       "2           5  bachelor  \n",
       "3           5  bachelor  \n",
       "4           5  bachelor  \n",
       "5           2  bachelor  \n",
       "6           3  bachelor  \n",
       "7           3  bachelor  \n",
       "8           8  bachelor  \n",
       "9           2  bachelor  "
      ]
     },
     "execution_count": 21,
     "metadata": {},
     "output_type": "execute_result"
    }
   ],
   "source": [
    "total_position_each_job"
   ]
  },
  {
   "cell_type": "code",
   "execution_count": 22,
   "id": "cbf46cf6",
   "metadata": {
    "execution": {
     "iopub.execute_input": "2022-11-19T10:03:21.397211Z",
     "iopub.status.busy": "2022-11-19T10:03:21.396682Z",
     "iopub.status.idle": "2022-11-19T10:03:21.403553Z",
     "shell.execute_reply": "2022-11-19T10:03:21.402475Z",
     "shell.execute_reply.started": "2022-11-19T10:03:21.397184Z"
    },
    "scrolled": true
   },
   "outputs": [
    {
     "data": {
      "text/plain": [
       "Index(['position', 'TotalPositions', 'year_of_ex', 'degrees'], dtype='object')"
      ]
     },
     "execution_count": 22,
     "metadata": {},
     "output_type": "execute_result"
    }
   ],
   "source": [
    "total_position_each_job.columns"
   ]
  },
  {
   "cell_type": "markdown",
   "id": "81eefc2a",
   "metadata": {},
   "source": [
    "### Recommendation System"
   ]
  },
  {
   "cell_type": "code",
   "execution_count": 23,
   "id": "758a0c95",
   "metadata": {},
   "outputs": [
    {
     "data": {
      "text/html": [
       "<div>\n",
       "<style scoped>\n",
       "    .dataframe tbody tr th:only-of-type {\n",
       "        vertical-align: middle;\n",
       "    }\n",
       "\n",
       "    .dataframe tbody tr th {\n",
       "        vertical-align: top;\n",
       "    }\n",
       "\n",
       "    .dataframe thead th {\n",
       "        text-align: right;\n",
       "    }\n",
       "</style>\n",
       "<table border=\"1\" class=\"dataframe\">\n",
       "  <thead>\n",
       "    <tr style=\"text-align: right;\">\n",
       "      <th></th>\n",
       "      <th>position</th>\n",
       "      <th>company</th>\n",
       "      <th>level</th>\n",
       "      <th>job_functions</th>\n",
       "      <th>industries</th>\n",
       "      <th>description</th>\n",
       "      <th>day</th>\n",
       "      <th>month</th>\n",
       "      <th>quarter</th>\n",
       "      <th>city</th>\n",
       "      <th>Regions</th>\n",
       "      <th>industry_cat</th>\n",
       "      <th>TotalPositions</th>\n",
       "      <th>PositionsByMonth</th>\n",
       "      <th>year_of_ex</th>\n",
       "      <th>degrees</th>\n",
       "    </tr>\n",
       "  </thead>\n",
       "  <tbody>\n",
       "    <tr>\n",
       "      <th>0</th>\n",
       "      <td>Employee Engagement Specialist</td>\n",
       "      <td>PepsiCo</td>\n",
       "      <td>MidSenior level</td>\n",
       "      <td>Human Resources</td>\n",
       "      <td>Consumer Goods Food  Beverages</td>\n",
       "      <td>auto req id  199735brjob descriptionpepsico sa...</td>\n",
       "      <td>6</td>\n",
       "      <td>1</td>\n",
       "      <td>1</td>\n",
       "      <td>Riyadh</td>\n",
       "      <td>13</td>\n",
       "      <td>Consumer Goods</td>\n",
       "      <td>219</td>\n",
       "      <td>2339</td>\n",
       "      <td>3</td>\n",
       "      <td>bachelor</td>\n",
       "    </tr>\n",
       "  </tbody>\n",
       "</table>\n",
       "</div>"
      ],
      "text/plain": [
       "                         position  company            level    job_functions  \\\n",
       "0  Employee Engagement Specialist  PepsiCo  MidSenior level  Human Resources   \n",
       "\n",
       "                       industries  \\\n",
       "0  Consumer Goods Food  Beverages   \n",
       "\n",
       "                                         description  day  month  quarter  \\\n",
       "0  auto req id  199735brjob descriptionpepsico sa...    6      1        1   \n",
       "\n",
       "     city  Regions    industry_cat  TotalPositions  PositionsByMonth  \\\n",
       "0  Riyadh       13  Consumer Goods             219              2339   \n",
       "\n",
       "   year_of_ex   degrees  \n",
       "0           3  bachelor  "
      ]
     },
     "execution_count": 23,
     "metadata": {},
     "output_type": "execute_result"
    }
   ],
   "source": [
    "df.head(1)"
   ]
  },
  {
   "cell_type": "markdown",
   "id": "b133a9aa",
   "metadata": {},
   "source": [
    "### corpus text\n",
    "combining the columns of position,level,job_functions,industries,industry_cat, company,region and degrees "
   ]
  },
  {
   "cell_type": "code",
   "execution_count": 24,
   "id": "e2a6fc33",
   "metadata": {
    "execution": {
     "iopub.execute_input": "2022-11-19T10:30:58.933960Z",
     "iopub.status.busy": "2022-11-19T10:30:58.933510Z",
     "iopub.status.idle": "2022-11-19T10:30:59.106807Z",
     "shell.execute_reply": "2022-11-19T10:30:59.105814Z",
     "shell.execute_reply.started": "2022-11-19T10:30:58.933917Z"
    }
   },
   "outputs": [
    {
     "data": {
      "text/html": [
       "<div>\n",
       "<style scoped>\n",
       "    .dataframe tbody tr th:only-of-type {\n",
       "        vertical-align: middle;\n",
       "    }\n",
       "\n",
       "    .dataframe tbody tr th {\n",
       "        vertical-align: top;\n",
       "    }\n",
       "\n",
       "    .dataframe thead th {\n",
       "        text-align: right;\n",
       "    }\n",
       "</style>\n",
       "<table border=\"1\" class=\"dataframe\">\n",
       "  <thead>\n",
       "    <tr style=\"text-align: right;\">\n",
       "      <th></th>\n",
       "      <th>position</th>\n",
       "      <th>company</th>\n",
       "      <th>level</th>\n",
       "      <th>job_functions</th>\n",
       "      <th>industries</th>\n",
       "      <th>description</th>\n",
       "      <th>day</th>\n",
       "      <th>month</th>\n",
       "      <th>quarter</th>\n",
       "      <th>city</th>\n",
       "      <th>Regions</th>\n",
       "      <th>industry_cat</th>\n",
       "      <th>TotalPositions</th>\n",
       "      <th>PositionsByMonth</th>\n",
       "      <th>year_of_ex</th>\n",
       "      <th>degrees</th>\n",
       "      <th>text</th>\n",
       "    </tr>\n",
       "  </thead>\n",
       "  <tbody>\n",
       "    <tr>\n",
       "      <th>0</th>\n",
       "      <td>Employee Engagement Specialist</td>\n",
       "      <td>PepsiCo</td>\n",
       "      <td>MidSenior level</td>\n",
       "      <td>Human Resources</td>\n",
       "      <td>Consumer Goods Food  Beverages</td>\n",
       "      <td>auto req id  199735brjob descriptionpepsico sa...</td>\n",
       "      <td>6</td>\n",
       "      <td>1</td>\n",
       "      <td>1</td>\n",
       "      <td>Riyadh</td>\n",
       "      <td>13</td>\n",
       "      <td>Consumer Goods</td>\n",
       "      <td>219</td>\n",
       "      <td>2339</td>\n",
       "      <td>3</td>\n",
       "      <td>bachelor</td>\n",
       "      <td>Employee Engagement Specialist MidSenior level...</td>\n",
       "    </tr>\n",
       "    <tr>\n",
       "      <th>1</th>\n",
       "      <td>Account Manager GPS  Riyadh</td>\n",
       "      <td>EY</td>\n",
       "      <td>Not Applicable</td>\n",
       "      <td>Sales Business Development</td>\n",
       "      <td>Accounting Financial Services</td>\n",
       "      <td>in a business where are our people are our pro...</td>\n",
       "      <td>6</td>\n",
       "      <td>1</td>\n",
       "      <td>1</td>\n",
       "      <td>Riyadh</td>\n",
       "      <td>13</td>\n",
       "      <td>Accounting</td>\n",
       "      <td>101</td>\n",
       "      <td>2339</td>\n",
       "      <td>7</td>\n",
       "      <td>bachelor</td>\n",
       "      <td>Account Manager GPS  Riyadh Not Applicable Sal...</td>\n",
       "    </tr>\n",
       "  </tbody>\n",
       "</table>\n",
       "</div>"
      ],
      "text/plain": [
       "                         position  company            level  \\\n",
       "0  Employee Engagement Specialist  PepsiCo  MidSenior level   \n",
       "1     Account Manager GPS  Riyadh       EY   Not Applicable   \n",
       "\n",
       "                job_functions                      industries  \\\n",
       "0             Human Resources  Consumer Goods Food  Beverages   \n",
       "1  Sales Business Development   Accounting Financial Services   \n",
       "\n",
       "                                         description  day  month  quarter  \\\n",
       "0  auto req id  199735brjob descriptionpepsico sa...    6      1        1   \n",
       "1  in a business where are our people are our pro...    6      1        1   \n",
       "\n",
       "     city  Regions    industry_cat  TotalPositions  PositionsByMonth  \\\n",
       "0  Riyadh       13  Consumer Goods             219              2339   \n",
       "1  Riyadh       13      Accounting             101              2339   \n",
       "\n",
       "   year_of_ex   degrees                                               text  \n",
       "0           3  bachelor  Employee Engagement Specialist MidSenior level...  \n",
       "1           7  bachelor  Account Manager GPS  Riyadh Not Applicable Sal...  "
      ]
     },
     "execution_count": 24,
     "metadata": {},
     "output_type": "execute_result"
    }
   ],
   "source": [
    "df[\"text\"] = df[\"position\"].map(str) + \" \" +df[\"level\"] + \" \" + df[\"job_functions\"] +\" \"+ df[\"industries\"]+ \" \"+df['industry_cat'] +\" \"+df['company'] +\" \"+df['city'] +\" \"+df['degrees']\n",
    "df.head(2)"
   ]
  },
  {
   "cell_type": "code",
   "execution_count": 25,
   "id": "5baf7bbf",
   "metadata": {
    "execution": {
     "iopub.execute_input": "2022-11-19T10:31:01.371930Z",
     "iopub.status.busy": "2022-11-19T10:31:01.371553Z",
     "iopub.status.idle": "2022-11-19T10:31:01.411506Z",
     "shell.execute_reply": "2022-11-19T10:31:01.410771Z",
     "shell.execute_reply.started": "2022-11-19T10:31:01.371897Z"
    }
   },
   "outputs": [
    {
     "data": {
      "text/plain": [
       "'employee engagement specialist midsenior level human resources consumer goods food  beverages consumer goods pepsico riyadh bachelor'"
      ]
     },
     "execution_count": 25,
     "metadata": {},
     "output_type": "execute_result"
    }
   ],
   "source": [
    "df['text'] = df['text'].str.lower() \n",
    "df.text[0]"
   ]
  },
  {
   "cell_type": "code",
   "execution_count": 26,
   "id": "6b9b8fad",
   "metadata": {},
   "outputs": [],
   "source": [
    "df['year_of_ex'] = df['year_of_ex'].map({0:'Zero', 1:'One',2:'Two',3:'Three', 4:'Four', 5:'Five',6: 'Sex', 7:'Seven', 8:'Eight', 9:'Nine'})\n"
   ]
  },
  {
   "cell_type": "markdown",
   "id": "6d00acfc",
   "metadata": {},
   "source": [
    "### Let's find out Similar jobs"
   ]
  },
  {
   "cell_type": "code",
   "execution_count": 27,
   "id": "aae27890",
   "metadata": {
    "scrolled": false
   },
   "outputs": [
    {
     "data": {
      "text/plain": [
       "Three    20967\n",
       "Five      5709\n",
       "Zero      4264\n",
       "Two       4150\n",
       "Eight     1383\n",
       "Four      1369\n",
       "One       1050\n",
       "Seven      880\n",
       "Sex        653\n",
       "Nine        75\n",
       "Name: year_of_ex, dtype: int64"
      ]
     },
     "execution_count": 27,
     "metadata": {},
     "output_type": "execute_result"
    }
   ],
   "source": [
    "df.year_of_ex.value_counts()"
   ]
  },
  {
   "cell_type": "code",
   "execution_count": 28,
   "id": "b8aeecf1",
   "metadata": {
    "execution": {
     "iopub.execute_input": "2022-11-19T10:31:14.653501Z",
     "iopub.status.busy": "2022-11-19T10:31:14.653033Z",
     "iopub.status.idle": "2022-11-19T10:31:14.670907Z",
     "shell.execute_reply": "2022-11-19T10:31:14.669755Z",
     "shell.execute_reply.started": "2022-11-19T10:31:14.653471Z"
    },
    "scrolled": true
   },
   "outputs": [
    {
     "data": {
      "text/html": [
       "<div>\n",
       "<style scoped>\n",
       "    .dataframe tbody tr th:only-of-type {\n",
       "        vertical-align: middle;\n",
       "    }\n",
       "\n",
       "    .dataframe tbody tr th {\n",
       "        vertical-align: top;\n",
       "    }\n",
       "\n",
       "    .dataframe thead th {\n",
       "        text-align: right;\n",
       "    }\n",
       "</style>\n",
       "<table border=\"1\" class=\"dataframe\">\n",
       "  <thead>\n",
       "    <tr style=\"text-align: right;\">\n",
       "      <th></th>\n",
       "      <th>0</th>\n",
       "      <th>1</th>\n",
       "      <th>2</th>\n",
       "      <th>3</th>\n",
       "      <th>4</th>\n",
       "    </tr>\n",
       "  </thead>\n",
       "  <tbody>\n",
       "    <tr>\n",
       "      <th>position</th>\n",
       "      <td>Employee Engagement Specialist</td>\n",
       "      <td>Account Manager GPS  Riyadh</td>\n",
       "      <td>Business Analyst</td>\n",
       "      <td>Talent Acquisition Advisor</td>\n",
       "      <td>Organisational Design Specialist</td>\n",
       "    </tr>\n",
       "    <tr>\n",
       "      <th>company</th>\n",
       "      <td>PepsiCo</td>\n",
       "      <td>EY</td>\n",
       "      <td>تطوير تقنيات التعليم  Tatweer Educational Tech...</td>\n",
       "      <td>WSP in the Middle East</td>\n",
       "      <td>Aventus Global Talent</td>\n",
       "    </tr>\n",
       "    <tr>\n",
       "      <th>level</th>\n",
       "      <td>MidSenior level</td>\n",
       "      <td>Not Applicable</td>\n",
       "      <td>MidSenior level</td>\n",
       "      <td>Associate</td>\n",
       "      <td>MidSenior level</td>\n",
       "    </tr>\n",
       "    <tr>\n",
       "      <th>job_functions</th>\n",
       "      <td>Human Resources</td>\n",
       "      <td>Sales Business Development</td>\n",
       "      <td>Business Development Sales</td>\n",
       "      <td>Finance</td>\n",
       "      <td>Human Resources Design</td>\n",
       "    </tr>\n",
       "    <tr>\n",
       "      <th>industries</th>\n",
       "      <td>Consumer Goods Food  Beverages</td>\n",
       "      <td>Accounting Financial Services</td>\n",
       "      <td>Information Technology and Services</td>\n",
       "      <td>Construction</td>\n",
       "      <td>Financial Services Banking</td>\n",
       "    </tr>\n",
       "    <tr>\n",
       "      <th>description</th>\n",
       "      <td>auto req id  199735brjob descriptionpepsico sa...</td>\n",
       "      <td>in a business where are our people are our pro...</td>\n",
       "      <td>the ideal candidate will design  organize  and...</td>\n",
       "      <td>think bigger scale  think higher profile  thin...</td>\n",
       "      <td>organisational design specialist  eastern regi...</td>\n",
       "    </tr>\n",
       "    <tr>\n",
       "      <th>day</th>\n",
       "      <td>6</td>\n",
       "      <td>6</td>\n",
       "      <td>6</td>\n",
       "      <td>6</td>\n",
       "      <td>6</td>\n",
       "    </tr>\n",
       "    <tr>\n",
       "      <th>month</th>\n",
       "      <td>1</td>\n",
       "      <td>1</td>\n",
       "      <td>1</td>\n",
       "      <td>1</td>\n",
       "      <td>1</td>\n",
       "    </tr>\n",
       "    <tr>\n",
       "      <th>quarter</th>\n",
       "      <td>1</td>\n",
       "      <td>1</td>\n",
       "      <td>1</td>\n",
       "      <td>1</td>\n",
       "      <td>1</td>\n",
       "    </tr>\n",
       "    <tr>\n",
       "      <th>city</th>\n",
       "      <td>Riyadh</td>\n",
       "      <td>Riyadh</td>\n",
       "      <td>Riyadh</td>\n",
       "      <td>Riyadh</td>\n",
       "      <td>Remote</td>\n",
       "    </tr>\n",
       "    <tr>\n",
       "      <th>Regions</th>\n",
       "      <td>13</td>\n",
       "      <td>13</td>\n",
       "      <td>13</td>\n",
       "      <td>13</td>\n",
       "      <td>12</td>\n",
       "    </tr>\n",
       "    <tr>\n",
       "      <th>industry_cat</th>\n",
       "      <td>Consumer Goods</td>\n",
       "      <td>Accounting</td>\n",
       "      <td>Information Technology and Services</td>\n",
       "      <td>Construction</td>\n",
       "      <td>Financial Services</td>\n",
       "    </tr>\n",
       "    <tr>\n",
       "      <th>TotalPositions</th>\n",
       "      <td>219</td>\n",
       "      <td>101</td>\n",
       "      <td>16</td>\n",
       "      <td>43</td>\n",
       "      <td>28</td>\n",
       "    </tr>\n",
       "    <tr>\n",
       "      <th>PositionsByMonth</th>\n",
       "      <td>2339</td>\n",
       "      <td>2339</td>\n",
       "      <td>2339</td>\n",
       "      <td>2339</td>\n",
       "      <td>2339</td>\n",
       "    </tr>\n",
       "    <tr>\n",
       "      <th>year_of_ex</th>\n",
       "      <td>Three</td>\n",
       "      <td>Seven</td>\n",
       "      <td>Five</td>\n",
       "      <td>Five</td>\n",
       "      <td>Five</td>\n",
       "    </tr>\n",
       "    <tr>\n",
       "      <th>degrees</th>\n",
       "      <td>bachelor</td>\n",
       "      <td>bachelor</td>\n",
       "      <td>bachelor</td>\n",
       "      <td>bachelor</td>\n",
       "      <td>bachelor</td>\n",
       "    </tr>\n",
       "    <tr>\n",
       "      <th>text</th>\n",
       "      <td>employee engagement specialist midsenior level...</td>\n",
       "      <td>account manager gps  riyadh not applicable sal...</td>\n",
       "      <td>business analyst midsenior level business deve...</td>\n",
       "      <td>talent acquisition advisor associate finance c...</td>\n",
       "      <td>organisational design specialist midsenior lev...</td>\n",
       "    </tr>\n",
       "  </tbody>\n",
       "</table>\n",
       "</div>"
      ],
      "text/plain": [
       "                                                                  0  \\\n",
       "position                             Employee Engagement Specialist   \n",
       "company                                                     PepsiCo   \n",
       "level                                               MidSenior level   \n",
       "job_functions                                       Human Resources   \n",
       "industries                           Consumer Goods Food  Beverages   \n",
       "description       auto req id  199735brjob descriptionpepsico sa...   \n",
       "day                                                               6   \n",
       "month                                                             1   \n",
       "quarter                                                           1   \n",
       "city                                                         Riyadh   \n",
       "Regions                                                          13   \n",
       "industry_cat                                         Consumer Goods   \n",
       "TotalPositions                                                  219   \n",
       "PositionsByMonth                                               2339   \n",
       "year_of_ex                                                    Three   \n",
       "degrees                                                    bachelor   \n",
       "text              employee engagement specialist midsenior level...   \n",
       "\n",
       "                                                                  1  \\\n",
       "position                                Account Manager GPS  Riyadh   \n",
       "company                                                          EY   \n",
       "level                                                Not Applicable   \n",
       "job_functions                            Sales Business Development   \n",
       "industries                            Accounting Financial Services   \n",
       "description       in a business where are our people are our pro...   \n",
       "day                                                               6   \n",
       "month                                                             1   \n",
       "quarter                                                           1   \n",
       "city                                                         Riyadh   \n",
       "Regions                                                          13   \n",
       "industry_cat                                             Accounting   \n",
       "TotalPositions                                                  101   \n",
       "PositionsByMonth                                               2339   \n",
       "year_of_ex                                                    Seven   \n",
       "degrees                                                    bachelor   \n",
       "text              account manager gps  riyadh not applicable sal...   \n",
       "\n",
       "                                                                  2  \\\n",
       "position                                           Business Analyst   \n",
       "company           تطوير تقنيات التعليم  Tatweer Educational Tech...   \n",
       "level                                               MidSenior level   \n",
       "job_functions                            Business Development Sales   \n",
       "industries                      Information Technology and Services   \n",
       "description       the ideal candidate will design  organize  and...   \n",
       "day                                                               6   \n",
       "month                                                             1   \n",
       "quarter                                                           1   \n",
       "city                                                         Riyadh   \n",
       "Regions                                                          13   \n",
       "industry_cat                    Information Technology and Services   \n",
       "TotalPositions                                                   16   \n",
       "PositionsByMonth                                               2339   \n",
       "year_of_ex                                                     Five   \n",
       "degrees                                                    bachelor   \n",
       "text              business analyst midsenior level business deve...   \n",
       "\n",
       "                                                                  3  \\\n",
       "position                                 Talent Acquisition Advisor   \n",
       "company                                      WSP in the Middle East   \n",
       "level                                                     Associate   \n",
       "job_functions                                               Finance   \n",
       "industries                                             Construction   \n",
       "description       think bigger scale  think higher profile  thin...   \n",
       "day                                                               6   \n",
       "month                                                             1   \n",
       "quarter                                                           1   \n",
       "city                                                         Riyadh   \n",
       "Regions                                                          13   \n",
       "industry_cat                                           Construction   \n",
       "TotalPositions                                                   43   \n",
       "PositionsByMonth                                               2339   \n",
       "year_of_ex                                                     Five   \n",
       "degrees                                                    bachelor   \n",
       "text              talent acquisition advisor associate finance c...   \n",
       "\n",
       "                                                                  4  \n",
       "position                           Organisational Design Specialist  \n",
       "company                                       Aventus Global Talent  \n",
       "level                                               MidSenior level  \n",
       "job_functions                                Human Resources Design  \n",
       "industries                               Financial Services Banking  \n",
       "description       organisational design specialist  eastern regi...  \n",
       "day                                                               6  \n",
       "month                                                             1  \n",
       "quarter                                                           1  \n",
       "city                                                         Remote  \n",
       "Regions                                                          12  \n",
       "industry_cat                                     Financial Services  \n",
       "TotalPositions                                                   28  \n",
       "PositionsByMonth                                               2339  \n",
       "year_of_ex                                                     Five  \n",
       "degrees                                                    bachelor  \n",
       "text              organisational design specialist midsenior lev...  "
      ]
     },
     "execution_count": 28,
     "metadata": {},
     "output_type": "execute_result"
    }
   ],
   "source": [
    "df.head().transpose()\n"
   ]
  },
  {
   "cell_type": "code",
   "execution_count": 29,
   "id": "4c9cba79",
   "metadata": {
    "execution": {
     "iopub.execute_input": "2022-11-19T10:31:18.893646Z",
     "iopub.status.busy": "2022-11-19T10:31:18.892991Z",
     "iopub.status.idle": "2022-11-19T10:31:18.899078Z",
     "shell.execute_reply": "2022-11-19T10:31:18.898112Z",
     "shell.execute_reply.started": "2022-11-19T10:31:18.893608Z"
    }
   },
   "outputs": [],
   "source": [
    "jobs_base_line = df.iloc[0:10000,:]"
   ]
  },
  {
   "cell_type": "code",
   "execution_count": 30,
   "id": "cf884ec5",
   "metadata": {
    "execution": {
     "iopub.execute_input": "2022-11-19T10:31:19.844683Z",
     "iopub.status.busy": "2022-11-19T10:31:19.844057Z",
     "iopub.status.idle": "2022-11-19T10:31:19.865348Z",
     "shell.execute_reply": "2022-11-19T10:31:19.863769Z",
     "shell.execute_reply.started": "2022-11-19T10:31:19.844631Z"
    }
   },
   "outputs": [
    {
     "data": {
      "text/html": [
       "<div>\n",
       "<style scoped>\n",
       "    .dataframe tbody tr th:only-of-type {\n",
       "        vertical-align: middle;\n",
       "    }\n",
       "\n",
       "    .dataframe tbody tr th {\n",
       "        vertical-align: top;\n",
       "    }\n",
       "\n",
       "    .dataframe thead th {\n",
       "        text-align: right;\n",
       "    }\n",
       "</style>\n",
       "<table border=\"1\" class=\"dataframe\">\n",
       "  <thead>\n",
       "    <tr style=\"text-align: right;\">\n",
       "      <th></th>\n",
       "      <th>position</th>\n",
       "      <th>company</th>\n",
       "      <th>level</th>\n",
       "      <th>job_functions</th>\n",
       "      <th>industries</th>\n",
       "      <th>description</th>\n",
       "      <th>day</th>\n",
       "      <th>month</th>\n",
       "      <th>quarter</th>\n",
       "      <th>city</th>\n",
       "      <th>Regions</th>\n",
       "      <th>industry_cat</th>\n",
       "      <th>TotalPositions</th>\n",
       "      <th>PositionsByMonth</th>\n",
       "      <th>year_of_ex</th>\n",
       "      <th>degrees</th>\n",
       "      <th>text</th>\n",
       "    </tr>\n",
       "  </thead>\n",
       "  <tbody>\n",
       "    <tr>\n",
       "      <th>0</th>\n",
       "      <td>Employee Engagement Specialist</td>\n",
       "      <td>PepsiCo</td>\n",
       "      <td>MidSenior level</td>\n",
       "      <td>Human Resources</td>\n",
       "      <td>Consumer Goods Food  Beverages</td>\n",
       "      <td>auto req id  199735brjob descriptionpepsico sa...</td>\n",
       "      <td>6</td>\n",
       "      <td>1</td>\n",
       "      <td>1</td>\n",
       "      <td>Riyadh</td>\n",
       "      <td>13</td>\n",
       "      <td>Consumer Goods</td>\n",
       "      <td>219</td>\n",
       "      <td>2339</td>\n",
       "      <td>Three</td>\n",
       "      <td>bachelor</td>\n",
       "      <td>employee engagement specialist midsenior level...</td>\n",
       "    </tr>\n",
       "    <tr>\n",
       "      <th>1</th>\n",
       "      <td>Account Manager GPS  Riyadh</td>\n",
       "      <td>EY</td>\n",
       "      <td>Not Applicable</td>\n",
       "      <td>Sales Business Development</td>\n",
       "      <td>Accounting Financial Services</td>\n",
       "      <td>in a business where are our people are our pro...</td>\n",
       "      <td>6</td>\n",
       "      <td>1</td>\n",
       "      <td>1</td>\n",
       "      <td>Riyadh</td>\n",
       "      <td>13</td>\n",
       "      <td>Accounting</td>\n",
       "      <td>101</td>\n",
       "      <td>2339</td>\n",
       "      <td>Seven</td>\n",
       "      <td>bachelor</td>\n",
       "      <td>account manager gps  riyadh not applicable sal...</td>\n",
       "    </tr>\n",
       "    <tr>\n",
       "      <th>2</th>\n",
       "      <td>Business Analyst</td>\n",
       "      <td>تطوير تقنيات التعليم  Tatweer Educational Tech...</td>\n",
       "      <td>MidSenior level</td>\n",
       "      <td>Business Development Sales</td>\n",
       "      <td>Information Technology and Services</td>\n",
       "      <td>the ideal candidate will design  organize  and...</td>\n",
       "      <td>6</td>\n",
       "      <td>1</td>\n",
       "      <td>1</td>\n",
       "      <td>Riyadh</td>\n",
       "      <td>13</td>\n",
       "      <td>Information Technology and Services</td>\n",
       "      <td>16</td>\n",
       "      <td>2339</td>\n",
       "      <td>Five</td>\n",
       "      <td>bachelor</td>\n",
       "      <td>business analyst midsenior level business deve...</td>\n",
       "    </tr>\n",
       "    <tr>\n",
       "      <th>3</th>\n",
       "      <td>Talent Acquisition Advisor</td>\n",
       "      <td>WSP in the Middle East</td>\n",
       "      <td>Associate</td>\n",
       "      <td>Finance</td>\n",
       "      <td>Construction</td>\n",
       "      <td>think bigger scale  think higher profile  thin...</td>\n",
       "      <td>6</td>\n",
       "      <td>1</td>\n",
       "      <td>1</td>\n",
       "      <td>Riyadh</td>\n",
       "      <td>13</td>\n",
       "      <td>Construction</td>\n",
       "      <td>43</td>\n",
       "      <td>2339</td>\n",
       "      <td>Five</td>\n",
       "      <td>bachelor</td>\n",
       "      <td>talent acquisition advisor associate finance c...</td>\n",
       "    </tr>\n",
       "    <tr>\n",
       "      <th>4</th>\n",
       "      <td>Organisational Design Specialist</td>\n",
       "      <td>Aventus Global Talent</td>\n",
       "      <td>MidSenior level</td>\n",
       "      <td>Human Resources Design</td>\n",
       "      <td>Financial Services Banking</td>\n",
       "      <td>organisational design specialist  eastern regi...</td>\n",
       "      <td>6</td>\n",
       "      <td>1</td>\n",
       "      <td>1</td>\n",
       "      <td>Remote</td>\n",
       "      <td>12</td>\n",
       "      <td>Financial Services</td>\n",
       "      <td>28</td>\n",
       "      <td>2339</td>\n",
       "      <td>Five</td>\n",
       "      <td>bachelor</td>\n",
       "      <td>organisational design specialist midsenior lev...</td>\n",
       "    </tr>\n",
       "  </tbody>\n",
       "</table>\n",
       "</div>"
      ],
      "text/plain": [
       "                           position  \\\n",
       "0    Employee Engagement Specialist   \n",
       "1       Account Manager GPS  Riyadh   \n",
       "2                  Business Analyst   \n",
       "3        Talent Acquisition Advisor   \n",
       "4  Organisational Design Specialist   \n",
       "\n",
       "                                             company            level  \\\n",
       "0                                            PepsiCo  MidSenior level   \n",
       "1                                                 EY   Not Applicable   \n",
       "2  تطوير تقنيات التعليم  Tatweer Educational Tech...  MidSenior level   \n",
       "3                             WSP in the Middle East        Associate   \n",
       "4                              Aventus Global Talent  MidSenior level   \n",
       "\n",
       "                job_functions                           industries  \\\n",
       "0             Human Resources       Consumer Goods Food  Beverages   \n",
       "1  Sales Business Development        Accounting Financial Services   \n",
       "2  Business Development Sales  Information Technology and Services   \n",
       "3                     Finance                         Construction   \n",
       "4      Human Resources Design           Financial Services Banking   \n",
       "\n",
       "                                         description  day  month  quarter  \\\n",
       "0  auto req id  199735brjob descriptionpepsico sa...    6      1        1   \n",
       "1  in a business where are our people are our pro...    6      1        1   \n",
       "2  the ideal candidate will design  organize  and...    6      1        1   \n",
       "3  think bigger scale  think higher profile  thin...    6      1        1   \n",
       "4  organisational design specialist  eastern regi...    6      1        1   \n",
       "\n",
       "     city  Regions                         industry_cat  TotalPositions  \\\n",
       "0  Riyadh       13                       Consumer Goods             219   \n",
       "1  Riyadh       13                           Accounting             101   \n",
       "2  Riyadh       13  Information Technology and Services              16   \n",
       "3  Riyadh       13                         Construction              43   \n",
       "4  Remote       12                   Financial Services              28   \n",
       "\n",
       "   PositionsByMonth year_of_ex   degrees  \\\n",
       "0              2339      Three  bachelor   \n",
       "1              2339      Seven  bachelor   \n",
       "2              2339       Five  bachelor   \n",
       "3              2339       Five  bachelor   \n",
       "4              2339       Five  bachelor   \n",
       "\n",
       "                                                text  \n",
       "0  employee engagement specialist midsenior level...  \n",
       "1  account manager gps  riyadh not applicable sal...  \n",
       "2  business analyst midsenior level business deve...  \n",
       "3  talent acquisition advisor associate finance c...  \n",
       "4  organisational design specialist midsenior lev...  "
      ]
     },
     "execution_count": 30,
     "metadata": {},
     "output_type": "execute_result"
    }
   ],
   "source": [
    "jobs_base_line.head()\n"
   ]
  },
  {
   "cell_type": "code",
   "execution_count": 31,
   "id": "b59d4484",
   "metadata": {
    "execution": {
     "iopub.execute_input": "2022-11-19T10:29:39.132995Z",
     "iopub.status.busy": "2022-11-19T10:29:39.132599Z",
     "iopub.status.idle": "2022-11-19T10:29:39.138784Z",
     "shell.execute_reply": "2022-11-19T10:29:39.137028Z",
     "shell.execute_reply.started": "2022-11-19T10:29:39.132963Z"
    }
   },
   "outputs": [],
   "source": [
    "import re"
   ]
  },
  {
   "cell_type": "code",
   "execution_count": 32,
   "id": "ddb38e2a",
   "metadata": {
    "execution": {
     "iopub.execute_input": "2022-11-19T10:03:59.245563Z",
     "iopub.status.busy": "2022-11-19T10:03:59.245150Z",
     "iopub.status.idle": "2022-11-19T10:03:59.370269Z",
     "shell.execute_reply": "2022-11-19T10:03:59.369186Z",
     "shell.execute_reply.started": "2022-11-19T10:03:59.245530Z"
    }
   },
   "outputs": [],
   "source": [
    "# Delete all digits values in the 'description'\n",
    "jobs_base_line['description'] = jobs_base_line['description'].map(lambda x: re.sub('\\d', ' ', str(x)))"
   ]
  },
  {
   "cell_type": "code",
   "execution_count": 33,
   "id": "667d509a",
   "metadata": {
    "execution": {
     "iopub.execute_input": "2022-11-19T10:03:59.372504Z",
     "iopub.status.busy": "2022-11-19T10:03:59.372013Z",
     "iopub.status.idle": "2022-11-19T10:04:00.341815Z",
     "shell.execute_reply": "2022-11-19T10:04:00.340393Z",
     "shell.execute_reply.started": "2022-11-19T10:03:59.372466Z"
    }
   },
   "outputs": [],
   "source": [
    "# delete multiple blanks in the 'description'\n",
    "jobs_base_line['description'] = jobs_base_line['description'].replace(r'\\s+', ' ', regex=True)\n",
    "jobs_base_line['position'] = jobs_base_line['position'].replace(r'\\s+', ' ', regex=True)"
   ]
  },
  {
   "cell_type": "code",
   "execution_count": 34,
   "id": "5425a12b",
   "metadata": {
    "execution": {
     "iopub.execute_input": "2022-11-19T10:04:05.645924Z",
     "iopub.status.busy": "2022-11-19T10:04:05.645163Z",
     "iopub.status.idle": "2022-11-19T10:04:05.652140Z",
     "shell.execute_reply": "2022-11-19T10:04:05.651319Z",
     "shell.execute_reply.started": "2022-11-19T10:04:05.645889Z"
    }
   },
   "outputs": [
    {
     "data": {
      "text/plain": [
       "'main accountabilities familiarity with kpis building reviewing and adjusting kpis for employees department and company establishing new processes and continually enhancing and reviewing existing processes following up with the departments sla working to improve and develop the quality of procedures and applicable models work to identify the sources of error and weakness and provide recommendation mitigation plan that contribute in improving the quality of work make and submit periodic reports to the management example risk management gap analysis business continuity business statistics sla compliance understanding and applying international quality standards to the work mechanism and outputs for example iso six segma lean establishing mechanisms for archiving and documenting files and issuing reports internally analysis and suggest solutions problems that might occur in the department effective communication with all employees and stakeholders regarding raising the efficiency and quality of work analyze and measure the defects develop indicators to measure the performance and monitor it on daily basis prepare customer and stakeholders satisfaction questionnaires monitor the performance in general job requirements bachelors or masters degree in information technology business administration quality assurance or in the same filed at least years of experience at the same discipline or any related subject advanced in excel'"
      ]
     },
     "execution_count": 34,
     "metadata": {},
     "output_type": "execute_result"
    }
   ],
   "source": [
    "jobs_base_line.description[5]"
   ]
  },
  {
   "cell_type": "code",
   "execution_count": 35,
   "id": "d3efe566",
   "metadata": {
    "execution": {
     "iopub.execute_input": "2022-11-19T10:31:28.221069Z",
     "iopub.status.busy": "2022-11-19T10:31:28.220669Z",
     "iopub.status.idle": "2022-11-19T10:31:28.229699Z",
     "shell.execute_reply": "2022-11-19T10:31:28.227834Z",
     "shell.execute_reply.started": "2022-11-19T10:31:28.221037Z"
    }
   },
   "outputs": [
    {
     "data": {
      "text/plain": [
       "'quality specialist associate analyst consulting quality assurance management consulting management consulting takamol holding riyadh bachelor'"
      ]
     },
     "execution_count": 35,
     "metadata": {},
     "output_type": "execute_result"
    }
   ],
   "source": [
    "jobs_base_line.text[5]"
   ]
  },
  {
   "cell_type": "code",
   "execution_count": 36,
   "id": "53514e70",
   "metadata": {
    "execution": {
     "iopub.execute_input": "2022-11-19T10:36:53.462123Z",
     "iopub.status.busy": "2022-11-19T10:36:53.461709Z",
     "iopub.status.idle": "2022-11-19T10:36:53.482201Z",
     "shell.execute_reply": "2022-11-19T10:36:53.480992Z",
     "shell.execute_reply.started": "2022-11-19T10:36:53.462091Z"
    }
   },
   "outputs": [],
   "source": [
    "jobs_base_line['position'] = jobs_base_line['position'].fillna('')\n",
    "jobs_base_line['description'] = jobs_base_line['description'].fillna('')\n",
    "jobs_base_line['text'] = jobs_base_line['text'].fillna('')\n",
    "jobs_base_line['job_overview']=jobs_base_line['position']+jobs_base_line['description']"
   ]
  },
  {
   "cell_type": "code",
   "execution_count": 37,
   "id": "2f63a898",
   "metadata": {
    "execution": {
     "iopub.execute_input": "2022-11-19T10:37:02.533478Z",
     "iopub.status.busy": "2022-11-19T10:37:02.533058Z",
     "iopub.status.idle": "2022-11-19T10:37:11.081994Z",
     "shell.execute_reply": "2022-11-19T10:37:11.080262Z",
     "shell.execute_reply.started": "2022-11-19T10:37:02.533415Z"
    }
   },
   "outputs": [],
   "source": [
    "from sklearn.feature_extraction.text import TfidfVectorizer\n",
    "\n",
    "# let's do some feature extraction from the job description using Tf-idf\n",
    "tf = TfidfVectorizer(analyzer='word',ngram_range=(1, 2),min_df=0, stop_words='english')\n",
    "tfv_matrix = tf.fit_transform(jobs_base_line['job_overview'])"
   ]
  },
  {
   "cell_type": "code",
   "execution_count": 38,
   "id": "b047ad45",
   "metadata": {
    "execution": {
     "iopub.execute_input": "2022-11-19T10:37:15.140712Z",
     "iopub.status.busy": "2022-11-19T10:37:15.140321Z",
     "iopub.status.idle": "2022-11-19T10:37:15.148897Z",
     "shell.execute_reply": "2022-11-19T10:37:15.146632Z",
     "shell.execute_reply.started": "2022-11-19T10:37:15.140681Z"
    }
   },
   "outputs": [
    {
     "data": {
      "text/plain": [
       "(10000, 672765)"
      ]
     },
     "execution_count": 38,
     "metadata": {},
     "output_type": "execute_result"
    }
   ],
   "source": [
    "tfv_matrix.shape"
   ]
  },
  {
   "cell_type": "code",
   "execution_count": 39,
   "id": "68c96f05",
   "metadata": {
    "execution": {
     "iopub.execute_input": "2022-11-19T10:37:15.483523Z",
     "iopub.status.busy": "2022-11-19T10:37:15.483126Z",
     "iopub.status.idle": "2022-11-19T10:37:15.490122Z",
     "shell.execute_reply": "2022-11-19T10:37:15.488381Z",
     "shell.execute_reply.started": "2022-11-19T10:37:15.483486Z"
    }
   },
   "outputs": [],
   "source": [
    "from sklearn.metrics.pairwise import linear_kernel"
   ]
  },
  {
   "cell_type": "code",
   "execution_count": 40,
   "id": "8d816427",
   "metadata": {
    "execution": {
     "iopub.execute_input": "2022-11-19T10:37:19.653690Z",
     "iopub.status.busy": "2022-11-19T10:37:19.652587Z",
     "iopub.status.idle": "2022-11-19T10:37:33.465968Z",
     "shell.execute_reply": "2022-11-19T10:37:33.464346Z",
     "shell.execute_reply.started": "2022-11-19T10:37:19.653618Z"
    }
   },
   "outputs": [],
   "source": [
    "cosine_sim = linear_kernel(tfv_matrix, tfv_matrix)"
   ]
  },
  {
   "cell_type": "code",
   "execution_count": 41,
   "id": "07bf2ed1",
   "metadata": {
    "execution": {
     "iopub.execute_input": "2022-11-19T10:37:33.468405Z",
     "iopub.status.busy": "2022-11-19T10:37:33.468029Z",
     "iopub.status.idle": "2022-11-19T10:37:33.476079Z",
     "shell.execute_reply": "2022-11-19T10:37:33.474211Z",
     "shell.execute_reply.started": "2022-11-19T10:37:33.468372Z"
    }
   },
   "outputs": [
    {
     "name": "stdout",
     "output_type": "stream",
     "text": [
      "(10000, 10000)\n",
      "[1.         0.02223408 0.01701809 ... 0.00135243 0.01801693 0.00103766]\n"
     ]
    }
   ],
   "source": [
    "print(cosine_sim.shape)\n",
    "print(cosine_sim[0])"
   ]
  },
  {
   "cell_type": "code",
   "execution_count": 42,
   "id": "0349b591",
   "metadata": {
    "execution": {
     "iopub.execute_input": "2022-11-19T10:37:38.411934Z",
     "iopub.status.busy": "2022-11-19T10:37:38.411563Z",
     "iopub.status.idle": "2022-11-19T10:37:38.423431Z",
     "shell.execute_reply": "2022-11-19T10:37:38.422506Z",
     "shell.execute_reply.started": "2022-11-19T10:37:38.411903Z"
    }
   },
   "outputs": [],
   "source": [
    "# Reverse mapping of indices and job's positions \n",
    "titles = jobs_base_line['position']\n",
    "indices = pd.Series(jobs_base_line.index, index=jobs_base_line['position'])"
   ]
  },
  {
   "cell_type": "code",
   "execution_count": 43,
   "id": "8d05d407",
   "metadata": {
    "execution": {
     "iopub.execute_input": "2022-11-19T10:37:40.812293Z",
     "iopub.status.busy": "2022-11-19T10:37:40.811707Z",
     "iopub.status.idle": "2022-11-19T10:37:40.819072Z",
     "shell.execute_reply": "2022-11-19T10:37:40.818292Z",
     "shell.execute_reply.started": "2022-11-19T10:37:40.812260Z"
    },
    "scrolled": true
   },
   "outputs": [
    {
     "data": {
      "text/plain": [
       "position\n",
       "Employee Engagement Specialist                                                                 0\n",
       "Account Manager GPS Riyadh                                                                     1\n",
       "Business Analyst                                                                               2\n",
       "Talent Acquisition Advisor                                                                     3\n",
       "Organisational Design Specialist                                                               4\n",
       "Quality Specialist                                                                             5\n",
       "Events Operations Manager                                                                      6\n",
       "Business Analyst                                                                               7\n",
       "Program ManagerEasternSouthernNorthernWestern Region                                           8\n",
       "Project manager                                                                                9\n",
       "Human Resources Coordinator                                                                   10\n",
       "Configurations Quality Specialist                                                             11\n",
       "Head Of Human Resources                                                                       12\n",
       "Project Manager                                                                               13\n",
       "Purchasing Officer                                                                            14\n",
       "Digital Product Manager                                                                       15\n",
       "Logistics Coordinator                                                                         16\n",
       "Cinema Manager                                                                                17\n",
       "Business Analyst MS Excel Expert                                                              18\n",
       "Graphic Web Designer                                                                          19\n",
       "Associate DirectorDigital Delivery                                                            20\n",
       "HR Business Partner Travel Tourism Saudi National                                             21\n",
       "Receptionst AF Retail Riyadh                                                                  22\n",
       "Product Specialist Looking for candidates residing in KSA applicable for a field based job    23\n",
       "Sales Coordinator                                                                             24\n",
       "Health Safety and Environmental Officer Saudi National                                        25\n",
       "وظائف نسائية للعمل في توثيق وضبط جودة أنظمة المعلومات                                         26\n",
       "HR GeneralistSaudi National                                                                   27\n",
       "Sales Specialist                                                                              28\n",
       "Sales Support Executive Saudi National Female                                                 29\n",
       "HR Director                                                                                   30\n",
       "Assistant Director of Engineering                                                             31\n",
       "Integrated Marketing Programs Manager Job                                                     32\n",
       "Guest Services Associate Saudi National Only                                                  33\n",
       "URGENT JOB OPENING FOR NAJRAN SAUDI ARABIA                                                    34\n",
       "Financial Reporting Senior Specialist                                                         35\n",
       "Accountant                                                                                    36\n",
       "Application Support Section Head                                                              37\n",
       "Manager                                                                                       38\n",
       "Mechanical Engineer Projects Experience                                                       39\n",
       "Mechanical Supervisor                                                                         40\n",
       "Business Resilience Manager                                                                   41\n",
       "Marketing Campaign Manager                                                                    42\n",
       "KSA National Sales Manager Pharmacies                                                         43\n",
       "Business Analyst plus leading an Application Support Team                                     44\n",
       "Property Manager                                                                              45\n",
       "Employee Engagement Specialist                                                                46\n",
       "Manufacturing Operator                                                                        47\n",
       "Data Scientist and Analytics                                                                  48\n",
       "Human Resources Director                                                                      49\n",
       "dtype: int64"
      ]
     },
     "execution_count": 43,
     "metadata": {},
     "output_type": "execute_result"
    }
   ],
   "source": [
    "indices.head(50)"
   ]
  },
  {
   "cell_type": "code",
   "execution_count": 44,
   "id": "b262742e",
   "metadata": {
    "execution": {
     "iopub.execute_input": "2022-11-19T10:37:42.452486Z",
     "iopub.status.busy": "2022-11-19T10:37:42.451505Z",
     "iopub.status.idle": "2022-11-19T10:37:42.460618Z",
     "shell.execute_reply": "2022-11-19T10:37:42.458799Z",
     "shell.execute_reply.started": "2022-11-19T10:37:42.452429Z"
    }
   },
   "outputs": [
    {
     "data": {
      "text/plain": [
       "6635        Tires Business Expert Multi Brand KSA Market \n",
       "6659                         Technical Sales Assistant FM\n",
       "3312                                 Guest Services Agent\n",
       "2308                              Sales Account Executive\n",
       "7888                           Project ManagerSaudis Only\n",
       "9479                                         HSEQ Manager\n",
       "6210                 Senior Engineer Corrosion Protection\n",
       "8881                        Business Intelligence Manager\n",
       "1104                                 IT Security Engineer\n",
       "7720                                  RN Adult Hematology\n",
       "9417    CV Selection For Ministry Of Health Saudi Arab...\n",
       "6736                         Budgeting Supervisor Finance\n",
       "8592                           Senior Officer Field Sales\n",
       "1618                            Accountant Saudi National\n",
       "1835                             IT Governance Consultant\n",
       "985                              Public Relations Manager\n",
       "9200                                 Lead Project Planner\n",
       "4708                      Project Engineer Siemens Jeddah\n",
       "862     Partner Functional Testing Support Senior Analyst\n",
       "7659                          Director of Risk Management\n",
       "5528                                  Executive Secretary\n",
       "409                               Medical Delegate Riyadh\n",
       "9093    Commercial Quality Manager For Saudi Nationals...\n",
       "2730                                      English Teacher\n",
       "9057                                     RPA Sr Developer\n",
       "1930                                      Chief Architect\n",
       "6336                                       NOC Consultant\n",
       "4653                               Chief Strategy Officer\n",
       "1405               COMPANY MALE NURSE FOR MNC CO IN SAUDI\n",
       "832                                                Casher\n",
       "3964                   Legal Counsel Saudi Nationals Only\n",
       "2170      Chief Architect Digital Transformation Services\n",
       "4353                            Quality Assurance Manager\n",
       "3414                                  Electrical Engineer\n",
       "2090    Java Developer MSSQL Spring Boot Angular Hiber...\n",
       "1965    Training Development Assistant Manager Saudi N...\n",
       "5796                                   Psychomotricien FH\n",
       "7224             Technical Manager Remote $100000year USD\n",
       "2043                         RMS Guest Service Supervisor\n",
       "1226                     Storekeeper Saudi Nationals Only\n",
       "3256                   Energy LifeCycle Emissions Analyst\n",
       "1097                                       Clinical Nurse\n",
       "422                       Senior Project ControlsPlanning\n",
       "7933    Cost Engineer Unconventional Resources Enginee...\n",
       "3719                      Senior HR Operations Specialist\n",
       "3942                                              Barista\n",
       "3270                               Maintenance Supervisor\n",
       "90                                           QAQC Manager\n",
       "2776                                            Secretary\n",
       "765                         Talent development Specialist\n",
       "Name: position, dtype: object"
      ]
     },
     "execution_count": 44,
     "metadata": {},
     "output_type": "execute_result"
    }
   ],
   "source": [
    "titles.sample(50)"
   ]
  },
  {
   "cell_type": "code",
   "execution_count": 45,
   "id": "56a5ae19",
   "metadata": {},
   "outputs": [
    {
     "data": {
      "text/plain": [
       "'Amazon PickerPacker'"
      ]
     },
     "execution_count": 45,
     "metadata": {},
     "output_type": "execute_result"
    }
   ],
   "source": [
    "titles[6973]"
   ]
  },
  {
   "cell_type": "code",
   "execution_count": 46,
   "id": "e3bc1d61",
   "metadata": {
    "execution": {
     "iopub.execute_input": "2022-11-19T10:39:45.494106Z",
     "iopub.status.busy": "2022-11-19T10:39:45.493730Z",
     "iopub.status.idle": "2022-11-19T10:39:45.501293Z",
     "shell.execute_reply": "2022-11-19T10:39:45.500131Z",
     "shell.execute_reply.started": "2022-11-19T10:39:45.494076Z"
    }
   },
   "outputs": [],
   "source": [
    "def get_recommendations(title):\n",
    "    idx = indices[title]\n",
    "    #print (idx)\n",
    "    sim_scores = list(enumerate(cosine_sim[idx]))\n",
    "    #print (sim_scores)\n",
    "    #sim_scores = sim_scores[1:10]\n",
    "    sim_scores = sorted(sim_scores, key=lambda x:x[1], reverse=True)\n",
    "    job_indices = [i[0] for i in sim_scores]\n",
    "    return titles.iloc[job_indices]"
   ]
  },
  {
   "cell_type": "code",
   "execution_count": 47,
   "id": "19efbafb",
   "metadata": {
    "execution": {
     "iopub.execute_input": "2022-11-19T10:34:00.445173Z",
     "iopub.status.busy": "2022-11-19T10:34:00.443561Z",
     "iopub.status.idle": "2022-11-19T10:34:00.472789Z",
     "shell.execute_reply": "2022-11-19T10:34:00.470856Z",
     "shell.execute_reply.started": "2022-11-19T10:34:00.445119Z"
    }
   },
   "outputs": [
    {
     "data": {
      "text/plain": [
       "9                        Project manager\n",
       "90                          QAQC Manager\n",
       "8326                Reporting Specialist\n",
       "8440              Senior Project Manager\n",
       "8324                 Procurement Manager\n",
       "8325                     Project Manager\n",
       "9714              Senior Project Manager\n",
       "5956    Snr Construction Manager Fit out\n",
       "8006                Site Project Manager\n",
       "9787                      Civil Engineer\n",
       "Name: position, dtype: object"
      ]
     },
     "execution_count": 47,
     "metadata": {},
     "output_type": "execute_result"
    }
   ],
   "source": [
    "# Testing our content-based recommendation system with the job's position Project Manager\n",
    "get_recommendations('Project manager').head(10)"
   ]
  },
  {
   "cell_type": "code",
   "execution_count": 48,
   "id": "243222af",
   "metadata": {
    "scrolled": true
   },
   "outputs": [
    {
     "data": {
      "text/plain": [
       "18        Business Analyst MS Excel Expert\n",
       "3308                      Business Analyst\n",
       "7175                      Business Analyst\n",
       "2073                Sales Business Analyst\n",
       "7963      Manager Business Enablement MEET\n",
       "2555    Business Analyst FinanceTax Domain\n",
       "3794    Senior eCommerce Business Analyst \n",
       "701                      Financial Analyst\n",
       "7                         Business Analyst\n",
       "5513                       Data Analyst BI\n",
       "Name: position, dtype: object"
      ]
     },
     "execution_count": 48,
     "metadata": {},
     "output_type": "execute_result"
    }
   ],
   "source": [
    "# Testing our content-based recommendation system with the job's position Business Analyst MS Excel Expert\n",
    "get_recommendations('Business Analyst MS Excel Expert').head(10)"
   ]
  },
  {
   "cell_type": "code",
   "execution_count": 49,
   "id": "febb0f2e",
   "metadata": {},
   "outputs": [
    {
     "data": {
      "text/plain": [
       "3589                                 Director\n",
       "3365    Administrative Assistant KSA National\n",
       "4059               Senior Document Controller\n",
       "4632               Senior Document Controller\n",
       "5283               Senior Document Controller\n",
       "9532                     Construction Manager\n",
       "309                          Project Director\n",
       "543                          Project Director\n",
       "4792                          Project Manager\n",
       "4743                       Team Administrator\n",
       "Name: position, dtype: object"
      ]
     },
     "execution_count": 49,
     "metadata": {},
     "output_type": "execute_result"
    }
   ],
   "source": [
    "# Testing our content-based recommendation system with the job's position Director\n",
    "get_recommendations('Director').head(10)"
   ]
  },
  {
   "cell_type": "code",
   "execution_count": 50,
   "id": "b37b7364",
   "metadata": {
    "execution": {
     "iopub.execute_input": "2022-11-19T10:39:17.883913Z",
     "iopub.status.busy": "2022-11-19T10:39:17.883547Z",
     "iopub.status.idle": "2022-11-19T10:39:17.913505Z",
     "shell.execute_reply": "2022-11-19T10:39:17.911818Z",
     "shell.execute_reply.started": "2022-11-19T10:39:17.883884Z"
    }
   },
   "outputs": [
    {
     "data": {
      "text/plain": [
       "7793                                   CFO\n",
       "8898                             Group CFO\n",
       "3034               Chief Financial Officer\n",
       "2392       Finance Director Saudi National\n",
       "9004               Chief Financial Officer\n",
       "8663                 Group Finance Manager\n",
       "3634               Chief Financial Officer\n",
       "4622    VP of Business Investment Analysis\n",
       "3395                 Global Tax Accountant\n",
       "3273                 Global Tax Accountant\n",
       "Name: position, dtype: object"
      ]
     },
     "execution_count": 50,
     "metadata": {},
     "output_type": "execute_result"
    }
   ],
   "source": [
    "get_recommendations('CFO').head(10)"
   ]
  },
  {
   "cell_type": "code",
   "execution_count": 51,
   "id": "39f4f82d",
   "metadata": {},
   "outputs": [
    {
     "data": {
      "text/plain": [
       "871                                              CEO\n",
       "3320                               Financial Analyst\n",
       "1451                         Chief Financial Officer\n",
       "4103                         Chief Financial Officer\n",
       "392      Assistant Manager PI Finance Transformation\n",
       "3153                               Financial Analyst\n",
       "4657                         Chief Executive Officer\n",
       "4919                             Finance ManagerFMCG\n",
       "5741                         Chief Executive Officer\n",
       "8183    Finance Business partner corporate functions\n",
       "Name: position, dtype: object"
      ]
     },
     "execution_count": 51,
     "metadata": {},
     "output_type": "execute_result"
    }
   ],
   "source": [
    "get_recommendations('CEO').head(10)"
   ]
  },
  {
   "cell_type": "markdown",
   "id": "b8edff60",
   "metadata": {},
   "source": [
    "### Showing all  vacant jobs that available in the list based on the year of experience\n",
    "also we find out similar jobs -- suggest those job to the other users who have a similar yesr of experience.\n",
    "\n",
    "We are finding put similar available jobs based on their degrees, majors'industry_cat' and the years of experience.\n",
    "\n",
    "We will get to 10 similar jobs.\n",
    "\n",
    "We will find our which are the jobs for which these experience have applied\n",
    "\n",
    "We take an union of these jobs and recommend the jobs all these user base\n"
   ]
  },
  {
   "cell_type": "code",
   "execution_count": 52,
   "id": "25f0c82f",
   "metadata": {},
   "outputs": [
    {
     "data": {
      "text/plain": [
       "Index(['position', 'company', 'level', 'job_functions', 'industries',\n",
       "       'description', 'day', 'month', 'quarter', 'city', 'Regions',\n",
       "       'industry_cat', 'TotalPositions', 'PositionsByMonth', 'year_of_ex',\n",
       "       'degrees', 'text', 'job_overview'],\n",
       "      dtype='object')"
      ]
     },
     "execution_count": 52,
     "metadata": {},
     "output_type": "execute_result"
    }
   ],
   "source": [
    "jobs_base_line.columns"
   ]
  },
  {
   "cell_type": "code",
   "execution_count": 53,
   "id": "480ffd0f",
   "metadata": {},
   "outputs": [],
   "source": [
    "jobs_base_line['degrees'] = jobs_base_line['degrees'].fillna('')\n",
    "jobs_base_line['industry_cat'] = jobs_base_line['industry_cat'].fillna('')\n",
    "jobs_base_line['year_of_ex'] = jobs_base_line['year_of_ex'].fillna('')\n",
    "jobs_base_line['company'] = jobs_base_line['company'].fillna('')\n",
    "jobs_base_line['city'] = jobs_base_line['city'].fillna('')\n",
    "jobs_base_line['position'] = jobs_base_line['position'].fillna('')\n",
    "jobs_base_line['level'] = jobs_base_line['level'].fillna('')\n",
    "\n",
    "jobs_base_line['deg_major_exp'] = jobs_base_line['degrees'] + \" \" + jobs_base_line['industry_cat'] + \" \" + jobs_base_line['year_of_ex']+ \" \" + jobs_base_line['company'] + \" \" + jobs_base_line['city']+ \" \" + jobs_base_line['position']+ \" \" + jobs_base_line['level']   "
   ]
  },
  {
   "cell_type": "code",
   "execution_count": 54,
   "id": "de7fccf0",
   "metadata": {
    "scrolled": false
   },
   "outputs": [
    {
     "data": {
      "text/html": [
       "<div>\n",
       "<style scoped>\n",
       "    .dataframe tbody tr th:only-of-type {\n",
       "        vertical-align: middle;\n",
       "    }\n",
       "\n",
       "    .dataframe tbody tr th {\n",
       "        vertical-align: top;\n",
       "    }\n",
       "\n",
       "    .dataframe thead th {\n",
       "        text-align: right;\n",
       "    }\n",
       "</style>\n",
       "<table border=\"1\" class=\"dataframe\">\n",
       "  <thead>\n",
       "    <tr style=\"text-align: right;\">\n",
       "      <th></th>\n",
       "      <th>position</th>\n",
       "      <th>company</th>\n",
       "      <th>level</th>\n",
       "      <th>job_functions</th>\n",
       "      <th>industries</th>\n",
       "      <th>description</th>\n",
       "      <th>day</th>\n",
       "      <th>month</th>\n",
       "      <th>quarter</th>\n",
       "      <th>city</th>\n",
       "      <th>Regions</th>\n",
       "      <th>industry_cat</th>\n",
       "      <th>TotalPositions</th>\n",
       "      <th>PositionsByMonth</th>\n",
       "      <th>year_of_ex</th>\n",
       "      <th>degrees</th>\n",
       "      <th>text</th>\n",
       "      <th>job_overview</th>\n",
       "      <th>deg_major_exp</th>\n",
       "    </tr>\n",
       "  </thead>\n",
       "  <tbody>\n",
       "    <tr>\n",
       "      <th>0</th>\n",
       "      <td>Employee Engagement Specialist</td>\n",
       "      <td>PepsiCo</td>\n",
       "      <td>MidSenior level</td>\n",
       "      <td>Human Resources</td>\n",
       "      <td>Consumer Goods Food  Beverages</td>\n",
       "      <td>auto req id brjob descriptionpepsico saudi sna...</td>\n",
       "      <td>6</td>\n",
       "      <td>1</td>\n",
       "      <td>1</td>\n",
       "      <td>Riyadh</td>\n",
       "      <td>13</td>\n",
       "      <td>Consumer Goods</td>\n",
       "      <td>219</td>\n",
       "      <td>2339</td>\n",
       "      <td>Three</td>\n",
       "      <td>bachelor</td>\n",
       "      <td>employee engagement specialist midsenior level...</td>\n",
       "      <td>Employee Engagement Specialistauto req id brjo...</td>\n",
       "      <td>bachelor Consumer Goods Three PepsiCo Riyadh E...</td>\n",
       "    </tr>\n",
       "    <tr>\n",
       "      <th>1</th>\n",
       "      <td>Account Manager GPS Riyadh</td>\n",
       "      <td>EY</td>\n",
       "      <td>Not Applicable</td>\n",
       "      <td>Sales Business Development</td>\n",
       "      <td>Accounting Financial Services</td>\n",
       "      <td>in a business where are our people are our pro...</td>\n",
       "      <td>6</td>\n",
       "      <td>1</td>\n",
       "      <td>1</td>\n",
       "      <td>Riyadh</td>\n",
       "      <td>13</td>\n",
       "      <td>Accounting</td>\n",
       "      <td>101</td>\n",
       "      <td>2339</td>\n",
       "      <td>Seven</td>\n",
       "      <td>bachelor</td>\n",
       "      <td>account manager gps  riyadh not applicable sal...</td>\n",
       "      <td>Account Manager GPS Riyadhin a business where ...</td>\n",
       "      <td>bachelor Accounting Seven EY Riyadh Account Ma...</td>\n",
       "    </tr>\n",
       "  </tbody>\n",
       "</table>\n",
       "</div>"
      ],
      "text/plain": [
       "                         position  company            level  \\\n",
       "0  Employee Engagement Specialist  PepsiCo  MidSenior level   \n",
       "1      Account Manager GPS Riyadh       EY   Not Applicable   \n",
       "\n",
       "                job_functions                      industries  \\\n",
       "0             Human Resources  Consumer Goods Food  Beverages   \n",
       "1  Sales Business Development   Accounting Financial Services   \n",
       "\n",
       "                                         description  day  month  quarter  \\\n",
       "0  auto req id brjob descriptionpepsico saudi sna...    6      1        1   \n",
       "1  in a business where are our people are our pro...    6      1        1   \n",
       "\n",
       "     city  Regions    industry_cat  TotalPositions  PositionsByMonth  \\\n",
       "0  Riyadh       13  Consumer Goods             219              2339   \n",
       "1  Riyadh       13      Accounting             101              2339   \n",
       "\n",
       "  year_of_ex   degrees                                               text  \\\n",
       "0      Three  bachelor  employee engagement specialist midsenior level...   \n",
       "1      Seven  bachelor  account manager gps  riyadh not applicable sal...   \n",
       "\n",
       "                                        job_overview  \\\n",
       "0  Employee Engagement Specialistauto req id brjo...   \n",
       "1  Account Manager GPS Riyadhin a business where ...   \n",
       "\n",
       "                                       deg_major_exp  \n",
       "0  bachelor Consumer Goods Three PepsiCo Riyadh E...  \n",
       "1  bachelor Accounting Seven EY Riyadh Account Ma...  "
      ]
     },
     "execution_count": 54,
     "metadata": {},
     "output_type": "execute_result"
    }
   ],
   "source": [
    "jobs_base_line.head(2)"
   ]
  },
  {
   "cell_type": "code",
   "execution_count": 55,
   "id": "e8211576",
   "metadata": {},
   "outputs": [
    {
     "data": {
      "text/plain": [
       "'bachelor Accounting Five EY Riyadh Capital Debt Advisory CDA Manager Riyadh Saudi Arabia Not Applicable'"
      ]
     },
     "execution_count": 55,
     "metadata": {},
     "output_type": "execute_result"
    }
   ],
   "source": [
    "jobs_base_line.deg_major_exp[100]"
   ]
  },
  {
   "cell_type": "code",
   "execution_count": 56,
   "id": "271d12aa",
   "metadata": {
    "scrolled": true
   },
   "outputs": [],
   "source": [
    "tf = TfidfVectorizer(analyzer='word',ngram_range=(1, 2),min_df=0, stop_words='english')\n",
    "tfidf_matrix = tf.fit_transform(jobs_base_line['deg_major_exp'])"
   ]
  },
  {
   "cell_type": "code",
   "execution_count": 57,
   "id": "3f419264",
   "metadata": {},
   "outputs": [
    {
     "data": {
      "text/plain": [
       "(10000, 26560)"
      ]
     },
     "execution_count": 57,
     "metadata": {},
     "output_type": "execute_result"
    }
   ],
   "source": [
    "tfidf_matrix.shape\n"
   ]
  },
  {
   "cell_type": "code",
   "execution_count": 58,
   "id": "31f5a5bc",
   "metadata": {},
   "outputs": [],
   "source": [
    "cosine_sim = linear_kernel(tfidf_matrix, tfidf_matrix)\n"
   ]
  },
  {
   "cell_type": "code",
   "execution_count": 59,
   "id": "dc26f54d",
   "metadata": {},
   "outputs": [
    {
     "data": {
      "text/plain": [
       "array([1.        , 0.01403729, 0.01903668, ..., 0.0055048 , 0.02335582,\n",
       "       0.00741661])"
      ]
     },
     "execution_count": 59,
     "metadata": {},
     "output_type": "execute_result"
    }
   ],
   "source": [
    "cosine_sim[0]\n"
   ]
  },
  {
   "cell_type": "code",
   "execution_count": 60,
   "id": "bac213d5",
   "metadata": {},
   "outputs": [],
   "source": [
    "jobs_base_line = jobs_base_line.reset_index()\n",
    "levelCat = jobs_base_line['year_of_ex']\n",
    "indices = pd.Series(jobs_base_line.index, index=jobs_base_line['year_of_ex'])\n",
    "#indices.head(2)"
   ]
  },
  {
   "cell_type": "code",
   "execution_count": 61,
   "id": "8c63f2df",
   "metadata": {},
   "outputs": [
    {
     "data": {
      "text/plain": [
       "year_of_ex\n",
       "Three       0\n",
       "Seven       1\n",
       "Five        2\n",
       "Five        3\n",
       "Five        4\n",
       "         ... \n",
       "Three    9995\n",
       "Three    9996\n",
       "Three    9997\n",
       "Four     9998\n",
       "Three    9999\n",
       "Length: 10000, dtype: int64"
      ]
     },
     "execution_count": 61,
     "metadata": {},
     "output_type": "execute_result"
    }
   ],
   "source": [
    "indices"
   ]
  },
  {
   "cell_type": "code",
   "execution_count": 62,
   "id": "b61959fe",
   "metadata": {},
   "outputs": [
    {
     "data": {
      "text/plain": [
       "'Seven'"
      ]
     },
     "execution_count": 62,
     "metadata": {},
     "output_type": "execute_result"
    }
   ],
   "source": [
    "df.year_of_ex[3072]"
   ]
  },
  {
   "cell_type": "code",
   "execution_count": 63,
   "id": "e644645d",
   "metadata": {},
   "outputs": [],
   "source": [
    "def get_recommendations_years_of_exp(year_exp):\n",
    "    idx = indices[year_exp]\n",
    "    #print (idx)\n",
    "    sim_scores = list(enumerate(cosine_sim[idx]))\n",
    "    #print (sim_scores)\n",
    "    sim_scores = sorted(sim_scores, key=lambda x: x[1][1], reverse=True)\n",
    "    year_indices = [i[0] for i in sim_scores]\n",
    "    #print (user_indices)\n",
    "    return year_indices[0:11]"
   ]
  },
  {
   "cell_type": "code",
   "execution_count": 64,
   "id": "1f97eee4",
   "metadata": {
    "scrolled": true
   },
   "outputs": [
    {
     "name": "stdout",
     "output_type": "stream",
     "text": [
      "-----Top 10 Similar job with years of experience: Three\n"
     ]
    },
    {
     "data": {
      "text/plain": [
       "[15, 1066, 814, 49, 1045, 1341, 1343, 1345, 1347, 1349, 352]"
      ]
     },
     "execution_count": 64,
     "metadata": {},
     "output_type": "execute_result"
    }
   ],
   "source": [
    "print (\"-----Top 10 Similar job with years of experience: Three\")\n",
    "get_recommendations_years_of_exp('Five')"
   ]
  },
  {
   "cell_type": "code",
   "execution_count": 65,
   "id": "741f98c2",
   "metadata": {},
   "outputs": [],
   "source": [
    "def get_job_year(year_exp_list):\n",
    "    jobs_year = jobs_base_line['year_of_ex'].isin(year_exp_list) #\n",
    "    df1 = pd.DataFrame(data = jobs_base_line[jobs_year], columns=['year_of_ex'])\n",
    "    joblist = jobs_base_line['year_of_ex'].tolist()\n",
    "    Job_list = jobs_base_line['year_of_ex'].isin(joblist) #[1083186, 516837, 507614, 754917, 686406, 1058896, 335132])\n",
    "    df_temp = pd.DataFrame(data = jobs_base_line[Job_list], columns=['year_of_ex','degrees','level','position','company','city'])\n",
    "    return df_temp"
   ]
  },
  {
   "cell_type": "code",
   "execution_count": 66,
   "id": "66182d46",
   "metadata": {},
   "outputs": [
    {
     "data": {
      "text/html": [
       "<div>\n",
       "<style scoped>\n",
       "    .dataframe tbody tr th:only-of-type {\n",
       "        vertical-align: middle;\n",
       "    }\n",
       "\n",
       "    .dataframe tbody tr th {\n",
       "        vertical-align: top;\n",
       "    }\n",
       "\n",
       "    .dataframe thead th {\n",
       "        text-align: right;\n",
       "    }\n",
       "</style>\n",
       "<table border=\"1\" class=\"dataframe\">\n",
       "  <thead>\n",
       "    <tr style=\"text-align: right;\">\n",
       "      <th></th>\n",
       "      <th>year_of_ex</th>\n",
       "      <th>degrees</th>\n",
       "      <th>level</th>\n",
       "      <th>position</th>\n",
       "      <th>company</th>\n",
       "      <th>city</th>\n",
       "    </tr>\n",
       "  </thead>\n",
       "  <tbody>\n",
       "    <tr>\n",
       "      <th>0</th>\n",
       "      <td>Three</td>\n",
       "      <td>bachelor</td>\n",
       "      <td>MidSenior level</td>\n",
       "      <td>Employee Engagement Specialist</td>\n",
       "      <td>PepsiCo</td>\n",
       "      <td>Riyadh</td>\n",
       "    </tr>\n",
       "    <tr>\n",
       "      <th>1</th>\n",
       "      <td>Seven</td>\n",
       "      <td>bachelor</td>\n",
       "      <td>Not Applicable</td>\n",
       "      <td>Account Manager GPS Riyadh</td>\n",
       "      <td>EY</td>\n",
       "      <td>Riyadh</td>\n",
       "    </tr>\n",
       "    <tr>\n",
       "      <th>2</th>\n",
       "      <td>Five</td>\n",
       "      <td>bachelor</td>\n",
       "      <td>MidSenior level</td>\n",
       "      <td>Business Analyst</td>\n",
       "      <td>تطوير تقنيات التعليم  Tatweer Educational Tech...</td>\n",
       "      <td>Riyadh</td>\n",
       "    </tr>\n",
       "    <tr>\n",
       "      <th>3</th>\n",
       "      <td>Five</td>\n",
       "      <td>bachelor</td>\n",
       "      <td>Associate</td>\n",
       "      <td>Talent Acquisition Advisor</td>\n",
       "      <td>WSP in the Middle East</td>\n",
       "      <td>Riyadh</td>\n",
       "    </tr>\n",
       "    <tr>\n",
       "      <th>4</th>\n",
       "      <td>Five</td>\n",
       "      <td>bachelor</td>\n",
       "      <td>MidSenior level</td>\n",
       "      <td>Organisational Design Specialist</td>\n",
       "      <td>Aventus Global Talent</td>\n",
       "      <td>Remote</td>\n",
       "    </tr>\n",
       "    <tr>\n",
       "      <th>5</th>\n",
       "      <td>Two</td>\n",
       "      <td>bachelor</td>\n",
       "      <td>Associate</td>\n",
       "      <td>Quality Specialist</td>\n",
       "      <td>Takamol Holding</td>\n",
       "      <td>Riyadh</td>\n",
       "    </tr>\n",
       "    <tr>\n",
       "      <th>6</th>\n",
       "      <td>Three</td>\n",
       "      <td>bachelor</td>\n",
       "      <td>MidSenior level</td>\n",
       "      <td>Events Operations Manager</td>\n",
       "      <td>Aggreko</td>\n",
       "      <td>Jeddah</td>\n",
       "    </tr>\n",
       "    <tr>\n",
       "      <th>7</th>\n",
       "      <td>Three</td>\n",
       "      <td>bachelor</td>\n",
       "      <td>Associate</td>\n",
       "      <td>Business Analyst</td>\n",
       "      <td>ALKHALEEJ COMPUTERS  ELECTRONIC SYSTEMS</td>\n",
       "      <td>Riyadh</td>\n",
       "    </tr>\n",
       "    <tr>\n",
       "      <th>8</th>\n",
       "      <td>Eight</td>\n",
       "      <td>bachelor</td>\n",
       "      <td>Associate</td>\n",
       "      <td>Program ManagerEasternSouthernNorthernWestern ...</td>\n",
       "      <td>Elm Company</td>\n",
       "      <td>Riyadh</td>\n",
       "    </tr>\n",
       "    <tr>\n",
       "      <th>9</th>\n",
       "      <td>Two</td>\n",
       "      <td>bachelor</td>\n",
       "      <td>MidSenior level</td>\n",
       "      <td>Project manager</td>\n",
       "      <td>AECOM</td>\n",
       "      <td>Riyadh</td>\n",
       "    </tr>\n",
       "    <tr>\n",
       "      <th>10</th>\n",
       "      <td>Three</td>\n",
       "      <td>bachelor</td>\n",
       "      <td>Entry level</td>\n",
       "      <td>Human Resources Coordinator</td>\n",
       "      <td>Courtyard by Marriott</td>\n",
       "      <td>Riyadh</td>\n",
       "    </tr>\n",
       "  </tbody>\n",
       "</table>\n",
       "</div>"
      ],
      "text/plain": [
       "   year_of_ex   degrees            level  \\\n",
       "0       Three  bachelor  MidSenior level   \n",
       "1       Seven  bachelor   Not Applicable   \n",
       "2        Five  bachelor  MidSenior level   \n",
       "3        Five  bachelor        Associate   \n",
       "4        Five  bachelor  MidSenior level   \n",
       "5         Two  bachelor        Associate   \n",
       "6       Three  bachelor  MidSenior level   \n",
       "7       Three  bachelor        Associate   \n",
       "8       Eight  bachelor        Associate   \n",
       "9         Two  bachelor  MidSenior level   \n",
       "10      Three  bachelor      Entry level   \n",
       "\n",
       "                                             position  \\\n",
       "0                      Employee Engagement Specialist   \n",
       "1                          Account Manager GPS Riyadh   \n",
       "2                                    Business Analyst   \n",
       "3                          Talent Acquisition Advisor   \n",
       "4                    Organisational Design Specialist   \n",
       "5                                  Quality Specialist   \n",
       "6                           Events Operations Manager   \n",
       "7                                    Business Analyst   \n",
       "8   Program ManagerEasternSouthernNorthernWestern ...   \n",
       "9                                     Project manager   \n",
       "10                        Human Resources Coordinator   \n",
       "\n",
       "                                              company    city  \n",
       "0                                             PepsiCo  Riyadh  \n",
       "1                                                  EY  Riyadh  \n",
       "2   تطوير تقنيات التعليم  Tatweer Educational Tech...  Riyadh  \n",
       "3                              WSP in the Middle East  Riyadh  \n",
       "4                               Aventus Global Talent  Remote  \n",
       "5                                     Takamol Holding  Riyadh  \n",
       "6                                             Aggreko  Jeddah  \n",
       "7             ALKHALEEJ COMPUTERS  ELECTRONIC SYSTEMS  Riyadh  \n",
       "8                                         Elm Company  Riyadh  \n",
       "9                                               AECOM  Riyadh  \n",
       "10                              Courtyard by Marriott  Riyadh  "
      ]
     },
     "execution_count": 66,
     "metadata": {},
     "output_type": "execute_result"
    }
   ],
   "source": [
    "get_job_year(get_recommendations_years_of_exp('Five')).head(11)"
   ]
  },
  {
   "cell_type": "code",
   "execution_count": null,
   "id": "7a9b4830",
   "metadata": {},
   "outputs": [],
   "source": []
  }
 ],
 "metadata": {
  "kernelspec": {
   "display_name": "Python 3 (ipykernel)",
   "language": "python",
   "name": "python3"
  },
  "language_info": {
   "codemirror_mode": {
    "name": "ipython",
    "version": 3
   },
   "file_extension": ".py",
   "mimetype": "text/x-python",
   "name": "python",
   "nbconvert_exporter": "python",
   "pygments_lexer": "ipython3",
   "version": "3.9.12"
  }
 },
 "nbformat": 4,
 "nbformat_minor": 5
}
